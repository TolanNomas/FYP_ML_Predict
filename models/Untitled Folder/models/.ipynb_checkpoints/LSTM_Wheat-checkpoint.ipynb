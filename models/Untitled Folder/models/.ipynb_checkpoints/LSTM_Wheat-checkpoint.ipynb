{
 "cells": [
  {
   "cell_type": "code",
   "execution_count": null,
   "id": "66a6358d-2f81-45ea-9027-53386755dfc1",
   "metadata": {},
   "outputs": [],
   "source": []
  },
  {
   "cell_type": "code",
   "execution_count": 1,
   "id": "31139536-a894-4d26-ae9e-cc56acb15268",
   "metadata": {
    "tags": []
   },
   "outputs": [
    {
     "name": "stderr",
     "output_type": "stream",
     "text": [
      "[*********************100%%**********************]  1 of 1 completed\n"
     ]
    },
    {
     "data": {
      "text/html": [
       "<div>\n",
       "<style scoped>\n",
       "    .dataframe tbody tr th:only-of-type {\n",
       "        vertical-align: middle;\n",
       "    }\n",
       "\n",
       "    .dataframe tbody tr th {\n",
       "        vertical-align: top;\n",
       "    }\n",
       "\n",
       "    .dataframe thead th {\n",
       "        text-align: right;\n",
       "    }\n",
       "</style>\n",
       "<table border=\"1\" class=\"dataframe\">\n",
       "  <thead>\n",
       "    <tr style=\"text-align: right;\">\n",
       "      <th></th>\n",
       "      <th>Date</th>\n",
       "      <th>Open</th>\n",
       "      <th>High</th>\n",
       "      <th>Low</th>\n",
       "      <th>Close</th>\n",
       "      <th>Adj Close</th>\n",
       "      <th>Volume</th>\n",
       "    </tr>\n",
       "  </thead>\n",
       "  <tbody>\n",
       "    <tr>\n",
       "      <th>0</th>\n",
       "      <td>2000-07-17</td>\n",
       "      <td>248.00</td>\n",
       "      <td>248.00</td>\n",
       "      <td>243.75</td>\n",
       "      <td>244.00</td>\n",
       "      <td>244.00</td>\n",
       "      <td>7233</td>\n",
       "    </tr>\n",
       "    <tr>\n",
       "      <th>1</th>\n",
       "      <td>2000-07-18</td>\n",
       "      <td>244.25</td>\n",
       "      <td>247.50</td>\n",
       "      <td>241.00</td>\n",
       "      <td>241.25</td>\n",
       "      <td>241.25</td>\n",
       "      <td>6523</td>\n",
       "    </tr>\n",
       "    <tr>\n",
       "      <th>2</th>\n",
       "      <td>2000-07-19</td>\n",
       "      <td>241.25</td>\n",
       "      <td>246.00</td>\n",
       "      <td>239.00</td>\n",
       "      <td>245.00</td>\n",
       "      <td>245.00</td>\n",
       "      <td>7136</td>\n",
       "    </tr>\n",
       "    <tr>\n",
       "      <th>3</th>\n",
       "      <td>2000-07-20</td>\n",
       "      <td>244.00</td>\n",
       "      <td>247.50</td>\n",
       "      <td>244.00</td>\n",
       "      <td>247.00</td>\n",
       "      <td>247.00</td>\n",
       "      <td>3792</td>\n",
       "    </tr>\n",
       "    <tr>\n",
       "      <th>4</th>\n",
       "      <td>2000-07-21</td>\n",
       "      <td>247.00</td>\n",
       "      <td>248.50</td>\n",
       "      <td>246.50</td>\n",
       "      <td>247.25</td>\n",
       "      <td>247.25</td>\n",
       "      <td>4380</td>\n",
       "    </tr>\n",
       "    <tr>\n",
       "      <th>...</th>\n",
       "      <td>...</td>\n",
       "      <td>...</td>\n",
       "      <td>...</td>\n",
       "      <td>...</td>\n",
       "      <td>...</td>\n",
       "      <td>...</td>\n",
       "      <td>...</td>\n",
       "    </tr>\n",
       "    <tr>\n",
       "      <th>5899</th>\n",
       "      <td>2024-03-06</td>\n",
       "      <td>519.75</td>\n",
       "      <td>521.25</td>\n",
       "      <td>519.75</td>\n",
       "      <td>521.25</td>\n",
       "      <td>521.25</td>\n",
       "      <td>206</td>\n",
       "    </tr>\n",
       "    <tr>\n",
       "      <th>5900</th>\n",
       "      <td>2024-03-07</td>\n",
       "      <td>526.50</td>\n",
       "      <td>526.50</td>\n",
       "      <td>520.75</td>\n",
       "      <td>520.75</td>\n",
       "      <td>520.75</td>\n",
       "      <td>251</td>\n",
       "    </tr>\n",
       "    <tr>\n",
       "      <th>5901</th>\n",
       "      <td>2024-03-08</td>\n",
       "      <td>528.50</td>\n",
       "      <td>528.50</td>\n",
       "      <td>526.75</td>\n",
       "      <td>526.75</td>\n",
       "      <td>526.75</td>\n",
       "      <td>15</td>\n",
       "    </tr>\n",
       "    <tr>\n",
       "      <th>5902</th>\n",
       "      <td>2024-03-11</td>\n",
       "      <td>526.75</td>\n",
       "      <td>537.50</td>\n",
       "      <td>526.00</td>\n",
       "      <td>537.50</td>\n",
       "      <td>537.50</td>\n",
       "      <td>15</td>\n",
       "    </tr>\n",
       "    <tr>\n",
       "      <th>5903</th>\n",
       "      <td>2024-03-12</td>\n",
       "      <td>547.00</td>\n",
       "      <td>556.00</td>\n",
       "      <td>541.25</td>\n",
       "      <td>549.00</td>\n",
       "      <td>549.00</td>\n",
       "      <td>58561</td>\n",
       "    </tr>\n",
       "  </tbody>\n",
       "</table>\n",
       "<p>5904 rows × 7 columns</p>\n",
       "</div>"
      ],
      "text/plain": [
       "           Date    Open    High     Low   Close  Adj Close  Volume\n",
       "0    2000-07-17  248.00  248.00  243.75  244.00     244.00    7233\n",
       "1    2000-07-18  244.25  247.50  241.00  241.25     241.25    6523\n",
       "2    2000-07-19  241.25  246.00  239.00  245.00     245.00    7136\n",
       "3    2000-07-20  244.00  247.50  244.00  247.00     247.00    3792\n",
       "4    2000-07-21  247.00  248.50  246.50  247.25     247.25    4380\n",
       "...         ...     ...     ...     ...     ...        ...     ...\n",
       "5899 2024-03-06  519.75  521.25  519.75  521.25     521.25     206\n",
       "5900 2024-03-07  526.50  526.50  520.75  520.75     520.75     251\n",
       "5901 2024-03-08  528.50  528.50  526.75  526.75     526.75      15\n",
       "5902 2024-03-11  526.75  537.50  526.00  537.50     537.50      15\n",
       "5903 2024-03-12  547.00  556.00  541.25  549.00     549.00   58561\n",
       "\n",
       "[5904 rows x 7 columns]"
      ]
     },
     "execution_count": 1,
     "metadata": {},
     "output_type": "execute_result"
    }
   ],
   "source": [
    "import yfinance as yf\n",
    "import pandas as pd\n",
    "import numpy as np\n",
    "import matplotlib.pyplot as plt\n",
    "\n",
    "import torch\n",
    "import torch.nn as nn\n",
    "\n",
    "#fetching wheat data from yahoo finance\n",
    "data = yf.Ticker('ZW=F')\n",
    "data = yf.download('ZW=F', period = 'max')\n",
    "\n",
    "# Resetting the index to turn the date index into a column\n",
    "data.reset_index(inplace=True)\n",
    "\n",
    "data"
   ]
  },
  {
   "cell_type": "code",
   "execution_count": 2,
   "id": "0fb7a426-7f1e-4a15-8e59-410ebfb56937",
   "metadata": {
    "tags": []
   },
   "outputs": [
    {
     "data": {
      "text/html": [
       "<div>\n",
       "<style scoped>\n",
       "    .dataframe tbody tr th:only-of-type {\n",
       "        vertical-align: middle;\n",
       "    }\n",
       "\n",
       "    .dataframe tbody tr th {\n",
       "        vertical-align: top;\n",
       "    }\n",
       "\n",
       "    .dataframe thead th {\n",
       "        text-align: right;\n",
       "    }\n",
       "</style>\n",
       "<table border=\"1\" class=\"dataframe\">\n",
       "  <thead>\n",
       "    <tr style=\"text-align: right;\">\n",
       "      <th></th>\n",
       "      <th>Date</th>\n",
       "      <th>Close</th>\n",
       "    </tr>\n",
       "  </thead>\n",
       "  <tbody>\n",
       "    <tr>\n",
       "      <th>0</th>\n",
       "      <td>2000-07-17</td>\n",
       "      <td>244.00</td>\n",
       "    </tr>\n",
       "    <tr>\n",
       "      <th>1</th>\n",
       "      <td>2000-07-18</td>\n",
       "      <td>241.25</td>\n",
       "    </tr>\n",
       "    <tr>\n",
       "      <th>2</th>\n",
       "      <td>2000-07-19</td>\n",
       "      <td>245.00</td>\n",
       "    </tr>\n",
       "    <tr>\n",
       "      <th>3</th>\n",
       "      <td>2000-07-20</td>\n",
       "      <td>247.00</td>\n",
       "    </tr>\n",
       "    <tr>\n",
       "      <th>4</th>\n",
       "      <td>2000-07-21</td>\n",
       "      <td>247.25</td>\n",
       "    </tr>\n",
       "    <tr>\n",
       "      <th>...</th>\n",
       "      <td>...</td>\n",
       "      <td>...</td>\n",
       "    </tr>\n",
       "    <tr>\n",
       "      <th>5899</th>\n",
       "      <td>2024-03-06</td>\n",
       "      <td>521.25</td>\n",
       "    </tr>\n",
       "    <tr>\n",
       "      <th>5900</th>\n",
       "      <td>2024-03-07</td>\n",
       "      <td>520.75</td>\n",
       "    </tr>\n",
       "    <tr>\n",
       "      <th>5901</th>\n",
       "      <td>2024-03-08</td>\n",
       "      <td>526.75</td>\n",
       "    </tr>\n",
       "    <tr>\n",
       "      <th>5902</th>\n",
       "      <td>2024-03-11</td>\n",
       "      <td>537.50</td>\n",
       "    </tr>\n",
       "    <tr>\n",
       "      <th>5903</th>\n",
       "      <td>2024-03-12</td>\n",
       "      <td>549.00</td>\n",
       "    </tr>\n",
       "  </tbody>\n",
       "</table>\n",
       "<p>5904 rows × 2 columns</p>\n",
       "</div>"
      ],
      "text/plain": [
       "           Date   Close\n",
       "0    2000-07-17  244.00\n",
       "1    2000-07-18  241.25\n",
       "2    2000-07-19  245.00\n",
       "3    2000-07-20  247.00\n",
       "4    2000-07-21  247.25\n",
       "...         ...     ...\n",
       "5899 2024-03-06  521.25\n",
       "5900 2024-03-07  520.75\n",
       "5901 2024-03-08  526.75\n",
       "5902 2024-03-11  537.50\n",
       "5903 2024-03-12  549.00\n",
       "\n",
       "[5904 rows x 2 columns]"
      ]
     },
     "execution_count": 2,
     "metadata": {},
     "output_type": "execute_result"
    }
   ],
   "source": [
    "# trim dataset to relevent columns (we only need date and close to forecast prices)\n",
    "data = data[['Date', 'Close']]\n",
    "data"
   ]
  },
  {
   "cell_type": "code",
   "execution_count": 3,
   "id": "25fbf840-f2df-4e6f-8ffd-2f9d5b839213",
   "metadata": {
    "tags": []
   },
   "outputs": [
    {
     "data": {
      "text/plain": [
       "[<matplotlib.lines.Line2D at 0x1fd73dfbd50>]"
      ]
     },
     "execution_count": 3,
     "metadata": {},
     "output_type": "execute_result"
    },
    {
     "data": {
      "image/png": "[encoded data removed]",
      "text/plain": [
       "<Figure size 640x480 with 1 Axes>"
      ]
     },
     "metadata": {},
     "output_type": "display_data"
    }
   ],
   "source": [
    "#simple transformations\n",
    "data.loc[:, 'Date'] = pd.to_datetime(data['Date'])\n",
    "\n",
    "plt.plot(data['Date'], data['Close'])"
   ]
  },
  {
   "cell_type": "code",
   "execution_count": 4,
   "id": "6b947d58-381d-4615-9f0f-d96b31a3e7d0",
   "metadata": {
    "tags": []
   },
   "outputs": [
    {
     "data": {
      "text/plain": [
       "'cpu'"
      ]
     },
     "execution_count": 4,
     "metadata": {},
     "output_type": "execute_result"
    }
   ],
   "source": [
    "device = 'cuda:0' if torch.cuda.is_available() else 'cpu'\n",
    "device"
   ]
  },
  {
   "cell_type": "code",
   "execution_count": 5,
   "id": "a666a57d-4c0c-4e45-8600-bad34944a8d9",
   "metadata": {
    "tags": []
   },
   "outputs": [
    {
     "data": {
      "text/html": [
       "<div>\n",
       "<style scoped>\n",
       "    .dataframe tbody tr th:only-of-type {\n",
       "        vertical-align: middle;\n",
       "    }\n",
       "\n",
       "    .dataframe tbody tr th {\n",
       "        vertical-align: top;\n",
       "    }\n",
       "\n",
       "    .dataframe thead th {\n",
       "        text-align: right;\n",
       "    }\n",
       "</style>\n",
       "<table border=\"1\" class=\"dataframe\">\n",
       "  <thead>\n",
       "    <tr style=\"text-align: right;\">\n",
       "      <th></th>\n",
       "      <th>Close</th>\n",
       "      <th>Close(t-1)</th>\n",
       "      <th>Close(t-2)</th>\n",
       "      <th>Close(t-3)</th>\n",
       "      <th>Close(t-4)</th>\n",
       "      <th>Close(t-5)</th>\n",
       "      <th>Close(t-6)</th>\n",
       "      <th>Close(t-7)</th>\n",
       "    </tr>\n",
       "    <tr>\n",
       "      <th>Date</th>\n",
       "      <th></th>\n",
       "      <th></th>\n",
       "      <th></th>\n",
       "      <th></th>\n",
       "      <th></th>\n",
       "      <th></th>\n",
       "      <th></th>\n",
       "      <th></th>\n",
       "    </tr>\n",
       "  </thead>\n",
       "  <tbody>\n",
       "    <tr>\n",
       "      <th>2000-07-26</th>\n",
       "      <td>244.25</td>\n",
       "      <td>245.50</td>\n",
       "      <td>245.50</td>\n",
       "      <td>247.25</td>\n",
       "      <td>247.00</td>\n",
       "      <td>245.00</td>\n",
       "      <td>241.25</td>\n",
       "      <td>244.00</td>\n",
       "    </tr>\n",
       "    <tr>\n",
       "      <th>2000-07-27</th>\n",
       "      <td>245.75</td>\n",
       "      <td>244.25</td>\n",
       "      <td>245.50</td>\n",
       "      <td>245.50</td>\n",
       "      <td>247.25</td>\n",
       "      <td>247.00</td>\n",
       "      <td>245.00</td>\n",
       "      <td>241.25</td>\n",
       "    </tr>\n",
       "    <tr>\n",
       "      <th>2000-07-28</th>\n",
       "      <td>248.50</td>\n",
       "      <td>245.75</td>\n",
       "      <td>244.25</td>\n",
       "      <td>245.50</td>\n",
       "      <td>245.50</td>\n",
       "      <td>247.25</td>\n",
       "      <td>247.00</td>\n",
       "      <td>245.00</td>\n",
       "    </tr>\n",
       "    <tr>\n",
       "      <th>2000-07-31</th>\n",
       "      <td>246.00</td>\n",
       "      <td>248.50</td>\n",
       "      <td>245.75</td>\n",
       "      <td>244.25</td>\n",
       "      <td>245.50</td>\n",
       "      <td>245.50</td>\n",
       "      <td>247.25</td>\n",
       "      <td>247.00</td>\n",
       "    </tr>\n",
       "    <tr>\n",
       "      <th>2000-08-01</th>\n",
       "      <td>245.00</td>\n",
       "      <td>246.00</td>\n",
       "      <td>248.50</td>\n",
       "      <td>245.75</td>\n",
       "      <td>244.25</td>\n",
       "      <td>245.50</td>\n",
       "      <td>245.50</td>\n",
       "      <td>247.25</td>\n",
       "    </tr>\n",
       "    <tr>\n",
       "      <th>...</th>\n",
       "      <td>...</td>\n",
       "      <td>...</td>\n",
       "      <td>...</td>\n",
       "      <td>...</td>\n",
       "      <td>...</td>\n",
       "      <td>...</td>\n",
       "      <td>...</td>\n",
       "      <td>...</td>\n",
       "    </tr>\n",
       "    <tr>\n",
       "      <th>2024-03-06</th>\n",
       "      <td>521.25</td>\n",
       "      <td>545.75</td>\n",
       "      <td>563.50</td>\n",
       "      <td>560.00</td>\n",
       "      <td>577.50</td>\n",
       "      <td>571.00</td>\n",
       "      <td>586.00</td>\n",
       "      <td>577.25</td>\n",
       "    </tr>\n",
       "    <tr>\n",
       "      <th>2024-03-07</th>\n",
       "      <td>520.75</td>\n",
       "      <td>521.25</td>\n",
       "      <td>545.75</td>\n",
       "      <td>563.50</td>\n",
       "      <td>560.00</td>\n",
       "      <td>577.50</td>\n",
       "      <td>571.00</td>\n",
       "      <td>586.00</td>\n",
       "    </tr>\n",
       "    <tr>\n",
       "      <th>2024-03-08</th>\n",
       "      <td>526.75</td>\n",
       "      <td>520.75</td>\n",
       "      <td>521.25</td>\n",
       "      <td>545.75</td>\n",
       "      <td>563.50</td>\n",
       "      <td>560.00</td>\n",
       "      <td>577.50</td>\n",
       "      <td>571.00</td>\n",
       "    </tr>\n",
       "    <tr>\n",
       "      <th>2024-03-11</th>\n",
       "      <td>537.50</td>\n",
       "      <td>526.75</td>\n",
       "      <td>520.75</td>\n",
       "      <td>521.25</td>\n",
       "      <td>545.75</td>\n",
       "      <td>563.50</td>\n",
       "      <td>560.00</td>\n",
       "      <td>577.50</td>\n",
       "    </tr>\n",
       "    <tr>\n",
       "      <th>2024-03-12</th>\n",
       "      <td>549.00</td>\n",
       "      <td>537.50</td>\n",
       "      <td>526.75</td>\n",
       "      <td>520.75</td>\n",
       "      <td>521.25</td>\n",
       "      <td>545.75</td>\n",
       "      <td>563.50</td>\n",
       "      <td>560.00</td>\n",
       "    </tr>\n",
       "  </tbody>\n",
       "</table>\n",
       "<p>5897 rows × 8 columns</p>\n",
       "</div>"
      ],
      "text/plain": [
       "             Close  Close(t-1)  Close(t-2)  Close(t-3)  Close(t-4)  \\\n",
       "Date                                                                 \n",
       "2000-07-26  244.25      245.50      245.50      247.25      247.00   \n",
       "2000-07-27  245.75      244.25      245.50      245.50      247.25   \n",
       "2000-07-28  248.50      245.75      244.25      245.50      245.50   \n",
       "2000-07-31  246.00      248.50      245.75      244.25      245.50   \n",
       "2000-08-01  245.00      246.00      248.50      245.75      244.25   \n",
       "...            ...         ...         ...         ...         ...   \n",
       "2024-03-06  521.25      545.75      563.50      560.00      577.50   \n",
       "2024-03-07  520.75      521.25      545.75      563.50      560.00   \n",
       "2024-03-08  526.75      520.75      521.25      545.75      563.50   \n",
       "2024-03-11  537.50      526.75      520.75      521.25      545.75   \n",
       "2024-03-12  549.00      537.50      526.75      520.75      521.25   \n",
       "\n",
       "            Close(t-5)  Close(t-6)  Close(t-7)  \n",
       "Date                                            \n",
       "2000-07-26      245.00      241.25      244.00  \n",
       "2000-07-27      247.00      245.00      241.25  \n",
       "2000-07-28      247.25      247.00      245.00  \n",
       "2000-07-31      245.50      247.25      247.00  \n",
       "2000-08-01      245.50      245.50      247.25  \n",
       "...                ...         ...         ...  \n",
       "2024-03-06      571.00      586.00      577.25  \n",
       "2024-03-07      577.50      571.00      586.00  \n",
       "2024-03-08      560.00      577.50      571.00  \n",
       "2024-03-11      563.50      560.00      577.50  \n",
       "2024-03-12      545.75      563.50      560.00  \n",
       "\n",
       "[5897 rows x 8 columns]"
      ]
     },
     "execution_count": 5,
     "metadata": {},
     "output_type": "execute_result"
    }
   ],
   "source": [
    "#takes df from above and creates a lookback window of a week (lookback =7) \n",
    "from copy import deepcopy as dc\n",
    "\n",
    "def prepare_dataframe_for_lstm(df, n_steps):\n",
    "    df = dc(df)\n",
    "    \n",
    "    df.set_index('Date', inplace=True)\n",
    "    \n",
    "    #shifts dataframe for each lookback window\n",
    "    for i in range(1, n_steps+1):\n",
    "        df[f'Close(t-{i})'] = df['Close'].shift(i)\n",
    "        \n",
    "    df.dropna(inplace=True)\n",
    "    \n",
    "    return df\n",
    "\n",
    "lookback = 7\n",
    "shifted_df = prepare_dataframe_for_lstm(data, lookback)\n",
    "shifted_df"
   ]
  },
  {
   "cell_type": "code",
   "execution_count": 6,
   "id": "7ddcf01c-72b9-4a23-8107-a7e26f413829",
   "metadata": {
    "tags": []
   },
   "outputs": [
    {
     "data": {
      "text/plain": [
       "array([[244.25, 245.5 , 245.5 , ..., 245.  , 241.25, 244.  ],\n",
       "       [245.75, 244.25, 245.5 , ..., 247.  , 245.  , 241.25],\n",
       "       [248.5 , 245.75, 244.25, ..., 247.25, 247.  , 245.  ],\n",
       "       ...,\n",
       "       [526.75, 520.75, 521.25, ..., 560.  , 577.5 , 571.  ],\n",
       "       [537.5 , 526.75, 520.75, ..., 563.5 , 560.  , 577.5 ],\n",
       "       [549.  , 537.5 , 526.75, ..., 545.75, 563.5 , 560.  ]])"
      ]
     },
     "execution_count": 6,
     "metadata": {},
     "output_type": "execute_result"
    }
   ],
   "source": [
    "shifted_df_as_np = shifted_df.to_numpy()\n",
    "\n",
    "shifted_df_as_np"
   ]
  },
  {
   "cell_type": "code",
   "execution_count": 7,
   "id": "329af201-6162-40b2-8338-6e81eeb396c4",
   "metadata": {
    "tags": []
   },
   "outputs": [
    {
     "data": {
      "text/plain": [
       "(5897, 8)"
      ]
     },
     "execution_count": 7,
     "metadata": {},
     "output_type": "execute_result"
    }
   ],
   "source": [
    "shifted_df_as_np.shape"
   ]
  },
  {
   "cell_type": "code",
   "execution_count": 8,
   "id": "6d6e8ba9-1f2c-45a1-8f56-697f8902f427",
   "metadata": {
    "tags": []
   },
   "outputs": [
    {
     "data": {
      "text/plain": [
       "array([[-0.9819593 , -0.97986155, -0.97986155, ..., -0.98070065,\n",
       "        -0.98699392, -0.98237885],\n",
       "       [-0.979442  , -0.9819593 , -0.97986155, ..., -0.97734424,\n",
       "        -0.98070065, -0.98699392],\n",
       "       [-0.97482694, -0.979442  , -0.9819593 , ..., -0.97692469,\n",
       "        -0.97734424, -0.98070065],\n",
       "       ...,\n",
       "       [-0.50786658, -0.51793581, -0.51709671, ..., -0.45206629,\n",
       "        -0.42269771, -0.43360604],\n",
       "       [-0.48982589, -0.50786658, -0.51793581, ..., -0.44619257,\n",
       "        -0.45206629, -0.42269771],\n",
       "       [-0.47052654, -0.48982589, -0.50786658, ..., -0.4759807 ,\n",
       "        -0.44619257, -0.45206629]])"
      ]
     },
     "execution_count": 8,
     "metadata": {},
     "output_type": "execute_result"
    }
   ],
   "source": [
    "#runs scaler on data\n",
    "from sklearn.preprocessing import MinMaxScaler\n",
    "\n",
    "scaler = MinMaxScaler(feature_range=(-1, 1))\n",
    "shifted_df_as_np = scaler.fit_transform(shifted_df_as_np)\n",
    "\n",
    "shifted_df_as_np"
   ]
  },
  {
   "cell_type": "code",
   "execution_count": 9,
   "id": "a27292bb-216d-4acc-b367-e8ba00db7fd3",
   "metadata": {
    "tags": []
   },
   "outputs": [
    {
     "data": {
      "text/plain": [
       "((5897, 7), (5897,))"
      ]
     },
     "execution_count": 9,
     "metadata": {},
     "output_type": "execute_result"
    }
   ],
   "source": [
    "#changes df into x and y\n",
    "X = shifted_df_as_np[:, 1:]\n",
    "y = shifted_df_as_np[:, 0]\n",
    "\n",
    "X.shape, y.shape"
   ]
  },
  {
   "cell_type": "code",
   "execution_count": 10,
   "id": "31bf9606-7d40-499a-a94a-723203988bff",
   "metadata": {
    "tags": []
   },
   "outputs": [
    {
     "data": {
      "text/plain": [
       "array([[-0.98237885, -0.98699392, -0.98070065, ..., -0.97692469,\n",
       "        -0.97986155, -0.97986155],\n",
       "       [-0.98699392, -0.98070065, -0.97734424, ..., -0.97986155,\n",
       "        -0.97986155, -0.9819593 ],\n",
       "       [-0.98070065, -0.97734424, -0.97692469, ..., -0.97986155,\n",
       "        -0.9819593 , -0.979442  ],\n",
       "       ...,\n",
       "       [-0.43360604, -0.42269771, -0.45206629, ..., -0.4759807 ,\n",
       "        -0.51709671, -0.51793581],\n",
       "       [-0.42269771, -0.45206629, -0.44619257, ..., -0.51709671,\n",
       "        -0.51793581, -0.50786658],\n",
       "       [-0.45206629, -0.44619257, -0.4759807 , ..., -0.51793581,\n",
       "        -0.50786658, -0.48982589]])"
      ]
     },
     "execution_count": 10,
     "metadata": {},
     "output_type": "execute_result"
    }
   ],
   "source": [
    "X = dc(np.flip(X, axis=1))\n",
    "X"
   ]
  },
  {
   "cell_type": "code",
   "execution_count": 11,
   "id": "d255edaa-a234-4f54-8c5a-61d8ce598d7b",
   "metadata": {
    "tags": []
   },
   "outputs": [
    {
     "data": {
      "text/plain": [
       "5602"
      ]
     },
     "execution_count": 11,
     "metadata": {},
     "output_type": "execute_result"
    }
   ],
   "source": [
    "#use first 95% as train and last 5% as test\n",
    "split_index = int(len(X) * 0.95)\n",
    "\n",
    "split_index"
   ]
  },
  {
   "cell_type": "code",
   "execution_count": 12,
   "id": "7bfecdb2-4de2-4911-adcf-224c1675b383",
   "metadata": {
    "tags": []
   },
   "outputs": [
    {
     "data": {
      "text/plain": [
       "((5602, 7), (295, 7), (5602,), (295,))"
      ]
     },
     "execution_count": 12,
     "metadata": {},
     "output_type": "execute_result"
    }
   ],
   "source": [
    "# splitting into train and test\n",
    "X_train = X[:split_index]\n",
    "X_test = X[split_index:]\n",
    "\n",
    "y_train = y[:split_index]\n",
    "y_test = y[split_index:]\n",
    "\n",
    "X_train.shape, X_test.shape, y_train.shape, y_test.shape"
   ]
  },
  {
   "cell_type": "code",
   "execution_count": 13,
   "id": "9e99a00f-5440-42d2-a3f2-891a223f3490",
   "metadata": {
    "tags": []
   },
   "outputs": [
    {
     "data": {
      "text/plain": [
       "((5602, 7, 1), (295, 7, 1), (5602, 1), (295, 1))"
      ]
     },
     "execution_count": 13,
     "metadata": {},
     "output_type": "execute_result"
    }
   ],
   "source": [
    "#PyTorch requires an extra dimension at end\n",
    "X_train = X_train.reshape((-1, lookback, 1))\n",
    "X_test = X_test.reshape((-1, lookback, 1))\n",
    "\n",
    "y_train = y_train.reshape((-1, 1))\n",
    "y_test = y_test.reshape((-1, 1))\n",
    "\n",
    "X_train.shape, X_test.shape, y_train.shape, y_test.shape"
   ]
  },
  {
   "cell_type": "code",
   "execution_count": 14,
   "id": "70803762-c7ad-48eb-bcf8-2199b001ff54",
   "metadata": {
    "tags": []
   },
   "outputs": [
    {
     "data": {
      "text/plain": [
       "(torch.Size([5602, 7, 1]),\n",
       " torch.Size([295, 7, 1]),\n",
       " torch.Size([5602, 1]),\n",
       " torch.Size([295, 1]))"
      ]
     },
     "execution_count": 14,
     "metadata": {},
     "output_type": "execute_result"
    }
   ],
   "source": [
    "#wrapping in tensors for PyTorch\n",
    "X_train = torch.tensor(X_train).float()\n",
    "y_train = torch.tensor(y_train).float()\n",
    "X_test = torch.tensor(X_test).float()\n",
    "y_test = torch.tensor(y_test).float()\n",
    "\n",
    "X_train.shape, X_test.shape, y_train.shape, y_test.shape"
   ]
  },
  {
   "cell_type": "code",
   "execution_count": 15,
   "id": "e5bd398e-05f4-4aec-ad22-98849a984110",
   "metadata": {
    "tags": []
   },
   "outputs": [],
   "source": [
    "#need datasets object for PyTorch\n",
    "#needs to be custom class\n",
    "from torch.utils.data import Dataset\n",
    "\n",
    "class TimeSeriesDataset(Dataset):\n",
    "    def __init__(self, X, y):\n",
    "        self.X = X\n",
    "        self.y = y\n",
    "\n",
    "    def __len__(self):\n",
    "        return len(self.X)\n",
    "\n",
    "    def __getitem__(self, i):\n",
    "        return self.X[i], self.y[i]\n",
    "    \n",
    "train_dataset = TimeSeriesDataset(X_train, y_train)\n",
    "test_dataset = TimeSeriesDataset(X_test, y_test)"
   ]
  },
  {
   "cell_type": "code",
   "execution_count": 16,
   "id": "9817fbc6-a3cb-48ef-9291-de2e98dd6860",
   "metadata": {
    "tags": []
   },
   "outputs": [
    {
     "data": {
      "text/plain": [
       "<__main__.TimeSeriesDataset at 0x1fd77b418d0>"
      ]
     },
     "execution_count": 16,
     "metadata": {},
     "output_type": "execute_result"
    }
   ],
   "source": [
    "train_dataset"
   ]
  },
  {
   "cell_type": "code",
   "execution_count": 17,
   "id": "c51dec35-3d4a-47d2-9c5e-9ef725c65c24",
   "metadata": {
    "tags": []
   },
   "outputs": [],
   "source": [
    "# wrap datasets in dataloaders to get batches\n",
    "# used for iteration\n",
    "from torch.utils.data import DataLoader\n",
    "\n",
    "batch_size = 16\n",
    "\n",
    "train_loader = DataLoader(train_dataset, batch_size=batch_size, shuffle=True)\n",
    "test_loader = DataLoader(test_dataset, batch_size=batch_size, shuffle=False)"
   ]
  },
  {
   "cell_type": "code",
   "execution_count": 18,
   "id": "d890c028-bb50-41b3-afb7-6e13277c632c",
   "metadata": {
    "tags": []
   },
   "outputs": [
    {
     "name": "stdout",
     "output_type": "stream",
     "text": [
      "torch.Size([16, 7, 1]) torch.Size([16, 1])\n"
     ]
    }
   ],
   "source": [
    "#gives predicted outputs of arrays\n",
    "for _, batch in enumerate(train_loader):\n",
    "    x_batch, y_batch = batch[0].to(device), batch[1].to(device)\n",
    "    print(x_batch.shape, y_batch.shape)\n",
    "    break"
   ]
  },
  {
   "cell_type": "code",
   "execution_count": 19,
   "id": "b481489a-edfc-43fa-b366-765799b999f0",
   "metadata": {
    "tags": []
   },
   "outputs": [
    {
     "data": {
      "text/plain": [
       "LSTM(\n",
       "  (lstm): LSTM(1, 4, batch_first=True)\n",
       "  (fc): Linear(in_features=4, out_features=1, bias=True)\n",
       ")"
      ]
     },
     "execution_count": 19,
     "metadata": {},
     "output_type": "execute_result"
    }
   ],
   "source": [
    "#takes in number of features, dimensions and number of stacked layers (more layers = more complexity in model)\n",
    "class LSTM(nn.Module):\n",
    "    def __init__(self, input_size, hidden_size, num_stacked_layers):\n",
    "        super().__init__()\n",
    "        self.hidden_size = hidden_size\n",
    "        self.num_stacked_layers = num_stacked_layers\n",
    "        \n",
    "        #initally use 1 layer to prevent overfitting in training data\n",
    "        self.lstm = nn.LSTM(input_size, hidden_size, num_stacked_layers, \n",
    "                            batch_first=True)\n",
    "        \n",
    "        #maps hidden layer to 1. Needed to predict final closing value\n",
    "        self.fc = nn.Linear(hidden_size, 1)\n",
    "\n",
    "    def forward(self, x):\n",
    "        batch_size = x.size(0)\n",
    "        #initialise LSTM with default h0 and c0\n",
    "        h0 = torch.zeros(self.num_stacked_layers, batch_size, self.hidden_size).to(device)\n",
    "        c0 = torch.zeros(self.num_stacked_layers, batch_size, self.hidden_size).to(device)\n",
    "        \n",
    "        out, _ = self.lstm(x, (h0, c0))\n",
    "        #output is gotten from passing varibles in fully connected layer\n",
    "        out = self.fc(out[:, -1, :])\n",
    "        return out\n",
    "\n",
    "#initial model has 1 input size, 4 hidden sizes and 1 stacked layer\n",
    "model = LSTM(1, 4, 1)\n",
    "model.to(device)\n",
    "model"
   ]
  },
  {
   "cell_type": "code",
   "execution_count": 20,
   "id": "88def911-ea78-4046-bf01-a24316b2347c",
   "metadata": {},
   "outputs": [],
   "source": [
    "#sets model to training mode\n",
    "def train_one_epoch():\n",
    "    model.train(True)\n",
    "    print(f'Epoch: {epoch + 1}')\n",
    "    running_loss = 0.0\n",
    "    \n",
    "    for batch_index, batch in enumerate(train_loader):\n",
    "        #puts x and y batch onto device we're using \n",
    "        x_batch, y_batch = batch[0].to(device), batch[1].to(device)\n",
    "        \n",
    "        output = model(x_batch)\n",
    "        #comparing model's output to ground truth\n",
    "        #loss is a tensor with a single value\n",
    "        loss = loss_function(output, y_batch)\n",
    "        running_loss += loss.item()\n",
    "        \n",
    "        #zero out gradients \n",
    "        optimizer.zero_grad()\n",
    "        #backwards pass \n",
    "        loss.backward()\n",
    "        optimizer.step()\n",
    "\n",
    "        #every 100 batches get avg loss across batches and print\n",
    "        if batch_index % 100 == 99:  # print every 100 batches\n",
    "            avg_loss_across_batches = running_loss / 100\n",
    "            print('Batch {0}, Loss: {1:.3f}'.format(batch_index+1,\n",
    "                                                    avg_loss_across_batches))\n",
    "            running_loss = 0.0\n",
    "    print()"
   ]
  },
  {
   "cell_type": "code",
   "execution_count": 21,
   "id": "b8b49351-6b53-4dc8-8d00-fde43b8700c2",
   "metadata": {
    "tags": []
   },
   "outputs": [],
   "source": [
    "#sets model to validate mode\n",
    "def validate_one_epoch():\n",
    "    model.train(False)\n",
    "    running_loss = 0.0\n",
    "    \n",
    "    for batch_index, batch in enumerate(test_loader):\n",
    "        x_batch, y_batch = batch[0].to(device), batch[1].to(device)\n",
    "        \n",
    "        #don't need to calcualte gradient as there's no model updates\n",
    "        with torch.no_grad():\n",
    "            output = model(x_batch)\n",
    "            #compare output to ground truth\n",
    "            loss = loss_function(output, y_batch)\n",
    "            running_loss += loss.item()\n",
    "    #average loss value across all batches\n",
    "    avg_loss_across_batches = running_loss / len(test_loader)\n",
    "    \n",
    "    print('Val Loss: {0:.3f}'.format(avg_loss_across_batches))\n",
    "    print('***************************************************')\n",
    "    print()"
   ]
  },
  {
   "cell_type": "code",
   "execution_count": 22,
   "id": "3ff9f96a-4e22-4b12-b20b-58235fc11b2c",
   "metadata": {
    "tags": []
   },
   "outputs": [
    {
     "name": "stdout",
     "output_type": "stream",
     "text": [
      "Epoch: 1\n",
      "Batch 100, Loss: 0.162\n",
      "Batch 200, Loss: 0.044\n",
      "Batch 300, Loss: 0.011\n",
      "\n",
      "Val Loss: 0.003\n",
      "***************************************************\n",
      "\n",
      "Epoch: 2\n",
      "Batch 100, Loss: 0.004\n",
      "Batch 200, Loss: 0.003\n",
      "Batch 300, Loss: 0.003\n",
      "\n",
      "Val Loss: 0.002\n",
      "***************************************************\n",
      "\n",
      "Epoch: 3\n",
      "Batch 100, Loss: 0.002\n",
      "Batch 200, Loss: 0.001\n",
      "Batch 300, Loss: 0.002\n",
      "\n",
      "Val Loss: 0.001\n",
      "***************************************************\n",
      "\n",
      "Epoch: 4\n",
      "Batch 100, Loss: 0.001\n",
      "Batch 200, Loss: 0.001\n",
      "Batch 300, Loss: 0.001\n",
      "\n",
      "Val Loss: 0.001\n",
      "***************************************************\n",
      "\n",
      "Epoch: 5\n",
      "Batch 100, Loss: 0.001\n",
      "Batch 200, Loss: 0.001\n",
      "Batch 300, Loss: 0.001\n",
      "\n",
      "Val Loss: 0.001\n",
      "***************************************************\n",
      "\n",
      "Epoch: 6\n",
      "Batch 100, Loss: 0.001\n",
      "Batch 200, Loss: 0.001\n",
      "Batch 300, Loss: 0.001\n",
      "\n",
      "Val Loss: 0.001\n",
      "***************************************************\n",
      "\n",
      "Epoch: 7\n",
      "Batch 100, Loss: 0.001\n",
      "Batch 200, Loss: 0.001\n",
      "Batch 300, Loss: 0.001\n",
      "\n",
      "Val Loss: 0.001\n",
      "***************************************************\n",
      "\n",
      "Epoch: 8\n",
      "Batch 100, Loss: 0.001\n",
      "Batch 200, Loss: 0.001\n",
      "Batch 300, Loss: 0.001\n",
      "\n",
      "Val Loss: 0.001\n",
      "***************************************************\n",
      "\n",
      "Epoch: 9\n",
      "Batch 100, Loss: 0.001\n",
      "Batch 200, Loss: 0.001\n",
      "Batch 300, Loss: 0.001\n",
      "\n",
      "Val Loss: 0.001\n",
      "***************************************************\n",
      "\n",
      "Epoch: 10\n",
      "Batch 100, Loss: 0.001\n",
      "Batch 200, Loss: 0.001\n",
      "Batch 300, Loss: 0.001\n",
      "\n",
      "Val Loss: 0.001\n",
      "***************************************************\n",
      "\n"
     ]
    }
   ],
   "source": [
    "learning_rate = 0.001\n",
    "#10 epochs is all that is necessary as any more will cause overfitting\n",
    "num_epochs = 10\n",
    "#trying to minimise mean squared error\n",
    "loss_function = nn.MSELoss()\n",
    "optimizer = torch.optim.Adam(model.parameters(), lr=learning_rate)\n",
    "\n",
    "for epoch in range(num_epochs):\n",
    "    train_one_epoch()\n",
    "    validate_one_epoch()"
   ]
  },
  {
   "cell_type": "code",
   "execution_count": 23,
   "id": "937ec50e-4d4f-4e85-b99e-9aa5cae20a25",
   "metadata": {
    "tags": []
   },
   "outputs": [
    {
     "data": {
      "image/png": "[encoded data removed]",
      "text/plain": [
       "<Figure size 640x480 with 1 Axes>"
      ]
     },
     "metadata": {},
     "output_type": "display_data"
    }
   ],
   "source": [
    "#no gradients for predictions\n",
    "with torch.no_grad():\n",
    "    #makes sure it on the device and is put to the CPU (numpy doesn't use GPU)\n",
    "    predicted = model(X_train.to(device)).to('cpu').numpy()\n",
    "\n",
    "plt.plot(y_train, label='Actual Close')\n",
    "plt.plot(predicted, label='Predicted Close')\n",
    "plt.xlabel('Day')\n",
    "plt.ylabel('Close')\n",
    "plt.legend()\n",
    "plt.show()"
   ]
  },
  {
   "cell_type": "code",
   "execution_count": 24,
   "id": "e8a2d6d1-d967-47bf-afd2-abed20472cac",
   "metadata": {
    "tags": []
   },
   "outputs": [
    {
     "data": {
      "text/plain": [
       "array([246.97337825, 246.62243558, 246.78961372, ..., 783.87021004,\n",
       "       766.10387531, 756.49151899])"
      ]
     },
     "execution_count": 24,
     "metadata": {},
     "output_type": "execute_result"
    }
   ],
   "source": [
    "#above data still includes scalar begins at -1\n",
    "#do opposite of earlier transform\n",
    "train_predictions = predicted.flatten()\n",
    "\n",
    "#lookback+1 is the length of the whole dataset\n",
    "dummies = np.zeros((X_train.shape[0], lookback+1))\n",
    "dummies[:, 0] = train_predictions\n",
    "dummies = scaler.inverse_transform(dummies)\n",
    "\n",
    "#return in right scale\n",
    "train_predictions = dc(dummies[:, 0])\n",
    "train_predictions"
   ]
  },
  {
   "cell_type": "code",
   "execution_count": 25,
   "id": "d0d60a99-a76d-4890-b2eb-1b636554eae4",
   "metadata": {
    "tags": []
   },
   "outputs": [
    {
     "data": {
      "text/plain": [
       "array([244.25001203, 245.74999802, 248.50000192, ..., 745.49999635,\n",
       "       746.74999651, 743.5000032 ])"
      ]
     },
     "execution_count": 25,
     "metadata": {},
     "output_type": "execute_result"
    }
   ],
   "source": [
    "#first column is no y_train.flatter()\n",
    "dummies = np.zeros((X_train.shape[0], lookback+1))\n",
    "dummies[:, 0] = y_train.flatten()\n",
    "dummies = scaler.inverse_transform(dummies)\n",
    "\n",
    "new_y_train = dc(dummies[:, 0])\n",
    "new_y_train"
   ]
  },
  {
   "cell_type": "code",
   "execution_count": 26,
   "id": "ad295e31-9fc3-4100-a37f-e31085f086c1",
   "metadata": {
    "tags": []
   },
   "outputs": [
    {
     "data": {
      "image/png": "[encoded data removed]",
      "text/plain": [
       "<Figure size 640x480 with 1 Axes>"
      ]
     },
     "metadata": {},
     "output_type": "display_data"
    }
   ],
   "source": [
    "#same graph as earlier with different y_train and predictions\n",
    "plt.plot(new_y_train, label='Actual Close')\n",
    "plt.plot(train_predictions, label='Predicted Close')\n",
    "plt.xlabel('Day')\n",
    "plt.ylabel('Close')\n",
    "plt.legend()\n",
    "plt.show()\n"
   ]
  },
  {
   "cell_type": "code",
   "execution_count": 27,
   "id": "3ddeddab-f9a5-4b15-84f6-0b6fbe34bac7",
   "metadata": {
    "tags": []
   },
   "outputs": [
    {
     "data": {
      "text/plain": [
       "array([749.75974452, 745.66990929, 738.6055322 , 739.8687269 ,\n",
       "       742.37388605, 744.28280495, 749.44770176, 747.63587723,\n",
       "       742.34216056, 742.63789218, 732.09536998, 733.54771002,\n",
       "       738.15951075, 746.78628593, 750.36336341, 753.30822201,\n",
       "       759.12522275, 761.16996277, 762.72468477, 761.25931446,\n",
       "       757.04891706, 754.29054892, 760.38372477, 760.33037836,\n",
       "       774.7309879 , 785.90227497, 788.87059249, 781.51431073,\n",
       "       774.57738611, 770.79251689, 761.1426547 , 749.07262535,\n",
       "       743.63358233, 725.99844709, 710.21122157, 699.81896257,\n",
       "       697.81817029, 699.72557084, 698.57857862, 691.5915485 ,\n",
       "       688.64919385, 681.94181506, 667.79724698, 666.88655769,\n",
       "       669.88120212, 679.20000668, 692.72053364, 698.29164632,\n",
       "       706.56259525, 705.48778229, 695.50033624, 679.56300734,\n",
       "       670.04152549, 678.81875033, 689.32369563, 696.5219715 ,\n",
       "       702.82486587, 699.47531863, 696.83440494, 695.65549189,\n",
       "       694.19429038, 688.76254609, 682.55887711, 680.86278446,\n",
       "       677.87307688, 679.22907728, 673.98773918, 678.93382514,\n",
       "       688.8997657 , 695.20040475, 690.26370413, 679.93279173,\n",
       "       670.96294089, 656.8598832 , 647.15394424, 636.89838098,\n",
       "       625.78597208, 622.66383967, 613.68946042, 605.08939397,\n",
       "       615.78673441, 625.04286937, 637.97489876, 641.9031764 ,\n",
       "       638.31713977, 634.44991571, 624.93756171, 624.89625553,\n",
       "       643.33866367, 647.61019457, 638.65874149, 626.2387595 ,\n",
       "       615.80843525, 610.73621095, 616.41589885, 612.69154158,\n",
       "       609.73212993, 613.83316187, 603.88897542, 599.71909394,\n",
       "       605.69318157, 613.63416058, 620.53507993, 626.05064415,\n",
       "       623.46385824, 626.04213785, 629.26039679, 632.78465175,\n",
       "       635.9297636 , 634.57386975, 649.21445822, 670.59154048,\n",
       "       686.16629492, 713.56139923, 730.20244258, 735.22443707,\n",
       "       731.94401463, 709.39664106, 681.52776771, 664.88398956,\n",
       "       648.8296857 , 637.50559596, 649.26377346, 649.5730903 ,\n",
       "       645.98382163, 642.10562284, 646.56871423, 635.00793976,\n",
       "       631.43678472, 637.02792894, 646.55202128, 660.43425253,\n",
       "       696.64832293, 716.22033776, 710.66954076, 736.14864942,\n",
       "       751.11595802, 738.27942474, 726.24024627, 715.23740706,\n",
       "       689.81512546, 668.89519921, 652.77108685, 638.83948708,\n",
       "       635.05965239, 646.37837907, 652.98791763, 645.8945321 ,\n",
       "       642.88429574, 635.57871439, 626.06307507, 612.37235104,\n",
       "       605.00869953, 597.56801182, 605.49648888, 603.79220958,\n",
       "       604.12581999, 609.6079983 , 608.39115319, 602.22069252,\n",
       "       595.95591668, 583.85223061, 580.51969598, 577.33446776,\n",
       "       573.41023904, 573.89786857, 578.53602285, 576.72416281,\n",
       "       573.42336255, 566.14665645, 564.06067684, 567.25808735,\n",
       "       568.63566428, 587.45817447, 591.880084  , 590.30824729,\n",
       "       591.09498253, 584.91114975, 583.06531778, 586.6764116 ,\n",
       "       589.22766283, 586.01094887, 583.66839504, 564.44504092,\n",
       "       564.54796895, 566.98876256, 564.7872109 , 572.54858086,\n",
       "       572.28925409, 574.20462818, 567.98147817, 563.206566  ,\n",
       "       568.04432536, 574.95122931, 577.89085804, 576.07624544,\n",
       "       579.59130151, 588.08147862, 588.822841  , 589.64223405,\n",
       "       586.68028294, 578.99522108, 579.83903201, 578.66526891,\n",
       "       573.68022089, 566.21360584, 564.79575272, 566.062801  ,\n",
       "       570.30382287, 574.52911074, 574.24616522, 584.53339181,\n",
       "       584.61410401, 581.64648795, 581.54569094, 578.08872279,\n",
       "       570.57288128, 562.94228461, 557.71383916, 551.56909274,\n",
       "       553.84221099, 555.95880619, 554.00056317, 545.937477  ,\n",
       "       545.76356841, 551.68462928, 562.04576658, 571.36089513,\n",
       "       585.60257535, 605.57414662, 613.66854095, 622.31378493,\n",
       "       620.92422104, 607.72751958, 607.57412201, 597.14287432,\n",
       "       595.93352327, 613.03161607, 617.18910215, 622.0462715 ,\n",
       "       617.897345  , 616.48599149, 617.17649364, 627.48653986,\n",
       "       627.10554988, 630.75143252, 630.93889081, 620.16749759,\n",
       "       610.70593278, 612.11840508, 614.82724488, 606.82480384,\n",
       "       609.21479051, 611.20199757, 608.78372168, 603.48711926,\n",
       "       593.78767989, 588.743585  , 587.54385903, 591.15880644,\n",
       "       595.14934524, 597.46714377, 605.63669191, 610.74510794,\n",
       "       607.37092973, 601.76545443, 604.38292696, 600.96753136,\n",
       "       602.09904708, 602.13598467, 597.59766845, 597.26077272,\n",
       "       600.55345737, 596.02235108, 597.36425126, 598.64822336,\n",
       "       599.40686472, 593.85383015, 581.68576966, 571.81117862,\n",
       "       577.22035191, 581.19712791, 583.73431444, 580.49588189,\n",
       "       580.28720224, 584.24138948, 579.10912383, 579.39421813,\n",
       "       571.20881169, 568.27273466, 558.23909885, 541.13482611,\n",
       "       531.53922045, 529.34835938, 533.85922103])"
      ]
     },
     "execution_count": 27,
     "metadata": {},
     "output_type": "execute_result"
    }
   ],
   "source": [
    "#convert to vector of predictions \n",
    "test_predictions = model(X_test.to(device)).detach().cpu().numpy().flatten()\n",
    "\n",
    "dummies = np.zeros((X_test.shape[0], lookback+1))\n",
    "dummies[:, 0] = test_predictions\n",
    "dummies = scaler.inverse_transform(dummies)\n",
    "\n",
    "test_predictions = dc(dummies[:, 0])\n",
    "test_predictions"
   ]
  },
  {
   "cell_type": "code",
   "execution_count": 28,
   "id": "d1c351bc-798d-42b4-af90-04bdd4b762b2",
   "metadata": {
    "tags": []
   },
   "outputs": [
    {
     "data": {
      "text/plain": [
       "array([741.50000117, 731.0000016 , 739.99999743, 742.75000133,\n",
       "       743.74999791, 751.74999716, 742.49999775, 734.4999985 ,\n",
       "       741.50000117, 720.00000374, 734.4999985 , 741.24999759,\n",
       "       752.49999903, 749.99999871, 752.49999903, 761.25000015,\n",
       "       759.75000084, 761.000001  , 756.7499978 , 750.25000229,\n",
       "       749.750004  , 764.75000149, 757.25000052, 785.99999977,\n",
       "       792.00000143, 785.99999977, 769.2499994 , 765.00000063,\n",
       "       765.49999892, 750.499997  , 736.50000053, 738.24999898,\n",
       "       708.25000401, 695.99999711, 691.50000364, 697.00000257,\n",
       "       701.25000134, 695.75000241, 682.49999894, 684.74999567,\n",
       "       674.49999969, 653.50000055, 666.74999514, 672.25000295,\n",
       "       686.500003  , 702.7499962 , 698.99999572, 710.50000075,\n",
       "       700.75000305, 683.25000081, 663.50000183, 661.99999809,\n",
       "       688.49999615, 697.99999915, 699.7499976 , 704.74999824,\n",
       "       692.24999663, 692.24999663, 693.49999679, 691.50000364,\n",
       "       682.00000065, 675.49999626, 678.50000375, 673.99999252,\n",
       "       679.50000033, 666.99999873, 682.49999894, 696.50000428,\n",
       "       697.99999915, 681.74999706, 667.74999172, 661.7499945 ,\n",
       "       643.49999927, 638.75000221, 627.24999718, 614.74999558,\n",
       "       619.74999622, 603.74999772, 595.50000377, 626.25000061,\n",
       "       631.50000483, 646.99999616, 640.99999895, 630.50000826,\n",
       "       628.24999376, 614.25000617, 624.49999328, 660.74999793,\n",
       "       647.50000333, 625.50000761, 611.75000585, 604.99999788,\n",
       "       606.24999804, 622.24999654, 606.24999804, 604.25000489,\n",
       "       615.99999574, 590.99999254, 594.25000361, 610.74999152,\n",
       "       619.00000323, 624.00000387, 627.75000435, 616.75000649,\n",
       "       626.25000061, 630.25000467, 633.75000157, 636.25000189,\n",
       "       630.25000467, 661.50000868, 687.99999787, 695.75000241,\n",
       "       734.4999985 , 739.00000085, 733.24999834, 724.25000251,\n",
       "       684.99999926, 655.74999728, 652.99999338, 636.25000189,\n",
       "       628.49999734, 661.99999809, 646.99999616, 639.4999952 ,\n",
       "       636.25000189, 649.49999648, 621.24999997, 627.50000077,\n",
       "       641.50000611, 653.75000413, 670.74999921, 727.74999941,\n",
       "       726.99999754, 697.50000086, 757.49999967, 760.24999913,\n",
       "       720.00000374, 712.74999749, 704.24999995, 665.74999857,\n",
       "       652.25000039, 640.00000237, 626.9999936 , 633.00000858,\n",
       "       657.50000461, 656.25000445, 635.00000173, 637.75000563,\n",
       "       626.75000777, 615.99999574, 598.4999935 , 597.75000051,\n",
       "       589.50000655, 613.24999184, 599.25000425, 601.75000457,\n",
       "       612.49999885, 604.00000131, 593.25000703, 588.00000281,\n",
       "       569.75000757, 576.75000137, 573.00000089, 567.49999308,\n",
       "       572.49999372, 580.99999126, 571.49999714, 567.25000725,\n",
       "       556.00000581, 560.2499957 , 568.99999682, 567.49999308,\n",
       "       604.25000489, 591.24999612, 583.99999874, 588.7499958 ,\n",
       "       575.75000479, 579.50000527, 588.99999939, 588.99999939,\n",
       "       579.50000527, 578.74999452, 541.4999933 , 564.75000693,\n",
       "       568.50000741, 559.99999212, 578.25000511, 568.25000383,\n",
       "       572.7499973 , 558.50000613, 556.00000581, 571.49999714,\n",
       "       579.75000886, 577.25000853, 570.50000057, 580.24999826,\n",
       "       594.00000003, 585.9999919 , 587.24999206, 580.50000185,\n",
       "       568.50000741, 579.50000527, 575.50000121, 566.00000709,\n",
       "       556.24999164, 561.74999944, 565.49999993, 572.49999372,\n",
       "       575.75000479, 570.24999698, 592.2499927 , 580.75000543,\n",
       "       575.24999762, 578.9999981 , 572.00000431, 560.49999928,\n",
       "       553.50000549, 550.75000159, 543.50000421, 554.99999148,\n",
       "       555.75000223, 548.75000843, 534.24999592, 543.75000779,\n",
       "       556.00000581, 570.24999698, 577.00000495, 595.75000735,\n",
       "       620.7499928 , 615.74999216, 625.99999702, 614.99999917,\n",
       "       591.24999612, 607.0000088 , 585.2499989 , 594.00000003,\n",
       "       629.2500081 , 616.99999232, 622.75000371, 609.99999852,\n",
       "       612.49999885, 616.24999933, 636.25000189, 623.00000729,\n",
       "       631.50000483, 628.00000793, 606.75000521, 600.25000083,\n",
       "       613.49999542, 615.99999574, 596.24999676, 609.99999852,\n",
       "       610.74999152, 603.74999772, 595.99999318, 582.00000559,\n",
       "       582.499995  , 585.50000249, 593.25000703, 596.50000035,\n",
       "       596.50000035, 610.74999152, 612.24999526, 600.25000083,\n",
       "       593.49999286, 605.50000505, 595.25000019, 601.50000099,\n",
       "       599.74999366, 590.24999955, 594.9999966 , 602.00000815,\n",
       "       588.49999222, 596.75000393, 597.49999692, 597.49999692,\n",
       "       585.50000249, 567.00000367, 560.49999928, 582.74999858,\n",
       "       583.25000575, 583.25000575, 573.50000805, 577.25000853,\n",
       "       585.9999919 , 571.00000773, 577.49999436, 559.99999212,\n",
       "       563.50000677, 545.75000095, 521.25000491, 520.74999774,\n",
       "       526.75001272, 537.50000699, 548.99999426])"
      ]
     },
     "execution_count": 28,
     "metadata": {},
     "output_type": "execute_result"
    }
   ],
   "source": [
    "#make ground truth proper scale\n",
    "dummies = np.zeros((X_test.shape[0], lookback+1))\n",
    "dummies[:, 0] = y_test.flatten()\n",
    "dummies = scaler.inverse_transform(dummies)\n",
    "\n",
    "new_y_test = dc(dummies[:, 0])\n",
    "new_y_test"
   ]
  },
  {
   "cell_type": "code",
   "execution_count": 29,
   "id": "c0a2543c-6791-4805-baf0-535a3670e521",
   "metadata": {
    "tags": []
   },
   "outputs": [
    {
     "data": {
      "image/png": "[encoded data removed]",
      "text/plain": [
       "<Figure size 640x480 with 1 Axes>"
      ]
     },
     "metadata": {},
     "output_type": "display_data"
    }
   ],
   "source": [
    "#revised graph with more accurate axises \n",
    "plt.plot(new_y_test, label='Actual Close')\n",
    "plt.plot(test_predictions, label='Predicted Close')\n",
    "plt.xlabel('Day')\n",
    "plt.ylabel('Close')\n",
    "plt.legend()\n",
    "plt.show()"
   ]
  },
  {
   "cell_type": "code",
   "execution_count": 30,
   "id": "1a36040e-ecf7-4e89-b447-ff24c360d238",
   "metadata": {
    "tags": []
   },
   "outputs": [
    {
     "name": "stdout",
     "output_type": "stream",
     "text": [
      "Root Mean Square Error (RMSE): 16.687118519721434\n",
      "Mean Absolute Error (MAE): 12.829651166230313\n",
      "Mean Absolute Percentage Error (MAPE): 2.0218892114775713\n"
     ]
    }
   ],
   "source": [
    "from math import sqrt\n",
    "from sklearn.metrics import mean_squared_error, mean_absolute_error\n",
    "import numpy as np\n",
    "\n",
    "# For each model, replace `actuals` and `predictions` with the corresponding variables\n",
    "actuals = new_y_test\n",
    "predictions = test_predictions\n",
    "\n",
    "# Calculate the RMSE\n",
    "rmse = sqrt(mean_squared_error(actuals, predictions))\n",
    "print(\"Root Mean Square Error (RMSE):\", rmse)\n",
    "\n",
    "# Calculate Mean Absolute Error (MAE)\n",
    "mae = mean_absolute_error(actuals, predictions)\n",
    "print(\"Mean Absolute Error (MAE):\", mae)\n",
    "\n",
    "# Calculate Mean Absolute Percentage Error (MAPE)\n",
    "mape = np.mean(np.abs((actuals - predictions) / actuals)) * 100\n",
    "print(\"Mean Absolute Percentage Error (MAPE):\", mape)\n"
   ]
  },
  {
   "cell_type": "code",
   "execution_count": 31,
   "id": "eca38aa6-7a5c-45f9-bcbe-a89b8c7d0f49",
   "metadata": {
    "tags": []
   },
   "outputs": [
    {
     "name": "stdout",
     "output_type": "stream",
     "text": [
      "Training - RMSE: 0.028, MAE: 0.018, MAPE: 17.668%\n",
      "Validation - RMSE: 0.028, MAE: 0.022, MAPE: 8.052%\n"
     ]
    }
   ],
   "source": [
    "#comparing the RMSE, MAE and MAPE for Training vs Validation data to check for overfitting\n",
    "from sklearn.metrics import mean_squared_error, mean_absolute_error\n",
    "import numpy as np\n",
    "import torch\n",
    "\n",
    "def evaluate_model(model, data_loader):\n",
    "    model.eval()  # Set the model to evaluation mode\n",
    "    predictions, actuals = [], []\n",
    "    with torch.no_grad():\n",
    "        for inputs, targets in data_loader:\n",
    "            inputs, targets = inputs.to(device), targets.to(device)\n",
    "            outputs = model(inputs)\n",
    "            predictions.extend(outputs.view(-1).tolist())\n",
    "            actuals.extend(targets.view(-1).tolist())\n",
    "\n",
    "    mse = mean_squared_error(actuals, predictions)\n",
    "    rmse = np.sqrt(mse)\n",
    "    mae = mean_absolute_error(actuals, predictions)\n",
    "    mape = np.mean(np.abs((np.array(actuals) - np.array(predictions)) / np.array(actuals))) * 100\n",
    "    \n",
    "    return rmse, mae, mape\n",
    "\n",
    "# Assuming 'train_loader' and 'test_loader' are already defined\n",
    "# Evaluate the model on training data\n",
    "train_rmse, train_mae, train_mape = evaluate_model(model, train_loader)\n",
    "print(f'Training - RMSE: {train_rmse:.3f}, MAE: {train_mae:.3f}, MAPE: {train_mape:.3f}%')\n",
    "\n",
    "# Evaluate the model on test (validation) data\n",
    "val_rmse, val_mae, val_mape = evaluate_model(model, test_loader)  # Use test_loader as validation loader\n",
    "print(f'Validation - RMSE: {val_rmse:.3f}, MAE: {val_mae:.3f}, MAPE: {val_mape:.3f}%')\n"
   ]
  }
 ],
 "metadata": {
  "kernelspec": {
   "display_name": "Python 3 (ipykernel)",
   "language": "python",
   "name": "python3"
  },
  "language_info": {
   "codemirror_mode": {
    "name": "ipython",
    "version": 3
   },
   "file_extension": ".py",
   "mimetype": "text/x-python",
   "name": "python",
   "nbconvert_exporter": "python",
   "pygments_lexer": "ipython3",
   "version": "3.11.5"
  }
 },
 "nbformat": 4,
 "nbformat_minor": 5
}
