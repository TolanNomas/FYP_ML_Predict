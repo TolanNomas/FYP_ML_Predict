{
 "cells": [
  {
   "cell_type": "code",
   "execution_count": null,
   "id": "83b0f6d5-db92-48db-80dc-36d4f2c6b1f1",
   "metadata": {
    "tags": []
   },
   "outputs": [],
   "source": []
  },
  {
   "cell_type": "code",
   "execution_count": 1,
   "id": "35801504-6e16-4e34-8803-b857713ddddb",
   "metadata": {
    "tags": []
   },
   "outputs": [
    {
     "name": "stderr",
     "output_type": "stream",
     "text": [
      "[*********************100%%**********************]  1 of 1 completed\n"
     ]
    },
    {
     "data": {
      "text/html": [
       "<div>\n",
       "<style scoped>\n",
       "    .dataframe tbody tr th:only-of-type {\n",
       "        vertical-align: middle;\n",
       "    }\n",
       "\n",
       "    .dataframe tbody tr th {\n",
       "        vertical-align: top;\n",
       "    }\n",
       "\n",
       "    .dataframe thead th {\n",
       "        text-align: right;\n",
       "    }\n",
       "</style>\n",
       "<table border=\"1\" class=\"dataframe\">\n",
       "  <thead>\n",
       "    <tr style=\"text-align: right;\">\n",
       "      <th></th>\n",
       "      <th>Date</th>\n",
       "      <th>Open</th>\n",
       "      <th>High</th>\n",
       "      <th>Low</th>\n",
       "      <th>Close</th>\n",
       "      <th>Adj Close</th>\n",
       "      <th>Volume</th>\n",
       "    </tr>\n",
       "  </thead>\n",
       "  <tbody>\n",
       "    <tr>\n",
       "      <th>0</th>\n",
       "      <td>2000-08-30</td>\n",
       "      <td>273.899994</td>\n",
       "      <td>273.899994</td>\n",
       "      <td>273.899994</td>\n",
       "      <td>273.899994</td>\n",
       "      <td>273.899994</td>\n",
       "      <td>0</td>\n",
       "    </tr>\n",
       "    <tr>\n",
       "      <th>1</th>\n",
       "      <td>2000-08-31</td>\n",
       "      <td>274.799988</td>\n",
       "      <td>278.299988</td>\n",
       "      <td>274.799988</td>\n",
       "      <td>278.299988</td>\n",
       "      <td>278.299988</td>\n",
       "      <td>0</td>\n",
       "    </tr>\n",
       "    <tr>\n",
       "      <th>2</th>\n",
       "      <td>2000-09-01</td>\n",
       "      <td>277.000000</td>\n",
       "      <td>277.000000</td>\n",
       "      <td>277.000000</td>\n",
       "      <td>277.000000</td>\n",
       "      <td>277.000000</td>\n",
       "      <td>0</td>\n",
       "    </tr>\n",
       "    <tr>\n",
       "      <th>3</th>\n",
       "      <td>2000-09-05</td>\n",
       "      <td>275.799988</td>\n",
       "      <td>275.799988</td>\n",
       "      <td>275.799988</td>\n",
       "      <td>275.799988</td>\n",
       "      <td>275.799988</td>\n",
       "      <td>2</td>\n",
       "    </tr>\n",
       "    <tr>\n",
       "      <th>4</th>\n",
       "      <td>2000-09-06</td>\n",
       "      <td>274.200012</td>\n",
       "      <td>274.200012</td>\n",
       "      <td>274.200012</td>\n",
       "      <td>274.200012</td>\n",
       "      <td>274.200012</td>\n",
       "      <td>0</td>\n",
       "    </tr>\n",
       "    <tr>\n",
       "      <th>...</th>\n",
       "      <td>...</td>\n",
       "      <td>...</td>\n",
       "      <td>...</td>\n",
       "      <td>...</td>\n",
       "      <td>...</td>\n",
       "      <td>...</td>\n",
       "      <td>...</td>\n",
       "    </tr>\n",
       "    <tr>\n",
       "      <th>5911</th>\n",
       "      <td>2024-03-22</td>\n",
       "      <td>2179.199951</td>\n",
       "      <td>2179.600098</td>\n",
       "      <td>2157.500000</td>\n",
       "      <td>2158.100098</td>\n",
       "      <td>2158.100098</td>\n",
       "      <td>19</td>\n",
       "    </tr>\n",
       "    <tr>\n",
       "      <th>5912</th>\n",
       "      <td>2024-03-25</td>\n",
       "      <td>2166.199951</td>\n",
       "      <td>2179.399902</td>\n",
       "      <td>2166.199951</td>\n",
       "      <td>2174.800049</td>\n",
       "      <td>2174.800049</td>\n",
       "      <td>79</td>\n",
       "    </tr>\n",
       "    <tr>\n",
       "      <th>5913</th>\n",
       "      <td>2024-03-26</td>\n",
       "      <td>2182.699951</td>\n",
       "      <td>2182.699951</td>\n",
       "      <td>2175.600098</td>\n",
       "      <td>2175.600098</td>\n",
       "      <td>2175.600098</td>\n",
       "      <td>202373</td>\n",
       "    </tr>\n",
       "    <tr>\n",
       "      <th>5914</th>\n",
       "      <td>2024-03-27</td>\n",
       "      <td>2179.399902</td>\n",
       "      <td>2196.199951</td>\n",
       "      <td>2172.100098</td>\n",
       "      <td>2190.600098</td>\n",
       "      <td>2190.600098</td>\n",
       "      <td>202373</td>\n",
       "    </tr>\n",
       "    <tr>\n",
       "      <th>5915</th>\n",
       "      <td>2024-03-28</td>\n",
       "      <td>2215.699951</td>\n",
       "      <td>2234.399902</td>\n",
       "      <td>2207.500000</td>\n",
       "      <td>2233.100098</td>\n",
       "      <td>2233.100098</td>\n",
       "      <td>72656</td>\n",
       "    </tr>\n",
       "  </tbody>\n",
       "</table>\n",
       "<p>5916 rows × 7 columns</p>\n",
       "</div>"
      ],
      "text/plain": [
       "           Date         Open         High          Low        Close  \\\n",
       "0    2000-08-30   273.899994   273.899994   273.899994   273.899994   \n",
       "1    2000-08-31   274.799988   278.299988   274.799988   278.299988   \n",
       "2    2000-09-01   277.000000   277.000000   277.000000   277.000000   \n",
       "3    2000-09-05   275.799988   275.799988   275.799988   275.799988   \n",
       "4    2000-09-06   274.200012   274.200012   274.200012   274.200012   \n",
       "...         ...          ...          ...          ...          ...   \n",
       "5911 2024-03-22  2179.199951  2179.600098  2157.500000  2158.100098   \n",
       "5912 2024-03-25  2166.199951  2179.399902  2166.199951  2174.800049   \n",
       "5913 2024-03-26  2182.699951  2182.699951  2175.600098  2175.600098   \n",
       "5914 2024-03-27  2179.399902  2196.199951  2172.100098  2190.600098   \n",
       "5915 2024-03-28  2215.699951  2234.399902  2207.500000  2233.100098   \n",
       "\n",
       "        Adj Close  Volume  \n",
       "0      273.899994       0  \n",
       "1      278.299988       0  \n",
       "2      277.000000       0  \n",
       "3      275.799988       2  \n",
       "4      274.200012       0  \n",
       "...           ...     ...  \n",
       "5911  2158.100098      19  \n",
       "5912  2174.800049      79  \n",
       "5913  2175.600098  202373  \n",
       "5914  2190.600098  202373  \n",
       "5915  2233.100098   72656  \n",
       "\n",
       "[5916 rows x 7 columns]"
      ]
     },
     "execution_count": 1,
     "metadata": {},
     "output_type": "execute_result"
    }
   ],
   "source": [
    "import yfinance as yf\n",
    "import pandas as pd\n",
    "import numpy as np\n",
    "import matplotlib.pyplot as plt\n",
    "\n",
    "import torch\n",
    "import torch.nn as nn\n",
    "\n",
    "#fetching gold data from yahoo finance\n",
    "data = yf.Ticker('GC=F')\n",
    "data = yf.download('GC=F', period = 'max')\n",
    "\n",
    "# Resetting the index to turn the date index into a column\n",
    "data.reset_index(inplace=True)\n",
    "\n",
    "data"
   ]
  },
  {
   "cell_type": "code",
   "execution_count": 2,
   "id": "70548503-a6ae-4d95-a299-2abef9738ab2",
   "metadata": {
    "tags": []
   },
   "outputs": [
    {
     "data": {
      "text/html": [
       "<div>\n",
       "<style scoped>\n",
       "    .dataframe tbody tr th:only-of-type {\n",
       "        vertical-align: middle;\n",
       "    }\n",
       "\n",
       "    .dataframe tbody tr th {\n",
       "        vertical-align: top;\n",
       "    }\n",
       "\n",
       "    .dataframe thead th {\n",
       "        text-align: right;\n",
       "    }\n",
       "</style>\n",
       "<table border=\"1\" class=\"dataframe\">\n",
       "  <thead>\n",
       "    <tr style=\"text-align: right;\">\n",
       "      <th></th>\n",
       "      <th>Date</th>\n",
       "      <th>Close</th>\n",
       "    </tr>\n",
       "  </thead>\n",
       "  <tbody>\n",
       "    <tr>\n",
       "      <th>0</th>\n",
       "      <td>2000-08-30</td>\n",
       "      <td>273.899994</td>\n",
       "    </tr>\n",
       "    <tr>\n",
       "      <th>1</th>\n",
       "      <td>2000-08-31</td>\n",
       "      <td>278.299988</td>\n",
       "    </tr>\n",
       "    <tr>\n",
       "      <th>2</th>\n",
       "      <td>2000-09-01</td>\n",
       "      <td>277.000000</td>\n",
       "    </tr>\n",
       "    <tr>\n",
       "      <th>3</th>\n",
       "      <td>2000-09-05</td>\n",
       "      <td>275.799988</td>\n",
       "    </tr>\n",
       "    <tr>\n",
       "      <th>4</th>\n",
       "      <td>2000-09-06</td>\n",
       "      <td>274.200012</td>\n",
       "    </tr>\n",
       "    <tr>\n",
       "      <th>...</th>\n",
       "      <td>...</td>\n",
       "      <td>...</td>\n",
       "    </tr>\n",
       "    <tr>\n",
       "      <th>5911</th>\n",
       "      <td>2024-03-22</td>\n",
       "      <td>2158.100098</td>\n",
       "    </tr>\n",
       "    <tr>\n",
       "      <th>5912</th>\n",
       "      <td>2024-03-25</td>\n",
       "      <td>2174.800049</td>\n",
       "    </tr>\n",
       "    <tr>\n",
       "      <th>5913</th>\n",
       "      <td>2024-03-26</td>\n",
       "      <td>2175.600098</td>\n",
       "    </tr>\n",
       "    <tr>\n",
       "      <th>5914</th>\n",
       "      <td>2024-03-27</td>\n",
       "      <td>2190.600098</td>\n",
       "    </tr>\n",
       "    <tr>\n",
       "      <th>5915</th>\n",
       "      <td>2024-03-28</td>\n",
       "      <td>2233.100098</td>\n",
       "    </tr>\n",
       "  </tbody>\n",
       "</table>\n",
       "<p>5916 rows × 2 columns</p>\n",
       "</div>"
      ],
      "text/plain": [
       "           Date        Close\n",
       "0    2000-08-30   273.899994\n",
       "1    2000-08-31   278.299988\n",
       "2    2000-09-01   277.000000\n",
       "3    2000-09-05   275.799988\n",
       "4    2000-09-06   274.200012\n",
       "...         ...          ...\n",
       "5911 2024-03-22  2158.100098\n",
       "5912 2024-03-25  2174.800049\n",
       "5913 2024-03-26  2175.600098\n",
       "5914 2024-03-27  2190.600098\n",
       "5915 2024-03-28  2233.100098\n",
       "\n",
       "[5916 rows x 2 columns]"
      ]
     },
     "execution_count": 2,
     "metadata": {},
     "output_type": "execute_result"
    }
   ],
   "source": [
    "# trim dataset to relevent columns (we only need date and close to forecast prices)\n",
    "data = data[['Date', 'Close']]\n",
    "data"
   ]
  },
  {
   "cell_type": "code",
   "execution_count": 3,
   "id": "0d2794fe-8e4d-4793-a2be-af9af6096910",
   "metadata": {
    "tags": []
   },
   "outputs": [
    {
     "data": {
      "text/plain": [
       "[<matplotlib.lines.Line2D at 0x22d6ecc3390>]"
      ]
     },
     "execution_count": 3,
     "metadata": {},
     "output_type": "execute_result"
    },
    {
     "data": {
      "image/png": "[encoded data removed]",
      "text/plain": [
       "<Figure size 640x480 with 1 Axes>"
      ]
     },
     "metadata": {},
     "output_type": "display_data"
    }
   ],
   "source": [
    "#simple transformations\n",
    "data.loc[:, 'Date'] = pd.to_datetime(data['Date'])\n",
    "\n",
    "plt.plot(data['Date'], data['Close'])"
   ]
  },
  {
   "cell_type": "code",
   "execution_count": 4,
   "id": "29d01443-a9df-420c-8f6e-8340b9036a7e",
   "metadata": {
    "tags": []
   },
   "outputs": [
    {
     "data": {
      "text/plain": [
       "'cpu'"
      ]
     },
     "execution_count": 4,
     "metadata": {},
     "output_type": "execute_result"
    }
   ],
   "source": [
    "device = 'cuda:0' if torch.cuda.is_available() else 'cpu'\n",
    "device"
   ]
  },
  {
   "cell_type": "code",
   "execution_count": 5,
   "id": "f48de125-1893-445f-a167-41f87a5aaf99",
   "metadata": {
    "tags": []
   },
   "outputs": [
    {
     "data": {
      "text/html": [
       "<div>\n",
       "<style scoped>\n",
       "    .dataframe tbody tr th:only-of-type {\n",
       "        vertical-align: middle;\n",
       "    }\n",
       "\n",
       "    .dataframe tbody tr th {\n",
       "        vertical-align: top;\n",
       "    }\n",
       "\n",
       "    .dataframe thead th {\n",
       "        text-align: right;\n",
       "    }\n",
       "</style>\n",
       "<table border=\"1\" class=\"dataframe\">\n",
       "  <thead>\n",
       "    <tr style=\"text-align: right;\">\n",
       "      <th></th>\n",
       "      <th>Close</th>\n",
       "      <th>Close(t-1)</th>\n",
       "      <th>Close(t-2)</th>\n",
       "      <th>Close(t-3)</th>\n",
       "      <th>Close(t-4)</th>\n",
       "      <th>Close(t-5)</th>\n",
       "      <th>Close(t-6)</th>\n",
       "      <th>Close(t-7)</th>\n",
       "    </tr>\n",
       "    <tr>\n",
       "      <th>Date</th>\n",
       "      <th></th>\n",
       "      <th></th>\n",
       "      <th></th>\n",
       "      <th></th>\n",
       "      <th></th>\n",
       "      <th></th>\n",
       "      <th></th>\n",
       "      <th></th>\n",
       "    </tr>\n",
       "  </thead>\n",
       "  <tbody>\n",
       "    <tr>\n",
       "      <th>2000-09-11</th>\n",
       "      <td>273.100006</td>\n",
       "      <td>273.299988</td>\n",
       "      <td>274.000000</td>\n",
       "      <td>274.200012</td>\n",
       "      <td>275.799988</td>\n",
       "      <td>277.000000</td>\n",
       "      <td>278.299988</td>\n",
       "      <td>273.899994</td>\n",
       "    </tr>\n",
       "    <tr>\n",
       "      <th>2000-09-12</th>\n",
       "      <td>272.899994</td>\n",
       "      <td>273.100006</td>\n",
       "      <td>273.299988</td>\n",
       "      <td>274.000000</td>\n",
       "      <td>274.200012</td>\n",
       "      <td>275.799988</td>\n",
       "      <td>277.000000</td>\n",
       "      <td>278.299988</td>\n",
       "    </tr>\n",
       "    <tr>\n",
       "      <th>2000-09-13</th>\n",
       "      <td>272.799988</td>\n",
       "      <td>272.899994</td>\n",
       "      <td>273.100006</td>\n",
       "      <td>273.299988</td>\n",
       "      <td>274.000000</td>\n",
       "      <td>274.200012</td>\n",
       "      <td>275.799988</td>\n",
       "      <td>277.000000</td>\n",
       "    </tr>\n",
       "    <tr>\n",
       "      <th>2000-09-14</th>\n",
       "      <td>272.399994</td>\n",
       "      <td>272.799988</td>\n",
       "      <td>272.899994</td>\n",
       "      <td>273.100006</td>\n",
       "      <td>273.299988</td>\n",
       "      <td>274.000000</td>\n",
       "      <td>274.200012</td>\n",
       "      <td>275.799988</td>\n",
       "    </tr>\n",
       "    <tr>\n",
       "      <th>2000-09-15</th>\n",
       "      <td>272.299988</td>\n",
       "      <td>272.399994</td>\n",
       "      <td>272.799988</td>\n",
       "      <td>272.899994</td>\n",
       "      <td>273.100006</td>\n",
       "      <td>273.299988</td>\n",
       "      <td>274.000000</td>\n",
       "      <td>274.200012</td>\n",
       "    </tr>\n",
       "    <tr>\n",
       "      <th>...</th>\n",
       "      <td>...</td>\n",
       "      <td>...</td>\n",
       "      <td>...</td>\n",
       "      <td>...</td>\n",
       "      <td>...</td>\n",
       "      <td>...</td>\n",
       "      <td>...</td>\n",
       "      <td>...</td>\n",
       "    </tr>\n",
       "    <tr>\n",
       "      <th>2024-03-22</th>\n",
       "      <td>2158.100098</td>\n",
       "      <td>2182.399902</td>\n",
       "      <td>2157.899902</td>\n",
       "      <td>2156.300049</td>\n",
       "      <td>2160.699951</td>\n",
       "      <td>2157.300049</td>\n",
       "      <td>2163.000000</td>\n",
       "      <td>2175.399902</td>\n",
       "    </tr>\n",
       "    <tr>\n",
       "      <th>2024-03-25</th>\n",
       "      <td>2174.800049</td>\n",
       "      <td>2158.100098</td>\n",
       "      <td>2182.399902</td>\n",
       "      <td>2157.899902</td>\n",
       "      <td>2156.300049</td>\n",
       "      <td>2160.699951</td>\n",
       "      <td>2157.300049</td>\n",
       "      <td>2163.000000</td>\n",
       "    </tr>\n",
       "    <tr>\n",
       "      <th>2024-03-26</th>\n",
       "      <td>2175.600098</td>\n",
       "      <td>2174.800049</td>\n",
       "      <td>2158.100098</td>\n",
       "      <td>2182.399902</td>\n",
       "      <td>2157.899902</td>\n",
       "      <td>2156.300049</td>\n",
       "      <td>2160.699951</td>\n",
       "      <td>2157.300049</td>\n",
       "    </tr>\n",
       "    <tr>\n",
       "      <th>2024-03-27</th>\n",
       "      <td>2190.600098</td>\n",
       "      <td>2175.600098</td>\n",
       "      <td>2174.800049</td>\n",
       "      <td>2158.100098</td>\n",
       "      <td>2182.399902</td>\n",
       "      <td>2157.899902</td>\n",
       "      <td>2156.300049</td>\n",
       "      <td>2160.699951</td>\n",
       "    </tr>\n",
       "    <tr>\n",
       "      <th>2024-03-28</th>\n",
       "      <td>2233.100098</td>\n",
       "      <td>2190.600098</td>\n",
       "      <td>2175.600098</td>\n",
       "      <td>2174.800049</td>\n",
       "      <td>2158.100098</td>\n",
       "      <td>2182.399902</td>\n",
       "      <td>2157.899902</td>\n",
       "      <td>2156.300049</td>\n",
       "    </tr>\n",
       "  </tbody>\n",
       "</table>\n",
       "<p>5909 rows × 8 columns</p>\n",
       "</div>"
      ],
      "text/plain": [
       "                  Close   Close(t-1)   Close(t-2)   Close(t-3)   Close(t-4)  \\\n",
       "Date                                                                          \n",
       "2000-09-11   273.100006   273.299988   274.000000   274.200012   275.799988   \n",
       "2000-09-12   272.899994   273.100006   273.299988   274.000000   274.200012   \n",
       "2000-09-13   272.799988   272.899994   273.100006   273.299988   274.000000   \n",
       "2000-09-14   272.399994   272.799988   272.899994   273.100006   273.299988   \n",
       "2000-09-15   272.299988   272.399994   272.799988   272.899994   273.100006   \n",
       "...                 ...          ...          ...          ...          ...   \n",
       "2024-03-22  2158.100098  2182.399902  2157.899902  2156.300049  2160.699951   \n",
       "2024-03-25  2174.800049  2158.100098  2182.399902  2157.899902  2156.300049   \n",
       "2024-03-26  2175.600098  2174.800049  2158.100098  2182.399902  2157.899902   \n",
       "2024-03-27  2190.600098  2175.600098  2174.800049  2158.100098  2182.399902   \n",
       "2024-03-28  2233.100098  2190.600098  2175.600098  2174.800049  2158.100098   \n",
       "\n",
       "             Close(t-5)   Close(t-6)   Close(t-7)  \n",
       "Date                                               \n",
       "2000-09-11   277.000000   278.299988   273.899994  \n",
       "2000-09-12   275.799988   277.000000   278.299988  \n",
       "2000-09-13   274.200012   275.799988   277.000000  \n",
       "2000-09-14   274.000000   274.200012   275.799988  \n",
       "2000-09-15   273.299988   274.000000   274.200012  \n",
       "...                 ...          ...          ...  \n",
       "2024-03-22  2157.300049  2163.000000  2175.399902  \n",
       "2024-03-25  2160.699951  2157.300049  2163.000000  \n",
       "2024-03-26  2156.300049  2160.699951  2157.300049  \n",
       "2024-03-27  2157.899902  2156.300049  2160.699951  \n",
       "2024-03-28  2182.399902  2157.899902  2156.300049  \n",
       "\n",
       "[5909 rows x 8 columns]"
      ]
     },
     "execution_count": 5,
     "metadata": {},
     "output_type": "execute_result"
    }
   ],
   "source": [
    "#takes df from above and creates a lookback window of a week (lookback =7) \n",
    "from copy import deepcopy as dc\n",
    "\n",
    "def prepare_dataframe_for_lstm(df, n_steps):\n",
    "    df = dc(df)\n",
    "    \n",
    "    df.set_index('Date', inplace=True)\n",
    "    \n",
    "    #shifts dataframe for each lookback window\n",
    "    for i in range(1, n_steps+1):\n",
    "        df[f'Close(t-{i})'] = df['Close'].shift(i)\n",
    "        \n",
    "    df.dropna(inplace=True)\n",
    "    \n",
    "    return df\n",
    "\n",
    "#any greater lookback doesn't capture the volatility of gold \n",
    "lookback = 7\n",
    "shifted_df = prepare_dataframe_for_lstm(data, lookback)\n",
    "shifted_df"
   ]
  },
  {
   "cell_type": "code",
   "execution_count": 6,
   "id": "3b26c0e3-680c-450a-bb5e-c1fa73c87b8b",
   "metadata": {
    "tags": []
   },
   "outputs": [
    {
     "data": {
      "text/plain": [
       "array([[ 273.1000061 ,  273.29998779,  274.        , ...,  277.        ,\n",
       "         278.29998779,  273.8999939 ],\n",
       "       [ 272.8999939 ,  273.1000061 ,  273.29998779, ...,  275.79998779,\n",
       "         277.        ,  278.29998779],\n",
       "       [ 272.79998779,  272.8999939 ,  273.1000061 , ...,  274.20001221,\n",
       "         275.79998779,  277.        ],\n",
       "       ...,\n",
       "       [2175.60009766, 2174.80004883, 2158.10009766, ..., 2156.30004883,\n",
       "        2160.69995117, 2157.30004883],\n",
       "       [2190.60009766, 2175.60009766, 2174.80004883, ..., 2157.89990234,\n",
       "        2156.30004883, 2160.69995117],\n",
       "       [2233.10009766, 2190.60009766, 2175.60009766, ..., 2182.39990234,\n",
       "        2157.89990234, 2156.30004883]])"
      ]
     },
     "execution_count": 6,
     "metadata": {},
     "output_type": "execute_result"
    }
   ],
   "source": [
    "shifted_df_as_np = shifted_df.to_numpy()\n",
    "\n",
    "shifted_df_as_np"
   ]
  },
  {
   "cell_type": "code",
   "execution_count": 7,
   "id": "053d754f-bf59-4f57-a3e0-ce8148c3e9fd",
   "metadata": {
    "tags": []
   },
   "outputs": [
    {
     "data": {
      "text/plain": [
       "(5909, 8)"
      ]
     },
     "execution_count": 7,
     "metadata": {},
     "output_type": "execute_result"
    }
   ],
   "source": [
    "shifted_df_as_np.shape"
   ]
  },
  {
   "cell_type": "code",
   "execution_count": 8,
   "id": "737e2d2a-59eb-4dfe-98d4-e80e418d09e0",
   "metadata": {
    "tags": []
   },
   "outputs": [
    {
     "data": {
      "text/plain": [
       "array([[-0.9817998 , -0.98119351, -0.98038809, ..., -0.97727509,\n",
       "        -0.97592614, -0.98049187],\n",
       "       [-0.98200204, -0.98140016, -0.98111447, ..., -0.97852031,\n",
       "        -0.97727509, -0.97592614],\n",
       "       [-0.98210315, -0.98160683, -0.98132199, ..., -0.98018055,\n",
       "        -0.97852031, -0.97727509],\n",
       "       ...,\n",
       "       [ 0.94186047,  0.98367342,  0.97468102, ...,  0.97281317,\n",
       "         0.9773788 ,  0.97385083],\n",
       "       [ 0.9570273 ,  0.98450013,  0.99201001, ...,  0.97447328,\n",
       "         0.97281317,  0.9773788 ],\n",
       "       [ 1.        ,  1.        ,  0.9928402 , ...,  0.99989613,\n",
       "         0.97447328,  0.97281317]])"
      ]
     },
     "execution_count": 8,
     "metadata": {},
     "output_type": "execute_result"
    }
   ],
   "source": [
    "#runs scaler on data\n",
    "from sklearn.preprocessing import MinMaxScaler\n",
    "\n",
    "scaler = MinMaxScaler(feature_range=(-1, 1))\n",
    "shifted_df_as_np = scaler.fit_transform(shifted_df_as_np)\n",
    "\n",
    "shifted_df_as_np"
   ]
  },
  {
   "cell_type": "code",
   "execution_count": 9,
   "id": "312cb918-7a74-4eb6-bdd0-9e70d4103744",
   "metadata": {
    "tags": []
   },
   "outputs": [
    {
     "data": {
      "text/plain": [
       "((5909, 7), (5909,))"
      ]
     },
     "execution_count": 9,
     "metadata": {},
     "output_type": "execute_result"
    }
   ],
   "source": [
    "#changes df into x and y\n",
    "X = shifted_df_as_np[:, 1:]\n",
    "y = shifted_df_as_np[:, 0]\n",
    "\n",
    "X.shape, y.shape"
   ]
  },
  {
   "cell_type": "code",
   "execution_count": 10,
   "id": "36606079-ad71-43ab-b5a4-e35dd7b23329",
   "metadata": {
    "tags": []
   },
   "outputs": [
    {
     "data": {
      "text/plain": [
       "array([[-0.98049187, -0.97592614, -0.97727509, ..., -0.98018055,\n",
       "        -0.98038809, -0.98119351],\n",
       "       [-0.97592614, -0.97727509, -0.97852031, ..., -0.98038809,\n",
       "        -0.98111447, -0.98140016],\n",
       "       [-0.97727509, -0.97852031, -0.98018055, ..., -0.98111447,\n",
       "        -0.98132199, -0.98160683],\n",
       "       ...,\n",
       "       [ 0.97385083,  0.9773788 ,  0.97281317, ...,  0.99989613,\n",
       "         0.97468102,  0.98367342],\n",
       "       [ 0.9773788 ,  0.97281317,  0.97447328, ...,  0.97468102,\n",
       "         0.99201001,  0.98450013],\n",
       "       [ 0.97281317,  0.97447328,  0.99989613, ...,  0.99201001,\n",
       "         0.9928402 ,  1.        ]])"
      ]
     },
     "execution_count": 10,
     "metadata": {},
     "output_type": "execute_result"
    }
   ],
   "source": [
    "X = dc(np.flip(X, axis=1))\n",
    "X"
   ]
  },
  {
   "cell_type": "code",
   "execution_count": 11,
   "id": "b27f4480-95d6-443f-b86c-eb077cc32bae",
   "metadata": {
    "tags": []
   },
   "outputs": [
    {
     "data": {
      "text/plain": [
       "5613"
      ]
     },
     "execution_count": 11,
     "metadata": {},
     "output_type": "execute_result"
    }
   ],
   "source": [
    "#use first 95% as train and last 5% as test\n",
    "split_index = int(len(X) * 0.95)\n",
    "\n",
    "split_index"
   ]
  },
  {
   "cell_type": "code",
   "execution_count": 12,
   "id": "f99b6a58-b72f-405d-ad6b-d08c5f03af89",
   "metadata": {
    "tags": []
   },
   "outputs": [
    {
     "data": {
      "text/plain": [
       "((5613, 7), (296, 7), (5613,), (296,))"
      ]
     },
     "execution_count": 12,
     "metadata": {},
     "output_type": "execute_result"
    }
   ],
   "source": [
    "# splitting into train and test\n",
    "X_train = X[:split_index]\n",
    "X_test = X[split_index:]\n",
    "\n",
    "y_train = y[:split_index]\n",
    "y_test = y[split_index:]\n",
    "\n",
    "X_train.shape, X_test.shape, y_train.shape, y_test.shape"
   ]
  },
  {
   "cell_type": "code",
   "execution_count": 13,
   "id": "6dc232db-0a94-4602-b129-201ee41884bf",
   "metadata": {
    "tags": []
   },
   "outputs": [
    {
     "data": {
      "text/plain": [
       "((5613, 7, 1), (296, 7, 1), (5613, 1), (296, 1))"
      ]
     },
     "execution_count": 13,
     "metadata": {},
     "output_type": "execute_result"
    }
   ],
   "source": [
    "#PyTorch requires an extra dimension at end\n",
    "X_train = X_train.reshape((-1, lookback, 1))\n",
    "X_test = X_test.reshape((-1, lookback, 1))\n",
    "\n",
    "y_train = y_train.reshape((-1, 1))\n",
    "y_test = y_test.reshape((-1, 1))\n",
    "\n",
    "X_train.shape, X_test.shape, y_train.shape, y_test.shape"
   ]
  },
  {
   "cell_type": "code",
   "execution_count": 14,
   "id": "68651751-8738-4dd3-b26f-4e240fe214fb",
   "metadata": {
    "tags": []
   },
   "outputs": [
    {
     "data": {
      "text/plain": [
       "(torch.Size([5613, 7, 1]),\n",
       " torch.Size([296, 7, 1]),\n",
       " torch.Size([5613, 1]),\n",
       " torch.Size([296, 1]))"
      ]
     },
     "execution_count": 14,
     "metadata": {},
     "output_type": "execute_result"
    }
   ],
   "source": [
    "#wrapping in tensors for PyTorch\n",
    "X_train = torch.tensor(X_train).float()\n",
    "y_train = torch.tensor(y_train).float()\n",
    "X_test = torch.tensor(X_test).float()\n",
    "y_test = torch.tensor(y_test).float()\n",
    "\n",
    "X_train.shape, X_test.shape, y_train.shape, y_test.shape"
   ]
  },
  {
   "cell_type": "code",
   "execution_count": 15,
   "id": "59deda0e-c07d-4948-ab8d-7676071a132b",
   "metadata": {
    "tags": []
   },
   "outputs": [],
   "source": [
    "#need datasets object for PyTorch\n",
    "#needs to be custom class\n",
    "from torch.utils.data import Dataset\n",
    "\n",
    "class TimeSeriesDataset(Dataset):\n",
    "    def __init__(self, X, y):\n",
    "        self.X = X\n",
    "        self.y = y\n",
    "\n",
    "    def __len__(self):\n",
    "        return len(self.X)\n",
    "\n",
    "    def __getitem__(self, i):\n",
    "        return self.X[i], self.y[i]\n",
    "    \n",
    "train_dataset = TimeSeriesDataset(X_train, y_train)\n",
    "test_dataset = TimeSeriesDataset(X_test, y_test)"
   ]
  },
  {
   "cell_type": "code",
   "execution_count": 16,
   "id": "5167f5f7-30d0-4f8f-8981-953477493711",
   "metadata": {
    "tags": []
   },
   "outputs": [
    {
     "data": {
      "text/plain": [
       "<__main__.TimeSeriesDataset at 0x22d7428f0d0>"
      ]
     },
     "execution_count": 16,
     "metadata": {},
     "output_type": "execute_result"
    }
   ],
   "source": [
    "train_dataset"
   ]
  },
  {
   "cell_type": "code",
   "execution_count": 17,
   "id": "dd573555-5f4d-4bb6-80a2-341908f273e2",
   "metadata": {
    "tags": []
   },
   "outputs": [],
   "source": [
    "# wrap datasets in dataloaders to get batches\n",
    "# used for iteration\n",
    "from torch.utils.data import DataLoader\n",
    "\n",
    "batch_size = 16\n",
    "\n",
    "train_loader = DataLoader(train_dataset, batch_size=batch_size, shuffle=True)\n",
    "test_loader = DataLoader(test_dataset, batch_size=batch_size, shuffle=False)"
   ]
  },
  {
   "cell_type": "code",
   "execution_count": 18,
   "id": "7b863d07-aecb-4379-be26-acb0f9910224",
   "metadata": {
    "tags": []
   },
   "outputs": [
    {
     "name": "stdout",
     "output_type": "stream",
     "text": [
      "torch.Size([16, 7, 1]) torch.Size([16, 1])\n"
     ]
    }
   ],
   "source": [
    "#gives predicted outputs of arrays\n",
    "for _, batch in enumerate(train_loader):\n",
    "    x_batch, y_batch = batch[0].to(device), batch[1].to(device)\n",
    "    print(x_batch.shape, y_batch.shape)\n",
    "    break"
   ]
  },
  {
   "cell_type": "code",
   "execution_count": 19,
   "id": "38e3f457-ccb7-4ece-b7c7-c1fcb6424536",
   "metadata": {
    "tags": []
   },
   "outputs": [
    {
     "data": {
      "text/plain": [
       "LSTM(\n",
       "  (lstm): LSTM(1, 12, batch_first=True)\n",
       "  (fc): Linear(in_features=12, out_features=1, bias=True)\n",
       ")"
      ]
     },
     "execution_count": 19,
     "metadata": {},
     "output_type": "execute_result"
    }
   ],
   "source": [
    "#takes in number of features, dimensions and number of stacked layers (more layers = more complexity in model)\n",
    "class LSTM(nn.Module):\n",
    "    def __init__(self, input_size, hidden_size, num_stacked_layers):\n",
    "        super().__init__()\n",
    "        self.hidden_size = hidden_size\n",
    "        self.num_stacked_layers = num_stacked_layers\n",
    "        \n",
    "        #initally use 1 layer to prevent overfitting in training data\n",
    "        self.lstm = nn.LSTM(input_size, hidden_size, num_stacked_layers, \n",
    "                            batch_first=True)\n",
    "        \n",
    "        #maps hidden layer to 1. Needed to predict final closing value\n",
    "        self.fc = nn.Linear(hidden_size, 1)\n",
    "\n",
    "    def forward(self, x):\n",
    "        batch_size = x.size(0)\n",
    "        #initialise LSTM with default h0 and c0\n",
    "        h0 = torch.zeros(self.num_stacked_layers, batch_size, self.hidden_size).to(device)\n",
    "        c0 = torch.zeros(self.num_stacked_layers, batch_size, self.hidden_size).to(device)\n",
    "        \n",
    "        out, _ = self.lstm(x, (h0, c0))\n",
    "        #output is gotten from passing varibles in fully connected layer\n",
    "        out = self.fc(out[:, -1, :])\n",
    "        return out\n",
    "\n",
    "#initial model has 1 input size, 4 hidden sizes and 1 stacked layer\n",
    "#model = LSTM(1, 4, 1)\n",
    "#Attempt 2:  Increase to 8 hidden units and 2 stacked layers\n",
    "#model = LSTM(1, 8, 2)  \n",
    "#Attempt 3:  Increase to 16 hidden units and 4 stacked layers\n",
    "#model = LSTM(1, 16, 4)\n",
    "#Attempt 4: Inrcease to 32 hidden unit and 8 stacked layers <----overfitted\n",
    "#model = LSTM(1, 32, 8)\n",
    "#Attempt 5:  Increase to 24 hidden units and 6 stacked layers\n",
    "#model = LSTM(1, 24, 6)\n",
    "#Attempt 6: 16 hidden units and 1 stacked layer\n",
    "#model = LSTM(1, 16, 1)\n",
    "#Attempt 7: 12 hidden units and 1 stacked layer\n",
    "model = LSTM(1,12,1)\n",
    "model.to(device)\n",
    "model"
   ]
  },
  {
   "cell_type": "code",
   "execution_count": 20,
   "id": "df5de0d6-6408-4ab3-a280-4a51477e3d20",
   "metadata": {},
   "outputs": [],
   "source": [
    "#sets model to training mode\n",
    "def train_one_epoch():\n",
    "    model.train(True)\n",
    "    print(f'Epoch: {epoch + 1}')\n",
    "    running_loss = 0.0\n",
    "    \n",
    "    for batch_index, batch in enumerate(train_loader):\n",
    "        #puts x and y batch onto device we're using \n",
    "        x_batch, y_batch = batch[0].to(device), batch[1].to(device)\n",
    "        \n",
    "        output = model(x_batch)\n",
    "        #comparing model's output to ground truth\n",
    "        #loss is a tensor with a single value\n",
    "        loss = loss_function(output, y_batch)\n",
    "        running_loss += loss.item()\n",
    "        \n",
    "        #zero out gradients \n",
    "        optimizer.zero_grad()\n",
    "        #backwards pass \n",
    "        loss.backward()\n",
    "        optimizer.step()\n",
    "\n",
    "        #every 100 batches get avg loss across batches and print\n",
    "        if batch_index % 100 == 99:  # print every 100 batches\n",
    "            avg_loss_across_batches = running_loss / 100\n",
    "            print('Batch {0}, Loss: {1:.3f}'.format(batch_index+1,\n",
    "                                                    avg_loss_across_batches))\n",
    "            running_loss = 0.0\n",
    "    print()"
   ]
  },
  {
   "cell_type": "code",
   "execution_count": 21,
   "id": "6342d9f3-10e5-4f57-9e9d-9b9397ac0139",
   "metadata": {
    "tags": []
   },
   "outputs": [],
   "source": [
    "#sets model to validate mode\n",
    "def validate_one_epoch():\n",
    "    model.train(False)\n",
    "    running_loss = 0.0\n",
    "    \n",
    "    for batch_index, batch in enumerate(test_loader):\n",
    "        x_batch, y_batch = batch[0].to(device), batch[1].to(device)\n",
    "        \n",
    "        #don't need to calcualte gradient as there's no model updates\n",
    "        with torch.no_grad():\n",
    "            output = model(x_batch)\n",
    "            #compare output to ground truth\n",
    "            loss = loss_function(output, y_batch)\n",
    "            running_loss += loss.item()\n",
    "    #average loss value across all batches\n",
    "    avg_loss_across_batches = running_loss / len(test_loader)\n",
    "    \n",
    "    print('Val Loss: {0:.3f}'.format(avg_loss_across_batches))\n",
    "    print('***************************************************')\n",
    "    print()"
   ]
  },
  {
   "cell_type": "code",
   "execution_count": 22,
   "id": "46cf3fd4-67a2-4349-8a55-5b292099537a",
   "metadata": {
    "tags": []
   },
   "outputs": [
    {
     "name": "stdout",
     "output_type": "stream",
     "text": [
      "Epoch: 1\n",
      "Batch 100, Loss: 0.255\n",
      "Batch 200, Loss: 0.026\n",
      "Batch 300, Loss: 0.003\n",
      "\n",
      "Val Loss: 0.017\n",
      "***************************************************\n",
      "\n",
      "Epoch: 2\n",
      "Batch 100, Loss: 0.002\n",
      "Batch 200, Loss: 0.001\n",
      "Batch 300, Loss: 0.001\n",
      "\n",
      "Val Loss: 0.008\n",
      "***************************************************\n",
      "\n",
      "Epoch: 3\n",
      "Batch 100, Loss: 0.001\n",
      "Batch 200, Loss: 0.001\n",
      "Batch 300, Loss: 0.000\n",
      "\n",
      "Val Loss: 0.003\n",
      "***************************************************\n",
      "\n",
      "Epoch: 4\n",
      "Batch 100, Loss: 0.000\n",
      "Batch 200, Loss: 0.000\n",
      "Batch 300, Loss: 0.000\n",
      "\n",
      "Val Loss: 0.002\n",
      "***************************************************\n",
      "\n",
      "Epoch: 5\n",
      "Batch 100, Loss: 0.000\n",
      "Batch 200, Loss: 0.000\n",
      "Batch 300, Loss: 0.000\n",
      "\n",
      "Val Loss: 0.001\n",
      "***************************************************\n",
      "\n",
      "Epoch: 6\n",
      "Batch 100, Loss: 0.000\n",
      "Batch 200, Loss: 0.000\n",
      "Batch 300, Loss: 0.000\n",
      "\n",
      "Val Loss: 0.001\n",
      "***************************************************\n",
      "\n",
      "Epoch: 7\n",
      "Batch 100, Loss: 0.000\n",
      "Batch 200, Loss: 0.000\n",
      "Batch 300, Loss: 0.000\n",
      "\n",
      "Val Loss: 0.001\n",
      "***************************************************\n",
      "\n",
      "Epoch: 8\n",
      "Batch 100, Loss: 0.000\n",
      "Batch 200, Loss: 0.000\n",
      "Batch 300, Loss: 0.000\n",
      "\n",
      "Val Loss: 0.001\n",
      "***************************************************\n",
      "\n",
      "Epoch: 9\n",
      "Batch 100, Loss: 0.000\n",
      "Batch 200, Loss: 0.000\n",
      "Batch 300, Loss: 0.000\n",
      "\n",
      "Val Loss: 0.001\n",
      "***************************************************\n",
      "\n",
      "Epoch: 10\n",
      "Batch 100, Loss: 0.000\n",
      "Batch 200, Loss: 0.000\n",
      "Batch 300, Loss: 0.000\n",
      "\n",
      "Val Loss: 0.002\n",
      "***************************************************\n",
      "\n"
     ]
    }
   ],
   "source": [
    "learning_rate = 0.001\n",
    "#10 epochs is all that is necessary as any more will cause overfitting\n",
    "num_epochs = 10\n",
    "#trying to minimise mean squared error\n",
    "loss_function = nn.MSELoss()\n",
    "optimizer = torch.optim.Adam(model.parameters(), lr=learning_rate)\n",
    "\n",
    "for epoch in range(num_epochs):\n",
    "    train_one_epoch()\n",
    "    validate_one_epoch()"
   ]
  },
  {
   "cell_type": "code",
   "execution_count": 23,
   "id": "d8d0dae6-1795-4674-8823-288bcc515c92",
   "metadata": {
    "tags": []
   },
   "outputs": [
    {
     "data": {
      "image/png": "[encoded data removed]",
      "text/plain": [
       "<Figure size 640x480 with 1 Axes>"
      ]
     },
     "metadata": {},
     "output_type": "display_data"
    }
   ],
   "source": [
    "#no gradients for predictions\n",
    "with torch.no_grad():\n",
    "    #makes sure it on the device and is put to the CPU (numpy doesn't use GPU)\n",
    "    predicted = model(X_train.to(device)).to('cpu').numpy()\n",
    "\n",
    "plt.plot(y_train, label='Actual Close')\n",
    "plt.plot(predicted, label='Predicted Close')\n",
    "plt.xlabel('Day')\n",
    "plt.ylabel('Close')\n",
    "plt.legend()\n",
    "plt.show()"
   ]
  },
  {
   "cell_type": "code",
   "execution_count": 24,
   "id": "3e3fbb5e-658d-4589-a9d6-639db59ad2b9",
   "metadata": {
    "tags": []
   },
   "outputs": [
    {
     "data": {
      "text/plain": [
       "array([ 284.84036428,  284.39918999,  283.8585098 , ..., 1894.46864885,\n",
       "       1898.91475901, 1903.45648444])"
      ]
     },
     "execution_count": 24,
     "metadata": {},
     "output_type": "execute_result"
    }
   ],
   "source": [
    "#above data still includes scalar begins at -1\n",
    "#do opposite of earlier transform\n",
    "train_predictions = predicted.flatten()\n",
    "\n",
    "#lookback+1 is the length of the whole dataset\n",
    "dummies = np.zeros((X_train.shape[0], lookback+1))\n",
    "dummies[:, 0] = train_predictions\n",
    "dummies = scaler.inverse_transform(dummies)\n",
    "\n",
    "#return in right scale\n",
    "train_predictions = dc(dummies[:, 0])\n",
    "train_predictions"
   ]
  },
  {
   "cell_type": "code",
   "execution_count": 25,
   "id": "44214f13-964a-41b8-9f16-65eb6cdd896a",
   "metadata": {
    "tags": []
   },
   "outputs": [
    {
     "data": {
      "text/plain": [
       "array([ 273.10002321,  272.90000926,  272.79997282, ..., 1927.09998371,\n",
       "       1933.9000452 , 1941.19993522])"
      ]
     },
     "execution_count": 25,
     "metadata": {},
     "output_type": "execute_result"
    }
   ],
   "source": [
    "#first column is no y_train.flatter()\n",
    "dummies = np.zeros((X_train.shape[0], lookback+1))\n",
    "dummies[:, 0] = y_train.flatten()\n",
    "dummies = scaler.inverse_transform(dummies)\n",
    "\n",
    "new_y_train = dc(dummies[:, 0])\n",
    "new_y_train"
   ]
  },
  {
   "cell_type": "code",
   "execution_count": 26,
   "id": "3d82eb6b-eeb1-4e61-ad3e-161829f8b8f1",
   "metadata": {
    "tags": []
   },
   "outputs": [
    {
     "data": {
      "image/png": "[encoded data removed]",
      "text/plain": [
       "<Figure size 640x480 with 1 Axes>"
      ]
     },
     "metadata": {},
     "output_type": "display_data"
    }
   ],
   "source": [
    "#same graph as earlier with different y_train and predictions\n",
    "plt.plot(new_y_train, label='Actual Close')\n",
    "plt.plot(train_predictions, label='Predicted Close')\n",
    "plt.xlabel('Day')\n",
    "plt.ylabel('Close')\n",
    "plt.legend()\n",
    "plt.show()\n"
   ]
  },
  {
   "cell_type": "code",
   "execution_count": 27,
   "id": "a1ca2cd9-e6cb-4802-bc76-0b8327bb0888",
   "metadata": {
    "tags": []
   },
   "outputs": [
    {
     "data": {
      "text/plain": [
       "array([1908.36670004, 1909.31837264, 1909.49816708, 1907.6116813 ,\n",
       "       1907.44067026, 1906.90488283, 1903.65443517, 1887.70454626,\n",
       "       1875.26925547, 1866.68575105, 1862.08165758, 1856.58354364,\n",
       "       1852.26211061, 1846.80178297, 1843.74327324, 1836.16325758,\n",
       "       1832.02845708, 1828.70137572, 1824.77106928, 1821.72711996,\n",
       "       1816.03040684, 1809.07413052, 1805.95401909, 1806.95697731,\n",
       "       1810.82662523, 1813.44372488, 1819.30632047, 1824.12929156,\n",
       "       1818.76746769, 1813.05230354, 1812.26993246, 1820.52102349,\n",
       "       1840.92763337, 1856.55689869, 1873.81398159, 1885.00279586,\n",
       "       1904.77888727, 1921.53584689, 1923.58603404, 1925.34825534,\n",
       "       1937.17177345, 1943.37002462, 1941.06240721, 1942.58093336,\n",
       "       1942.10710132, 1945.51859764, 1945.29329458, 1947.90838996,\n",
       "       1959.39295134, 1968.9165154 , 1973.93166022, 1972.25632974,\n",
       "       1973.50640216, 1975.58871651, 1983.72745075, 1981.00424291,\n",
       "       1976.99170262, 1976.664182  , 1973.80727784, 1973.97351401,\n",
       "       1967.71702122, 1964.57338914, 1964.08092923, 1962.04341611,\n",
       "       1961.29983347, 1961.13300781, 1959.39849254, 1965.639187  ,\n",
       "       1973.92588322, 1985.05934437, 1987.11548537, 1990.11634298,\n",
       "       1994.11249545, 1995.6602603 , 1992.49257703, 1989.47144096,\n",
       "       1987.54699202, 1979.89953872, 1971.69313103, 1959.34850379,\n",
       "       1954.87616133, 1951.25197703, 1948.46899491, 1944.53638947,\n",
       "       1937.4684048 , 1932.05052043, 1931.40538262, 1932.33388826,\n",
       "       1937.06495786, 1935.25416259, 1935.13826887, 1936.84059798,\n",
       "       1932.5461636 , 1933.60665604, 1934.22114038, 1933.1276365 ,\n",
       "       1930.12465672, 1930.0199633 , 1930.52444881, 1931.52941131,\n",
       "       1926.57486605, 1921.95857015, 1913.25758038, 1907.82401558,\n",
       "       1904.69335228, 1900.39667783, 1897.04813904, 1894.29439562,\n",
       "       1895.25856541, 1896.74066107, 1897.45146807, 1895.30996893,\n",
       "       1897.88091151, 1899.71558113, 1902.7595894 , 1911.12639731,\n",
       "       1918.73288106, 1924.93113224, 1927.714527  , 1934.96531251,\n",
       "       1940.540237  , 1942.38038887, 1942.13339258, 1940.63137215,\n",
       "       1939.58585275, 1940.35997097, 1935.12188104, 1934.51706434,\n",
       "       1936.78648281, 1931.81507814, 1926.9155323 , 1921.52458763,\n",
       "       1919.02149535, 1916.20172905, 1911.70274165, 1906.12428022,\n",
       "       1902.00999396, 1898.51184262, 1895.45038544, 1891.1880193 ,\n",
       "       1886.52362101, 1880.07636928, 1875.58416101, 1874.08278902,\n",
       "       1874.19597109, 1880.34293664, 1885.81033816, 1888.53979459,\n",
       "       1892.13226433, 1899.118192  , 1906.3254142 , 1910.35646447,\n",
       "       1913.29595617, 1911.98003773, 1908.4868381 , 1904.96675773,\n",
       "       1902.02980083, 1901.06610263, 1897.86010251, 1894.91954973,\n",
       "       1893.09861523, 1895.24323867, 1899.16794495, 1902.67057642,\n",
       "       1908.77391971, 1907.31528574, 1907.07960766, 1904.28477679,\n",
       "       1897.58021268, 1884.74318448, 1871.40037388, 1857.59098198,\n",
       "       1842.79761344, 1830.12039596, 1819.57147305, 1811.98226136,\n",
       "       1810.87201596, 1816.23319139, 1824.57164483, 1834.82098894,\n",
       "       1841.95947661, 1861.79699288, 1875.79985538, 1886.34382658,\n",
       "       1901.48157516, 1915.83883903, 1929.70753362, 1938.44177062,\n",
       "       1943.34337968, 1948.68863887, 1952.96149793, 1955.7535582 ,\n",
       "       1959.3420194 , 1959.35935041, 1957.76725591, 1957.7975557 ,\n",
       "       1958.96545321, 1957.64086927, 1953.09637323, 1945.61904673,\n",
       "       1942.67867079, 1933.06403053, 1928.38000222, 1928.95481389,\n",
       "       1929.95606259, 1937.12661851, 1942.84643964, 1946.23966177,\n",
       "       1954.05641659, 1957.85485412, 1960.25631834, 1964.29609306,\n",
       "       1969.17294354, 1979.4249993 , 1989.29412238, 1994.62322955,\n",
       "       2005.85772929, 2003.93717099, 2000.19638557, 1999.02436162,\n",
       "       1997.31908506, 1988.89975359, 1977.66714022, 1968.08934308,\n",
       "       1962.57996988, 1969.79461965, 1974.29997355, 1979.77928277,\n",
       "       1987.45774324, 1992.63039978, 1997.1517878 , 2004.09763015,\n",
       "       2008.84962665, 2017.86210292, 2023.03169411, 2024.16457592,\n",
       "       2025.10705247, 2018.73643443, 2014.68793526, 2011.34010385,\n",
       "       2004.98610943, 2000.3180563 , 1996.02491879, 1991.19051159,\n",
       "       1995.3313249 , 1994.24513069, 1988.30790567, 1987.28290052,\n",
       "       1988.23433732, 1987.71558615, 1988.36567569, 1986.28006019,\n",
       "       1985.72782599, 1985.53859972, 1986.94748073, 1989.50327342,\n",
       "       1995.60036812, 2001.53700365, 2002.59926456, 2000.67953155,\n",
       "       2000.6231763 , 2000.33597679, 1999.29823866, 1996.29113246,\n",
       "       1992.80488881, 1984.62111753, 1977.4572818 , 1974.29207438,\n",
       "       1974.37118394, 1978.77632454, 1981.81691378, 1983.90370825,\n",
       "       1990.02237828, 1992.37397165, 1994.94120044, 1996.35644794,\n",
       "       1999.91979688, 2011.92381681, 2028.23936635, 2044.18660255,\n",
       "       2060.08314262, 2073.37390125, 2087.08213667, 2097.47590582,\n",
       "       2099.8614538 , 2103.59787699, 2103.38165207, 2101.52876722,\n",
       "       2100.41321641, 2098.27301415, 2096.97094871, 2101.26667998,\n",
       "       2099.72551742, 2102.13924302, 2104.22627329, 2108.68871232])"
      ]
     },
     "execution_count": 27,
     "metadata": {},
     "output_type": "execute_result"
    }
   ],
   "source": [
    "#convert to vector of predictions \n",
    "test_predictions = model(X_test.to(device)).detach().cpu().numpy().flatten()\n",
    "\n",
    "dummies = np.zeros((X_test.shape[0], lookback+1))\n",
    "dummies[:, 0] = test_predictions\n",
    "dummies = scaler.inverse_transform(dummies)\n",
    "\n",
    "test_predictions = dc(dummies[:, 0])\n",
    "test_predictions"
   ]
  },
  {
   "cell_type": "code",
   "execution_count": 28,
   "id": "70635d39-dab3-4aea-8c8d-081a5cd65bb2",
   "metadata": {
    "tags": []
   },
   "outputs": [
    {
     "data": {
      "text/plain": [
       "array([1929.09994632, 1928.59999988, 1922.90004457, 1929.49997421,\n",
       "       1927.800062  , 1916.30005598, 1862.9000465 , 1866.19995237,\n",
       "       1871.69995268, 1877.40002589, 1866.19995237, 1862.800069  ,\n",
       "       1851.90004587, 1853.99998597, 1834.19996126, 1841.99997457,\n",
       "       1840.40003985, 1832.99999549, 1831.99998471, 1818.00001071,\n",
       "       1808.80007663, 1816.99999993, 1828.90003384, 1837.69994002,\n",
       "       1833.50000088, 1847.69992988, 1847.90000277, 1813.90004906,\n",
       "       1812.69996539, 1829.30006173, 1862.00001322, 1911.69997105,\n",
       "       1906.19997073, 1926.59997833, 1918.99997896, 1969.80004296,\n",
       "       1979.19993203, 1938.00000685, 1946.80003093, 1993.80006577,\n",
       "       1982.09998686, 1952.40000874, 1972.40004739, 1966.0999913 ,\n",
       "       1980.3000382 , 1968.99998718, 1983.90005341, 2022.19992377,\n",
       "       2020.90003945, 2011.90000142, 1989.10000333, 2004.80006639,\n",
       "       2010.90004959, 2041.30004704, 2002.19994406, 1994.19997576,\n",
       "       2007.40001188, 1995.19992758, 2007.59996688, 1979.49998242,\n",
       "       1989.10000333, 1994.00002076, 1985.69994312, 1989.90000016,\n",
       "       1990.09995516, 1983.40004802, 2014.30005086, 2028.59995736,\n",
       "       2048.00001313, 2017.40000173, 2026.30006226, 2036.19995672,\n",
       "       2030.50000141, 2014.69996085, 2014.50000586, 2017.99998462,\n",
       "       1988.40004295, 1980.69994819, 1956.50002934, 1978.69992664,\n",
       "       1974.80003789, 1972.40004739, 1962.80002648, 1943.09997927,\n",
       "       1944.09999004, 1957.99998655, 1963.90001476, 1978.00002521,\n",
       "       1952.40000874, 1957.99998655, 1965.50000842, 1942.69995138,\n",
       "       1963.59996436, 1962.1999257 , 1955.30006357, 1944.59999543,\n",
       "       1955.30006357, 1957.80003156, 1958.40001444, 1935.49997991,\n",
       "       1933.30006231, 1912.69992287, 1919.09995646, 1923.6999235 ,\n",
       "       1913.99998404, 1912.30007183, 1909.19994411, 1921.09997801,\n",
       "       1921.6999609 , 1919.59996185, 1908.69993872, 1926.19995044,\n",
       "       1924.99998467, 1931.30004076, 1956.19997895, 1959.19995232,\n",
       "       1960.0999856 , 1952.40000874, 1977.19996943, 1977.50001982,\n",
       "       1968.3000268 , 1964.30004265, 1960.30005849, 1962.0999482 ,\n",
       "       1968.90000968, 1945.40005121, 1960.40003599, 1970.50000334,\n",
       "       1940.69992983, 1937.40002396, 1932.00000114, 1939.60000051,\n",
       "       1933.50001731, 1924.09995139, 1915.4000227 , 1914.40001193,\n",
       "       1912.89999577, 1910.59998277, 1902.49997802, 1896.10000338,\n",
       "       1884.09999198, 1886.09995458, 1893.30004395, 1896.40005377,\n",
       "       1918.49997358, 1918.19992319, 1911.09998816, 1917.90004964,\n",
       "       1936.49999068, 1944.30006294, 1938.19996184, 1939.8000734 ,\n",
       "       1926.19995044, 1918.10000464, 1917.50002175, 1918.39999608,\n",
       "       1923.30007246, 1911.30006105, 1909.09996661, 1909.99999989,\n",
       "       1923.6999235 , 1931.49999576, 1932.00000114, 1945.59994726,\n",
       "       1919.19993396, 1925.40001256, 1916.59998847, 1900.40003792,\n",
       "       1871.59997519, 1860.40001956, 1848.09995777, 1830.00002211,\n",
       "       1824.5999993 , 1818.5000161 , 1816.59997204, 1830.19997711,\n",
       "       1849.49999643, 1861.00000245, 1872.80005885, 1869.30002114,\n",
       "       1927.40003411, 1921.09997801, 1922.69997167, 1955.30006357,\n",
       "       1968.40000429, 1982.50001475, 1976.30005405, 1974.99999288,\n",
       "       1984.09994946, 1987.19995928, 1988.59999795, 1996.19993836,\n",
       "       1985.19993773, 1978.80002204, 1985.59996562, 1991.49999382,\n",
       "       1981.59998147, 1966.80006958, 1951.49997546, 1964.19994725,\n",
       "       1932.59998403, 1945.50002871, 1961.80007466, 1960.0999856 ,\n",
       "       1983.90005341, 1981.59998147, 1977.69997482, 1999.30006608,\n",
       "       1991.40001633, 1991.49999382, 2002.19994406, 2011.80002392,\n",
       "       2039.69993548, 2047.09997985, 2038.10000077, 2071.00002516,\n",
       "       2024.09996782, 2018.49999001, 2030.50000141, 2029.90001853,\n",
       "       1998.30005531, 1978.00002521, 1977.80007021, 1982.30005975,\n",
       "       2030.19995102, 2021.09999444, 2026.30006226, 2038.40005117,\n",
       "       2034.49998556, 2039.0999526 , 2057.1000876 , 2058.19995798,\n",
       "       2081.89993039, 2073.89990314, 2062.39989713, 2064.39991868,\n",
       "       2034.19993517, 2042.30005782, 2042.40003532, 2026.59999476,\n",
       "       2026.40003976, 2021.69997733, 2014.30005086, 2046.69995196,\n",
       "       2026.00001187, 2002.59997195, 2018.59996751, 2026.50001726,\n",
       "       2019.80005117, 2023.69993993, 2013.90002297, 2016.89999635,\n",
       "       2016.8000778 , 2025.19995609, 2031.50001219, 2048.39992312,\n",
       "       2053.00000806, 2036.09997922, 2025.69996148, 2034.49998556,\n",
       "       2035.19994595, 2032.19997257, 2023.30002994, 2018.19993962,\n",
       "       1992.90003249, 1990.30002805, 2002.09996656, 2011.49997353,\n",
       "       2027.50002803, 2022.30007811, 2019.69995578, 2038.59994721,\n",
       "       2028.49997986, 2033.99998017, 2033.00002835, 2045.69994119,\n",
       "       2086.89992532, 2117.69995066, 2133.49999122, 2150.30004255,\n",
       "       2158.00001941, 2178.6000999 , 2182.49998866, 2160.39989201,\n",
       "       2175.39987678, 2163.00001434, 2157.30005903, 2160.6999424 ,\n",
       "       2156.30004825, 2157.89992402, 2182.39989326, 2158.10011481,\n",
       "       2174.80007075, 2175.60012653, 2190.60011131, 2233.10009766])"
      ]
     },
     "execution_count": 28,
     "metadata": {},
     "output_type": "execute_result"
    }
   ],
   "source": [
    "#make ground truth proper scale\n",
    "dummies = np.zeros((X_test.shape[0], lookback+1))\n",
    "dummies[:, 0] = y_test.flatten()\n",
    "dummies = scaler.inverse_transform(dummies)\n",
    "\n",
    "new_y_test = dc(dummies[:, 0])\n",
    "new_y_test"
   ]
  },
  {
   "cell_type": "code",
   "execution_count": 29,
   "id": "d1f438e7-08f0-4974-87fa-4262bcf714bc",
   "metadata": {
    "tags": []
   },
   "outputs": [
    {
     "data": {
      "image/png": "[encoded data removed]",
      "text/plain": [
       "<Figure size 640x480 with 1 Axes>"
      ]
     },
     "metadata": {},
     "output_type": "display_data"
    }
   ],
   "source": [
    "#revised graph with more accurate axises \n",
    "plt.plot(new_y_test, label='Actual Close')\n",
    "plt.plot(test_predictions, label='Predicted Close')\n",
    "plt.title(\"Gold Closing Price Prediction using LSTM\")\n",
    "plt.xlabel('Day')\n",
    "plt.ylabel('Close')\n",
    "plt.legend()\n",
    "plt.show()"
   ]
  },
  {
   "cell_type": "code",
   "execution_count": 30,
   "id": "21e570b1-903a-4ca5-b385-499d9a8c6671",
   "metadata": {},
   "outputs": [
    {
     "name": "stdout",
     "output_type": "stream",
     "text": [
      "Root Mean Square Error (RMSE): 39.88588866862859\n",
      "Mean Absolute Error (MAE): 32.43248217206828\n",
      "Mean Absolute Percentage Error (MAPE): 1.617815466525054\n"
     ]
    }
   ],
   "source": [
    "from math import sqrt\n",
    "from sklearn.metrics import mean_squared_error, mean_absolute_error\n",
    "import numpy as np\n",
    "\n",
    "# For each model, replace `actuals` and `predictions` with the corresponding variables\n",
    "actuals = new_y_test\n",
    "predictions = test_predictions\n",
    "\n",
    "# Calculate the RMSE\n",
    "rmse = sqrt(mean_squared_error(actuals, predictions))\n",
    "print(\"Root Mean Square Error (RMSE):\", rmse)\n",
    "\n",
    "# Calculate Mean Absolute Error (MAE)\n",
    "mae = mean_absolute_error(actuals, predictions)\n",
    "print(\"Mean Absolute Error (MAE):\", mae)\n",
    "\n",
    "# Calculate Mean Absolute Percentage Error (MAPE)\n",
    "mape = np.mean(np.abs((actuals - predictions) / actuals)) * 100\n",
    "print(\"Mean Absolute Percentage Error (MAPE):\", mape)\n"
   ]
  },
  {
   "cell_type": "code",
   "execution_count": 31,
   "id": "079e0f53-16c4-43d3-925b-6c2f216f0728",
   "metadata": {
    "tags": []
   },
   "outputs": [
    {
     "name": "stdout",
     "output_type": "stream",
     "text": [
      "Training - RMSE: 0.019, MAE: 0.014, MAPE: 5243.377%\n",
      "Validation - RMSE: 0.040, MAE: 0.033, MAPE: 4.299%\n"
     ]
    }
   ],
   "source": [
    "#comparing the RMSE, MAE and MAPE for Training vs Validation data to check for overfitting\n",
    "from sklearn.metrics import mean_squared_error, mean_absolute_error\n",
    "import numpy as np\n",
    "import torch\n",
    "\n",
    "def evaluate_model(model, data_loader):\n",
    "    model.eval()  # Set the model to evaluation mode\n",
    "    predictions, actuals = [], []\n",
    "    with torch.no_grad():\n",
    "        for inputs, targets in data_loader:\n",
    "            inputs, targets = inputs.to(device), targets.to(device)\n",
    "            outputs = model(inputs)\n",
    "            predictions.extend(outputs.view(-1).tolist())\n",
    "            actuals.extend(targets.view(-1).tolist())\n",
    "\n",
    "    mse = mean_squared_error(actuals, predictions)\n",
    "    rmse = np.sqrt(mse)\n",
    "    mae = mean_absolute_error(actuals, predictions)\n",
    "    mape = np.mean(np.abs((np.array(actuals) - np.array(predictions)) / np.array(actuals))) * 100\n",
    "    \n",
    "    return rmse, mae, mape\n",
    "\n",
    "# Assuming 'train_loader' and 'test_loader' are already defined\n",
    "# Evaluate the model on training data\n",
    "train_rmse, train_mae, train_mape = evaluate_model(model, train_loader)\n",
    "print(f'Training - RMSE: {train_rmse:.3f}, MAE: {train_mae:.3f}, MAPE: {train_mape:.3f}%')\n",
    "\n",
    "# Evaluate the model on test (validation) data\n",
    "val_rmse, val_mae, val_mape = evaluate_model(model, test_loader)  # Use test_loader as validation loader\n",
    "print(f'Validation - RMSE: {val_rmse:.3f}, MAE: {val_mae:.3f}, MAPE: {val_mape:.3f}%')\n"
   ]
  },
  {
   "cell_type": "code",
   "execution_count": 32,
   "id": "979566db-d7be-40bb-bb9f-5685aab8a9a2",
   "metadata": {},
   "outputs": [],
   "source": [
    "# Correcting the approach to reshape and inverse transform the prediction\n",
    "latest_input = shifted_df_as_np[-1, 1:].reshape(1, lookback, 1)  # Reshape for LSTM: [1, lookback, 1]\n",
    "\n",
    "# Convert to PyTorch tensor\n",
    "latest_input_tensor = torch.tensor(latest_input).float().to(device)\n",
    "\n",
    "# Make the prediction\n",
    "model.eval()  # Ensure the model is in evaluation mode\n",
    "with torch.no_grad():\n",
    "    prediction_scaled = model(latest_input_tensor).cpu().numpy()\n",
    "\n",
    "# Prepare the data for inverse transformation correctly\n",
    "prediction_scaled_expanded = np.expand_dims(prediction_scaled.flatten(), axis=0)\n",
    "dummy_features = np.zeros((1, lookback))\n",
    "combined_prediction = np.concatenate((prediction_scaled_expanded, dummy_features), axis=1)\n",
    "\n",
    "# Inverse transform the prediction to get it back into the original scale\n",
    "next_day_price = scaler.inverse_transform(combined_prediction)[0, 0]\n",
    "\n",
    "next_day_price = f\"{next_day_price:.2f}\""
   ]
  },
  {
   "cell_type": "code",
   "execution_count": 33,
   "id": "42e7110d-28c2-4934-a405-4d254ac54c86",
   "metadata": {},
   "outputs": [
    {
     "name": "stdout",
     "output_type": "stream",
     "text": [
      "Predicted Gold price for tomorrow: 2102.78\n"
     ]
    },
    {
     "ename": "FileNotFoundError",
     "evalue": "[Errno 2] No such file or directory: 'C:\\\\Users\\\\15105006\\\\Desktop\\\\ML_Project\\\\models\\\\models\\\\LSTM_Gold.pkl'",
     "output_type": "error",
     "traceback": [
      "\u001b[1;31m---------------------------------------------------------------------------\u001b[0m",
      "\u001b[1;31mFileNotFoundError\u001b[0m                         Traceback (most recent call last)",
      "Cell \u001b[1;32mIn[33], line 12\u001b[0m\n\u001b[0;32m      9\u001b[0m \u001b[38;5;66;03m# Assuming next_day_price is defined somewhere in your code\u001b[39;00m\n\u001b[0;32m     10\u001b[0m \u001b[38;5;28mprint\u001b[39m(\u001b[38;5;124mf\u001b[39m\u001b[38;5;124m'\u001b[39m\u001b[38;5;124mPredicted Gold price for tomorrow: \u001b[39m\u001b[38;5;132;01m{\u001b[39;00mnext_day_price\u001b[38;5;132;01m}\u001b[39;00m\u001b[38;5;124m'\u001b[39m)\n\u001b[1;32m---> 12\u001b[0m \u001b[38;5;28;01mwith\u001b[39;00m \u001b[38;5;28;43mopen\u001b[39;49m\u001b[43m(\u001b[49m\u001b[43mmodel_path\u001b[49m\u001b[43m,\u001b[49m\u001b[43m \u001b[49m\u001b[38;5;124;43m'\u001b[39;49m\u001b[38;5;124;43mwb\u001b[39;49m\u001b[38;5;124;43m'\u001b[39;49m\u001b[43m)\u001b[49m \u001b[38;5;28;01mas\u001b[39;00m pkl:\n\u001b[0;32m     13\u001b[0m     pickle\u001b[38;5;241m.\u001b[39mdump(next_day_price, pkl)\n",
      "File \u001b[1;32m~\\AppData\\Roaming\\Python\\Python311\\site-packages\\IPython\\core\\interactiveshell.py:308\u001b[0m, in \u001b[0;36m_modified_open\u001b[1;34m(file, *args, **kwargs)\u001b[0m\n\u001b[0;32m    301\u001b[0m \u001b[38;5;28;01mif\u001b[39;00m file \u001b[38;5;129;01min\u001b[39;00m {\u001b[38;5;241m0\u001b[39m, \u001b[38;5;241m1\u001b[39m, \u001b[38;5;241m2\u001b[39m}:\n\u001b[0;32m    302\u001b[0m     \u001b[38;5;28;01mraise\u001b[39;00m \u001b[38;5;167;01mValueError\u001b[39;00m(\n\u001b[0;32m    303\u001b[0m         \u001b[38;5;124mf\u001b[39m\u001b[38;5;124m\"\u001b[39m\u001b[38;5;124mIPython won\u001b[39m\u001b[38;5;124m'\u001b[39m\u001b[38;5;124mt let you open fd=\u001b[39m\u001b[38;5;132;01m{\u001b[39;00mfile\u001b[38;5;132;01m}\u001b[39;00m\u001b[38;5;124m by default \u001b[39m\u001b[38;5;124m\"\u001b[39m\n\u001b[0;32m    304\u001b[0m         \u001b[38;5;124m\"\u001b[39m\u001b[38;5;124mas it is likely to crash IPython. If you know what you are doing, \u001b[39m\u001b[38;5;124m\"\u001b[39m\n\u001b[0;32m    305\u001b[0m         \u001b[38;5;124m\"\u001b[39m\u001b[38;5;124myou can use builtins\u001b[39m\u001b[38;5;124m'\u001b[39m\u001b[38;5;124m open.\u001b[39m\u001b[38;5;124m\"\u001b[39m\n\u001b[0;32m    306\u001b[0m     )\n\u001b[1;32m--> 308\u001b[0m \u001b[38;5;28;01mreturn\u001b[39;00m \u001b[43mio_open\u001b[49m\u001b[43m(\u001b[49m\u001b[43mfile\u001b[49m\u001b[43m,\u001b[49m\u001b[43m \u001b[49m\u001b[38;5;241;43m*\u001b[39;49m\u001b[43margs\u001b[49m\u001b[43m,\u001b[49m\u001b[43m \u001b[49m\u001b[38;5;241;43m*\u001b[39;49m\u001b[38;5;241;43m*\u001b[39;49m\u001b[43mkwargs\u001b[49m\u001b[43m)\u001b[49m\n",
      "\u001b[1;31mFileNotFoundError\u001b[0m: [Errno 2] No such file or directory: 'C:\\\\Users\\\\15105006\\\\Desktop\\\\ML_Project\\\\models\\\\models\\\\LSTM_Gold.pkl'"
     ]
    }
   ],
   "source": [
    "import os\n",
    "import pickle\n",
    "\n",
    "model_name = \"LSTM_Gold.pkl\"\n",
    "# If the models directory is directly accessible from the current working directory\n",
    "models_dir = os.path.join(os.getcwd(), 'models')\n",
    "model_path = os.path.join(models_dir, model_name)\n",
    "\n",
    "# Assuming next_day_price is defined somewhere in your code\n",
    "print(f'Predicted Gold price for tomorrow: {next_day_price}')\n",
    "\n",
    "with open(model_path, 'wb') as pkl:\n",
    "    pickle.dump(next_day_price, pkl)"
   ]
  },
  {
   "cell_type": "code",
   "execution_count": null,
   "id": "e847c073-e9b3-4950-a9ea-33a6ce4940fb",
   "metadata": {},
   "outputs": [],
   "source": [
    "####does not work\n",
    "def predict_next_7_days(model, scaler, last_7_days, N=7):\n",
    "    model.eval()  # Ensure the model is in evaluation mode\n",
    "    current_input = last_7_days\n",
    "    \n",
    "    for _ in range(N):\n",
    "        # Convert current input to tensor\n",
    "        current_input_tensor = torch.tensor(current_input).float().to(device)\n",
    "        \n",
    "        with torch.no_grad():\n",
    "            # Predict the next day\n",
    "            predicted_price_scaled = model(current_input_tensor).cpu().numpy()\n",
    "            # Assuming the output is 2D, we reshape it to fit our expected input shape for the next step\n",
    "            next_day_price_scaled = predicted_price_scaled.reshape(1, 1, -1)  # Adjust this line if needed\n",
    "            \n",
    "            # Prepare for next day prediction by updating the input\n",
    "            current_input = np.append(current_input[:, 1:, :], next_day_price_scaled, axis=1)\n",
    "    \n",
    "    # The last prediction is the day we're interested in, reverse scaling\n",
    "    last_prediction_scaled = current_input[0, -1, :].reshape(1, -1)\n",
    "    dummy_array = np.zeros((1, scaler.n_features_in_))\n",
    "    dummy_array[:, 0] = last_prediction_scaled  # Use the first feature assuming it's the 'Close' price\n",
    "    \n",
    "    # Inverse transform to get the original scale\n",
    "    last_prediction = scaler.inverse_transform(dummy_array)[:, 0]\n",
    "\n",
    "    return last_prediction[0]\n",
    "\n",
    "# Let's ensure that last_7_days_scaled is correctly shaped as (1, 7, 1) before prediction\n",
    "last_7_days_scaled = last_7_days_scaled.reshape(1, -1, 1)\n",
    "\n",
    "# Now, you can call your predict_next_N_days function again with this correctly shaped input\n",
    "price_in_7_days = predict_next_7_days(model, scaler, last_7_days_scaled, N=7)\n",
    "print(f'Predicted gold price in 7 days: {price_in_7_days}')\n",
    "\n",
    "\n"
   ]
  },
  {
   "cell_type": "code",
   "execution_count": null,
   "id": "4bce4959-a905-4581-a87e-2e6d8a37c8cf",
   "metadata": {
    "tags": []
   },
   "outputs": [],
   "source": [
    "####does not work\n",
    "import numpy as np\n",
    "import torch\n",
    "\n",
    "def predict_price_in_N_days(model, scaler, last_N_days_scaled, N=30):\n",
    "    model.eval()  # Set the model to evaluation mode\n",
    "    current_input = last_N_days_scaled  # Starting input\n",
    "\n",
    "    with torch.no_grad():\n",
    "        for _ in range(N):\n",
    "            # Predict the next day\n",
    "            current_input_tensor = torch.tensor(current_input).float().to(device)\n",
    "            predicted_price_scaled = model(current_input_tensor).cpu().numpy()\n",
    "            \n",
    "            # Prepare the input for the next prediction\n",
    "            next_input_scaled = np.append(current_input[:, :, :], predicted_price_scaled.reshape(1, 1, 1), axis=1)\n",
    "            current_input = next_input_scaled\n",
    "\n",
    "    # Last prediction is the price after N days\n",
    "    predicted_price_scaled = predicted_price_scaled[0, 0]  # Extract the predicted price\n",
    "    dummy_array = np.zeros((1, 8))  # Adjust the size based on your scaler's expected feature input\n",
    "    dummy_array[:, 0] = predicted_price_scaled\n",
    "\n",
    "    predicted_price = scaler.inverse_transform(dummy_array)[:, 0]\n",
    "\n",
    "    return predicted_price.item()\n",
    "\n",
    "# Assuming last_7_days_scaled is defined and shaped correctly as per your LSTM model's input requirements\n",
    "# Predict the gold price exactly 30 days into the future\n",
    "predicted_price_in_30_days = predict_price_in_N_days(model, scaler, last_7_days_scaled, N=30)\n",
    "\n",
    "# Display the predicted price\n",
    "print(f'Predicted gold price in 30 days: {predicted_price_in_30_days}')"
   ]
  },
  {
   "cell_type": "code",
   "execution_count": null,
   "id": "aa2f96bd-b672-488e-9c62-08b9a5ef642e",
   "metadata": {},
   "outputs": [],
   "source": []
  },
  {
   "cell_type": "code",
   "execution_count": null,
   "id": "e5e0f5cd-9548-4a4c-8fb5-ce9366b67572",
   "metadata": {},
   "outputs": [],
   "source": []
  }
 ],
 "metadata": {
  "kernelspec": {
   "display_name": "Python 3 (ipykernel)",
   "language": "python",
   "name": "python3"
  },
  "language_info": {
   "codemirror_mode": {
    "name": "ipython",
    "version": 3
   },
   "file_extension": ".py",
   "mimetype": "text/x-python",
   "name": "python",
   "nbconvert_exporter": "python",
   "pygments_lexer": "ipython3",
   "version": "3.11.5"
  }
 },
 "nbformat": 4,
 "nbformat_minor": 5
}
