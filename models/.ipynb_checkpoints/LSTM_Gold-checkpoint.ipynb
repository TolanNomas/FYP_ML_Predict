{
 "cells": [
  {
   "cell_type": "code",
   "execution_count": 1,
   "id": "35801504-6e16-4e34-8803-b857713ddddb",
   "metadata": {
    "tags": []
   },
   "outputs": [
    {
     "name": "stderr",
     "output_type": "stream",
     "text": [
      "[*********************100%%**********************]  1 of 1 completed\n"
     ]
    },
    {
     "data": {
      "text/html": [
       "<div>\n",
       "<style scoped>\n",
       "    .dataframe tbody tr th:only-of-type {\n",
       "        vertical-align: middle;\n",
       "    }\n",
       "\n",
       "    .dataframe tbody tr th {\n",
       "        vertical-align: top;\n",
       "    }\n",
       "\n",
       "    .dataframe thead th {\n",
       "        text-align: right;\n",
       "    }\n",
       "</style>\n",
       "<table border=\"1\" class=\"dataframe\">\n",
       "  <thead>\n",
       "    <tr style=\"text-align: right;\">\n",
       "      <th></th>\n",
       "      <th>Date</th>\n",
       "      <th>Open</th>\n",
       "      <th>High</th>\n",
       "      <th>Low</th>\n",
       "      <th>Close</th>\n",
       "      <th>Adj Close</th>\n",
       "      <th>Volume</th>\n",
       "    </tr>\n",
       "  </thead>\n",
       "  <tbody>\n",
       "    <tr>\n",
       "      <th>0</th>\n",
       "      <td>2000-08-30</td>\n",
       "      <td>273.899994</td>\n",
       "      <td>273.899994</td>\n",
       "      <td>273.899994</td>\n",
       "      <td>273.899994</td>\n",
       "      <td>273.899994</td>\n",
       "      <td>0</td>\n",
       "    </tr>\n",
       "    <tr>\n",
       "      <th>1</th>\n",
       "      <td>2000-08-31</td>\n",
       "      <td>274.799988</td>\n",
       "      <td>278.299988</td>\n",
       "      <td>274.799988</td>\n",
       "      <td>278.299988</td>\n",
       "      <td>278.299988</td>\n",
       "      <td>0</td>\n",
       "    </tr>\n",
       "    <tr>\n",
       "      <th>2</th>\n",
       "      <td>2000-09-01</td>\n",
       "      <td>277.000000</td>\n",
       "      <td>277.000000</td>\n",
       "      <td>277.000000</td>\n",
       "      <td>277.000000</td>\n",
       "      <td>277.000000</td>\n",
       "      <td>0</td>\n",
       "    </tr>\n",
       "    <tr>\n",
       "      <th>3</th>\n",
       "      <td>2000-09-05</td>\n",
       "      <td>275.799988</td>\n",
       "      <td>275.799988</td>\n",
       "      <td>275.799988</td>\n",
       "      <td>275.799988</td>\n",
       "      <td>275.799988</td>\n",
       "      <td>2</td>\n",
       "    </tr>\n",
       "    <tr>\n",
       "      <th>4</th>\n",
       "      <td>2000-09-06</td>\n",
       "      <td>274.200012</td>\n",
       "      <td>274.200012</td>\n",
       "      <td>274.200012</td>\n",
       "      <td>274.200012</td>\n",
       "      <td>274.200012</td>\n",
       "      <td>0</td>\n",
       "    </tr>\n",
       "    <tr>\n",
       "      <th>...</th>\n",
       "      <td>...</td>\n",
       "      <td>...</td>\n",
       "      <td>...</td>\n",
       "      <td>...</td>\n",
       "      <td>...</td>\n",
       "      <td>...</td>\n",
       "      <td>...</td>\n",
       "    </tr>\n",
       "    <tr>\n",
       "      <th>5902</th>\n",
       "      <td>2024-03-08</td>\n",
       "      <td>2167.300049</td>\n",
       "      <td>2194.899902</td>\n",
       "      <td>2166.300049</td>\n",
       "      <td>2178.600098</td>\n",
       "      <td>2178.600098</td>\n",
       "      <td>259</td>\n",
       "    </tr>\n",
       "    <tr>\n",
       "      <th>5903</th>\n",
       "      <td>2024-03-11</td>\n",
       "      <td>2181.000000</td>\n",
       "      <td>2184.000000</td>\n",
       "      <td>2177.199951</td>\n",
       "      <td>2182.500000</td>\n",
       "      <td>2182.500000</td>\n",
       "      <td>738</td>\n",
       "    </tr>\n",
       "    <tr>\n",
       "      <th>5904</th>\n",
       "      <td>2024-03-12</td>\n",
       "      <td>2182.500000</td>\n",
       "      <td>2182.699951</td>\n",
       "      <td>2160.399902</td>\n",
       "      <td>2160.399902</td>\n",
       "      <td>2160.399902</td>\n",
       "      <td>550</td>\n",
       "    </tr>\n",
       "    <tr>\n",
       "      <th>5905</th>\n",
       "      <td>2024-03-13</td>\n",
       "      <td>2162.500000</td>\n",
       "      <td>2175.399902</td>\n",
       "      <td>2162.500000</td>\n",
       "      <td>2175.399902</td>\n",
       "      <td>2175.399902</td>\n",
       "      <td>550</td>\n",
       "    </tr>\n",
       "    <tr>\n",
       "      <th>5906</th>\n",
       "      <td>2024-03-14</td>\n",
       "      <td>2179.500000</td>\n",
       "      <td>2181.300049</td>\n",
       "      <td>2171.600098</td>\n",
       "      <td>2174.000000</td>\n",
       "      <td>2174.000000</td>\n",
       "      <td>42117</td>\n",
       "    </tr>\n",
       "  </tbody>\n",
       "</table>\n",
       "<p>5907 rows × 7 columns</p>\n",
       "</div>"
      ],
      "text/plain": [
       "           Date         Open         High          Low        Close  \\\n",
       "0    2000-08-30   273.899994   273.899994   273.899994   273.899994   \n",
       "1    2000-08-31   274.799988   278.299988   274.799988   278.299988   \n",
       "2    2000-09-01   277.000000   277.000000   277.000000   277.000000   \n",
       "3    2000-09-05   275.799988   275.799988   275.799988   275.799988   \n",
       "4    2000-09-06   274.200012   274.200012   274.200012   274.200012   \n",
       "...         ...          ...          ...          ...          ...   \n",
       "5902 2024-03-08  2167.300049  2194.899902  2166.300049  2178.600098   \n",
       "5903 2024-03-11  2181.000000  2184.000000  2177.199951  2182.500000   \n",
       "5904 2024-03-12  2182.500000  2182.699951  2160.399902  2160.399902   \n",
       "5905 2024-03-13  2162.500000  2175.399902  2162.500000  2175.399902   \n",
       "5906 2024-03-14  2179.500000  2181.300049  2171.600098  2174.000000   \n",
       "\n",
       "        Adj Close  Volume  \n",
       "0      273.899994       0  \n",
       "1      278.299988       0  \n",
       "2      277.000000       0  \n",
       "3      275.799988       2  \n",
       "4      274.200012       0  \n",
       "...           ...     ...  \n",
       "5902  2178.600098     259  \n",
       "5903  2182.500000     738  \n",
       "5904  2160.399902     550  \n",
       "5905  2175.399902     550  \n",
       "5906  2174.000000   42117  \n",
       "\n",
       "[5907 rows x 7 columns]"
      ]
     },
     "execution_count": 1,
     "metadata": {},
     "output_type": "execute_result"
    }
   ],
   "source": [
    "import yfinance as yf\n",
    "import pandas as pd\n",
    "import numpy as np\n",
    "import matplotlib.pyplot as plt\n",
    "\n",
    "import torch\n",
    "import torch.nn as nn\n",
    "\n",
    "#fetching gold data from yahoo finance\n",
    "data = yf.Ticker('GC=F')\n",
    "data = yf.download('GC=F', period = 'max')\n",
    "\n",
    "# Resetting the index to turn the date index into a column\n",
    "data.reset_index(inplace=True)\n",
    "\n",
    "data"
   ]
  },
  {
   "cell_type": "code",
   "execution_count": 2,
   "id": "70548503-a6ae-4d95-a299-2abef9738ab2",
   "metadata": {
    "tags": []
   },
   "outputs": [
    {
     "data": {
      "text/html": [
       "<div>\n",
       "<style scoped>\n",
       "    .dataframe tbody tr th:only-of-type {\n",
       "        vertical-align: middle;\n",
       "    }\n",
       "\n",
       "    .dataframe tbody tr th {\n",
       "        vertical-align: top;\n",
       "    }\n",
       "\n",
       "    .dataframe thead th {\n",
       "        text-align: right;\n",
       "    }\n",
       "</style>\n",
       "<table border=\"1\" class=\"dataframe\">\n",
       "  <thead>\n",
       "    <tr style=\"text-align: right;\">\n",
       "      <th></th>\n",
       "      <th>Date</th>\n",
       "      <th>Close</th>\n",
       "    </tr>\n",
       "  </thead>\n",
       "  <tbody>\n",
       "    <tr>\n",
       "      <th>0</th>\n",
       "      <td>2000-08-30</td>\n",
       "      <td>273.899994</td>\n",
       "    </tr>\n",
       "    <tr>\n",
       "      <th>1</th>\n",
       "      <td>2000-08-31</td>\n",
       "      <td>278.299988</td>\n",
       "    </tr>\n",
       "    <tr>\n",
       "      <th>2</th>\n",
       "      <td>2000-09-01</td>\n",
       "      <td>277.000000</td>\n",
       "    </tr>\n",
       "    <tr>\n",
       "      <th>3</th>\n",
       "      <td>2000-09-05</td>\n",
       "      <td>275.799988</td>\n",
       "    </tr>\n",
       "    <tr>\n",
       "      <th>4</th>\n",
       "      <td>2000-09-06</td>\n",
       "      <td>274.200012</td>\n",
       "    </tr>\n",
       "    <tr>\n",
       "      <th>...</th>\n",
       "      <td>...</td>\n",
       "      <td>...</td>\n",
       "    </tr>\n",
       "    <tr>\n",
       "      <th>5902</th>\n",
       "      <td>2024-03-08</td>\n",
       "      <td>2178.600098</td>\n",
       "    </tr>\n",
       "    <tr>\n",
       "      <th>5903</th>\n",
       "      <td>2024-03-11</td>\n",
       "      <td>2182.500000</td>\n",
       "    </tr>\n",
       "    <tr>\n",
       "      <th>5904</th>\n",
       "      <td>2024-03-12</td>\n",
       "      <td>2160.399902</td>\n",
       "    </tr>\n",
       "    <tr>\n",
       "      <th>5905</th>\n",
       "      <td>2024-03-13</td>\n",
       "      <td>2175.399902</td>\n",
       "    </tr>\n",
       "    <tr>\n",
       "      <th>5906</th>\n",
       "      <td>2024-03-14</td>\n",
       "      <td>2174.000000</td>\n",
       "    </tr>\n",
       "  </tbody>\n",
       "</table>\n",
       "<p>5907 rows × 2 columns</p>\n",
       "</div>"
      ],
      "text/plain": [
       "           Date        Close\n",
       "0    2000-08-30   273.899994\n",
       "1    2000-08-31   278.299988\n",
       "2    2000-09-01   277.000000\n",
       "3    2000-09-05   275.799988\n",
       "4    2000-09-06   274.200012\n",
       "...         ...          ...\n",
       "5902 2024-03-08  2178.600098\n",
       "5903 2024-03-11  2182.500000\n",
       "5904 2024-03-12  2160.399902\n",
       "5905 2024-03-13  2175.399902\n",
       "5906 2024-03-14  2174.000000\n",
       "\n",
       "[5907 rows x 2 columns]"
      ]
     },
     "execution_count": 2,
     "metadata": {},
     "output_type": "execute_result"
    }
   ],
   "source": [
    "# trim dataset to relevent columns (we only need date and close to forecast prices)\n",
    "data = data[['Date', 'Close']]\n",
    "data"
   ]
  },
  {
   "cell_type": "code",
   "execution_count": 3,
   "id": "0d2794fe-8e4d-4793-a2be-af9af6096910",
   "metadata": {
    "tags": []
   },
   "outputs": [
    {
     "data": {
      "text/plain": [
       "[<matplotlib.lines.Line2D at 0x26862d318d0>]"
      ]
     },
     "execution_count": 3,
     "metadata": {},
     "output_type": "execute_result"
    },
    {
     "data": {
      "image/png": "[encoded data removed]",
      "text/plain": [
       "<Figure size 640x480 with 1 Axes>"
      ]
     },
     "metadata": {},
     "output_type": "display_data"
    }
   ],
   "source": [
    "#simple transformations\n",
    "data.loc[:, 'Date'] = pd.to_datetime(data['Date'])\n",
    "\n",
    "plt.plot(data['Date'], data['Close'])"
   ]
  },
  {
   "cell_type": "code",
   "execution_count": 4,
   "id": "29d01443-a9df-420c-8f6e-8340b9036a7e",
   "metadata": {
    "tags": []
   },
   "outputs": [
    {
     "data": {
      "text/plain": [
       "'cpu'"
      ]
     },
     "execution_count": 4,
     "metadata": {},
     "output_type": "execute_result"
    }
   ],
   "source": [
    "device = 'cuda:0' if torch.cuda.is_available() else 'cpu'\n",
    "device"
   ]
  },
  {
   "cell_type": "code",
   "execution_count": 5,
   "id": "f48de125-1893-445f-a167-41f87a5aaf99",
   "metadata": {
    "tags": []
   },
   "outputs": [
    {
     "data": {
      "text/html": [
       "<div>\n",
       "<style scoped>\n",
       "    .dataframe tbody tr th:only-of-type {\n",
       "        vertical-align: middle;\n",
       "    }\n",
       "\n",
       "    .dataframe tbody tr th {\n",
       "        vertical-align: top;\n",
       "    }\n",
       "\n",
       "    .dataframe thead th {\n",
       "        text-align: right;\n",
       "    }\n",
       "</style>\n",
       "<table border=\"1\" class=\"dataframe\">\n",
       "  <thead>\n",
       "    <tr style=\"text-align: right;\">\n",
       "      <th></th>\n",
       "      <th>Close</th>\n",
       "      <th>Close(t-1)</th>\n",
       "      <th>Close(t-2)</th>\n",
       "      <th>Close(t-3)</th>\n",
       "      <th>Close(t-4)</th>\n",
       "      <th>Close(t-5)</th>\n",
       "      <th>Close(t-6)</th>\n",
       "      <th>Close(t-7)</th>\n",
       "    </tr>\n",
       "    <tr>\n",
       "      <th>Date</th>\n",
       "      <th></th>\n",
       "      <th></th>\n",
       "      <th></th>\n",
       "      <th></th>\n",
       "      <th></th>\n",
       "      <th></th>\n",
       "      <th></th>\n",
       "      <th></th>\n",
       "    </tr>\n",
       "  </thead>\n",
       "  <tbody>\n",
       "    <tr>\n",
       "      <th>2000-09-11</th>\n",
       "      <td>273.100006</td>\n",
       "      <td>273.299988</td>\n",
       "      <td>274.000000</td>\n",
       "      <td>274.200012</td>\n",
       "      <td>275.799988</td>\n",
       "      <td>277.000000</td>\n",
       "      <td>278.299988</td>\n",
       "      <td>273.899994</td>\n",
       "    </tr>\n",
       "    <tr>\n",
       "      <th>2000-09-12</th>\n",
       "      <td>272.899994</td>\n",
       "      <td>273.100006</td>\n",
       "      <td>273.299988</td>\n",
       "      <td>274.000000</td>\n",
       "      <td>274.200012</td>\n",
       "      <td>275.799988</td>\n",
       "      <td>277.000000</td>\n",
       "      <td>278.299988</td>\n",
       "    </tr>\n",
       "    <tr>\n",
       "      <th>2000-09-13</th>\n",
       "      <td>272.799988</td>\n",
       "      <td>272.899994</td>\n",
       "      <td>273.100006</td>\n",
       "      <td>273.299988</td>\n",
       "      <td>274.000000</td>\n",
       "      <td>274.200012</td>\n",
       "      <td>275.799988</td>\n",
       "      <td>277.000000</td>\n",
       "    </tr>\n",
       "    <tr>\n",
       "      <th>2000-09-14</th>\n",
       "      <td>272.399994</td>\n",
       "      <td>272.799988</td>\n",
       "      <td>272.899994</td>\n",
       "      <td>273.100006</td>\n",
       "      <td>273.299988</td>\n",
       "      <td>274.000000</td>\n",
       "      <td>274.200012</td>\n",
       "      <td>275.799988</td>\n",
       "    </tr>\n",
       "    <tr>\n",
       "      <th>2000-09-15</th>\n",
       "      <td>272.299988</td>\n",
       "      <td>272.399994</td>\n",
       "      <td>272.799988</td>\n",
       "      <td>272.899994</td>\n",
       "      <td>273.100006</td>\n",
       "      <td>273.299988</td>\n",
       "      <td>274.000000</td>\n",
       "      <td>274.200012</td>\n",
       "    </tr>\n",
       "    <tr>\n",
       "      <th>...</th>\n",
       "      <td>...</td>\n",
       "      <td>...</td>\n",
       "      <td>...</td>\n",
       "      <td>...</td>\n",
       "      <td>...</td>\n",
       "      <td>...</td>\n",
       "      <td>...</td>\n",
       "      <td>...</td>\n",
       "    </tr>\n",
       "    <tr>\n",
       "      <th>2024-03-08</th>\n",
       "      <td>2178.600098</td>\n",
       "      <td>2158.000000</td>\n",
       "      <td>2150.300049</td>\n",
       "      <td>2133.500000</td>\n",
       "      <td>2117.699951</td>\n",
       "      <td>2086.899902</td>\n",
       "      <td>2045.699951</td>\n",
       "      <td>2033.000000</td>\n",
       "    </tr>\n",
       "    <tr>\n",
       "      <th>2024-03-11</th>\n",
       "      <td>2182.500000</td>\n",
       "      <td>2178.600098</td>\n",
       "      <td>2158.000000</td>\n",
       "      <td>2150.300049</td>\n",
       "      <td>2133.500000</td>\n",
       "      <td>2117.699951</td>\n",
       "      <td>2086.899902</td>\n",
       "      <td>2045.699951</td>\n",
       "    </tr>\n",
       "    <tr>\n",
       "      <th>2024-03-12</th>\n",
       "      <td>2160.399902</td>\n",
       "      <td>2182.500000</td>\n",
       "      <td>2178.600098</td>\n",
       "      <td>2158.000000</td>\n",
       "      <td>2150.300049</td>\n",
       "      <td>2133.500000</td>\n",
       "      <td>2117.699951</td>\n",
       "      <td>2086.899902</td>\n",
       "    </tr>\n",
       "    <tr>\n",
       "      <th>2024-03-13</th>\n",
       "      <td>2175.399902</td>\n",
       "      <td>2160.399902</td>\n",
       "      <td>2182.500000</td>\n",
       "      <td>2178.600098</td>\n",
       "      <td>2158.000000</td>\n",
       "      <td>2150.300049</td>\n",
       "      <td>2133.500000</td>\n",
       "      <td>2117.699951</td>\n",
       "    </tr>\n",
       "    <tr>\n",
       "      <th>2024-03-14</th>\n",
       "      <td>2174.000000</td>\n",
       "      <td>2175.399902</td>\n",
       "      <td>2160.399902</td>\n",
       "      <td>2182.500000</td>\n",
       "      <td>2178.600098</td>\n",
       "      <td>2158.000000</td>\n",
       "      <td>2150.300049</td>\n",
       "      <td>2133.500000</td>\n",
       "    </tr>\n",
       "  </tbody>\n",
       "</table>\n",
       "<p>5900 rows × 8 columns</p>\n",
       "</div>"
      ],
      "text/plain": [
       "                  Close   Close(t-1)   Close(t-2)   Close(t-3)   Close(t-4)  \\\n",
       "Date                                                                          \n",
       "2000-09-11   273.100006   273.299988   274.000000   274.200012   275.799988   \n",
       "2000-09-12   272.899994   273.100006   273.299988   274.000000   274.200012   \n",
       "2000-09-13   272.799988   272.899994   273.100006   273.299988   274.000000   \n",
       "2000-09-14   272.399994   272.799988   272.899994   273.100006   273.299988   \n",
       "2000-09-15   272.299988   272.399994   272.799988   272.899994   273.100006   \n",
       "...                 ...          ...          ...          ...          ...   \n",
       "2024-03-08  2178.600098  2158.000000  2150.300049  2133.500000  2117.699951   \n",
       "2024-03-11  2182.500000  2178.600098  2158.000000  2150.300049  2133.500000   \n",
       "2024-03-12  2160.399902  2182.500000  2178.600098  2158.000000  2150.300049   \n",
       "2024-03-13  2175.399902  2160.399902  2182.500000  2178.600098  2158.000000   \n",
       "2024-03-14  2174.000000  2175.399902  2160.399902  2182.500000  2178.600098   \n",
       "\n",
       "             Close(t-5)   Close(t-6)   Close(t-7)  \n",
       "Date                                               \n",
       "2000-09-11   277.000000   278.299988   273.899994  \n",
       "2000-09-12   275.799988   277.000000   278.299988  \n",
       "2000-09-13   274.200012   275.799988   277.000000  \n",
       "2000-09-14   274.000000   274.200012   275.799988  \n",
       "2000-09-15   273.299988   274.000000   274.200012  \n",
       "...                 ...          ...          ...  \n",
       "2024-03-08  2086.899902  2045.699951  2033.000000  \n",
       "2024-03-11  2117.699951  2086.899902  2045.699951  \n",
       "2024-03-12  2133.500000  2117.699951  2086.899902  \n",
       "2024-03-13  2150.300049  2133.500000  2117.699951  \n",
       "2024-03-14  2158.000000  2150.300049  2133.500000  \n",
       "\n",
       "[5900 rows x 8 columns]"
      ]
     },
     "execution_count": 5,
     "metadata": {},
     "output_type": "execute_result"
    }
   ],
   "source": [
    "#takes df from above and creates a lookback window of a week (lookback =7) \n",
    "from copy import deepcopy as dc\n",
    "\n",
    "def prepare_dataframe_for_lstm(df, n_steps):\n",
    "    df = dc(df)\n",
    "    \n",
    "    df.set_index('Date', inplace=True)\n",
    "    \n",
    "    #shifts dataframe for each lookback window\n",
    "    for i in range(1, n_steps+1):\n",
    "        df[f'Close(t-{i})'] = df['Close'].shift(i)\n",
    "        \n",
    "    df.dropna(inplace=True)\n",
    "    \n",
    "    return df\n",
    "\n",
    "lookback = 7\n",
    "shifted_df = prepare_dataframe_for_lstm(data, lookback)\n",
    "shifted_df"
   ]
  },
  {
   "cell_type": "code",
   "execution_count": 6,
   "id": "3b26c0e3-680c-450a-bb5e-c1fa73c87b8b",
   "metadata": {
    "tags": []
   },
   "outputs": [
    {
     "data": {
      "text/plain": [
       "array([[ 273.1000061 ,  273.29998779,  274.        , ...,  277.        ,\n",
       "         278.29998779,  273.8999939 ],\n",
       "       [ 272.8999939 ,  273.1000061 ,  273.29998779, ...,  275.79998779,\n",
       "         277.        ,  278.29998779],\n",
       "       [ 272.79998779,  272.8999939 ,  273.1000061 , ...,  274.20001221,\n",
       "         275.79998779,  277.        ],\n",
       "       ...,\n",
       "       [2160.39990234, 2182.5       , 2178.60009766, ..., 2133.5       ,\n",
       "        2117.69995117, 2086.89990234],\n",
       "       [2175.39990234, 2160.39990234, 2182.5       , ..., 2150.30004883,\n",
       "        2133.5       , 2117.69995117],\n",
       "       [2174.        , 2175.39990234, 2160.39990234, ..., 2158.        ,\n",
       "        2150.30004883, 2133.5       ]])"
      ]
     },
     "execution_count": 6,
     "metadata": {},
     "output_type": "execute_result"
    }
   ],
   "source": [
    "shifted_df_as_np = shifted_df.to_numpy()\n",
    "\n",
    "shifted_df_as_np"
   ]
  },
  {
   "cell_type": "code",
   "execution_count": 7,
   "id": "053d754f-bf59-4f57-a3e0-ce8148c3e9fd",
   "metadata": {
    "tags": []
   },
   "outputs": [
    {
     "data": {
      "text/plain": [
       "(5900, 8)"
      ]
     },
     "execution_count": 7,
     "metadata": {},
     "output_type": "execute_result"
    }
   ],
   "source": [
    "shifted_df_as_np.shape"
   ]
  },
  {
   "cell_type": "code",
   "execution_count": 8,
   "id": "737e2d2a-59eb-4dfe-98d4-e80e418d09e0",
   "metadata": {
    "tags": []
   },
   "outputs": [
    {
     "data": {
      "text/plain": [
       "array([[-0.98132199, -0.98111447, -0.98038809, ..., -0.97698251,\n",
       "        -0.97551712, -0.97998298],\n",
       "       [-0.98152953, -0.98132199, -0.98111447, ..., -0.97824375,\n",
       "        -0.97688899, -0.97529815],\n",
       "       [-0.98163331, -0.98152953, -0.98132199, ..., -0.97992537,\n",
       "        -0.97815536, -0.97668229],\n",
       "       ...,\n",
       "       [ 0.97706745,  1.        ,  0.9959532 , ...,  0.97424983,\n",
       "         0.9655972 ,  0.9503832 ],\n",
       "       [ 0.99263246,  0.97706745,  1.        , ...,  0.99190714,\n",
       "         0.98227095,  0.98317712],\n",
       "       [ 0.99117983,  0.99263246,  0.97706745, ...,  1.        ,\n",
       "         1.        ,  1.        ]])"
      ]
     },
     "execution_count": 8,
     "metadata": {},
     "output_type": "execute_result"
    }
   ],
   "source": [
    "#runs scaler on data\n",
    "from sklearn.preprocessing import MinMaxScaler\n",
    "\n",
    "scaler = MinMaxScaler(feature_range=(-1, 1))\n",
    "shifted_df_as_np = scaler.fit_transform(shifted_df_as_np)\n",
    "\n",
    "shifted_df_as_np"
   ]
  },
  {
   "cell_type": "code",
   "execution_count": 9,
   "id": "312cb918-7a74-4eb6-bdd0-9e70d4103744",
   "metadata": {
    "tags": []
   },
   "outputs": [
    {
     "data": {
      "text/plain": [
       "((5900, 7), (5900,))"
      ]
     },
     "execution_count": 9,
     "metadata": {},
     "output_type": "execute_result"
    }
   ],
   "source": [
    "#changes df into x and y\n",
    "X = shifted_df_as_np[:, 1:]\n",
    "y = shifted_df_as_np[:, 0]\n",
    "\n",
    "X.shape, y.shape"
   ]
  },
  {
   "cell_type": "code",
   "execution_count": 10,
   "id": "36606079-ad71-43ab-b5a4-e35dd7b23329",
   "metadata": {
    "tags": []
   },
   "outputs": [
    {
     "data": {
      "text/plain": [
       "array([[-0.97998298, -0.97551712, -0.97698251, ..., -0.98018055,\n",
       "        -0.98038809, -0.98111447],\n",
       "       [-0.97529815, -0.97688899, -0.97824375, ..., -0.98038809,\n",
       "        -0.98111447, -0.98132199],\n",
       "       [-0.97668229, -0.97815536, -0.97992537, ..., -0.98111447,\n",
       "        -0.98132199, -0.98152953],\n",
       "       ...,\n",
       "       [ 0.9503832 ,  0.9655972 ,  0.97424983, ...,  0.97457715,\n",
       "         0.9959532 ,  1.        ],\n",
       "       [ 0.98317712,  0.98227095,  0.99190714, ...,  0.9959532 ,\n",
       "         1.        ,  0.97706745],\n",
       "       [ 1.        ,  1.        ,  1.        , ...,  1.        ,\n",
       "         0.97706745,  0.99263246]])"
      ]
     },
     "execution_count": 10,
     "metadata": {},
     "output_type": "execute_result"
    }
   ],
   "source": [
    "X = dc(np.flip(X, axis=1))\n",
    "X"
   ]
  },
  {
   "cell_type": "code",
   "execution_count": 11,
   "id": "b27f4480-95d6-443f-b86c-eb077cc32bae",
   "metadata": {
    "tags": []
   },
   "outputs": [
    {
     "data": {
      "text/plain": [
       "5605"
      ]
     },
     "execution_count": 11,
     "metadata": {},
     "output_type": "execute_result"
    }
   ],
   "source": [
    "#use first 95% as train and last 5% as test\n",
    "split_index = int(len(X) * 0.95)\n",
    "\n",
    "split_index"
   ]
  },
  {
   "cell_type": "code",
   "execution_count": 12,
   "id": "f99b6a58-b72f-405d-ad6b-d08c5f03af89",
   "metadata": {
    "tags": []
   },
   "outputs": [
    {
     "data": {
      "text/plain": [
       "((5605, 7), (295, 7), (5605,), (295,))"
      ]
     },
     "execution_count": 12,
     "metadata": {},
     "output_type": "execute_result"
    }
   ],
   "source": [
    "# splitting into train and test\n",
    "X_train = X[:split_index]\n",
    "X_test = X[split_index:]\n",
    "\n",
    "y_train = y[:split_index]\n",
    "y_test = y[split_index:]\n",
    "\n",
    "X_train.shape, X_test.shape, y_train.shape, y_test.shape"
   ]
  },
  {
   "cell_type": "code",
   "execution_count": 13,
   "id": "6dc232db-0a94-4602-b129-201ee41884bf",
   "metadata": {
    "tags": []
   },
   "outputs": [
    {
     "data": {
      "text/plain": [
       "((5605, 7, 1), (295, 7, 1), (5605, 1), (295, 1))"
      ]
     },
     "execution_count": 13,
     "metadata": {},
     "output_type": "execute_result"
    }
   ],
   "source": [
    "#PyTorch requires an extra dimension at end\n",
    "X_train = X_train.reshape((-1, lookback, 1))\n",
    "X_test = X_test.reshape((-1, lookback, 1))\n",
    "\n",
    "y_train = y_train.reshape((-1, 1))\n",
    "y_test = y_test.reshape((-1, 1))\n",
    "\n",
    "X_train.shape, X_test.shape, y_train.shape, y_test.shape"
   ]
  },
  {
   "cell_type": "code",
   "execution_count": 14,
   "id": "68651751-8738-4dd3-b26f-4e240fe214fb",
   "metadata": {
    "tags": []
   },
   "outputs": [
    {
     "data": {
      "text/plain": [
       "(torch.Size([5605, 7, 1]),\n",
       " torch.Size([295, 7, 1]),\n",
       " torch.Size([5605, 1]),\n",
       " torch.Size([295, 1]))"
      ]
     },
     "execution_count": 14,
     "metadata": {},
     "output_type": "execute_result"
    }
   ],
   "source": [
    "#wrapping in tensors for PyTorch\n",
    "X_train = torch.tensor(X_train).float()\n",
    "y_train = torch.tensor(y_train).float()\n",
    "X_test = torch.tensor(X_test).float()\n",
    "y_test = torch.tensor(y_test).float()\n",
    "\n",
    "X_train.shape, X_test.shape, y_train.shape, y_test.shape"
   ]
  },
  {
   "cell_type": "code",
   "execution_count": 15,
   "id": "59deda0e-c07d-4948-ab8d-7676071a132b",
   "metadata": {
    "tags": []
   },
   "outputs": [],
   "source": [
    "#need datasets object for PyTorch\n",
    "#needs to be custom class\n",
    "from torch.utils.data import Dataset\n",
    "\n",
    "class TimeSeriesDataset(Dataset):\n",
    "    def __init__(self, X, y):\n",
    "        self.X = X\n",
    "        self.y = y\n",
    "\n",
    "    def __len__(self):\n",
    "        return len(self.X)\n",
    "\n",
    "    def __getitem__(self, i):\n",
    "        return self.X[i], self.y[i]\n",
    "    \n",
    "train_dataset = TimeSeriesDataset(X_train, y_train)\n",
    "test_dataset = TimeSeriesDataset(X_test, y_test)"
   ]
  },
  {
   "cell_type": "code",
   "execution_count": 16,
   "id": "5167f5f7-30d0-4f8f-8981-953477493711",
   "metadata": {
    "tags": []
   },
   "outputs": [
    {
     "data": {
      "text/plain": [
       "<__main__.TimeSeriesDataset at 0x2686a755450>"
      ]
     },
     "execution_count": 16,
     "metadata": {},
     "output_type": "execute_result"
    }
   ],
   "source": [
    "train_dataset"
   ]
  },
  {
   "cell_type": "code",
   "execution_count": 17,
   "id": "dd573555-5f4d-4bb6-80a2-341908f273e2",
   "metadata": {
    "tags": []
   },
   "outputs": [],
   "source": [
    "# wrap datasets in dataloaders to get batches\n",
    "# used for iteration\n",
    "from torch.utils.data import DataLoader\n",
    "\n",
    "batch_size = 16\n",
    "\n",
    "train_loader = DataLoader(train_dataset, batch_size=batch_size, shuffle=True)\n",
    "test_loader = DataLoader(test_dataset, batch_size=batch_size, shuffle=False)"
   ]
  },
  {
   "cell_type": "code",
   "execution_count": 18,
   "id": "7b863d07-aecb-4379-be26-acb0f9910224",
   "metadata": {
    "tags": []
   },
   "outputs": [
    {
     "name": "stdout",
     "output_type": "stream",
     "text": [
      "torch.Size([16, 7, 1]) torch.Size([16, 1])\n"
     ]
    }
   ],
   "source": [
    "#gives predicted outputs of arrays\n",
    "for _, batch in enumerate(train_loader):\n",
    "    x_batch, y_batch = batch[0].to(device), batch[1].to(device)\n",
    "    print(x_batch.shape, y_batch.shape)\n",
    "    break"
   ]
  },
  {
   "cell_type": "code",
   "execution_count": 19,
   "id": "38e3f457-ccb7-4ece-b7c7-c1fcb6424536",
   "metadata": {
    "tags": []
   },
   "outputs": [
    {
     "data": {
      "text/plain": [
       "LSTM(\n",
       "  (lstm): LSTM(1, 12, batch_first=True)\n",
       "  (fc): Linear(in_features=12, out_features=1, bias=True)\n",
       ")"
      ]
     },
     "execution_count": 19,
     "metadata": {},
     "output_type": "execute_result"
    }
   ],
   "source": [
    "#takes in number of features, dimensions and number of stacked layers (more layers = more complexity in model)\n",
    "class LSTM(nn.Module):\n",
    "    def __init__(self, input_size, hidden_size, num_stacked_layers):\n",
    "        super().__init__()\n",
    "        self.hidden_size = hidden_size\n",
    "        self.num_stacked_layers = num_stacked_layers\n",
    "        \n",
    "        #initally use 1 layer to prevent overfitting in training data\n",
    "        self.lstm = nn.LSTM(input_size, hidden_size, num_stacked_layers, \n",
    "                            batch_first=True)\n",
    "        \n",
    "        #maps hidden layer to 1. Needed to predict final closing value\n",
    "        self.fc = nn.Linear(hidden_size, 1)\n",
    "\n",
    "    def forward(self, x):\n",
    "        batch_size = x.size(0)\n",
    "        #initialise LSTM with default h0 and c0\n",
    "        h0 = torch.zeros(self.num_stacked_layers, batch_size, self.hidden_size).to(device)\n",
    "        c0 = torch.zeros(self.num_stacked_layers, batch_size, self.hidden_size).to(device)\n",
    "        \n",
    "        out, _ = self.lstm(x, (h0, c0))\n",
    "        #output is gotten from passing varibles in fully connected layer\n",
    "        out = self.fc(out[:, -1, :])\n",
    "        return out\n",
    "\n",
    "#initial model has 1 input size, 4 hidden sizes and 1 stacked layer\n",
    "#model = LSTM(1, 4, 1)\n",
    "#Attempt 2:  Increase to 8 hidden units and 2 stacked layers\n",
    "#model = LSTM(1, 8, 2)  \n",
    "#Attempt 3:  Increase to 16 hidden units and 4 stacked layers\n",
    "#model = LSTM(1, 16, 4)\n",
    "#Attempt 4: Inrcease to 32 hidden unit and 8 stacked layers <----overfitted\n",
    "#model = LSTM(1, 32, 8)\n",
    "#Attempt 5:  Increase to 24 hidden units and 6 stacked layers\n",
    "#model = LSTM(1, 24, 6)\n",
    "#Attempt 6: 16 hidden units and 1 stacked layer\n",
    "#model = LSTM(1, 16, 1)\n",
    "#Attempt 7: 12 hidden units and 1 stacked layer\n",
    "model = LSTM(1,12,1)\n",
    "model.to(device)\n",
    "model"
   ]
  },
  {
   "cell_type": "code",
   "execution_count": 20,
   "id": "df5de0d6-6408-4ab3-a280-4a51477e3d20",
   "metadata": {},
   "outputs": [],
   "source": [
    "#sets model to training mode\n",
    "def train_one_epoch():\n",
    "    model.train(True)\n",
    "    print(f'Epoch: {epoch + 1}')\n",
    "    running_loss = 0.0\n",
    "    \n",
    "    for batch_index, batch in enumerate(train_loader):\n",
    "        #puts x and y batch onto device we're using \n",
    "        x_batch, y_batch = batch[0].to(device), batch[1].to(device)\n",
    "        \n",
    "        output = model(x_batch)\n",
    "        #comparing model's output to ground truth\n",
    "        #loss is a tensor with a single value\n",
    "        loss = loss_function(output, y_batch)\n",
    "        running_loss += loss.item()\n",
    "        \n",
    "        #zero out gradients \n",
    "        optimizer.zero_grad()\n",
    "        #backwards pass \n",
    "        loss.backward()\n",
    "        optimizer.step()\n",
    "\n",
    "        #every 100 batches get avg loss across batches and print\n",
    "        if batch_index % 100 == 99:  # print every 100 batches\n",
    "            avg_loss_across_batches = running_loss / 100\n",
    "            print('Batch {0}, Loss: {1:.3f}'.format(batch_index+1,\n",
    "                                                    avg_loss_across_batches))\n",
    "            running_loss = 0.0\n",
    "    print()"
   ]
  },
  {
   "cell_type": "code",
   "execution_count": 21,
   "id": "6342d9f3-10e5-4f57-9e9d-9b9397ac0139",
   "metadata": {
    "tags": []
   },
   "outputs": [],
   "source": [
    "#sets model to validate mode\n",
    "def validate_one_epoch():\n",
    "    model.train(False)\n",
    "    running_loss = 0.0\n",
    "    \n",
    "    for batch_index, batch in enumerate(test_loader):\n",
    "        x_batch, y_batch = batch[0].to(device), batch[1].to(device)\n",
    "        \n",
    "        #don't need to calcualte gradient as there's no model updates\n",
    "        with torch.no_grad():\n",
    "            output = model(x_batch)\n",
    "            #compare output to ground truth\n",
    "            loss = loss_function(output, y_batch)\n",
    "            running_loss += loss.item()\n",
    "    #average loss value across all batches\n",
    "    avg_loss_across_batches = running_loss / len(test_loader)\n",
    "    \n",
    "    print('Val Loss: {0:.3f}'.format(avg_loss_across_batches))\n",
    "    print('***************************************************')\n",
    "    print()"
   ]
  },
  {
   "cell_type": "code",
   "execution_count": 22,
   "id": "46cf3fd4-67a2-4349-8a55-5b292099537a",
   "metadata": {
    "tags": []
   },
   "outputs": [
    {
     "name": "stdout",
     "output_type": "stream",
     "text": [
      "Epoch: 1\n",
      "Batch 100, Loss: 0.278\n",
      "Batch 200, Loss: 0.027\n",
      "Batch 300, Loss: 0.003\n",
      "\n",
      "Val Loss: 0.017\n",
      "***************************************************\n",
      "\n",
      "Epoch: 2\n",
      "Batch 100, Loss: 0.002\n",
      "Batch 200, Loss: 0.001\n",
      "Batch 300, Loss: 0.001\n",
      "\n",
      "Val Loss: 0.006\n",
      "***************************************************\n",
      "\n",
      "Epoch: 3\n",
      "Batch 100, Loss: 0.001\n",
      "Batch 200, Loss: 0.001\n",
      "Batch 300, Loss: 0.001\n",
      "\n",
      "Val Loss: 0.002\n",
      "***************************************************\n",
      "\n",
      "Epoch: 4\n",
      "Batch 100, Loss: 0.000\n",
      "Batch 200, Loss: 0.000\n",
      "Batch 300, Loss: 0.000\n",
      "\n",
      "Val Loss: 0.001\n",
      "***************************************************\n",
      "\n",
      "Epoch: 5\n",
      "Batch 100, Loss: 0.000\n",
      "Batch 200, Loss: 0.000\n",
      "Batch 300, Loss: 0.000\n",
      "\n",
      "Val Loss: 0.002\n",
      "***************************************************\n",
      "\n",
      "Epoch: 6\n",
      "Batch 100, Loss: 0.000\n",
      "Batch 200, Loss: 0.000\n",
      "Batch 300, Loss: 0.000\n",
      "\n",
      "Val Loss: 0.002\n",
      "***************************************************\n",
      "\n",
      "Epoch: 7\n",
      "Batch 100, Loss: 0.000\n",
      "Batch 200, Loss: 0.000\n",
      "Batch 300, Loss: 0.000\n",
      "\n",
      "Val Loss: 0.001\n",
      "***************************************************\n",
      "\n",
      "Epoch: 8\n",
      "Batch 100, Loss: 0.000\n",
      "Batch 200, Loss: 0.000\n",
      "Batch 300, Loss: 0.000\n",
      "\n",
      "Val Loss: 0.001\n",
      "***************************************************\n",
      "\n",
      "Epoch: 9\n",
      "Batch 100, Loss: 0.000\n",
      "Batch 200, Loss: 0.000\n",
      "Batch 300, Loss: 0.000\n",
      "\n",
      "Val Loss: 0.001\n",
      "***************************************************\n",
      "\n",
      "Epoch: 10\n",
      "Batch 100, Loss: 0.000\n",
      "Batch 200, Loss: 0.000\n",
      "Batch 300, Loss: 0.000\n",
      "\n",
      "Val Loss: 0.001\n",
      "***************************************************\n",
      "\n"
     ]
    }
   ],
   "source": [
    "learning_rate = 0.001\n",
    "#10 epochs is all that is necessary as any more will cause overfitting\n",
    "num_epochs = 10\n",
    "#trying to minimise mean squared error\n",
    "loss_function = nn.MSELoss()\n",
    "optimizer = torch.optim.Adam(model.parameters(), lr=learning_rate)\n",
    "\n",
    "for epoch in range(num_epochs):\n",
    "    train_one_epoch()\n",
    "    validate_one_epoch()"
   ]
  },
  {
   "cell_type": "code",
   "execution_count": 23,
   "id": "d8d0dae6-1795-4674-8823-288bcc515c92",
   "metadata": {
    "tags": []
   },
   "outputs": [
    {
     "data": {
      "image/png": "[encoded data removed]",
      "text/plain": [
       "<Figure size 640x480 with 1 Axes>"
      ]
     },
     "metadata": {},
     "output_type": "display_data"
    }
   ],
   "source": [
    "#no gradients for predictions\n",
    "with torch.no_grad():\n",
    "    #makes sure it on the device and is put to the CPU (numpy doesn't use GPU)\n",
    "    predicted = model(X_train.to(device)).to('cpu').numpy()\n",
    "\n",
    "plt.plot(y_train, label='Actual Close')\n",
    "plt.plot(predicted, label='Predicted Close')\n",
    "plt.xlabel('Day')\n",
    "plt.ylabel('Close')\n",
    "plt.legend()\n",
    "plt.show()"
   ]
  },
  {
   "cell_type": "code",
   "execution_count": 24,
   "id": "3e3fbb5e-658d-4589-a9d6-639db59ad2b9",
   "metadata": {
    "tags": []
   },
   "outputs": [
    {
     "data": {
      "text/plain": [
       "array([ 287.41378304,  286.89819266,  286.42533838, ..., 1855.07259447,\n",
       "       1861.4493492 , 1866.33418894])"
      ]
     },
     "execution_count": 24,
     "metadata": {},
     "output_type": "execute_result"
    }
   ],
   "source": [
    "#above data still includes scalar begins at -1\n",
    "#do opposite of earlier transform\n",
    "train_predictions = predicted.flatten()\n",
    "\n",
    "#lookback+1 is the length of the whole dataset\n",
    "dummies = np.zeros((X_train.shape[0], lookback+1))\n",
    "dummies[:, 0] = train_predictions\n",
    "dummies = scaler.inverse_transform(dummies)\n",
    "\n",
    "#return in right scale\n",
    "train_predictions = dc(dummies[:, 0])\n",
    "train_predictions"
   ]
  },
  {
   "cell_type": "code",
   "execution_count": 25,
   "id": "44214f13-964a-41b8-9f16-65eb6cdd896a",
   "metadata": {
    "tags": []
   },
   "outputs": [
    {
     "data": {
      "text/plain": [
       "array([ 273.10000381,  272.89999426,  272.79998949, ..., 1871.59997736,\n",
       "       1874.59994826, 1895.50002697])"
      ]
     },
     "execution_count": 25,
     "metadata": {},
     "output_type": "execute_result"
    }
   ],
   "source": [
    "#first column is no y_train.flatter()\n",
    "dummies = np.zeros((X_train.shape[0], lookback+1))\n",
    "dummies[:, 0] = y_train.flatten()\n",
    "dummies = scaler.inverse_transform(dummies)\n",
    "\n",
    "new_y_train = dc(dummies[:, 0])\n",
    "new_y_train"
   ]
  },
  {
   "cell_type": "code",
   "execution_count": 26,
   "id": "3d82eb6b-eeb1-4e61-ad3e-161829f8b8f1",
   "metadata": {
    "tags": []
   },
   "outputs": [
    {
     "data": {
      "image/png": "[encoded data removed]",
      "text/plain": [
       "<Figure size 640x480 with 1 Axes>"
      ]
     },
     "metadata": {},
     "output_type": "display_data"
    }
   ],
   "source": [
    "#same graph as earlier with different y_train and predictions\n",
    "plt.plot(new_y_train, label='Actual Close')\n",
    "plt.plot(train_predictions, label='Predicted Close')\n",
    "plt.xlabel('Day')\n",
    "plt.ylabel('Close')\n",
    "plt.legend()\n",
    "plt.show()\n"
   ]
  },
  {
   "cell_type": "code",
   "execution_count": 27,
   "id": "a1ca2cd9-e6cb-4802-bc76-0b8327bb0888",
   "metadata": {
    "tags": []
   },
   "outputs": [
    {
     "data": {
      "text/plain": [
       "array([1875.5190042 , 1888.97088128, 1895.62415697, 1898.72913   ,\n",
       "       1905.28320509, 1911.10594141, 1915.20596482, 1919.74914552,\n",
       "       1925.00028649, 1925.26882314, 1924.64254397, 1922.1370826 ,\n",
       "       1921.93592423, 1921.4621509 , 1917.90821904, 1899.573168  ,\n",
       "       1885.70266093, 1877.39428039, 1874.09889045, 1869.67415309,\n",
       "       1866.11671733, 1860.71806788, 1857.29423987, 1848.97770271,\n",
       "       1844.98360049, 1842.21873559, 1838.48346251, 1835.63140217,\n",
       "       1829.54926231, 1822.11645487, 1819.11424378, 1821.22071998,\n",
       "       1826.36559511, 1829.4641922 , 1835.87696243, 1840.69930637,\n",
       "       1833.50562579, 1826.2935641 , 1825.71260587, 1836.01085739,\n",
       "       1859.78505378, 1877.03613578, 1894.8858104 , 1904.76405337,\n",
       "       1924.69682571, 1941.51319425, 1941.35615057, 1941.66610218,\n",
       "       1954.26997785, 1960.69021541, 1956.66653108, 1958.15408055,\n",
       "       1957.58610398, 1960.98029244, 1960.39600263, 1963.91495292,\n",
       "       1977.43598897, 1987.66829823, 1992.37754084, 1988.82987005,\n",
       "       1989.30444756, 1991.04571391, 2000.51572372, 1997.44555992,\n",
       "       1992.45899218, 1991.90819047, 1988.27395609, 1988.78621489,\n",
       "       1981.84096663, 1979.12779862, 1978.91607111, 1976.78713548,\n",
       "       1976.40159151, 1976.43812399, 1974.7328157 , 1981.96532638,\n",
       "       1991.67337167, 2004.31584769, 2005.45536217, 2007.60158754,\n",
       "       2011.17223473, 2011.9571085 , 2007.83060479, 2004.33175884,\n",
       "       2002.67458611, 1993.70442785, 1984.54006159, 1971.07313496,\n",
       "       1967.36210197, 1964.62825521, 1962.71684863, 1959.17618564,\n",
       "       1951.22055025, 1945.29958982, 1945.02881297, 1947.13735705,\n",
       "       1953.30548608, 1951.21532312, 1950.69100171, 1952.17274964,\n",
       "       1946.79058576, 1948.18531058, 1949.29748315, 1948.41800406,\n",
       "       1944.7039267 , 1944.68020357, 1945.60856494, 1946.68265413,\n",
       "       1941.02339488, 1935.77621734, 1925.91101348, 1920.17639165,\n",
       "       1917.76501863, 1913.98700945, 1911.09686573, 1908.4097185 ,\n",
       "       1910.03725168, 1911.87036618, 1912.7515685 , 1910.20917258,\n",
       "       1913.05887783, 1915.10234126, 1918.40904708, 1928.0138709 ,\n",
       "       1936.3729144 , 1942.57757591, 1944.40890974, 1951.89255246,\n",
       "       1957.44927953, 1958.6214205 , 1957.75544004, 1955.59359072,\n",
       "       1954.21454728, 1955.09207338, 1949.34268921, 1949.06128577,\n",
       "       1952.103763  , 1946.37614897, 1940.65416416, 1934.74612795,\n",
       "       1932.65550546, 1929.91085979, 1925.4506239 , 1919.81439849,\n",
       "       1915.46496627, 1912.01012013, 1909.09826372, 1904.91420413,\n",
       "       1900.12799058, 1893.18934803, 1888.62198467, 1887.76599895,\n",
       "       1888.71883019, 1896.38295252, 1902.66711237, 1905.151378  ,\n",
       "       1908.31597479, 1915.62080369, 1923.27349527, 1927.02950455,\n",
       "       1929.69959181, 1927.35789473, 1922.5683496 , 1918.34718313,\n",
       "       1915.52372841, 1915.23922316, 1912.09099705, 1909.14898412,\n",
       "       1907.32971289, 1910.11468214, 1914.89607065, 1918.88247577,\n",
       "       1925.65890495, 1923.12771002, 1922.03064444, 1918.3464364 ,\n",
       "       1910.63050229, 1896.20069224, 1881.78282993, 1867.74947764,\n",
       "       1852.60757157, 1840.44311952, 1830.77671896, 1824.19512964,\n",
       "       1824.50129014, 1831.8060616 , 1841.71572479, 1852.84853655,\n",
       "       1859.79591013, 1881.10491129, 1895.39812665, 1905.31675063,\n",
       "       1920.73115678, 1935.34127411, 1949.28835003, 1956.99641472,\n",
       "       1961.08242253, 1965.69143061, 1969.34105917, 1971.95290126,\n",
       "       1975.73653966, 1975.43554884, 1973.0741495 , 1972.83100176,\n",
       "       1974.29913618, 1972.84162835, 1967.54683222, 1959.05222797,\n",
       "       1956.11366149, 1945.49534874, 1941.10375483, 1943.23136932,\n",
       "       1945.37208036, 1954.03981177, 1960.29795085, 1963.57811892,\n",
       "       1971.43329001, 1974.81909207, 1976.77151153, 1980.72092465,\n",
       "       1986.1131407 , 1997.66096366, 2008.34981395, 2013.5462711 ,\n",
       "       2025.38583687, 2021.42602693, 2015.62310775, 2013.71342439,\n",
       "       2012.16521723, 2002.77711829, 1990.05250165, 1980.3850097 ,\n",
       "       1975.1079054 , 1985.13721818, 1991.6228236 , 1998.26041789,\n",
       "       2006.35327981, 2010.91937947, 2014.74540933, 2021.75533616,\n",
       "       2026.97528667, 2036.88730493, 2042.04274921, 2042.34052333,\n",
       "       2042.38636124, 2033.99291059, 2029.18274414, 2025.73387186,\n",
       "       2019.30978575, 2014.77924208, 2010.56738104, 2005.76795607,\n",
       "       2011.2199682 , 2010.44405523, 2003.54849342, 2002.34562152,\n",
       "       2003.78164642, 2003.36738196, 2004.16627133, 2002.18426977,\n",
       "       2001.52444505, 2000.99868761, 2002.80928524, 2006.05613754,\n",
       "       2013.18967739, 2019.87063964, 2020.21769813, 2017.00261071,\n",
       "       2016.32400278, 2015.86723198, 2014.77723164, 2011.65054591,\n",
       "       2008.00040037, 1998.49856826, 1990.40541913, 1987.76778603,\n",
       "       1989.15136731, 1992.09349512, 1997.98975592, 2001.22018009,\n",
       "       2002.66085771, 2008.30880108, 2009.67934325, 2011.79546954,\n",
       "       2012.91384573, 2016.9471227 , 2030.87013084, 2049.48486209,\n",
       "       2067.20960254, 2083.96571548, 2097.24699281, 2110.86906757,\n",
       "       2120.71916444, 2121.56934862, 2124.71837891])"
      ]
     },
     "execution_count": 27,
     "metadata": {},
     "output_type": "execute_result"
    }
   ],
   "source": [
    "#convert to vector of predictions \n",
    "test_predictions = model(X_test.to(device)).detach().cpu().numpy().flatten()\n",
    "\n",
    "dummies = np.zeros((X_test.shape[0], lookback+1))\n",
    "dummies[:, 0] = test_predictions\n",
    "dummies = scaler.inverse_transform(dummies)\n",
    "\n",
    "test_predictions = dc(dummies[:, 0])\n",
    "test_predictions"
   ]
  },
  {
   "cell_type": "code",
   "execution_count": 28,
   "id": "70635d39-dab3-4aea-8c8d-081a5cd65bb2",
   "metadata": {
    "tags": []
   },
   "outputs": [
    {
     "data": {
      "text/plain": [
       "array([1918.40002884, 1907.19995368, 1904.40004977, 1922.09997572,\n",
       "       1926.40000868, 1927.09998466, 1933.90002208, 1941.1999685 ,\n",
       "       1929.09996525, 1928.59999883, 1922.90001391, 1929.49998435,\n",
       "       1927.80007552, 1916.30004347, 1862.90002155, 1866.19994933,\n",
       "       1871.6999247 , 1877.40002449, 1866.19994933, 1862.80007422,\n",
       "       1851.90001338, 1853.99999875, 1834.19997255, 1842.00000028,\n",
       "       1840.40003878, 1832.99997271, 1831.99998241, 1818.00000334,\n",
       "       1808.80002365, 1817.00001304, 1828.90000673, 1837.69996732,\n",
       "       1833.49999658, 1847.69992775, 1847.90005218, 1813.90003737,\n",
       "       1812.69992264, 1829.30002583, 1861.99997859, 1911.69993875,\n",
       "       1906.19996338, 1926.59996079, 1919.00000005, 1969.80007017,\n",
       "       1979.19994451, 1937.99998805, 1946.80006352, 1993.80006711,\n",
       "       1982.09996808, 1952.40004366, 1972.40002197, 1966.09995097,\n",
       "       1980.30005447, 1968.99997453, 1983.89999657, 2022.19992946,\n",
       "       2020.90003973, 2011.90001215, 1989.09995761, 2004.80007528,\n",
       "       2010.90002185, 2041.30003713, 2002.19995116, 1994.19997132,\n",
       "       2007.40002708, 1995.19996162, 2007.59997919, 1979.50001628,\n",
       "       1989.09995761, 1994.00001922, 1985.69996762, 1989.89999581,\n",
       "       1990.09994791, 1983.40003014, 2014.30006929, 2028.5999478 ,\n",
       "       2048.00001234, 2017.40004496, 2026.30006776, 2036.19996598,\n",
       "       2030.49998106, 2014.6999735 , 2014.50002139, 2018.00001616,\n",
       "       1988.40003908, 1980.69995868, 1956.50000963, 1978.69997809,\n",
       "       1974.80002166, 1972.40002197, 1962.80002319, 1943.10000177,\n",
       "       1944.09999206, 1958.0000238 , 1963.90001826, 1978.00000211,\n",
       "       1952.40004366, 1958.0000238 , 1965.49997977, 1942.69992523,\n",
       "       1963.60000394, 1962.19993711, 1955.30006723, 1944.59995849,\n",
       "       1955.30006723, 1957.80007169, 1958.4000429 , 1935.49998359,\n",
       "       1933.30005088, 1912.69992905, 1919.09994738, 1923.69993722,\n",
       "       1913.99999111, 1912.30002483, 1909.19993428, 1921.09998542,\n",
       "       1921.69995662, 1919.59997125, 1908.69996785, 1926.19994169,\n",
       "       1924.99999928, 1931.30007028, 1956.19993787, 1959.19996621,\n",
       "       1960.09995173, 1952.40004366, 1977.19996392, 1977.49997824,\n",
       "       1968.300056  , 1964.30003736, 1960.30007616, 1962.09998977,\n",
       "       1968.9000272 , 1945.39999669, 1960.4000235 , 1970.4999887 ,\n",
       "       1940.69994463, 1937.40001685, 1931.99998882, 1939.59994956,\n",
       "       1933.50000299, 1924.09995632, 1915.40000051, 1914.40001021,\n",
       "       1912.89999604, 1910.60000112, 1902.50001651, 1896.09999818,\n",
       "       1884.09999971, 1886.0999803 , 1893.30003683, 1896.4000125 ,\n",
       "       1918.49997618, 1918.19996186, 1911.09996755, 1917.90000497,\n",
       "       1936.49997389, 1944.30005905, 1938.19994016, 1939.80007399,\n",
       "       1926.19994169, 1918.09995708, 1917.49998588, 1918.40002884,\n",
       "       1923.30003301, 1911.30003454, 1909.09998695, 1909.99997247,\n",
       "       1923.69993722, 1931.50002239, 1931.99998882, 1945.59994879,\n",
       "       1919.19995215, 1925.40001838, 1916.60000035, 1900.40003114,\n",
       "       1871.59997736, 1860.40001708, 1848.10000429, 1830.00000181,\n",
       "       1824.59997377, 1818.50002721, 1816.59999394, 1830.19995391,\n",
       "       1849.50001368, 1860.99998829, 1872.80003465, 1869.30003988,\n",
       "       1927.39999898, 1921.09998542, 1922.69994692, 1955.30006723,\n",
       "       1968.40000333, 1982.49998717, 1976.30003583, 1974.99997377,\n",
       "       1984.09994868, 1987.19992435, 1988.59999118, 1996.19995192,\n",
       "       1985.19994375, 1978.8000403 , 1985.59996285, 1991.50001475,\n",
       "       1981.60000165, 1966.80004183, 1951.5000007 , 1964.19997514,\n",
       "       1932.59996002, 1945.50000146, 1961.80003289, 1960.09995173,\n",
       "       1983.89999657, 1981.60000165, 1977.69993034, 1999.30004248,\n",
       "       1991.40000998, 1991.50001475, 2002.19995116, 2011.80006482,\n",
       "       2039.69996074, 2047.09996937, 2038.09999924, 2071.00001899,\n",
       "       2024.09996273, 2018.49998259, 2030.49998106, 2029.90000986,\n",
       "       1998.30005218, 1978.00000211, 1977.80005   , 1982.30003507,\n",
       "       2030.19996674, 2021.09999183, 2026.30006776, 2038.40001356,\n",
       "       2034.4999997 , 2039.09998954, 2057.10010213, 2058.19992488,\n",
       "       2081.8999075 , 2073.89992767, 2062.39989563, 2064.39987622,\n",
       "       2034.19992794, 2042.30002743, 2042.4000322 , 2026.5999672 ,\n",
       "       2026.40001509, 2021.69996304, 2014.30006929, 2046.69995028,\n",
       "       2025.999996  , 2002.59997025, 2018.59998736, 2026.50001987,\n",
       "       2019.80004465, 2023.69994363, 2013.90005019, 2016.90002109,\n",
       "       2016.80007375, 2025.1999578 , 2031.49997136, 2048.39991655,\n",
       "       2053.00002128, 2036.0999612 , 2025.69992423, 2034.4999997 ,\n",
       "       2035.19997568, 2032.19994734, 2023.30003942, 2018.19996827,\n",
       "       1992.90002414, 1990.30007234, 2002.10000383, 2011.49999306,\n",
       "       2015.59995903, 2027.50001016, 2022.30004912, 2019.699925  ,\n",
       "       2038.59996567, 2028.50000046, 2033.99997583, 2032.99998553,\n",
       "       2045.69995998, 2086.89991644, 2117.69995081, 2133.50001581,\n",
       "       2150.30007111, 2157.99997919, 2178.60010102, 2182.5       ,\n",
       "       2160.39992144, 2175.39989081, 2173.9999963 ])"
      ]
     },
     "execution_count": 28,
     "metadata": {},
     "output_type": "execute_result"
    }
   ],
   "source": [
    "#make ground truth proper scale\n",
    "dummies = np.zeros((X_test.shape[0], lookback+1))\n",
    "dummies[:, 0] = y_test.flatten()\n",
    "dummies = scaler.inverse_transform(dummies)\n",
    "\n",
    "new_y_test = dc(dummies[:, 0])\n",
    "new_y_test"
   ]
  },
  {
   "cell_type": "code",
   "execution_count": 29,
   "id": "d1f438e7-08f0-4974-87fa-4262bcf714bc",
   "metadata": {
    "tags": []
   },
   "outputs": [
    {
     "data": {
      "image/png": "[encoded data removed]",
      "text/plain": [
       "<Figure size 640x480 with 1 Axes>"
      ]
     },
     "metadata": {},
     "output_type": "display_data"
    }
   ],
   "source": [
    "#revised graph with more accurate axises \n",
    "plt.plot(new_y_test, label='Actual Close')\n",
    "plt.plot(test_predictions, label='Predicted Close')\n",
    "plt.xlabel('Day')\n",
    "plt.ylabel('Close')\n",
    "plt.legend()\n",
    "plt.show()"
   ]
  },
  {
   "cell_type": "code",
   "execution_count": 30,
   "id": "21e570b1-903a-4ca5-b385-499d9a8c6671",
   "metadata": {},
   "outputs": [
    {
     "name": "stdout",
     "output_type": "stream",
     "text": [
      "Root Mean Square Error (RMSE): 26.521559109033923\n",
      "Mean Absolute Error (MAE): 20.21151149154244\n",
      "Mean Absolute Percentage Error (MAPE): 1.0177171043338324\n"
     ]
    }
   ],
   "source": [
    "from math import sqrt\n",
    "from sklearn.metrics import mean_squared_error, mean_absolute_error\n",
    "import numpy as np\n",
    "\n",
    "# For each model, replace `actuals` and `predictions` with the corresponding variables\n",
    "actuals = new_y_test\n",
    "predictions = test_predictions\n",
    "\n",
    "# Calculate the RMSE\n",
    "rmse = sqrt(mean_squared_error(actuals, predictions))\n",
    "print(\"Root Mean Square Error (RMSE):\", rmse)\n",
    "\n",
    "# Calculate Mean Absolute Error (MAE)\n",
    "mae = mean_absolute_error(actuals, predictions)\n",
    "print(\"Mean Absolute Error (MAE):\", mae)\n",
    "\n",
    "# Calculate Mean Absolute Percentage Error (MAPE)\n",
    "mape = np.mean(np.abs((actuals - predictions) / actuals)) * 100\n",
    "print(\"Mean Absolute Percentage Error (MAPE):\", mape)\n"
   ]
  },
  {
   "cell_type": "code",
   "execution_count": 31,
   "id": "079e0f53-16c4-43d3-925b-6c2f216f0728",
   "metadata": {
    "tags": []
   },
   "outputs": [
    {
     "name": "stdout",
     "output_type": "stream",
     "text": [
      "Training - RMSE: 0.018, MAE: 0.013, MAPE: 24.872%\n",
      "Validation - RMSE: 0.028, MAE: 0.021, MAPE: 2.655%\n"
     ]
    }
   ],
   "source": [
    "#comparing the RMSE, MAE and MAPE for Training vs Validation data to check for overfitting\n",
    "from sklearn.metrics import mean_squared_error, mean_absolute_error\n",
    "import numpy as np\n",
    "import torch\n",
    "\n",
    "def evaluate_model(model, data_loader):\n",
    "    model.eval()  # Set the model to evaluation mode\n",
    "    predictions, actuals = [], []\n",
    "    with torch.no_grad():\n",
    "        for inputs, targets in data_loader:\n",
    "            inputs, targets = inputs.to(device), targets.to(device)\n",
    "            outputs = model(inputs)\n",
    "            predictions.extend(outputs.view(-1).tolist())\n",
    "            actuals.extend(targets.view(-1).tolist())\n",
    "\n",
    "    mse = mean_squared_error(actuals, predictions)\n",
    "    rmse = np.sqrt(mse)\n",
    "    mae = mean_absolute_error(actuals, predictions)\n",
    "    mape = np.mean(np.abs((np.array(actuals) - np.array(predictions)) / np.array(actuals))) * 100\n",
    "    \n",
    "    return rmse, mae, mape\n",
    "\n",
    "# Assuming 'train_loader' and 'test_loader' are already defined\n",
    "# Evaluate the model on training data\n",
    "train_rmse, train_mae, train_mape = evaluate_model(model, train_loader)\n",
    "print(f'Training - RMSE: {train_rmse:.3f}, MAE: {train_mae:.3f}, MAPE: {train_mape:.3f}%')\n",
    "\n",
    "# Evaluate the model on test (validation) data\n",
    "val_rmse, val_mae, val_mape = evaluate_model(model, test_loader)  # Use test_loader as validation loader\n",
    "print(f'Validation - RMSE: {val_rmse:.3f}, MAE: {val_mae:.3f}, MAPE: {val_mape:.3f}%')\n"
   ]
  },
  {
   "cell_type": "code",
   "execution_count": 59,
   "id": "979566db-d7be-40bb-bb9f-5685aab8a9a2",
   "metadata": {},
   "outputs": [
    {
     "name": "stdout",
     "output_type": "stream",
     "text": [
      "Predicted gold price for tomorrow: 2129.7220640661726\n"
     ]
    }
   ],
   "source": [
    "# Correcting the approach to reshape and inverse transform the prediction\n",
    "latest_input = shifted_df_as_np[-1, 1:].reshape(1, lookback, 1)  # Reshape for LSTM: [1, lookback, 1]\n",
    "\n",
    "# Convert to PyTorch tensor\n",
    "latest_input_tensor = torch.tensor(latest_input).float().to(device)\n",
    "\n",
    "# Make the prediction\n",
    "model.eval()  # Ensure the model is in evaluation mode\n",
    "with torch.no_grad():\n",
    "    prediction_scaled = model(latest_input_tensor).cpu().numpy()\n",
    "\n",
    "# Prepare the data for inverse transformation correctly\n",
    "prediction_scaled_expanded = np.expand_dims(prediction_scaled.flatten(), axis=0)\n",
    "dummy_features = np.zeros((1, lookback))\n",
    "combined_prediction = np.concatenate((prediction_scaled_expanded, dummy_features), axis=1)\n",
    "\n",
    "# Inverse transform the prediction to get it back into the original scale\n",
    "prediction = scaler.inverse_transform(combined_prediction)[0, 0]\n",
    "\n",
    "print(f'Predicted gold price for tomorrow: {prediction}')\n"
   ]
  },
  {
   "cell_type": "code",
   "execution_count": null,
   "id": "e847c073-e9b3-4950-a9ea-33a6ce4940fb",
   "metadata": {},
   "outputs": [],
   "source": []
  }
 ],
 "metadata": {
  "kernelspec": {
   "display_name": "Python 3 (ipykernel)",
   "language": "python",
   "name": "python3"
  },
  "language_info": {
   "codemirror_mode": {
    "name": "ipython",
    "version": 3
   },
   "file_extension": ".py",
   "mimetype": "text/x-python",
   "name": "python",
   "nbconvert_exporter": "python",
   "pygments_lexer": "ipython3",
   "version": "3.11.5"
  }
 },
 "nbformat": 4,
 "nbformat_minor": 5
}
