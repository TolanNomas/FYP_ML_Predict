{
 "cells": [
  {
   "cell_type": "code",
   "execution_count": null,
   "id": "ce7e80d8-d3b7-4861-a3ba-4078d6c3271e",
   "metadata": {},
   "outputs": [],
   "source": []
  },
  {
   "cell_type": "code",
   "execution_count": 1,
   "id": "fab62ed3-87bc-493c-8d70-8be0a27af121",
   "metadata": {
    "tags": []
   },
   "outputs": [
    {
     "name": "stderr",
     "output_type": "stream",
     "text": [
      "[*********************100%%**********************]  1 of 1 completed\n"
     ]
    },
    {
     "data": {
      "text/html": [
       "<div>\n",
       "<style scoped>\n",
       "    .dataframe tbody tr th:only-of-type {\n",
       "        vertical-align: middle;\n",
       "    }\n",
       "\n",
       "    .dataframe tbody tr th {\n",
       "        vertical-align: top;\n",
       "    }\n",
       "\n",
       "    .dataframe thead th {\n",
       "        text-align: right;\n",
       "    }\n",
       "</style>\n",
       "<table border=\"1\" class=\"dataframe\">\n",
       "  <thead>\n",
       "    <tr style=\"text-align: right;\">\n",
       "      <th></th>\n",
       "      <th>Date</th>\n",
       "      <th>Open</th>\n",
       "      <th>High</th>\n",
       "      <th>Low</th>\n",
       "      <th>Close</th>\n",
       "      <th>Adj Close</th>\n",
       "      <th>Volume</th>\n",
       "    </tr>\n",
       "  </thead>\n",
       "  <tbody>\n",
       "    <tr>\n",
       "      <th>0</th>\n",
       "      <td>2000-08-23</td>\n",
       "      <td>31.950001</td>\n",
       "      <td>32.799999</td>\n",
       "      <td>31.950001</td>\n",
       "      <td>32.049999</td>\n",
       "      <td>32.049999</td>\n",
       "      <td>79385</td>\n",
       "    </tr>\n",
       "    <tr>\n",
       "      <th>1</th>\n",
       "      <td>2000-08-24</td>\n",
       "      <td>31.900000</td>\n",
       "      <td>32.240002</td>\n",
       "      <td>31.400000</td>\n",
       "      <td>31.629999</td>\n",
       "      <td>31.629999</td>\n",
       "      <td>72978</td>\n",
       "    </tr>\n",
       "    <tr>\n",
       "      <th>2</th>\n",
       "      <td>2000-08-25</td>\n",
       "      <td>31.700001</td>\n",
       "      <td>32.099998</td>\n",
       "      <td>31.320000</td>\n",
       "      <td>32.049999</td>\n",
       "      <td>32.049999</td>\n",
       "      <td>44601</td>\n",
       "    </tr>\n",
       "    <tr>\n",
       "      <th>3</th>\n",
       "      <td>2000-08-28</td>\n",
       "      <td>32.040001</td>\n",
       "      <td>32.919998</td>\n",
       "      <td>31.860001</td>\n",
       "      <td>32.869999</td>\n",
       "      <td>32.869999</td>\n",
       "      <td>46770</td>\n",
       "    </tr>\n",
       "    <tr>\n",
       "      <th>4</th>\n",
       "      <td>2000-08-29</td>\n",
       "      <td>32.820000</td>\n",
       "      <td>33.029999</td>\n",
       "      <td>32.560001</td>\n",
       "      <td>32.720001</td>\n",
       "      <td>32.720001</td>\n",
       "      <td>49131</td>\n",
       "    </tr>\n",
       "    <tr>\n",
       "      <th>...</th>\n",
       "      <td>...</td>\n",
       "      <td>...</td>\n",
       "      <td>...</td>\n",
       "      <td>...</td>\n",
       "      <td>...</td>\n",
       "      <td>...</td>\n",
       "      <td>...</td>\n",
       "    </tr>\n",
       "    <tr>\n",
       "      <th>5909</th>\n",
       "      <td>2024-03-06</td>\n",
       "      <td>78.150002</td>\n",
       "      <td>80.669998</td>\n",
       "      <td>77.989998</td>\n",
       "      <td>79.129997</td>\n",
       "      <td>79.129997</td>\n",
       "      <td>371049</td>\n",
       "    </tr>\n",
       "    <tr>\n",
       "      <th>5910</th>\n",
       "      <td>2024-03-07</td>\n",
       "      <td>79.129997</td>\n",
       "      <td>79.529999</td>\n",
       "      <td>78.019997</td>\n",
       "      <td>78.930000</td>\n",
       "      <td>78.930000</td>\n",
       "      <td>432923</td>\n",
       "    </tr>\n",
       "    <tr>\n",
       "      <th>5911</th>\n",
       "      <td>2024-03-08</td>\n",
       "      <td>79.510002</td>\n",
       "      <td>79.989998</td>\n",
       "      <td>77.559998</td>\n",
       "      <td>78.010002</td>\n",
       "      <td>78.010002</td>\n",
       "      <td>347533</td>\n",
       "    </tr>\n",
       "    <tr>\n",
       "      <th>5912</th>\n",
       "      <td>2024-03-11</td>\n",
       "      <td>77.800003</td>\n",
       "      <td>78.470001</td>\n",
       "      <td>76.790001</td>\n",
       "      <td>77.930000</td>\n",
       "      <td>77.930000</td>\n",
       "      <td>347533</td>\n",
       "    </tr>\n",
       "    <tr>\n",
       "      <th>5913</th>\n",
       "      <td>2024-03-12</td>\n",
       "      <td>78.089996</td>\n",
       "      <td>78.730003</td>\n",
       "      <td>77.339996</td>\n",
       "      <td>77.910004</td>\n",
       "      <td>77.910004</td>\n",
       "      <td>221962</td>\n",
       "    </tr>\n",
       "  </tbody>\n",
       "</table>\n",
       "<p>5914 rows × 7 columns</p>\n",
       "</div>"
      ],
      "text/plain": [
       "           Date       Open       High        Low      Close  Adj Close  Volume\n",
       "0    2000-08-23  31.950001  32.799999  31.950001  32.049999  32.049999   79385\n",
       "1    2000-08-24  31.900000  32.240002  31.400000  31.629999  31.629999   72978\n",
       "2    2000-08-25  31.700001  32.099998  31.320000  32.049999  32.049999   44601\n",
       "3    2000-08-28  32.040001  32.919998  31.860001  32.869999  32.869999   46770\n",
       "4    2000-08-29  32.820000  33.029999  32.560001  32.720001  32.720001   49131\n",
       "...         ...        ...        ...        ...        ...        ...     ...\n",
       "5909 2024-03-06  78.150002  80.669998  77.989998  79.129997  79.129997  371049\n",
       "5910 2024-03-07  79.129997  79.529999  78.019997  78.930000  78.930000  432923\n",
       "5911 2024-03-08  79.510002  79.989998  77.559998  78.010002  78.010002  347533\n",
       "5912 2024-03-11  77.800003  78.470001  76.790001  77.930000  77.930000  347533\n",
       "5913 2024-03-12  78.089996  78.730003  77.339996  77.910004  77.910004  221962\n",
       "\n",
       "[5914 rows x 7 columns]"
      ]
     },
     "execution_count": 1,
     "metadata": {},
     "output_type": "execute_result"
    }
   ],
   "source": [
    "import yfinance as yf\n",
    "import pandas as pd\n",
    "import numpy as np\n",
    "import matplotlib.pyplot as plt\n",
    "\n",
    "import torch\n",
    "import torch.nn as nn\n",
    "\n",
    "#fetching oil data from yahoo finance\n",
    "data = yf.Ticker('CL=F')\n",
    "data = yf.download('CL=F', period = 'max')\n",
    "\n",
    "# Resetting the index to turn the date index into a column\n",
    "data.reset_index(inplace=True)\n",
    "\n",
    "data"
   ]
  },
  {
   "cell_type": "code",
   "execution_count": 2,
   "id": "7286ea84-2ca3-481d-9b32-c8c8760fc4d8",
   "metadata": {
    "tags": []
   },
   "outputs": [
    {
     "data": {
      "text/html": [
       "<div>\n",
       "<style scoped>\n",
       "    .dataframe tbody tr th:only-of-type {\n",
       "        vertical-align: middle;\n",
       "    }\n",
       "\n",
       "    .dataframe tbody tr th {\n",
       "        vertical-align: top;\n",
       "    }\n",
       "\n",
       "    .dataframe thead th {\n",
       "        text-align: right;\n",
       "    }\n",
       "</style>\n",
       "<table border=\"1\" class=\"dataframe\">\n",
       "  <thead>\n",
       "    <tr style=\"text-align: right;\">\n",
       "      <th></th>\n",
       "      <th>Date</th>\n",
       "      <th>Close</th>\n",
       "    </tr>\n",
       "  </thead>\n",
       "  <tbody>\n",
       "    <tr>\n",
       "      <th>0</th>\n",
       "      <td>2000-08-23</td>\n",
       "      <td>32.049999</td>\n",
       "    </tr>\n",
       "    <tr>\n",
       "      <th>1</th>\n",
       "      <td>2000-08-24</td>\n",
       "      <td>31.629999</td>\n",
       "    </tr>\n",
       "    <tr>\n",
       "      <th>2</th>\n",
       "      <td>2000-08-25</td>\n",
       "      <td>32.049999</td>\n",
       "    </tr>\n",
       "    <tr>\n",
       "      <th>3</th>\n",
       "      <td>2000-08-28</td>\n",
       "      <td>32.869999</td>\n",
       "    </tr>\n",
       "    <tr>\n",
       "      <th>4</th>\n",
       "      <td>2000-08-29</td>\n",
       "      <td>32.720001</td>\n",
       "    </tr>\n",
       "    <tr>\n",
       "      <th>...</th>\n",
       "      <td>...</td>\n",
       "      <td>...</td>\n",
       "    </tr>\n",
       "    <tr>\n",
       "      <th>5909</th>\n",
       "      <td>2024-03-06</td>\n",
       "      <td>79.129997</td>\n",
       "    </tr>\n",
       "    <tr>\n",
       "      <th>5910</th>\n",
       "      <td>2024-03-07</td>\n",
       "      <td>78.930000</td>\n",
       "    </tr>\n",
       "    <tr>\n",
       "      <th>5911</th>\n",
       "      <td>2024-03-08</td>\n",
       "      <td>78.010002</td>\n",
       "    </tr>\n",
       "    <tr>\n",
       "      <th>5912</th>\n",
       "      <td>2024-03-11</td>\n",
       "      <td>77.930000</td>\n",
       "    </tr>\n",
       "    <tr>\n",
       "      <th>5913</th>\n",
       "      <td>2024-03-12</td>\n",
       "      <td>77.910004</td>\n",
       "    </tr>\n",
       "  </tbody>\n",
       "</table>\n",
       "<p>5914 rows × 2 columns</p>\n",
       "</div>"
      ],
      "text/plain": [
       "           Date      Close\n",
       "0    2000-08-23  32.049999\n",
       "1    2000-08-24  31.629999\n",
       "2    2000-08-25  32.049999\n",
       "3    2000-08-28  32.869999\n",
       "4    2000-08-29  32.720001\n",
       "...         ...        ...\n",
       "5909 2024-03-06  79.129997\n",
       "5910 2024-03-07  78.930000\n",
       "5911 2024-03-08  78.010002\n",
       "5912 2024-03-11  77.930000\n",
       "5913 2024-03-12  77.910004\n",
       "\n",
       "[5914 rows x 2 columns]"
      ]
     },
     "execution_count": 2,
     "metadata": {},
     "output_type": "execute_result"
    }
   ],
   "source": [
    "# trim dataset to relevent columns (we only need date and close to forecast prices)\n",
    "data = data[['Date', 'Close']]\n",
    "data"
   ]
  },
  {
   "cell_type": "code",
   "execution_count": 3,
   "id": "d2aad59c-2f30-4bc4-b2fa-c9477d81ff0d",
   "metadata": {
    "tags": []
   },
   "outputs": [
    {
     "data": {
      "text/plain": [
       "[<matplotlib.lines.Line2D at 0x23283150910>]"
      ]
     },
     "execution_count": 3,
     "metadata": {},
     "output_type": "execute_result"
    },
    {
     "data": {
      "image/png": "[encoded data removed]",
      "text/plain": [
       "<Figure size 640x480 with 1 Axes>"
      ]
     },
     "metadata": {},
     "output_type": "display_data"
    }
   ],
   "source": [
    "#simple transformations\n",
    "data.loc[:, 'Date'] = pd.to_datetime(data['Date'])\n",
    "\n",
    "plt.plot(data['Date'], data['Close'])"
   ]
  },
  {
   "cell_type": "code",
   "execution_count": 4,
   "id": "7fee7a36-faf6-4fb1-b5b6-ec6cae30ff0f",
   "metadata": {
    "tags": []
   },
   "outputs": [
    {
     "data": {
      "text/plain": [
       "'cpu'"
      ]
     },
     "execution_count": 4,
     "metadata": {},
     "output_type": "execute_result"
    }
   ],
   "source": [
    "device = 'cuda:0' if torch.cuda.is_available() else 'cpu'\n",
    "device"
   ]
  },
  {
   "cell_type": "code",
   "execution_count": 5,
   "id": "59f0451b-4e06-48ab-ac80-4209001684a6",
   "metadata": {
    "tags": []
   },
   "outputs": [
    {
     "data": {
      "text/html": [
       "<div>\n",
       "<style scoped>\n",
       "    .dataframe tbody tr th:only-of-type {\n",
       "        vertical-align: middle;\n",
       "    }\n",
       "\n",
       "    .dataframe tbody tr th {\n",
       "        vertical-align: top;\n",
       "    }\n",
       "\n",
       "    .dataframe thead th {\n",
       "        text-align: right;\n",
       "    }\n",
       "</style>\n",
       "<table border=\"1\" class=\"dataframe\">\n",
       "  <thead>\n",
       "    <tr style=\"text-align: right;\">\n",
       "      <th></th>\n",
       "      <th>Close</th>\n",
       "      <th>Close(t-1)</th>\n",
       "      <th>Close(t-2)</th>\n",
       "      <th>Close(t-3)</th>\n",
       "      <th>Close(t-4)</th>\n",
       "      <th>Close(t-5)</th>\n",
       "      <th>Close(t-6)</th>\n",
       "      <th>Close(t-7)</th>\n",
       "    </tr>\n",
       "    <tr>\n",
       "      <th>Date</th>\n",
       "      <th></th>\n",
       "      <th></th>\n",
       "      <th></th>\n",
       "      <th></th>\n",
       "      <th></th>\n",
       "      <th></th>\n",
       "      <th></th>\n",
       "      <th></th>\n",
       "    </tr>\n",
       "  </thead>\n",
       "  <tbody>\n",
       "    <tr>\n",
       "      <th>2000-09-01</th>\n",
       "      <td>33.380001</td>\n",
       "      <td>33.099998</td>\n",
       "      <td>33.400002</td>\n",
       "      <td>32.720001</td>\n",
       "      <td>32.869999</td>\n",
       "      <td>32.049999</td>\n",
       "      <td>31.629999</td>\n",
       "      <td>32.049999</td>\n",
       "    </tr>\n",
       "    <tr>\n",
       "      <th>2000-09-05</th>\n",
       "      <td>33.799999</td>\n",
       "      <td>33.380001</td>\n",
       "      <td>33.099998</td>\n",
       "      <td>33.400002</td>\n",
       "      <td>32.720001</td>\n",
       "      <td>32.869999</td>\n",
       "      <td>32.049999</td>\n",
       "      <td>31.629999</td>\n",
       "    </tr>\n",
       "    <tr>\n",
       "      <th>2000-09-06</th>\n",
       "      <td>34.950001</td>\n",
       "      <td>33.799999</td>\n",
       "      <td>33.380001</td>\n",
       "      <td>33.099998</td>\n",
       "      <td>33.400002</td>\n",
       "      <td>32.720001</td>\n",
       "      <td>32.869999</td>\n",
       "      <td>32.049999</td>\n",
       "    </tr>\n",
       "    <tr>\n",
       "      <th>2000-09-07</th>\n",
       "      <td>35.330002</td>\n",
       "      <td>34.950001</td>\n",
       "      <td>33.799999</td>\n",
       "      <td>33.380001</td>\n",
       "      <td>33.099998</td>\n",
       "      <td>33.400002</td>\n",
       "      <td>32.720001</td>\n",
       "      <td>32.869999</td>\n",
       "    </tr>\n",
       "    <tr>\n",
       "      <th>2000-09-08</th>\n",
       "      <td>33.700001</td>\n",
       "      <td>35.330002</td>\n",
       "      <td>34.950001</td>\n",
       "      <td>33.799999</td>\n",
       "      <td>33.380001</td>\n",
       "      <td>33.099998</td>\n",
       "      <td>33.400002</td>\n",
       "      <td>32.720001</td>\n",
       "    </tr>\n",
       "    <tr>\n",
       "      <th>...</th>\n",
       "      <td>...</td>\n",
       "      <td>...</td>\n",
       "      <td>...</td>\n",
       "      <td>...</td>\n",
       "      <td>...</td>\n",
       "      <td>...</td>\n",
       "      <td>...</td>\n",
       "      <td>...</td>\n",
       "    </tr>\n",
       "    <tr>\n",
       "      <th>2024-03-06</th>\n",
       "      <td>79.129997</td>\n",
       "      <td>78.150002</td>\n",
       "      <td>78.739998</td>\n",
       "      <td>79.970001</td>\n",
       "      <td>78.260002</td>\n",
       "      <td>78.540001</td>\n",
       "      <td>78.870003</td>\n",
       "      <td>77.580002</td>\n",
       "    </tr>\n",
       "    <tr>\n",
       "      <th>2024-03-07</th>\n",
       "      <td>78.930000</td>\n",
       "      <td>79.129997</td>\n",
       "      <td>78.150002</td>\n",
       "      <td>78.739998</td>\n",
       "      <td>79.970001</td>\n",
       "      <td>78.260002</td>\n",
       "      <td>78.540001</td>\n",
       "      <td>78.870003</td>\n",
       "    </tr>\n",
       "    <tr>\n",
       "      <th>2024-03-08</th>\n",
       "      <td>78.010002</td>\n",
       "      <td>78.930000</td>\n",
       "      <td>79.129997</td>\n",
       "      <td>78.150002</td>\n",
       "      <td>78.739998</td>\n",
       "      <td>79.970001</td>\n",
       "      <td>78.260002</td>\n",
       "      <td>78.540001</td>\n",
       "    </tr>\n",
       "    <tr>\n",
       "      <th>2024-03-11</th>\n",
       "      <td>77.930000</td>\n",
       "      <td>78.010002</td>\n",
       "      <td>78.930000</td>\n",
       "      <td>79.129997</td>\n",
       "      <td>78.150002</td>\n",
       "      <td>78.739998</td>\n",
       "      <td>79.970001</td>\n",
       "      <td>78.260002</td>\n",
       "    </tr>\n",
       "    <tr>\n",
       "      <th>2024-03-12</th>\n",
       "      <td>77.910004</td>\n",
       "      <td>77.930000</td>\n",
       "      <td>78.010002</td>\n",
       "      <td>78.930000</td>\n",
       "      <td>79.129997</td>\n",
       "      <td>78.150002</td>\n",
       "      <td>78.739998</td>\n",
       "      <td>79.970001</td>\n",
       "    </tr>\n",
       "  </tbody>\n",
       "</table>\n",
       "<p>5907 rows × 8 columns</p>\n",
       "</div>"
      ],
      "text/plain": [
       "                Close  Close(t-1)  Close(t-2)  Close(t-3)  Close(t-4)  \\\n",
       "Date                                                                    \n",
       "2000-09-01  33.380001   33.099998   33.400002   32.720001   32.869999   \n",
       "2000-09-05  33.799999   33.380001   33.099998   33.400002   32.720001   \n",
       "2000-09-06  34.950001   33.799999   33.380001   33.099998   33.400002   \n",
       "2000-09-07  35.330002   34.950001   33.799999   33.380001   33.099998   \n",
       "2000-09-08  33.700001   35.330002   34.950001   33.799999   33.380001   \n",
       "...               ...         ...         ...         ...         ...   \n",
       "2024-03-06  79.129997   78.150002   78.739998   79.970001   78.260002   \n",
       "2024-03-07  78.930000   79.129997   78.150002   78.739998   79.970001   \n",
       "2024-03-08  78.010002   78.930000   79.129997   78.150002   78.739998   \n",
       "2024-03-11  77.930000   78.010002   78.930000   79.129997   78.150002   \n",
       "2024-03-12  77.910004   77.930000   78.010002   78.930000   79.129997   \n",
       "\n",
       "            Close(t-5)  Close(t-6)  Close(t-7)  \n",
       "Date                                            \n",
       "2000-09-01   32.049999   31.629999   32.049999  \n",
       "2000-09-05   32.869999   32.049999   31.629999  \n",
       "2000-09-06   32.720001   32.869999   32.049999  \n",
       "2000-09-07   33.400002   32.720001   32.869999  \n",
       "2000-09-08   33.099998   33.400002   32.720001  \n",
       "...                ...         ...         ...  \n",
       "2024-03-06   78.540001   78.870003   77.580002  \n",
       "2024-03-07   78.260002   78.540001   78.870003  \n",
       "2024-03-08   79.970001   78.260002   78.540001  \n",
       "2024-03-11   78.739998   79.970001   78.260002  \n",
       "2024-03-12   78.150002   78.739998   79.970001  \n",
       "\n",
       "[5907 rows x 8 columns]"
      ]
     },
     "execution_count": 5,
     "metadata": {},
     "output_type": "execute_result"
    }
   ],
   "source": [
    "#takes df from above and creates a lookback window of a week (lookback =7) \n",
    "from copy import deepcopy as dc\n",
    "\n",
    "def prepare_dataframe_for_lstm(df, n_steps):\n",
    "    df = dc(df)\n",
    "    \n",
    "    df.set_index('Date', inplace=True)\n",
    "    \n",
    "    #shifts dataframe for each lookback window\n",
    "    for i in range(1, n_steps+1):\n",
    "        df[f'Close(t-{i})'] = df['Close'].shift(i)\n",
    "        \n",
    "    df.dropna(inplace=True)\n",
    "    \n",
    "    return df\n",
    "\n",
    "lookback = 7\n",
    "shifted_df = prepare_dataframe_for_lstm(data, lookback)\n",
    "shifted_df"
   ]
  },
  {
   "cell_type": "code",
   "execution_count": 6,
   "id": "dec80f80-f8aa-47ff-859a-214a14af989f",
   "metadata": {
    "tags": []
   },
   "outputs": [
    {
     "data": {
      "text/plain": [
       "array([[33.38000107, 33.09999847, 33.40000153, ..., 32.04999924,\n",
       "        31.62999916, 32.04999924],\n",
       "       [33.79999924, 33.38000107, 33.09999847, ..., 32.86999893,\n",
       "        32.04999924, 31.62999916],\n",
       "       [34.95000076, 33.79999924, 33.38000107, ..., 32.72000122,\n",
       "        32.86999893, 32.04999924],\n",
       "       ...,\n",
       "       [78.01000214, 78.93000031, 79.12999725, ..., 79.97000122,\n",
       "        78.26000214, 78.54000092],\n",
       "       [77.93000031, 78.01000214, 78.93000031, ..., 78.73999786,\n",
       "        79.97000122, 78.26000214],\n",
       "       [77.91000366, 77.93000031, 78.01000214, ..., 78.15000153,\n",
       "        78.73999786, 79.97000122]])"
      ]
     },
     "execution_count": 6,
     "metadata": {},
     "output_type": "execute_result"
    }
   ],
   "source": [
    "shifted_df_as_np = shifted_df.to_numpy()\n",
    "\n",
    "shifted_df_as_np"
   ]
  },
  {
   "cell_type": "code",
   "execution_count": 7,
   "id": "c37f40fe-c2f9-4f39-8dc3-fd3c1f66f97f",
   "metadata": {
    "tags": []
   },
   "outputs": [
    {
     "data": {
      "text/plain": [
       "(5907, 8)"
      ]
     },
     "execution_count": 7,
     "metadata": {},
     "output_type": "execute_result"
    }
   ],
   "source": [
    "shifted_df_as_np.shape"
   ]
  },
  {
   "cell_type": "code",
   "execution_count": 8,
   "id": "a5e4fa78-6d72-4174-870e-be7619777bd7",
   "metadata": {
    "tags": []
   },
   "outputs": [
    {
     "data": {
      "text/plain": [
       "array([[-0.22359497, -0.22665644, -0.22337629, ..., -0.23813686,\n",
       "        -0.24272904, -0.23813686],\n",
       "       [-0.21900282, -0.22359497, -0.22665644, ..., -0.2291712 ,\n",
       "        -0.23813686, -0.24272904],\n",
       "       [-0.206429  , -0.21900282, -0.22359497, ..., -0.23081123,\n",
       "        -0.2291712 , -0.23813686],\n",
       "       ...,\n",
       "       [ 0.26437794,  0.27443697,  0.27662368, ...,  0.28580807,\n",
       "         0.26711138,  0.27017281],\n",
       "       [ 0.26350322,  0.26437794,  0.27443697, ...,  0.27235953,\n",
       "         0.28580807,  0.26711138],\n",
       "       [ 0.26328459,  0.26350322,  0.26437794, ...,  0.26590866,\n",
       "         0.27235953,  0.28580807]])"
      ]
     },
     "execution_count": 8,
     "metadata": {},
     "output_type": "execute_result"
    }
   ],
   "source": [
    "#runs scaler on data\n",
    "from sklearn.preprocessing import MinMaxScaler\n",
    "\n",
    "scaler = MinMaxScaler(feature_range=(-1, 1))\n",
    "shifted_df_as_np = scaler.fit_transform(shifted_df_as_np)\n",
    "\n",
    "shifted_df_as_np"
   ]
  },
  {
   "cell_type": "code",
   "execution_count": 9,
   "id": "fcc298e5-ecf9-4f5b-89b1-8c73a21d2e1d",
   "metadata": {
    "tags": []
   },
   "outputs": [
    {
     "data": {
      "text/plain": [
       "((5907, 7), (5907,))"
      ]
     },
     "execution_count": 9,
     "metadata": {},
     "output_type": "execute_result"
    }
   ],
   "source": [
    "#changes df into x and y\n",
    "X = shifted_df_as_np[:, 1:]\n",
    "y = shifted_df_as_np[:, 0]\n",
    "\n",
    "X.shape, y.shape"
   ]
  },
  {
   "cell_type": "code",
   "execution_count": 10,
   "id": "dcedca21-7b4b-42bc-a03a-0c14b7cf3081",
   "metadata": {
    "tags": []
   },
   "outputs": [
    {
     "data": {
      "text/plain": [
       "array([[-0.23813686, -0.24272904, -0.23813686, ..., -0.23081123,\n",
       "        -0.22337629, -0.22665644],\n",
       "       [-0.24272904, -0.23813686, -0.2291712 , ..., -0.22337629,\n",
       "        -0.22665644, -0.22359497],\n",
       "       [-0.23813686, -0.2291712 , -0.23081123, ..., -0.22665644,\n",
       "        -0.22359497, -0.21900282],\n",
       "       ...,\n",
       "       [ 0.27017281,  0.26711138,  0.28580807, ...,  0.26590866,\n",
       "         0.27662368,  0.27443697],\n",
       "       [ 0.26711138,  0.28580807,  0.27235953, ...,  0.27662368,\n",
       "         0.27443697,  0.26437794],\n",
       "       [ 0.28580807,  0.27235953,  0.26590866, ...,  0.27443697,\n",
       "         0.26437794,  0.26350322]])"
      ]
     },
     "execution_count": 10,
     "metadata": {},
     "output_type": "execute_result"
    }
   ],
   "source": [
    "X = dc(np.flip(X, axis=1))\n",
    "X"
   ]
  },
  {
   "cell_type": "code",
   "execution_count": 11,
   "id": "b033e1fc-042a-49b1-89af-0513accae5ab",
   "metadata": {
    "tags": []
   },
   "outputs": [
    {
     "data": {
      "text/plain": [
       "5611"
      ]
     },
     "execution_count": 11,
     "metadata": {},
     "output_type": "execute_result"
    }
   ],
   "source": [
    "#use first 95% as train and last 5% as test\n",
    "split_index = int(len(X) * 0.95)\n",
    "\n",
    "split_index"
   ]
  },
  {
   "cell_type": "code",
   "execution_count": 12,
   "id": "e5b8daa1-6122-4dc0-9315-703ff4ed3f23",
   "metadata": {
    "tags": []
   },
   "outputs": [
    {
     "data": {
      "text/plain": [
       "((5611, 7), (296, 7), (5611,), (296,))"
      ]
     },
     "execution_count": 12,
     "metadata": {},
     "output_type": "execute_result"
    }
   ],
   "source": [
    "# splitting into train and test\n",
    "X_train = X[:split_index]\n",
    "X_test = X[split_index:]\n",
    "\n",
    "y_train = y[:split_index]\n",
    "y_test = y[split_index:]\n",
    "\n",
    "X_train.shape, X_test.shape, y_train.shape, y_test.shape"
   ]
  },
  {
   "cell_type": "code",
   "execution_count": 13,
   "id": "703c7d1d-f855-447d-9d03-b89968b84f23",
   "metadata": {
    "tags": []
   },
   "outputs": [
    {
     "data": {
      "text/plain": [
       "((5611, 7, 1), (296, 7, 1), (5611, 1), (296, 1))"
      ]
     },
     "execution_count": 13,
     "metadata": {},
     "output_type": "execute_result"
    }
   ],
   "source": [
    "#PyTorch requires an extra dimension at end\n",
    "X_train = X_train.reshape((-1, lookback, 1))\n",
    "X_test = X_test.reshape((-1, lookback, 1))\n",
    "\n",
    "y_train = y_train.reshape((-1, 1))\n",
    "y_test = y_test.reshape((-1, 1))\n",
    "\n",
    "X_train.shape, X_test.shape, y_train.shape, y_test.shape"
   ]
  },
  {
   "cell_type": "code",
   "execution_count": 14,
   "id": "ec0a6b0c-3ff7-478d-84ae-4e792428219b",
   "metadata": {
    "tags": []
   },
   "outputs": [
    {
     "data": {
      "text/plain": [
       "(torch.Size([5611, 7, 1]),\n",
       " torch.Size([296, 7, 1]),\n",
       " torch.Size([5611, 1]),\n",
       " torch.Size([296, 1]))"
      ]
     },
     "execution_count": 14,
     "metadata": {},
     "output_type": "execute_result"
    }
   ],
   "source": [
    "#wrapping in tensors for PyTorch\n",
    "X_train = torch.tensor(X_train).float()\n",
    "y_train = torch.tensor(y_train).float()\n",
    "X_test = torch.tensor(X_test).float()\n",
    "y_test = torch.tensor(y_test).float()\n",
    "\n",
    "X_train.shape, X_test.shape, y_train.shape, y_test.shape"
   ]
  },
  {
   "cell_type": "code",
   "execution_count": 15,
   "id": "78fac8f2-3a6c-4ce4-8305-4d53511fd9ce",
   "metadata": {
    "tags": []
   },
   "outputs": [],
   "source": [
    "#need datasets object for PyTorch\n",
    "#needs to be custom class\n",
    "from torch.utils.data import Dataset\n",
    "\n",
    "class TimeSeriesDataset(Dataset):\n",
    "    def __init__(self, X, y):\n",
    "        self.X = X\n",
    "        self.y = y\n",
    "\n",
    "    def __len__(self):\n",
    "        return len(self.X)\n",
    "\n",
    "    def __getitem__(self, i):\n",
    "        return self.X[i], self.y[i]\n",
    "    \n",
    "train_dataset = TimeSeriesDataset(X_train, y_train)\n",
    "test_dataset = TimeSeriesDataset(X_test, y_test)"
   ]
  },
  {
   "cell_type": "code",
   "execution_count": 16,
   "id": "3281dfa5-780f-41b9-a892-4bc10741a0e1",
   "metadata": {
    "tags": []
   },
   "outputs": [
    {
     "data": {
      "text/plain": [
       "<__main__.TimeSeriesDataset at 0x2328818a850>"
      ]
     },
     "execution_count": 16,
     "metadata": {},
     "output_type": "execute_result"
    }
   ],
   "source": [
    "train_dataset"
   ]
  },
  {
   "cell_type": "code",
   "execution_count": 17,
   "id": "5251d34c-6b8f-4e4f-a446-d0d445817233",
   "metadata": {
    "tags": []
   },
   "outputs": [],
   "source": [
    "# wrap datasets in dataloaders to get batches\n",
    "# used for iteration\n",
    "from torch.utils.data import DataLoader\n",
    "\n",
    "batch_size = 16\n",
    "\n",
    "train_loader = DataLoader(train_dataset, batch_size=batch_size, shuffle=True)\n",
    "test_loader = DataLoader(test_dataset, batch_size=batch_size, shuffle=False)"
   ]
  },
  {
   "cell_type": "code",
   "execution_count": 18,
   "id": "c907e47f-fc96-4197-a50d-aca9f2c43737",
   "metadata": {
    "tags": []
   },
   "outputs": [
    {
     "name": "stdout",
     "output_type": "stream",
     "text": [
      "torch.Size([16, 7, 1]) torch.Size([16, 1])\n"
     ]
    }
   ],
   "source": [
    "#gives predicted outputs of arrays\n",
    "for _, batch in enumerate(train_loader):\n",
    "    x_batch, y_batch = batch[0].to(device), batch[1].to(device)\n",
    "    print(x_batch.shape, y_batch.shape)\n",
    "    break"
   ]
  },
  {
   "cell_type": "code",
   "execution_count": 19,
   "id": "c8c23683-77c4-4d2e-a04c-b1ed5cc19c72",
   "metadata": {
    "tags": []
   },
   "outputs": [
    {
     "data": {
      "text/plain": [
       "LSTM(\n",
       "  (lstm): LSTM(1, 4, batch_first=True)\n",
       "  (fc): Linear(in_features=4, out_features=1, bias=True)\n",
       ")"
      ]
     },
     "execution_count": 19,
     "metadata": {},
     "output_type": "execute_result"
    }
   ],
   "source": [
    "#takes in number of features, dimensions and number of stacked layers (more layers = more complexity in model)\n",
    "class LSTM(nn.Module):\n",
    "    def __init__(self, input_size, hidden_size, num_stacked_layers):\n",
    "        super().__init__()\n",
    "        self.hidden_size = hidden_size\n",
    "        self.num_stacked_layers = num_stacked_layers\n",
    "        \n",
    "        #initally use 1 layer to prevent overfitting in training data\n",
    "        self.lstm = nn.LSTM(input_size, hidden_size, num_stacked_layers, \n",
    "                            batch_first=True)\n",
    "        \n",
    "        #maps hidden layer to 1. Needed to predict final closing value\n",
    "        self.fc = nn.Linear(hidden_size, 1)\n",
    "\n",
    "    def forward(self, x):\n",
    "        batch_size = x.size(0)\n",
    "        #initialise LSTM with default h0 and c0\n",
    "        h0 = torch.zeros(self.num_stacked_layers, batch_size, self.hidden_size).to(device)\n",
    "        c0 = torch.zeros(self.num_stacked_layers, batch_size, self.hidden_size).to(device)\n",
    "        \n",
    "        out, _ = self.lstm(x, (h0, c0))\n",
    "        #output is gotten from passing varibles in fully connected layer\n",
    "        out = self.fc(out[:, -1, :])\n",
    "        return out\n",
    "\n",
    "#initial model has 1 input size, 4 hidden sizes and 1 stacked layer\n",
    "model = LSTM(1, 4, 1)\n",
    "model.to(device)\n",
    "model"
   ]
  },
  {
   "cell_type": "code",
   "execution_count": 20,
   "id": "0b8ec769-5d4d-4b0e-9d4f-c9e15eefb3c2",
   "metadata": {},
   "outputs": [],
   "source": [
    "#sets model to training mode\n",
    "def train_one_epoch():\n",
    "    model.train(True)\n",
    "    print(f'Epoch: {epoch + 1}')\n",
    "    running_loss = 0.0\n",
    "    \n",
    "    for batch_index, batch in enumerate(train_loader):\n",
    "        #puts x and y batch onto device we're using \n",
    "        x_batch, y_batch = batch[0].to(device), batch[1].to(device)\n",
    "        \n",
    "        output = model(x_batch)\n",
    "        #comparing model's output to ground truth\n",
    "        #loss is a tensor with a single value\n",
    "        loss = loss_function(output, y_batch)\n",
    "        running_loss += loss.item()\n",
    "        \n",
    "        #zero out gradients \n",
    "        optimizer.zero_grad()\n",
    "        #backwards pass \n",
    "        loss.backward()\n",
    "        optimizer.step()\n",
    "\n",
    "        #every 100 batches get avg loss across batches and print\n",
    "        if batch_index % 100 == 99:  # print every 100 batches\n",
    "            avg_loss_across_batches = running_loss / 100\n",
    "            print('Batch {0}, Loss: {1:.3f}'.format(batch_index+1,\n",
    "                                                    avg_loss_across_batches))\n",
    "            running_loss = 0.0\n",
    "    print()"
   ]
  },
  {
   "cell_type": "code",
   "execution_count": 21,
   "id": "7a80060c-e772-4e96-a15e-69ea5b8124ee",
   "metadata": {
    "tags": []
   },
   "outputs": [],
   "source": [
    "#sets model to validate mode\n",
    "def validate_one_epoch():\n",
    "    model.train(False)\n",
    "    running_loss = 0.0\n",
    "    \n",
    "    for batch_index, batch in enumerate(test_loader):\n",
    "        x_batch, y_batch = batch[0].to(device), batch[1].to(device)\n",
    "        \n",
    "        #don't need to calcualte gradient as there's no model updates\n",
    "        with torch.no_grad():\n",
    "            output = model(x_batch)\n",
    "            #compare output to ground truth\n",
    "            loss = loss_function(output, y_batch)\n",
    "            running_loss += loss.item()\n",
    "    #average loss value across all batches\n",
    "    avg_loss_across_batches = running_loss / len(test_loader)\n",
    "    \n",
    "    print('Val Loss: {0:.3f}'.format(avg_loss_across_batches))\n",
    "    print('***************************************************')\n",
    "    print()"
   ]
  },
  {
   "cell_type": "code",
   "execution_count": 22,
   "id": "5b6186b8-6fb4-42d8-9a4d-e77d9ee20856",
   "metadata": {
    "tags": []
   },
   "outputs": [
    {
     "name": "stdout",
     "output_type": "stream",
     "text": [
      "Epoch: 1\n",
      "Batch 100, Loss: 0.100\n",
      "Batch 200, Loss: 0.041\n",
      "Batch 300, Loss: 0.006\n",
      "\n",
      "Val Loss: 0.003\n",
      "***************************************************\n",
      "\n",
      "Epoch: 2\n",
      "Batch 100, Loss: 0.002\n",
      "Batch 200, Loss: 0.002\n",
      "Batch 300, Loss: 0.002\n",
      "\n",
      "Val Loss: 0.001\n",
      "***************************************************\n",
      "\n",
      "Epoch: 3\n",
      "Batch 100, Loss: 0.001\n",
      "Batch 200, Loss: 0.001\n",
      "Batch 300, Loss: 0.001\n",
      "\n",
      "Val Loss: 0.001\n",
      "***************************************************\n",
      "\n",
      "Epoch: 4\n",
      "Batch 100, Loss: 0.001\n",
      "Batch 200, Loss: 0.001\n",
      "Batch 300, Loss: 0.001\n",
      "\n",
      "Val Loss: 0.001\n",
      "***************************************************\n",
      "\n",
      "Epoch: 5\n",
      "Batch 100, Loss: 0.001\n",
      "Batch 200, Loss: 0.001\n",
      "Batch 300, Loss: 0.001\n",
      "\n",
      "Val Loss: 0.001\n",
      "***************************************************\n",
      "\n",
      "Epoch: 6\n",
      "Batch 100, Loss: 0.001\n",
      "Batch 200, Loss: 0.000\n",
      "Batch 300, Loss: 0.001\n",
      "\n",
      "Val Loss: 0.000\n",
      "***************************************************\n",
      "\n",
      "Epoch: 7\n",
      "Batch 100, Loss: 0.000\n",
      "Batch 200, Loss: 0.001\n",
      "Batch 300, Loss: 0.001\n",
      "\n",
      "Val Loss: 0.000\n",
      "***************************************************\n",
      "\n",
      "Epoch: 8\n",
      "Batch 100, Loss: 0.001\n",
      "Batch 200, Loss: 0.000\n",
      "Batch 300, Loss: 0.000\n",
      "\n",
      "Val Loss: 0.000\n",
      "***************************************************\n",
      "\n",
      "Epoch: 9\n",
      "Batch 100, Loss: 0.000\n",
      "Batch 200, Loss: 0.001\n",
      "Batch 300, Loss: 0.000\n",
      "\n",
      "Val Loss: 0.000\n",
      "***************************************************\n",
      "\n",
      "Epoch: 10\n",
      "Batch 100, Loss: 0.000\n",
      "Batch 200, Loss: 0.001\n",
      "Batch 300, Loss: 0.000\n",
      "\n",
      "Val Loss: 0.000\n",
      "***************************************************\n",
      "\n"
     ]
    }
   ],
   "source": [
    "learning_rate = 0.001\n",
    "#10 epochs is all that is necessary as any more will cause overfitting\n",
    "num_epochs = 10\n",
    "#trying to minimise mean squared error\n",
    "loss_function = nn.MSELoss()\n",
    "optimizer = torch.optim.Adam(model.parameters(), lr=learning_rate)\n",
    "\n",
    "for epoch in range(num_epochs):\n",
    "    train_one_epoch()\n",
    "    validate_one_epoch()"
   ]
  },
  {
   "cell_type": "code",
   "execution_count": 23,
   "id": "4ae3aec7-0bfa-4c42-bfed-3f600d679b9a",
   "metadata": {
    "tags": []
   },
   "outputs": [
    {
     "data": {
      "image/png": "[encoded data removed]",
      "text/plain": [
       "<Figure size 640x480 with 1 Axes>"
      ]
     },
     "metadata": {},
     "output_type": "display_data"
    }
   ],
   "source": [
    "#no gradients for predictions\n",
    "with torch.no_grad():\n",
    "    #makes sure it on the device and is put to the CPU (numpy doesn't use GPU)\n",
    "    predicted = model(X_train.to(device)).to('cpu').numpy()\n",
    "\n",
    "plt.plot(y_train, label='Actual Close')\n",
    "plt.plot(predicted, label='Predicted Close')\n",
    "plt.xlabel('Day')\n",
    "plt.ylabel('Close')\n",
    "plt.legend()\n",
    "plt.show()"
   ]
  },
  {
   "cell_type": "code",
   "execution_count": 24,
   "id": "00db05e6-688c-4b95-869e-df79da8f7546",
   "metadata": {
    "tags": []
   },
   "outputs": [
    {
     "data": {
      "text/plain": [
       "array([32.58430637, 32.75806559, 33.02513167, ..., 76.27022596,\n",
       "       75.02336837, 74.34668649])"
      ]
     },
     "execution_count": 24,
     "metadata": {},
     "output_type": "execute_result"
    }
   ],
   "source": [
    "#above data still includes scalar begins at -1\n",
    "#do opposite of earlier transform\n",
    "train_predictions = predicted.flatten()\n",
    "\n",
    "#lookback+1 is the length of the whole dataset\n",
    "dummies = np.zeros((X_train.shape[0], lookback+1))\n",
    "dummies[:, 0] = train_predictions\n",
    "dummies = scaler.inverse_transform(dummies)\n",
    "\n",
    "#return in right scale\n",
    "train_predictions = dc(dummies[:, 0])\n",
    "train_predictions"
   ]
  },
  {
   "cell_type": "code",
   "execution_count": 25,
   "id": "6266b93c-fb2e-484a-8650-c0ce541cff85",
   "metadata": {
    "tags": []
   },
   "outputs": [
    {
     "data": {
      "text/plain": [
       "array([33.38000137, 33.79999944, 34.95000129, ..., 73.6699978 ,\n",
       "       73.76999631, 74.62999786])"
      ]
     },
     "execution_count": 25,
     "metadata": {},
     "output_type": "execute_result"
    }
   ],
   "source": [
    "#first column is no y_train.flatter()\n",
    "dummies = np.zeros((X_train.shape[0], lookback+1))\n",
    "dummies[:, 0] = y_train.flatten()\n",
    "dummies = scaler.inverse_transform(dummies)\n",
    "\n",
    "new_y_train = dc(dummies[:, 0])\n",
    "new_y_train"
   ]
  },
  {
   "cell_type": "code",
   "execution_count": 26,
   "id": "99fae835-5797-41e0-9e0a-f311099f1481",
   "metadata": {
    "tags": []
   },
   "outputs": [
    {
     "data": {
      "image/png": "[encoded data removed]",
      "text/plain": [
       "<Figure size 640x480 with 1 Axes>"
      ]
     },
     "metadata": {},
     "output_type": "display_data"
    }
   ],
   "source": [
    "#same graph as earlier with different y_train and predictions\n",
    "plt.plot(new_y_train, label='Actual Close')\n",
    "plt.plot(train_predictions, label='Predicted Close')\n",
    "plt.xlabel('Day')\n",
    "plt.ylabel('Close')\n",
    "plt.legend()\n",
    "plt.show()\n"
   ]
  },
  {
   "cell_type": "code",
   "execution_count": 27,
   "id": "4f442912-071e-4dab-8ff8-e16d7f5e79f0",
   "metadata": {
    "tags": []
   },
   "outputs": [
    {
     "data": {
      "text/plain": [
       "array([74.39564861, 74.73853469, 75.97732823, 77.20139063, 78.55214314,\n",
       "       79.4960083 , 79.73290883, 80.13689329, 80.74958343, 81.26279023,\n",
       "       80.96587206, 80.7262976 , 80.90006499, 80.48779162, 79.48356811,\n",
       "       79.21118415, 78.07554004, 77.13075631, 75.53009613, 74.83079623,\n",
       "       75.72338786, 76.97222569, 77.66573071, 78.74001614, 79.55036189,\n",
       "       79.55827738, 79.28452783, 79.02163211, 77.9656717 , 77.18951194,\n",
       "       75.81329439, 75.55231893, 75.85638666, 75.87156483, 76.46708021,\n",
       "       77.11940641, 77.72424103, 78.69957735, 79.62802584, 79.01040759,\n",
       "       78.1247611 , 77.11383231, 76.86895633, 76.01018134, 74.06187325,\n",
       "       71.26195882, 69.77860002, 68.29020408, 67.8539798 , 68.43089486,\n",
       "       69.57040269, 69.93716062, 69.8178463 , 71.16611432, 72.19068124,\n",
       "       72.72960113, 73.59611579, 74.65074877, 77.25518817, 79.03474282,\n",
       "       80.05856154, 80.6104354 , 80.44885743, 80.98258618, 82.02757556,\n",
       "       82.28950911, 82.55815338, 81.9993589 , 81.58973765, 80.61939212,\n",
       "       79.22721684, 78.58059693, 78.60629775, 78.0256212 , 76.52806411,\n",
       "       75.73065055, 76.10084016, 75.97524442, 74.27307978, 71.86092905,\n",
       "       70.27435539, 70.50910397, 71.59844627, 72.65848981, 72.86798458,\n",
       "       72.20741853, 71.33672942, 71.19219946, 71.05087495, 71.83871034,\n",
       "       71.98953671, 71.94043831, 72.04978603, 72.48670674, 73.3724023 ,\n",
       "       72.89895422, 72.89140397, 71.5230215 , 70.03468689, 69.93046353,\n",
       "       70.65784653, 71.40269322, 71.72255241, 72.22237592, 71.97506723,\n",
       "       71.28973937, 69.54484361, 69.37362476, 68.8678987 , 69.59982411,\n",
       "       70.62742204, 70.77270702, 71.66053137, 70.91993544, 70.23369991,\n",
       "       69.84547284, 68.93380798, 69.16072283, 69.49009479, 70.08138939,\n",
       "       70.10034405, 70.91581687, 71.43471089, 72.59743367, 72.96500524,\n",
       "       73.91010515, 74.86277711, 75.90634366, 75.92743392, 75.32877443,\n",
       "       75.5395353 , 75.51979018, 75.64108201, 76.32548177, 77.47935686,\n",
       "       78.58894581, 78.91110415, 79.57526407, 80.15521013, 80.99329553,\n",
       "       81.33959557, 80.75111256, 81.13675837, 81.91700672, 82.09773833,\n",
       "       82.58206067, 83.48031635, 83.41913756, 83.45775556, 83.17582613,\n",
       "       82.35803099, 81.14556517, 80.76944303, 80.95705436, 80.94089083,\n",
       "       80.80326649, 80.11144869, 79.70013477, 79.76380487, 79.96560357,\n",
       "       80.56414177, 81.16087827, 82.34954037, 83.88566094, 85.31846036,\n",
       "       86.53046281, 86.96602201, 87.39934067, 87.53114288, 88.19515288,\n",
       "       88.51003899, 89.34761742, 90.13984803, 90.91921051, 91.2847078 ,\n",
       "       91.10314485, 90.66120746, 90.49330581, 90.26125434, 90.40791717,\n",
       "       91.8384079 , 92.07830672, 91.81045291, 90.7729947 , 90.18305887,\n",
       "       87.82554248, 85.45447653, 84.13557134, 84.88358804, 85.42010792,\n",
       "       84.83688827, 84.16243604, 85.60532062, 86.2244898 , 86.61938671,\n",
       "       87.49672248, 88.47367789, 88.83670567, 87.70177297, 86.14278906,\n",
       "       85.7408925 , 84.6950009 , 85.00048328, 84.0017521 , 82.81908386,\n",
       "       81.79933737, 81.99654323, 81.44445676, 81.23319436, 79.71853338,\n",
       "       77.86116759, 76.82626337, 76.84578225, 77.45166082, 77.92596068,\n",
       "       77.58337852, 75.74554252, 75.70461719, 76.46046216, 77.12373486,\n",
       "       77.30104296, 77.06505827, 76.52149513, 75.84519894, 76.0608702 ,\n",
       "       76.86612703, 76.65532118, 75.70082435, 74.60002176, 73.58524562,\n",
       "       71.75212511, 70.59803877, 70.74570467, 71.00481164, 70.1004667 ,\n",
       "       69.85744421, 70.59885921, 71.05343577, 71.78379117, 72.64762918,\n",
       "       73.50136021, 73.85607864, 73.88262034, 74.68648433, 74.59288991,\n",
       "       73.52488045, 72.73146688, 71.70532449, 72.05144464, 72.15010753,\n",
       "       72.94410032, 72.20280116, 72.27440038, 71.94953949, 72.01112714,\n",
       "       72.35298426, 72.47657523, 72.62401217, 73.32708583, 73.5076062 ,\n",
       "       74.3330797 , 74.51230944, 74.88862511, 76.03954007, 77.05069918,\n",
       "       77.16905813, 77.58829572, 77.00798714, 75.73655309, 74.24006994,\n",
       "       73.50910399, 73.35461697, 73.5797015 , 74.77538779, 75.83988242,\n",
       "       76.52917212, 77.28851283, 77.21053269, 77.65947518, 78.40579649,\n",
       "       78.93713751, 78.79952951, 78.54058881, 78.62974985, 77.82211346,\n",
       "       77.73069281, 78.23890881, 78.48547747, 78.52732273, 79.22969452,\n",
       "       79.18784653, 78.87419245, 79.03775475, 79.07871414, 78.73328361,\n",
       "       78.45969761])"
      ]
     },
     "execution_count": 27,
     "metadata": {},
     "output_type": "execute_result"
    }
   ],
   "source": [
    "#convert to vector of predictions \n",
    "test_predictions = model(X_test.to(device)).detach().cpu().numpy().flatten()\n",
    "\n",
    "dummies = np.zeros((X_test.shape[0], lookback+1))\n",
    "dummies[:, 0] = test_predictions\n",
    "dummies = scaler.inverse_transform(dummies)\n",
    "\n",
    "test_predictions = dc(dummies[:, 0])\n",
    "test_predictions"
   ]
  },
  {
   "cell_type": "code",
   "execution_count": 28,
   "id": "32390eea-5233-4043-9420-c20a8d736c99",
   "metadata": {
    "tags": []
   },
   "outputs": [
    {
     "data": {
      "text/plain": [
       "array([75.12000333, 77.41000363, 78.38999821, 79.86000099, 80.18000055,\n",
       "       79.48000287, 80.3300024 , 81.30999698, 81.62000405, 80.12999722,\n",
       "       80.15000128, 81.01000147, 79.67999987, 77.90000092, 78.87000301,\n",
       "       76.41000363, 75.87999685, 73.38999955, 74.10999993, 77.13999923,\n",
       "       78.47000083, 78.05999798, 79.72000254, 80.14000061, 79.05999662,\n",
       "       78.58999522, 78.48999672, 76.33999623, 76.16000328, 73.94999742,\n",
       "       75.38999956, 76.32000034, 75.67999985, 77.05000412, 77.69000325,\n",
       "       78.16000466, 79.67999987, 80.46000017, 77.58000136, 76.66000397,\n",
       "       75.72000116, 76.67999985, 74.8000024 , 71.33000234, 67.61000058,\n",
       "       68.34999821, 66.73999835, 67.63999986, 69.33000233, 70.90000088,\n",
       "       69.95999943, 69.26000175, 72.80999761, 73.1999964 , 72.97000148,\n",
       "       74.37000231, 75.66999782, 80.4199975 , 80.70999779, 80.60999929,\n",
       "       80.69999712, 79.73999843, 81.52999804, 83.26000183, 82.16000468,\n",
       "       82.51999602, 80.83000308, 80.85999963, 79.1600033 , 77.29000107,\n",
       "       77.87000165, 78.76000112, 77.07000001, 74.30000308, 74.76000246,\n",
       "       76.77999972, 75.66000396, 71.66000394, 68.59999855, 68.55999724,\n",
       "       71.3399962 , 73.16000327, 73.70999911, 72.55999727, 70.87000297,\n",
       "       70.04000069, 71.11000128, 70.86000094, 72.83000167, 71.86000094,\n",
       "       71.55000341, 71.98999736, 72.91000429, 74.33999621, 71.83000166,\n",
       "       72.6699978 , 69.45999875, 68.08999584, 70.09999788, 71.73999838,\n",
       "       72.15000123, 71.73999838, 72.52999935, 71.29000103, 70.16999847,\n",
       "       67.12000329, 69.4199988 , 68.26999696, 70.62000263, 71.77999833,\n",
       "       70.50000006, 72.52999935, 69.51000209, 69.16000324, 69.37000228,\n",
       "       67.69999705, 69.55999725, 69.86000093, 70.63999987, 69.79000034,\n",
       "       71.79000036, 71.80000239, 73.86000095, 72.98999736, 74.83000168,\n",
       "       75.75000043, 76.88999889, 75.41999884, 74.15000124, 75.75000043,\n",
       "       75.34999825, 75.62999787, 77.07000001, 78.73999706, 79.62999653,\n",
       "       78.77999973, 80.08999727, 80.58000274, 81.80000244, 81.37000371,\n",
       "       79.48999808, 81.5500021 , 82.8199997 , 81.94000362, 82.9199982 ,\n",
       "       84.40000164, 82.8199997 , 83.1900026 , 82.5100008 , 80.98999741,\n",
       "       79.37999619, 80.38999823, 81.25000115, 80.72000118, 80.34999828,\n",
       "       78.8899989 , 79.05000413, 79.83000171, 80.09999794, 81.16000331,\n",
       "       81.62999654, 83.62999655, 85.55000213, 86.69000194, 87.54000147,\n",
       "       86.87000306, 87.51000219, 87.29000113, 88.83999562, 88.51999605,\n",
       "       90.16000473, 90.7699964 , 91.48000294, 91.19999787, 90.27999911,\n",
       "       89.62999659, 90.02999877, 89.67999993, 90.38999828, 93.67999995,\n",
       "       91.70999922, 90.79000047, 88.81999973, 89.23000258, 84.22000052,\n",
       "       82.30999835, 82.79000042, 86.37999759, 85.97000019, 83.48999811,\n",
       "       82.91000298, 87.69000331, 86.66000266, 86.66000266, 88.31999905,\n",
       "       89.37000376, 88.75000051, 85.48999812, 83.73999845, 85.38999962,\n",
       "       83.20999849, 85.54000146, 82.30999835, 81.01999669, 80.44000156,\n",
       "       82.46000019, 80.51000079, 80.81999969, 77.37000369, 75.33000237,\n",
       "       75.7399984 , 77.16999851, 78.26000316, 78.26000316, 76.66000397,\n",
       "       72.90000089, 75.88999888, 77.59999724, 77.76999769, 77.09999928,\n",
       "       76.34999826, 75.5400014 , 74.86000096, 76.41000363, 77.86000098,\n",
       "       75.95999947, 74.06999999, 73.0400007 , 72.32000032, 69.37999749,\n",
       "       69.33999619, 71.23000384, 71.32000031, 68.61000058, 69.47000078,\n",
       "       71.58000132, 71.43000084, 72.4700008 , 73.44000289, 74.22000183,\n",
       "       73.88999887, 73.55999727, 75.56999931, 74.10999993, 71.76999629,\n",
       "       71.65000191, 70.3799975 , 72.69999708, 72.19000254, 73.80999761,\n",
       "       70.76999629, 72.2399977 , 71.37000229, 72.01999664, 72.67999983,\n",
       "       72.40000157, 72.55999727, 74.08000202, 73.41000361, 75.19000256,\n",
       "       74.37000231, 75.08999588, 77.36000029, 78.01000282, 76.77999972,\n",
       "       77.82000103, 75.84999894, 73.81999965, 72.27999901, 72.77999833,\n",
       "       73.30999693, 73.86000095, 76.22000184, 76.83999555, 76.91999816,\n",
       "       77.87000165, 76.63999991, 78.0299987 , 79.19000258, 79.29000108,\n",
       "       78.18000054, 77.91000432, 78.60999928, 76.48999807, 77.58000136,\n",
       "       78.87000301, 78.54000005, 78.26000316, 79.97000016, 78.73999706,\n",
       "       78.15000127, 79.12999857, 78.93000157, 78.01000282, 77.9300002 ,\n",
       "       77.91000432])"
      ]
     },
     "execution_count": 28,
     "metadata": {},
     "output_type": "execute_result"
    }
   ],
   "source": [
    "#make ground truth proper scale\n",
    "dummies = np.zeros((X_test.shape[0], lookback+1))\n",
    "dummies[:, 0] = y_test.flatten()\n",
    "dummies = scaler.inverse_transform(dummies)\n",
    "\n",
    "new_y_test = dc(dummies[:, 0])\n",
    "new_y_test"
   ]
  },
  {
   "cell_type": "code",
   "execution_count": 29,
   "id": "1bdeabfa-25f0-4a16-8270-f3f291702b0d",
   "metadata": {
    "tags": []
   },
   "outputs": [
    {
     "data": {
      "image/png": "[encoded data removed]",
      "text/plain": [
       "<Figure size 640x480 with 1 Axes>"
      ]
     },
     "metadata": {},
     "output_type": "display_data"
    }
   ],
   "source": [
    "#revised graph with more accurate axises \n",
    "plt.plot(new_y_test, label='Actual Close')\n",
    "plt.plot(test_predictions, label='Predicted Close')\n",
    "plt.xlabel('Day')\n",
    "plt.ylabel('Close')\n",
    "plt.legend()\n",
    "plt.show()"
   ]
  },
  {
   "cell_type": "code",
   "execution_count": 31,
   "id": "0047fa6d-6cbb-49cc-bee8-c29681d091b1",
   "metadata": {},
   "outputs": [
    {
     "name": "stdout",
     "output_type": "stream",
     "text": [
      "Root Mean Square Error (RMSE): 1.9073226916847\n",
      "Mean Absolute Error (MAE): 1.4999470873549854\n",
      "Mean Absolute Percentage Error (MAPE): 1.9595749689740154\n"
     ]
    }
   ],
   "source": [
    "from math import sqrt\n",
    "from sklearn.metrics import mean_squared_error, mean_absolute_error\n",
    "import numpy as np\n",
    "\n",
    "# For each model, replace `actuals` and `predictions` with the corresponding variables\n",
    "actuals = new_y_test\n",
    "predictions = test_predictions\n",
    "\n",
    "# Calculate the RMSE\n",
    "rmse = sqrt(mean_squared_error(actuals, predictions))\n",
    "print(\"Root Mean Square Error (RMSE):\", rmse)\n",
    "\n",
    "# Calculate Mean Absolute Error (MAE)\n",
    "mae = mean_absolute_error(actuals, predictions)\n",
    "print(\"Mean Absolute Error (MAE):\", mae)\n",
    "\n",
    "# Calculate Mean Absolute Percentage Error (MAPE)\n",
    "mape = np.mean(np.abs((actuals - predictions) / actuals)) * 100\n",
    "print(\"Mean Absolute Percentage Error (MAPE):\", mape)\n"
   ]
  },
  {
   "cell_type": "code",
   "execution_count": null,
   "id": "7b161501-f4b5-4942-a596-fa7da286c963",
   "metadata": {},
   "outputs": [],
   "source": [
    "#comparing the RMSE, MAE and MAPE for Training vs Validation data to check for overfitting\n",
    "from sklearn.metrics import mean_squared_error, mean_absolute_error\n",
    "import numpy as np\n",
    "import torch\n",
    "\n",
    "def evaluate_model(model, data_loader):\n",
    "    model.eval()  # Set the model to evaluation mode\n",
    "    predictions, actuals = [], []\n",
    "    with torch.no_grad():\n",
    "        for inputs, targets in data_loader:\n",
    "            inputs, targets = inputs.to(device), targets.to(device)\n",
    "            outputs = model(inputs)\n",
    "            predictions.extend(outputs.view(-1).tolist())\n",
    "            actuals.extend(targets.view(-1).tolist())\n",
    "\n",
    "    mse = mean_squared_error(actuals, predictions)\n",
    "    rmse = np.sqrt(mse)\n",
    "    mae = mean_absolute_error(actuals, predictions)\n",
    "    mape = np.mean(np.abs((np.array(actuals) - np.array(predictions)) / np.array(actuals))) * 100\n",
    "    \n",
    "    return rmse, mae, mape\n",
    "\n",
    "# Assuming 'train_loader' and 'test_loader' are already defined\n",
    "# Evaluate the model on training data\n",
    "train_rmse, train_mae, train_mape = evaluate_model(model, train_loader)\n",
    "print(f'Training - RMSE: {train_rmse:.3f}, MAE: {train_mae:.3f}, MAPE: {train_mape:.3f}%')\n",
    "\n",
    "# Evaluate the model on test (validation) data\n",
    "val_rmse, val_mae, val_mape = evaluate_model(model, test_loader)  # Use test_loader as validation loader\n",
    "print(f'Validation - RMSE: {val_rmse:.3f}, MAE: {val_mae:.3f}, MAPE: {val_mape:.3f}%')\n"
   ]
  }
 ],
 "metadata": {
  "kernelspec": {
   "display_name": "Python 3 (ipykernel)",
   "language": "python",
   "name": "python3"
  },
  "language_info": {
   "codemirror_mode": {
    "name": "ipython",
    "version": 3
   },
   "file_extension": ".py",
   "mimetype": "text/x-python",
   "name": "python",
   "nbconvert_exporter": "python",
   "pygments_lexer": "ipython3",
   "version": "3.11.5"
  }
 },
 "nbformat": 4,
 "nbformat_minor": 5
}
