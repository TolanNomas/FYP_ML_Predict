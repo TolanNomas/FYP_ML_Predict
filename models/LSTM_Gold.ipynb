{
 "cells": [
  {
   "cell_type": "code",
   "execution_count": 34,
   "id": "35801504-6e16-4e34-8803-b857713ddddb",
   "metadata": {
    "tags": []
   },
   "outputs": [
    {
     "name": "stderr",
     "output_type": "stream",
     "text": [
      "[*********************100%%**********************]  1 of 1 completed\n"
     ]
    },
    {
     "data": {
      "text/html": [
       "<div>\n",
       "<style scoped>\n",
       "    .dataframe tbody tr th:only-of-type {\n",
       "        vertical-align: middle;\n",
       "    }\n",
       "\n",
       "    .dataframe tbody tr th {\n",
       "        vertical-align: top;\n",
       "    }\n",
       "\n",
       "    .dataframe thead th {\n",
       "        text-align: right;\n",
       "    }\n",
       "</style>\n",
       "<table border=\"1\" class=\"dataframe\">\n",
       "  <thead>\n",
       "    <tr style=\"text-align: right;\">\n",
       "      <th></th>\n",
       "      <th>Date</th>\n",
       "      <th>Open</th>\n",
       "      <th>High</th>\n",
       "      <th>Low</th>\n",
       "      <th>Close</th>\n",
       "      <th>Adj Close</th>\n",
       "      <th>Volume</th>\n",
       "    </tr>\n",
       "  </thead>\n",
       "  <tbody>\n",
       "    <tr>\n",
       "      <th>0</th>\n",
       "      <td>2000-08-30</td>\n",
       "      <td>273.899994</td>\n",
       "      <td>273.899994</td>\n",
       "      <td>273.899994</td>\n",
       "      <td>273.899994</td>\n",
       "      <td>273.899994</td>\n",
       "      <td>0</td>\n",
       "    </tr>\n",
       "    <tr>\n",
       "      <th>1</th>\n",
       "      <td>2000-08-31</td>\n",
       "      <td>274.799988</td>\n",
       "      <td>278.299988</td>\n",
       "      <td>274.799988</td>\n",
       "      <td>278.299988</td>\n",
       "      <td>278.299988</td>\n",
       "      <td>0</td>\n",
       "    </tr>\n",
       "    <tr>\n",
       "      <th>2</th>\n",
       "      <td>2000-09-01</td>\n",
       "      <td>277.000000</td>\n",
       "      <td>277.000000</td>\n",
       "      <td>277.000000</td>\n",
       "      <td>277.000000</td>\n",
       "      <td>277.000000</td>\n",
       "      <td>0</td>\n",
       "    </tr>\n",
       "    <tr>\n",
       "      <th>3</th>\n",
       "      <td>2000-09-05</td>\n",
       "      <td>275.799988</td>\n",
       "      <td>275.799988</td>\n",
       "      <td>275.799988</td>\n",
       "      <td>275.799988</td>\n",
       "      <td>275.799988</td>\n",
       "      <td>2</td>\n",
       "    </tr>\n",
       "    <tr>\n",
       "      <th>4</th>\n",
       "      <td>2000-09-06</td>\n",
       "      <td>274.200012</td>\n",
       "      <td>274.200012</td>\n",
       "      <td>274.200012</td>\n",
       "      <td>274.200012</td>\n",
       "      <td>274.200012</td>\n",
       "      <td>0</td>\n",
       "    </tr>\n",
       "    <tr>\n",
       "      <th>...</th>\n",
       "      <td>...</td>\n",
       "      <td>...</td>\n",
       "      <td>...</td>\n",
       "      <td>...</td>\n",
       "      <td>...</td>\n",
       "      <td>...</td>\n",
       "      <td>...</td>\n",
       "    </tr>\n",
       "    <tr>\n",
       "      <th>5908</th>\n",
       "      <td>2024-03-18</td>\n",
       "      <td>2146.199951</td>\n",
       "      <td>2160.699951</td>\n",
       "      <td>2146.199951</td>\n",
       "      <td>2160.699951</td>\n",
       "      <td>2160.699951</td>\n",
       "      <td>21</td>\n",
       "    </tr>\n",
       "    <tr>\n",
       "      <th>5909</th>\n",
       "      <td>2024-03-19</td>\n",
       "      <td>2156.100098</td>\n",
       "      <td>2156.300049</td>\n",
       "      <td>2156.100098</td>\n",
       "      <td>2156.300049</td>\n",
       "      <td>2156.300049</td>\n",
       "      <td>12</td>\n",
       "    </tr>\n",
       "    <tr>\n",
       "      <th>5910</th>\n",
       "      <td>2024-03-20</td>\n",
       "      <td>2157.300049</td>\n",
       "      <td>2185.899902</td>\n",
       "      <td>2150.899902</td>\n",
       "      <td>2157.899902</td>\n",
       "      <td>2157.899902</td>\n",
       "      <td>17</td>\n",
       "    </tr>\n",
       "    <tr>\n",
       "      <th>5911</th>\n",
       "      <td>2024-03-21</td>\n",
       "      <td>2207.000000</td>\n",
       "      <td>2211.600098</td>\n",
       "      <td>2182.399902</td>\n",
       "      <td>2182.399902</td>\n",
       "      <td>2182.399902</td>\n",
       "      <td>63</td>\n",
       "    </tr>\n",
       "    <tr>\n",
       "      <th>5912</th>\n",
       "      <td>2024-03-22</td>\n",
       "      <td>2183.399902</td>\n",
       "      <td>2188.000000</td>\n",
       "      <td>2158.399902</td>\n",
       "      <td>2166.500000</td>\n",
       "      <td>2166.500000</td>\n",
       "      <td>200525</td>\n",
       "    </tr>\n",
       "  </tbody>\n",
       "</table>\n",
       "<p>5913 rows × 7 columns</p>\n",
       "</div>"
      ],
      "text/plain": [
       "           Date         Open         High          Low        Close  \\\n",
       "0    2000-08-30   273.899994   273.899994   273.899994   273.899994   \n",
       "1    2000-08-31   274.799988   278.299988   274.799988   278.299988   \n",
       "2    2000-09-01   277.000000   277.000000   277.000000   277.000000   \n",
       "3    2000-09-05   275.799988   275.799988   275.799988   275.799988   \n",
       "4    2000-09-06   274.200012   274.200012   274.200012   274.200012   \n",
       "...         ...          ...          ...          ...          ...   \n",
       "5908 2024-03-18  2146.199951  2160.699951  2146.199951  2160.699951   \n",
       "5909 2024-03-19  2156.100098  2156.300049  2156.100098  2156.300049   \n",
       "5910 2024-03-20  2157.300049  2185.899902  2150.899902  2157.899902   \n",
       "5911 2024-03-21  2207.000000  2211.600098  2182.399902  2182.399902   \n",
       "5912 2024-03-22  2183.399902  2188.000000  2158.399902  2166.500000   \n",
       "\n",
       "        Adj Close  Volume  \n",
       "0      273.899994       0  \n",
       "1      278.299988       0  \n",
       "2      277.000000       0  \n",
       "3      275.799988       2  \n",
       "4      274.200012       0  \n",
       "...           ...     ...  \n",
       "5908  2160.699951      21  \n",
       "5909  2156.300049      12  \n",
       "5910  2157.899902      17  \n",
       "5911  2182.399902      63  \n",
       "5912  2166.500000  200525  \n",
       "\n",
       "[5913 rows x 7 columns]"
      ]
     },
     "execution_count": 34,
     "metadata": {},
     "output_type": "execute_result"
    }
   ],
   "source": [
    "import yfinance as yf\n",
    "import pandas as pd\n",
    "import numpy as np\n",
    "import matplotlib.pyplot as plt\n",
    "\n",
    "import torch\n",
    "import torch.nn as nn\n",
    "\n",
    "#fetching gold data from yahoo finance\n",
    "data = yf.Ticker('GC=F')\n",
    "data = yf.download('GC=F', period = 'max')\n",
    "\n",
    "# Resetting the index to turn the date index into a column\n",
    "data.reset_index(inplace=True)\n",
    "\n",
    "data"
   ]
  },
  {
   "cell_type": "code",
   "execution_count": 35,
   "id": "70548503-a6ae-4d95-a299-2abef9738ab2",
   "metadata": {
    "tags": []
   },
   "outputs": [
    {
     "data": {
      "text/html": [
       "<div>\n",
       "<style scoped>\n",
       "    .dataframe tbody tr th:only-of-type {\n",
       "        vertical-align: middle;\n",
       "    }\n",
       "\n",
       "    .dataframe tbody tr th {\n",
       "        vertical-align: top;\n",
       "    }\n",
       "\n",
       "    .dataframe thead th {\n",
       "        text-align: right;\n",
       "    }\n",
       "</style>\n",
       "<table border=\"1\" class=\"dataframe\">\n",
       "  <thead>\n",
       "    <tr style=\"text-align: right;\">\n",
       "      <th></th>\n",
       "      <th>Date</th>\n",
       "      <th>Close</th>\n",
       "    </tr>\n",
       "  </thead>\n",
       "  <tbody>\n",
       "    <tr>\n",
       "      <th>0</th>\n",
       "      <td>2000-08-30</td>\n",
       "      <td>273.899994</td>\n",
       "    </tr>\n",
       "    <tr>\n",
       "      <th>1</th>\n",
       "      <td>2000-08-31</td>\n",
       "      <td>278.299988</td>\n",
       "    </tr>\n",
       "    <tr>\n",
       "      <th>2</th>\n",
       "      <td>2000-09-01</td>\n",
       "      <td>277.000000</td>\n",
       "    </tr>\n",
       "    <tr>\n",
       "      <th>3</th>\n",
       "      <td>2000-09-05</td>\n",
       "      <td>275.799988</td>\n",
       "    </tr>\n",
       "    <tr>\n",
       "      <th>4</th>\n",
       "      <td>2000-09-06</td>\n",
       "      <td>274.200012</td>\n",
       "    </tr>\n",
       "    <tr>\n",
       "      <th>...</th>\n",
       "      <td>...</td>\n",
       "      <td>...</td>\n",
       "    </tr>\n",
       "    <tr>\n",
       "      <th>5908</th>\n",
       "      <td>2024-03-18</td>\n",
       "      <td>2160.699951</td>\n",
       "    </tr>\n",
       "    <tr>\n",
       "      <th>5909</th>\n",
       "      <td>2024-03-19</td>\n",
       "      <td>2156.300049</td>\n",
       "    </tr>\n",
       "    <tr>\n",
       "      <th>5910</th>\n",
       "      <td>2024-03-20</td>\n",
       "      <td>2157.899902</td>\n",
       "    </tr>\n",
       "    <tr>\n",
       "      <th>5911</th>\n",
       "      <td>2024-03-21</td>\n",
       "      <td>2182.399902</td>\n",
       "    </tr>\n",
       "    <tr>\n",
       "      <th>5912</th>\n",
       "      <td>2024-03-22</td>\n",
       "      <td>2166.500000</td>\n",
       "    </tr>\n",
       "  </tbody>\n",
       "</table>\n",
       "<p>5913 rows × 2 columns</p>\n",
       "</div>"
      ],
      "text/plain": [
       "           Date        Close\n",
       "0    2000-08-30   273.899994\n",
       "1    2000-08-31   278.299988\n",
       "2    2000-09-01   277.000000\n",
       "3    2000-09-05   275.799988\n",
       "4    2000-09-06   274.200012\n",
       "...         ...          ...\n",
       "5908 2024-03-18  2160.699951\n",
       "5909 2024-03-19  2156.300049\n",
       "5910 2024-03-20  2157.899902\n",
       "5911 2024-03-21  2182.399902\n",
       "5912 2024-03-22  2166.500000\n",
       "\n",
       "[5913 rows x 2 columns]"
      ]
     },
     "execution_count": 35,
     "metadata": {},
     "output_type": "execute_result"
    }
   ],
   "source": [
    "# trim dataset to relevent columns (we only need date and close to forecast prices)\n",
    "data = data[['Date', 'Close']]\n",
    "data"
   ]
  },
  {
   "cell_type": "code",
   "execution_count": 36,
   "id": "0d2794fe-8e4d-4793-a2be-af9af6096910",
   "metadata": {
    "tags": []
   },
   "outputs": [
    {
     "data": {
      "text/plain": [
       "[<matplotlib.lines.Line2D at 0x22929b45990>]"
      ]
     },
     "execution_count": 36,
     "metadata": {},
     "output_type": "execute_result"
    },
    {
     "data": {
      "image/png": "[encoded data removed]",
      "text/plain": [
       "<Figure size 640x480 with 1 Axes>"
      ]
     },
     "metadata": {},
     "output_type": "display_data"
    }
   ],
   "source": [
    "#simple transformations\n",
    "data.loc[:, 'Date'] = pd.to_datetime(data['Date'])\n",
    "\n",
    "plt.plot(data['Date'], data['Close'])"
   ]
  },
  {
   "cell_type": "code",
   "execution_count": 37,
   "id": "29d01443-a9df-420c-8f6e-8340b9036a7e",
   "metadata": {
    "tags": []
   },
   "outputs": [
    {
     "data": {
      "text/plain": [
       "'cuda:0'"
      ]
     },
     "execution_count": 37,
     "metadata": {},
     "output_type": "execute_result"
    }
   ],
   "source": [
    "device = 'cuda:0' if torch.cuda.is_available() else 'cpu'\n",
    "device"
   ]
  },
  {
   "cell_type": "code",
   "execution_count": 38,
   "id": "f48de125-1893-445f-a167-41f87a5aaf99",
   "metadata": {
    "tags": []
   },
   "outputs": [
    {
     "data": {
      "text/html": [
       "<div>\n",
       "<style scoped>\n",
       "    .dataframe tbody tr th:only-of-type {\n",
       "        vertical-align: middle;\n",
       "    }\n",
       "\n",
       "    .dataframe tbody tr th {\n",
       "        vertical-align: top;\n",
       "    }\n",
       "\n",
       "    .dataframe thead th {\n",
       "        text-align: right;\n",
       "    }\n",
       "</style>\n",
       "<table border=\"1\" class=\"dataframe\">\n",
       "  <thead>\n",
       "    <tr style=\"text-align: right;\">\n",
       "      <th></th>\n",
       "      <th>Close</th>\n",
       "      <th>Close(t-1)</th>\n",
       "      <th>Close(t-2)</th>\n",
       "      <th>Close(t-3)</th>\n",
       "      <th>Close(t-4)</th>\n",
       "      <th>Close(t-5)</th>\n",
       "      <th>Close(t-6)</th>\n",
       "      <th>Close(t-7)</th>\n",
       "    </tr>\n",
       "    <tr>\n",
       "      <th>Date</th>\n",
       "      <th></th>\n",
       "      <th></th>\n",
       "      <th></th>\n",
       "      <th></th>\n",
       "      <th></th>\n",
       "      <th></th>\n",
       "      <th></th>\n",
       "      <th></th>\n",
       "    </tr>\n",
       "  </thead>\n",
       "  <tbody>\n",
       "    <tr>\n",
       "      <th>2000-09-11</th>\n",
       "      <td>273.100006</td>\n",
       "      <td>273.299988</td>\n",
       "      <td>274.000000</td>\n",
       "      <td>274.200012</td>\n",
       "      <td>275.799988</td>\n",
       "      <td>277.000000</td>\n",
       "      <td>278.299988</td>\n",
       "      <td>273.899994</td>\n",
       "    </tr>\n",
       "    <tr>\n",
       "      <th>2000-09-12</th>\n",
       "      <td>272.899994</td>\n",
       "      <td>273.100006</td>\n",
       "      <td>273.299988</td>\n",
       "      <td>274.000000</td>\n",
       "      <td>274.200012</td>\n",
       "      <td>275.799988</td>\n",
       "      <td>277.000000</td>\n",
       "      <td>278.299988</td>\n",
       "    </tr>\n",
       "    <tr>\n",
       "      <th>2000-09-13</th>\n",
       "      <td>272.799988</td>\n",
       "      <td>272.899994</td>\n",
       "      <td>273.100006</td>\n",
       "      <td>273.299988</td>\n",
       "      <td>274.000000</td>\n",
       "      <td>274.200012</td>\n",
       "      <td>275.799988</td>\n",
       "      <td>277.000000</td>\n",
       "    </tr>\n",
       "    <tr>\n",
       "      <th>2000-09-14</th>\n",
       "      <td>272.399994</td>\n",
       "      <td>272.799988</td>\n",
       "      <td>272.899994</td>\n",
       "      <td>273.100006</td>\n",
       "      <td>273.299988</td>\n",
       "      <td>274.000000</td>\n",
       "      <td>274.200012</td>\n",
       "      <td>275.799988</td>\n",
       "    </tr>\n",
       "    <tr>\n",
       "      <th>2000-09-15</th>\n",
       "      <td>272.299988</td>\n",
       "      <td>272.399994</td>\n",
       "      <td>272.799988</td>\n",
       "      <td>272.899994</td>\n",
       "      <td>273.100006</td>\n",
       "      <td>273.299988</td>\n",
       "      <td>274.000000</td>\n",
       "      <td>274.200012</td>\n",
       "    </tr>\n",
       "    <tr>\n",
       "      <th>...</th>\n",
       "      <td>...</td>\n",
       "      <td>...</td>\n",
       "      <td>...</td>\n",
       "      <td>...</td>\n",
       "      <td>...</td>\n",
       "      <td>...</td>\n",
       "      <td>...</td>\n",
       "      <td>...</td>\n",
       "    </tr>\n",
       "    <tr>\n",
       "      <th>2024-03-18</th>\n",
       "      <td>2160.699951</td>\n",
       "      <td>2157.300049</td>\n",
       "      <td>2163.000000</td>\n",
       "      <td>2175.399902</td>\n",
       "      <td>2160.399902</td>\n",
       "      <td>2182.500000</td>\n",
       "      <td>2178.600098</td>\n",
       "      <td>2158.000000</td>\n",
       "    </tr>\n",
       "    <tr>\n",
       "      <th>2024-03-19</th>\n",
       "      <td>2156.300049</td>\n",
       "      <td>2160.699951</td>\n",
       "      <td>2157.300049</td>\n",
       "      <td>2163.000000</td>\n",
       "      <td>2175.399902</td>\n",
       "      <td>2160.399902</td>\n",
       "      <td>2182.500000</td>\n",
       "      <td>2178.600098</td>\n",
       "    </tr>\n",
       "    <tr>\n",
       "      <th>2024-03-20</th>\n",
       "      <td>2157.899902</td>\n",
       "      <td>2156.300049</td>\n",
       "      <td>2160.699951</td>\n",
       "      <td>2157.300049</td>\n",
       "      <td>2163.000000</td>\n",
       "      <td>2175.399902</td>\n",
       "      <td>2160.399902</td>\n",
       "      <td>2182.500000</td>\n",
       "    </tr>\n",
       "    <tr>\n",
       "      <th>2024-03-21</th>\n",
       "      <td>2182.399902</td>\n",
       "      <td>2157.899902</td>\n",
       "      <td>2156.300049</td>\n",
       "      <td>2160.699951</td>\n",
       "      <td>2157.300049</td>\n",
       "      <td>2163.000000</td>\n",
       "      <td>2175.399902</td>\n",
       "      <td>2160.399902</td>\n",
       "    </tr>\n",
       "    <tr>\n",
       "      <th>2024-03-22</th>\n",
       "      <td>2166.500000</td>\n",
       "      <td>2182.399902</td>\n",
       "      <td>2157.899902</td>\n",
       "      <td>2156.300049</td>\n",
       "      <td>2160.699951</td>\n",
       "      <td>2157.300049</td>\n",
       "      <td>2163.000000</td>\n",
       "      <td>2175.399902</td>\n",
       "    </tr>\n",
       "  </tbody>\n",
       "</table>\n",
       "<p>5906 rows × 8 columns</p>\n",
       "</div>"
      ],
      "text/plain": [
       "                  Close   Close(t-1)   Close(t-2)   Close(t-3)   Close(t-4)  \\\n",
       "Date                                                                          \n",
       "2000-09-11   273.100006   273.299988   274.000000   274.200012   275.799988   \n",
       "2000-09-12   272.899994   273.100006   273.299988   274.000000   274.200012   \n",
       "2000-09-13   272.799988   272.899994   273.100006   273.299988   274.000000   \n",
       "2000-09-14   272.399994   272.799988   272.899994   273.100006   273.299988   \n",
       "2000-09-15   272.299988   272.399994   272.799988   272.899994   273.100006   \n",
       "...                 ...          ...          ...          ...          ...   \n",
       "2024-03-18  2160.699951  2157.300049  2163.000000  2175.399902  2160.399902   \n",
       "2024-03-19  2156.300049  2160.699951  2157.300049  2163.000000  2175.399902   \n",
       "2024-03-20  2157.899902  2156.300049  2160.699951  2157.300049  2163.000000   \n",
       "2024-03-21  2182.399902  2157.899902  2156.300049  2160.699951  2157.300049   \n",
       "2024-03-22  2166.500000  2182.399902  2157.899902  2156.300049  2160.699951   \n",
       "\n",
       "             Close(t-5)   Close(t-6)   Close(t-7)  \n",
       "Date                                               \n",
       "2000-09-11   277.000000   278.299988   273.899994  \n",
       "2000-09-12   275.799988   277.000000   278.299988  \n",
       "2000-09-13   274.200012   275.799988   277.000000  \n",
       "2000-09-14   274.000000   274.200012   275.799988  \n",
       "2000-09-15   273.299988   274.000000   274.200012  \n",
       "...                 ...          ...          ...  \n",
       "2024-03-18  2182.500000  2178.600098  2158.000000  \n",
       "2024-03-19  2160.399902  2182.500000  2178.600098  \n",
       "2024-03-20  2175.399902  2160.399902  2182.500000  \n",
       "2024-03-21  2163.000000  2175.399902  2160.399902  \n",
       "2024-03-22  2157.300049  2163.000000  2175.399902  \n",
       "\n",
       "[5906 rows x 8 columns]"
      ]
     },
     "execution_count": 38,
     "metadata": {},
     "output_type": "execute_result"
    }
   ],
   "source": [
    "#takes df from above and creates a lookback window of a week (lookback =7) \n",
    "from copy import deepcopy as dc\n",
    "\n",
    "def prepare_dataframe_for_lstm(df, n_steps):\n",
    "    df = dc(df)\n",
    "    \n",
    "    df.set_index('Date', inplace=True)\n",
    "    \n",
    "    #shifts dataframe for each lookback window\n",
    "    for i in range(1, n_steps+1):\n",
    "        df[f'Close(t-{i})'] = df['Close'].shift(i)\n",
    "        \n",
    "    df.dropna(inplace=True)\n",
    "    \n",
    "    return df\n",
    "\n",
    "#any greater lookback doesn't capture the volatility of gold \n",
    "lookback = 7\n",
    "shifted_df = prepare_dataframe_for_lstm(data, lookback)\n",
    "shifted_df"
   ]
  },
  {
   "cell_type": "code",
   "execution_count": 39,
   "id": "3b26c0e3-680c-450a-bb5e-c1fa73c87b8b",
   "metadata": {
    "tags": []
   },
   "outputs": [
    {
     "data": {
      "text/plain": [
       "array([[ 273.1000061 ,  273.29998779,  274.        , ...,  277.        ,\n",
       "         278.29998779,  273.8999939 ],\n",
       "       [ 272.8999939 ,  273.1000061 ,  273.29998779, ...,  275.79998779,\n",
       "         277.        ,  278.29998779],\n",
       "       [ 272.79998779,  272.8999939 ,  273.1000061 , ...,  274.20001221,\n",
       "         275.79998779,  277.        ],\n",
       "       ...,\n",
       "       [2157.89990234, 2156.30004883, 2160.69995117, ..., 2175.39990234,\n",
       "        2160.39990234, 2182.5       ],\n",
       "       [2182.39990234, 2157.89990234, 2156.30004883, ..., 2163.        ,\n",
       "        2175.39990234, 2160.39990234],\n",
       "       [2166.5       , 2182.39990234, 2157.89990234, ..., 2157.30004883,\n",
       "        2163.        , 2175.39990234]])"
      ]
     },
     "execution_count": 39,
     "metadata": {},
     "output_type": "execute_result"
    }
   ],
   "source": [
    "shifted_df_as_np = shifted_df.to_numpy()\n",
    "\n",
    "shifted_df_as_np"
   ]
  },
  {
   "cell_type": "code",
   "execution_count": 40,
   "id": "053d754f-bf59-4f57-a3e0-ce8148c3e9fd",
   "metadata": {
    "tags": []
   },
   "outputs": [
    {
     "data": {
      "text/plain": [
       "(5906, 8)"
      ]
     },
     "execution_count": 40,
     "metadata": {},
     "output_type": "execute_result"
    }
   ],
   "source": [
    "shifted_df_as_np.shape"
   ]
  },
  {
   "cell_type": "code",
   "execution_count": 41,
   "id": "737e2d2a-59eb-4dfe-98d4-e80e418d09e0",
   "metadata": {
    "tags": []
   },
   "outputs": [
    {
     "data": {
      "text/plain": [
       "array([[-0.98132199, -0.98111447, -0.98038809, ..., -0.97727509,\n",
       "        -0.97592614, -0.98049187],\n",
       "       [-0.98152953, -0.98132199, -0.98111447, ..., -0.97852031,\n",
       "        -0.97727509, -0.97592614],\n",
       "       [-0.98163331, -0.98152953, -0.98132199, ..., -0.98018055,\n",
       "        -0.97852031, -0.97727509],\n",
       "       ...,\n",
       "       [ 0.97447328,  0.97281317,  0.9773788 , ...,  0.99263246,\n",
       "         0.97706745,  1.        ],\n",
       "       [ 0.99989613,  0.97447328,  0.97281317, ...,  0.97976549,\n",
       "         0.99263246,  0.97706745],\n",
       "       [ 0.98339732,  0.99989613,  0.97447328, ...,  0.97385083,\n",
       "         0.97976549,  0.99263246]])"
      ]
     },
     "execution_count": 41,
     "metadata": {},
     "output_type": "execute_result"
    }
   ],
   "source": [
    "#runs scaler on data\n",
    "from sklearn.preprocessing import MinMaxScaler\n",
    "\n",
    "scaler = MinMaxScaler(feature_range=(-1, 1))\n",
    "shifted_df_as_np = scaler.fit_transform(shifted_df_as_np)\n",
    "\n",
    "shifted_df_as_np"
   ]
  },
  {
   "cell_type": "code",
   "execution_count": 42,
   "id": "312cb918-7a74-4eb6-bdd0-9e70d4103744",
   "metadata": {
    "tags": []
   },
   "outputs": [
    {
     "data": {
      "text/plain": [
       "((5906, 7), (5906,))"
      ]
     },
     "execution_count": 42,
     "metadata": {},
     "output_type": "execute_result"
    }
   ],
   "source": [
    "#changes df into x and y\n",
    "X = shifted_df_as_np[:, 1:]\n",
    "y = shifted_df_as_np[:, 0]\n",
    "\n",
    "X.shape, y.shape"
   ]
  },
  {
   "cell_type": "code",
   "execution_count": 43,
   "id": "36606079-ad71-43ab-b5a4-e35dd7b23329",
   "metadata": {
    "tags": []
   },
   "outputs": [
    {
     "data": {
      "text/plain": [
       "array([[-0.98049187, -0.97592614, -0.97727509, ..., -0.98018055,\n",
       "        -0.98038809, -0.98111447],\n",
       "       [-0.97592614, -0.97727509, -0.97852031, ..., -0.98038809,\n",
       "        -0.98111447, -0.98132199],\n",
       "       [-0.97727509, -0.97852031, -0.98018055, ..., -0.98111447,\n",
       "        -0.98132199, -0.98152953],\n",
       "       ...,\n",
       "       [ 1.        ,  0.97706745,  0.99263246, ...,  0.97385083,\n",
       "         0.9773788 ,  0.97281317],\n",
       "       [ 0.97706745,  0.99263246,  0.97976549, ...,  0.9773788 ,\n",
       "         0.97281317,  0.97447328],\n",
       "       [ 0.99263246,  0.97976549,  0.97385083, ...,  0.97281317,\n",
       "         0.97447328,  0.99989613]])"
      ]
     },
     "execution_count": 43,
     "metadata": {},
     "output_type": "execute_result"
    }
   ],
   "source": [
    "X = dc(np.flip(X, axis=1))\n",
    "X"
   ]
  },
  {
   "cell_type": "code",
   "execution_count": 44,
   "id": "b27f4480-95d6-443f-b86c-eb077cc32bae",
   "metadata": {
    "tags": []
   },
   "outputs": [
    {
     "data": {
      "text/plain": [
       "5610"
      ]
     },
     "execution_count": 44,
     "metadata": {},
     "output_type": "execute_result"
    }
   ],
   "source": [
    "#use first 95% as train and last 5% as test\n",
    "split_index = int(len(X) * 0.95)\n",
    "\n",
    "split_index"
   ]
  },
  {
   "cell_type": "code",
   "execution_count": 45,
   "id": "f99b6a58-b72f-405d-ad6b-d08c5f03af89",
   "metadata": {
    "tags": []
   },
   "outputs": [
    {
     "data": {
      "text/plain": [
       "((5610, 7), (296, 7), (5610,), (296,))"
      ]
     },
     "execution_count": 45,
     "metadata": {},
     "output_type": "execute_result"
    }
   ],
   "source": [
    "# splitting into train and test\n",
    "X_train = X[:split_index]\n",
    "X_test = X[split_index:]\n",
    "\n",
    "y_train = y[:split_index]\n",
    "y_test = y[split_index:]\n",
    "\n",
    "X_train.shape, X_test.shape, y_train.shape, y_test.shape"
   ]
  },
  {
   "cell_type": "code",
   "execution_count": 46,
   "id": "6dc232db-0a94-4602-b129-201ee41884bf",
   "metadata": {
    "tags": []
   },
   "outputs": [
    {
     "data": {
      "text/plain": [
       "((5610, 7, 1), (296, 7, 1), (5610, 1), (296, 1))"
      ]
     },
     "execution_count": 46,
     "metadata": {},
     "output_type": "execute_result"
    }
   ],
   "source": [
    "#PyTorch requires an extra dimension at end\n",
    "X_train = X_train.reshape((-1, lookback, 1))\n",
    "X_test = X_test.reshape((-1, lookback, 1))\n",
    "\n",
    "y_train = y_train.reshape((-1, 1))\n",
    "y_test = y_test.reshape((-1, 1))\n",
    "\n",
    "X_train.shape, X_test.shape, y_train.shape, y_test.shape"
   ]
  },
  {
   "cell_type": "code",
   "execution_count": 47,
   "id": "68651751-8738-4dd3-b26f-4e240fe214fb",
   "metadata": {
    "tags": []
   },
   "outputs": [
    {
     "data": {
      "text/plain": [
       "(torch.Size([5610, 7, 1]),\n",
       " torch.Size([296, 7, 1]),\n",
       " torch.Size([5610, 1]),\n",
       " torch.Size([296, 1]))"
      ]
     },
     "execution_count": 47,
     "metadata": {},
     "output_type": "execute_result"
    }
   ],
   "source": [
    "#wrapping in tensors for PyTorch\n",
    "X_train = torch.tensor(X_train).float()\n",
    "y_train = torch.tensor(y_train).float()\n",
    "X_test = torch.tensor(X_test).float()\n",
    "y_test = torch.tensor(y_test).float()\n",
    "\n",
    "X_train.shape, X_test.shape, y_train.shape, y_test.shape"
   ]
  },
  {
   "cell_type": "code",
   "execution_count": 48,
   "id": "59deda0e-c07d-4948-ab8d-7676071a132b",
   "metadata": {
    "tags": []
   },
   "outputs": [],
   "source": [
    "#need datasets object for PyTorch\n",
    "#needs to be custom class\n",
    "from torch.utils.data import Dataset\n",
    "\n",
    "class TimeSeriesDataset(Dataset):\n",
    "    def __init__(self, X, y):\n",
    "        self.X = X\n",
    "        self.y = y\n",
    "\n",
    "    def __len__(self):\n",
    "        return len(self.X)\n",
    "\n",
    "    def __getitem__(self, i):\n",
    "        return self.X[i], self.y[i]\n",
    "    \n",
    "train_dataset = TimeSeriesDataset(X_train, y_train)\n",
    "test_dataset = TimeSeriesDataset(X_test, y_test)"
   ]
  },
  {
   "cell_type": "code",
   "execution_count": 49,
   "id": "5167f5f7-30d0-4f8f-8981-953477493711",
   "metadata": {
    "tags": []
   },
   "outputs": [
    {
     "data": {
      "text/plain": [
       "<__main__.TimeSeriesDataset at 0x22929af7ad0>"
      ]
     },
     "execution_count": 49,
     "metadata": {},
     "output_type": "execute_result"
    }
   ],
   "source": [
    "train_dataset"
   ]
  },
  {
   "cell_type": "code",
   "execution_count": 50,
   "id": "dd573555-5f4d-4bb6-80a2-341908f273e2",
   "metadata": {
    "tags": []
   },
   "outputs": [],
   "source": [
    "# wrap datasets in dataloaders to get batches\n",
    "# used for iteration\n",
    "from torch.utils.data import DataLoader\n",
    "\n",
    "batch_size = 16\n",
    "\n",
    "train_loader = DataLoader(train_dataset, batch_size=batch_size, shuffle=True)\n",
    "test_loader = DataLoader(test_dataset, batch_size=batch_size, shuffle=False)"
   ]
  },
  {
   "cell_type": "code",
   "execution_count": 51,
   "id": "7b863d07-aecb-4379-be26-acb0f9910224",
   "metadata": {
    "tags": []
   },
   "outputs": [
    {
     "name": "stdout",
     "output_type": "stream",
     "text": [
      "torch.Size([16, 7, 1]) torch.Size([16, 1])\n"
     ]
    }
   ],
   "source": [
    "#gives predicted outputs of arrays\n",
    "for _, batch in enumerate(train_loader):\n",
    "    x_batch, y_batch = batch[0].to(device), batch[1].to(device)\n",
    "    print(x_batch.shape, y_batch.shape)\n",
    "    break"
   ]
  },
  {
   "cell_type": "code",
   "execution_count": 52,
   "id": "38e3f457-ccb7-4ece-b7c7-c1fcb6424536",
   "metadata": {
    "tags": []
   },
   "outputs": [
    {
     "data": {
      "text/plain": [
       "LSTM(\n",
       "  (lstm): LSTM(1, 12, batch_first=True)\n",
       "  (fc): Linear(in_features=12, out_features=1, bias=True)\n",
       ")"
      ]
     },
     "execution_count": 52,
     "metadata": {},
     "output_type": "execute_result"
    }
   ],
   "source": [
    "#takes in number of features, dimensions and number of stacked layers (more layers = more complexity in model)\n",
    "class LSTM(nn.Module):\n",
    "    def __init__(self, input_size, hidden_size, num_stacked_layers):\n",
    "        super().__init__()\n",
    "        self.hidden_size = hidden_size\n",
    "        self.num_stacked_layers = num_stacked_layers\n",
    "        \n",
    "        #initally use 1 layer to prevent overfitting in training data\n",
    "        self.lstm = nn.LSTM(input_size, hidden_size, num_stacked_layers, \n",
    "                            batch_first=True)\n",
    "        \n",
    "        #maps hidden layer to 1. Needed to predict final closing value\n",
    "        self.fc = nn.Linear(hidden_size, 1)\n",
    "\n",
    "    def forward(self, x):\n",
    "        batch_size = x.size(0)\n",
    "        #initialise LSTM with default h0 and c0\n",
    "        h0 = torch.zeros(self.num_stacked_layers, batch_size, self.hidden_size).to(device)\n",
    "        c0 = torch.zeros(self.num_stacked_layers, batch_size, self.hidden_size).to(device)\n",
    "        \n",
    "        out, _ = self.lstm(x, (h0, c0))\n",
    "        #output is gotten from passing varibles in fully connected layer\n",
    "        out = self.fc(out[:, -1, :])\n",
    "        return out\n",
    "\n",
    "#initial model has 1 input size, 4 hidden sizes and 1 stacked layer\n",
    "#model = LSTM(1, 4, 1)\n",
    "#Attempt 2:  Increase to 8 hidden units and 2 stacked layers\n",
    "#model = LSTM(1, 8, 2)  \n",
    "#Attempt 3:  Increase to 16 hidden units and 4 stacked layers\n",
    "#model = LSTM(1, 16, 4)\n",
    "#Attempt 4: Inrcease to 32 hidden unit and 8 stacked layers <----overfitted\n",
    "#model = LSTM(1, 32, 8)\n",
    "#Attempt 5:  Increase to 24 hidden units and 6 stacked layers\n",
    "#model = LSTM(1, 24, 6)\n",
    "#Attempt 6: 16 hidden units and 1 stacked layer\n",
    "#model = LSTM(1, 16, 1)\n",
    "#Attempt 7: 12 hidden units and 1 stacked layer\n",
    "model = LSTM(1,12,1)\n",
    "model.to(device)\n",
    "model"
   ]
  },
  {
   "cell_type": "code",
   "execution_count": 53,
   "id": "df5de0d6-6408-4ab3-a280-4a51477e3d20",
   "metadata": {},
   "outputs": [],
   "source": [
    "#sets model to training mode\n",
    "def train_one_epoch():\n",
    "    model.train(True)\n",
    "    print(f'Epoch: {epoch + 1}')\n",
    "    running_loss = 0.0\n",
    "    \n",
    "    for batch_index, batch in enumerate(train_loader):\n",
    "        #puts x and y batch onto device we're using \n",
    "        x_batch, y_batch = batch[0].to(device), batch[1].to(device)\n",
    "        \n",
    "        output = model(x_batch)\n",
    "        #comparing model's output to ground truth\n",
    "        #loss is a tensor with a single value\n",
    "        loss = loss_function(output, y_batch)\n",
    "        running_loss += loss.item()\n",
    "        \n",
    "        #zero out gradients \n",
    "        optimizer.zero_grad()\n",
    "        #backwards pass \n",
    "        loss.backward()\n",
    "        optimizer.step()\n",
    "\n",
    "        #every 100 batches get avg loss across batches and print\n",
    "        if batch_index % 100 == 99:  # print every 100 batches\n",
    "            avg_loss_across_batches = running_loss / 100\n",
    "            print('Batch {0}, Loss: {1:.3f}'.format(batch_index+1,\n",
    "                                                    avg_loss_across_batches))\n",
    "            running_loss = 0.0\n",
    "    print()"
   ]
  },
  {
   "cell_type": "code",
   "execution_count": 54,
   "id": "6342d9f3-10e5-4f57-9e9d-9b9397ac0139",
   "metadata": {
    "tags": []
   },
   "outputs": [],
   "source": [
    "#sets model to validate mode\n",
    "def validate_one_epoch():\n",
    "    model.train(False)\n",
    "    running_loss = 0.0\n",
    "    \n",
    "    for batch_index, batch in enumerate(test_loader):\n",
    "        x_batch, y_batch = batch[0].to(device), batch[1].to(device)\n",
    "        \n",
    "        #don't need to calcualte gradient as there's no model updates\n",
    "        with torch.no_grad():\n",
    "            output = model(x_batch)\n",
    "            #compare output to ground truth\n",
    "            loss = loss_function(output, y_batch)\n",
    "            running_loss += loss.item()\n",
    "    #average loss value across all batches\n",
    "    avg_loss_across_batches = running_loss / len(test_loader)\n",
    "    \n",
    "    print('Val Loss: {0:.3f}'.format(avg_loss_across_batches))\n",
    "    print('***************************************************')\n",
    "    print()"
   ]
  },
  {
   "cell_type": "code",
   "execution_count": 55,
   "id": "46cf3fd4-67a2-4349-8a55-5b292099537a",
   "metadata": {
    "tags": []
   },
   "outputs": [
    {
     "name": "stdout",
     "output_type": "stream",
     "text": [
      "Epoch: 1\n",
      "Batch 100, Loss: 0.192\n",
      "Batch 200, Loss: 0.007\n",
      "Batch 300, Loss: 0.003\n",
      "\n",
      "Val Loss: 0.019\n",
      "***************************************************\n",
      "\n",
      "Epoch: 2\n",
      "Batch 100, Loss: 0.002\n",
      "Batch 200, Loss: 0.001\n",
      "Batch 300, Loss: 0.001\n",
      "\n",
      "Val Loss: 0.006\n",
      "***************************************************\n",
      "\n",
      "Epoch: 3\n",
      "Batch 100, Loss: 0.001\n",
      "Batch 200, Loss: 0.001\n",
      "Batch 300, Loss: 0.001\n",
      "\n",
      "Val Loss: 0.003\n",
      "***************************************************\n",
      "\n",
      "Epoch: 4\n",
      "Batch 100, Loss: 0.001\n",
      "Batch 200, Loss: 0.000\n",
      "Batch 300, Loss: 0.000\n",
      "\n",
      "Val Loss: 0.002\n",
      "***************************************************\n",
      "\n",
      "Epoch: 5\n",
      "Batch 100, Loss: 0.000\n",
      "Batch 200, Loss: 0.000\n",
      "Batch 300, Loss: 0.000\n",
      "\n",
      "Val Loss: 0.001\n",
      "***************************************************\n",
      "\n",
      "Epoch: 6\n",
      "Batch 100, Loss: 0.000\n",
      "Batch 200, Loss: 0.000\n",
      "Batch 300, Loss: 0.000\n",
      "\n",
      "Val Loss: 0.001\n",
      "***************************************************\n",
      "\n",
      "Epoch: 7\n",
      "Batch 100, Loss: 0.000\n",
      "Batch 200, Loss: 0.000\n",
      "Batch 300, Loss: 0.000\n",
      "\n",
      "Val Loss: 0.001\n",
      "***************************************************\n",
      "\n",
      "Epoch: 8\n",
      "Batch 100, Loss: 0.000\n",
      "Batch 200, Loss: 0.000\n",
      "Batch 300, Loss: 0.000\n",
      "\n",
      "Val Loss: 0.001\n",
      "***************************************************\n",
      "\n",
      "Epoch: 9\n",
      "Batch 100, Loss: 0.000\n",
      "Batch 200, Loss: 0.000\n",
      "Batch 300, Loss: 0.000\n",
      "\n",
      "Val Loss: 0.001\n",
      "***************************************************\n",
      "\n",
      "Epoch: 10\n",
      "Batch 100, Loss: 0.000\n",
      "Batch 200, Loss: 0.000\n",
      "Batch 300, Loss: 0.000\n",
      "\n",
      "Val Loss: 0.001\n",
      "***************************************************\n",
      "\n"
     ]
    }
   ],
   "source": [
    "learning_rate = 0.001\n",
    "#10 epochs is all that is necessary as any more will cause overfitting\n",
    "num_epochs = 10\n",
    "#trying to minimise mean squared error\n",
    "loss_function = nn.MSELoss()\n",
    "optimizer = torch.optim.Adam(model.parameters(), lr=learning_rate)\n",
    "\n",
    "for epoch in range(num_epochs):\n",
    "    train_one_epoch()\n",
    "    validate_one_epoch()"
   ]
  },
  {
   "cell_type": "code",
   "execution_count": 56,
   "id": "d8d0dae6-1795-4674-8823-288bcc515c92",
   "metadata": {
    "tags": []
   },
   "outputs": [
    {
     "data": {
      "image/png": "[encoded data removed]",
      "text/plain": [
       "<Figure size 640x480 with 1 Axes>"
      ]
     },
     "metadata": {},
     "output_type": "display_data"
    }
   ],
   "source": [
    "#no gradients for predictions\n",
    "with torch.no_grad():\n",
    "    #makes sure it on the device and is put to the CPU (numpy doesn't use GPU)\n",
    "    predicted = model(X_train.to(device)).to('cpu').numpy()\n",
    "\n",
    "plt.plot(y_train, label='Actual Close')\n",
    "plt.plot(predicted, label='Predicted Close')\n",
    "plt.xlabel('Day')\n",
    "plt.ylabel('Close')\n",
    "plt.legend()\n",
    "plt.show()"
   ]
  },
  {
   "cell_type": "code",
   "execution_count": 57,
   "id": "3e3fbb5e-658d-4589-a9d6-639db59ad2b9",
   "metadata": {
    "tags": []
   },
   "outputs": [
    {
     "data": {
      "text/plain": [
       "array([ 285.284273  ,  284.8724785 ,  284.31409458, ..., 1887.11547967,\n",
       "       1891.47134528, 1898.89955744])"
      ]
     },
     "execution_count": 57,
     "metadata": {},
     "output_type": "execute_result"
    }
   ],
   "source": [
    "#above data still includes scalar begins at -1\n",
    "#do opposite of earlier transform\n",
    "train_predictions = predicted.flatten()\n",
    "\n",
    "#lookback+1 is the length of the whole dataset\n",
    "dummies = np.zeros((X_train.shape[0], lookback+1))\n",
    "dummies[:, 0] = train_predictions\n",
    "dummies = scaler.inverse_transform(dummies)\n",
    "\n",
    "#return in right scale\n",
    "train_predictions = dc(dummies[:, 0])\n",
    "train_predictions"
   ]
  },
  {
   "cell_type": "code",
   "execution_count": 58,
   "id": "44214f13-964a-41b8-9f16-65eb6cdd896a",
   "metadata": {
    "tags": []
   },
   "outputs": [
    {
     "data": {
      "text/plain": [
       "array([ 273.10000381,  272.89999426,  272.79998949, ..., 1904.40004977,\n",
       "       1922.09997572, 1926.40000868])"
      ]
     },
     "execution_count": 58,
     "metadata": {},
     "output_type": "execute_result"
    }
   ],
   "source": [
    "#first column is no y_train.flatter()\n",
    "dummies = np.zeros((X_train.shape[0], lookback+1))\n",
    "dummies[:, 0] = y_train.flatten()\n",
    "dummies = scaler.inverse_transform(dummies)\n",
    "\n",
    "new_y_train = dc(dummies[:, 0])\n",
    "new_y_train"
   ]
  },
  {
   "cell_type": "code",
   "execution_count": 59,
   "id": "3d82eb6b-eeb1-4e61-ad3e-161829f8b8f1",
   "metadata": {
    "tags": []
   },
   "outputs": [
    {
     "data": {
      "image/png": "[encoded data removed]",
      "text/plain": [
       "<Figure size 640x480 with 1 Axes>"
      ]
     },
     "metadata": {},
     "output_type": "display_data"
    }
   ],
   "source": [
    "#same graph as earlier with different y_train and predictions\n",
    "plt.plot(new_y_train, label='Actual Close')\n",
    "plt.plot(train_predictions, label='Predicted Close')\n",
    "plt.xlabel('Day')\n",
    "plt.ylabel('Close')\n",
    "plt.legend()\n",
    "plt.show()\n"
   ]
  },
  {
   "cell_type": "code",
   "execution_count": 60,
   "id": "a1ca2cd9-e6cb-4802-bc76-0b8327bb0888",
   "metadata": {
    "tags": []
   },
   "outputs": [
    {
     "data": {
      "text/plain": [
       "array([1905.34564345, 1910.33134958, 1915.03002305, 1919.62139674,\n",
       "       1920.86367316, 1922.03317184, 1920.73736041, 1921.03117111,\n",
       "       1920.49415524, 1917.12707893, 1901.80423372, 1891.56307855,\n",
       "       1883.7086542 , 1878.42660997, 1871.19599484, 1865.4113419 ,\n",
       "       1859.16865445, 1856.934889  , 1849.80962065, 1846.04683333,\n",
       "       1842.12143055, 1837.72937711, 1834.36976814, 1828.66765791,\n",
       "       1822.06217313, 1819.49570943, 1819.76838184, 1822.19882526,\n",
       "       1823.60819754, 1828.81665985, 1833.44037282, 1829.11207889,\n",
       "       1825.46313962, 1825.60611026, 1832.86165479, 1850.49828075,\n",
       "       1862.57708827, 1878.54740839, 1890.72283166, 1912.51870271,\n",
       "       1929.85703758, 1932.81082592, 1936.38606839, 1949.54643242,\n",
       "       1955.29133619, 1953.73238756, 1955.79739137, 1955.21654802,\n",
       "       1959.57442406, 1959.41720805, 1961.33998795, 1971.90712078,\n",
       "       1980.5253955 , 1985.22935354, 1984.60726755, 1987.50229375,\n",
       "       1990.6588488 , 1998.78129284, 1994.62411564, 1991.04100375,\n",
       "       1991.54878215, 1989.40083355, 1989.84266969, 1983.16676226,\n",
       "       1979.73517971, 1979.25537508, 1977.08559889, 1976.03488819,\n",
       "       1975.60689533, 1973.47141143, 1979.92507965, 1987.15408643,\n",
       "       1997.15709124, 1998.78186725, 2002.9831017 , 2008.08190915,\n",
       "       2010.57703113, 2007.86145061, 2005.30808345, 2003.23549743,\n",
       "       1995.96139947, 1988.51486363, 1976.49659892, 1972.32994395,\n",
       "       1967.8005491 , 1963.85429523, 1958.79891317, 1951.84332553,\n",
       "       1947.1676859 , 1947.03470999, 1946.93378616, 1950.37295091,\n",
       "       1947.49274449, 1947.85422068, 1950.2916719 , 1946.54582967,\n",
       "       1948.15860052, 1948.18829751, 1946.42198689, 1943.7731528 ,\n",
       "       1944.03669209, 1944.2321638 , 1945.28626351, 1940.08595782,\n",
       "       1936.05917168, 1928.08842931, 1923.65582254, 1920.17736814,\n",
       "       1914.92071284, 1910.79219869, 1907.79498496, 1908.45555641,\n",
       "       1909.62160863, 1909.92133575, 1907.64598302, 1910.59747371,\n",
       "       1912.2323019 , 1915.20763061, 1922.90707915, 1929.46867901,\n",
       "       1935.39882999, 1938.88716424, 1946.87002666, 1952.63066926,\n",
       "       1954.88901946, 1955.06685678, 1954.19961263, 1953.7931027 ,\n",
       "       1954.94186518, 1949.29754059, 1948.86265481, 1950.72006685,\n",
       "       1945.40574079, 1941.27108045, 1936.3926741 , 1933.94591744,\n",
       "       1931.04112627, 1926.06145145, 1920.05817808, 1916.32439845,\n",
       "       1912.92934839, 1909.75475686, 1905.06515907, 1900.28411521,\n",
       "       1894.05486896, 1889.96455307, 1888.19525551, 1887.44789072,\n",
       "       1892.4092993 , 1896.50869086, 1898.86658631, 1903.11813907,\n",
       "       1910.53848181, 1917.55432506, 1921.5380879 , 1924.5935468 ,\n",
       "       1923.90448461, 1921.83017536, 1919.4424106 , 1916.65703926,\n",
       "       1915.17351066, 1911.36747026, 1908.20993872, 1906.46930421,\n",
       "       1908.52333679, 1911.72475326, 1914.43855312, 1919.95501405,\n",
       "       1918.56792888, 1919.62524529, 1917.79419866, 1911.88277344,\n",
       "       1900.02160986, 1887.92608701, 1874.46645539, 1860.09121429,\n",
       "       1847.08617071, 1835.56500038, 1826.83080974, 1824.55597397,\n",
       "       1827.97635552, 1834.19744515, 1843.11694045, 1849.80634652,\n",
       "       1869.73860189, 1882.93773859, 1893.91976773, 1909.69766051,\n",
       "       1924.19852507, 1938.48467518, 1948.20208335, 1953.78902439,\n",
       "       1960.52064959, 1965.94572189, 1969.08291933, 1972.72910143,\n",
       "       1972.56843897, 1971.57964966, 1972.3117926 , 1973.50673764,\n",
       "       1971.95106314, 1967.57497831, 1960.59538032, 1958.39843455,\n",
       "       1948.9233125 , 1944.56377067, 1944.09137592, 1943.61088198,\n",
       "       1949.73713653, 1954.46280727, 1957.50425057, 1966.20426382,\n",
       "       1970.24506556, 1973.15830056, 1977.80005   , 1982.480687  ,\n",
       "       1992.40735272, 2001.60026716, 2006.49469955, 2018.38521548,\n",
       "       2016.95797905, 2015.33245631, 2015.70593766, 2014.0275692 ,\n",
       "       2005.37925285, 1994.83509642, 1985.32838182, 1980.10699528,\n",
       "       1986.36783408, 1988.0066257 , 1991.78785158, 1999.20635621,\n",
       "       2005.00111877, 2010.70386085, 2018.54156987, 2022.81644367,\n",
       "       2031.85018911, 2036.73502885, 2038.27703239, 2040.36282984,\n",
       "       2035.06188752, 2032.25779042, 2029.17297917, 2022.21331322,\n",
       "       2017.28855198, 2012.6620244 , 2007.43971881, 2011.56076563,\n",
       "       2009.23756455, 2003.16961261, 2002.95415144, 2003.86482099,\n",
       "       2003.06926319, 2003.66820046, 2000.84985799, 2000.51503442,\n",
       "       2000.84520527, 2002.20069789, 2004.21153484, 2009.78985972,\n",
       "       2014.9848234 , 2016.07528327, 2015.11900557, 2016.26064536,\n",
       "       2016.40924522, 2015.393114  , 2012.04367208, 2008.40943771,\n",
       "       2000.6488145 , 1994.52020488, 1991.4499262 , 1990.57383613,\n",
       "       1990.88620027, 1994.43691543, 1996.54626369, 1999.04328122,\n",
       "       2005.25678864, 2006.9951255 , 2009.54665455, 2011.0132955 ,\n",
       "       2014.58445966, 2026.24394791, 2041.32743648, 2055.87844703,\n",
       "       2071.65197429, 2085.67923783, 2101.00432324, 2112.85307957,\n",
       "       2116.37547633, 2121.56705098, 2122.08132022, 2120.95363859,\n",
       "       2120.29025252, 2117.89645646, 2116.31389958, 2120.51668493])"
      ]
     },
     "execution_count": 60,
     "metadata": {},
     "output_type": "execute_result"
    }
   ],
   "source": [
    "#convert to vector of predictions \n",
    "test_predictions = model(X_test.to(device)).detach().cpu().numpy().flatten()\n",
    "\n",
    "dummies = np.zeros((X_test.shape[0], lookback+1))\n",
    "dummies[:, 0] = test_predictions\n",
    "dummies = scaler.inverse_transform(dummies)\n",
    "\n",
    "test_predictions = dc(dummies[:, 0])\n",
    "test_predictions"
   ]
  },
  {
   "cell_type": "code",
   "execution_count": 61,
   "id": "70635d39-dab3-4aea-8c8d-081a5cd65bb2",
   "metadata": {
    "tags": []
   },
   "outputs": [
    {
     "data": {
      "text/plain": [
       "array([1927.09998466, 1933.90002208, 1941.1999685 , 1929.09996525,\n",
       "       1928.59999883, 1922.90001391, 1929.49998435, 1927.80007552,\n",
       "       1916.30004347, 1862.90002155, 1866.19994933, 1871.6999247 ,\n",
       "       1877.40002449, 1866.19994933, 1862.80007422, 1851.90001338,\n",
       "       1853.99999875, 1834.19997255, 1842.00000028, 1840.40003878,\n",
       "       1832.99997271, 1831.99998241, 1818.00000334, 1808.80002365,\n",
       "       1817.00001304, 1828.90000673, 1837.69996732, 1833.49999658,\n",
       "       1847.69992775, 1847.90005218, 1813.90003737, 1812.69992264,\n",
       "       1829.30002583, 1861.99997859, 1911.69993875, 1906.19996338,\n",
       "       1926.59996079, 1919.00000005, 1969.80007017, 1979.19994451,\n",
       "       1937.99998805, 1946.80006352, 1993.80006711, 1982.09996808,\n",
       "       1952.40004366, 1972.40002197, 1966.09995097, 1980.30005447,\n",
       "       1968.99997453, 1983.89999657, 2022.19992946, 2020.90003973,\n",
       "       2011.90001215, 1989.09995761, 2004.80007528, 2010.90002185,\n",
       "       2041.30003713, 2002.19995116, 1994.19997132, 2007.40002708,\n",
       "       1995.19996162, 2007.59997919, 1979.50001628, 1989.09995761,\n",
       "       1994.00001922, 1985.69996762, 1989.89999581, 1990.09994791,\n",
       "       1983.40003014, 2014.30006929, 2028.5999478 , 2048.00001234,\n",
       "       2017.40004496, 2026.30006776, 2036.19996598, 2030.49998106,\n",
       "       2014.6999735 , 2014.50002139, 2018.00001616, 1988.40003908,\n",
       "       1980.69995868, 1956.50000963, 1978.69997809, 1974.80002166,\n",
       "       1972.40002197, 1962.80002319, 1943.10000177, 1944.09999206,\n",
       "       1958.0000238 , 1963.90001826, 1978.00000211, 1952.40004366,\n",
       "       1958.0000238 , 1965.49997977, 1942.69992523, 1963.60000394,\n",
       "       1962.19993711, 1955.30006723, 1944.59995849, 1955.30006723,\n",
       "       1957.80007169, 1958.4000429 , 1935.49998359, 1933.30005088,\n",
       "       1912.69992905, 1919.09994738, 1923.69993722, 1913.99999111,\n",
       "       1912.30002483, 1909.19993428, 1921.09998542, 1921.69995662,\n",
       "       1919.59997125, 1908.69996785, 1926.19994169, 1924.99999928,\n",
       "       1931.30007028, 1956.19993787, 1959.19996621, 1960.09995173,\n",
       "       1952.40004366, 1977.19996392, 1977.49997824, 1968.300056  ,\n",
       "       1964.30003736, 1960.30007616, 1962.09998977, 1968.9000272 ,\n",
       "       1945.39999669, 1960.4000235 , 1970.4999887 , 1940.69994463,\n",
       "       1937.40001685, 1931.99998882, 1939.59994956, 1933.50000299,\n",
       "       1924.09995632, 1915.40000051, 1914.40001021, 1912.89999604,\n",
       "       1910.60000112, 1902.50001651, 1896.09999818, 1884.09999971,\n",
       "       1886.0999803 , 1893.30003683, 1896.4000125 , 1918.49997618,\n",
       "       1918.19996186, 1911.09996755, 1917.90000497, 1936.49997389,\n",
       "       1944.30005905, 1938.19994016, 1939.80007399, 1926.19994169,\n",
       "       1918.09995708, 1917.49998588, 1918.40002884, 1923.30003301,\n",
       "       1911.30003454, 1909.09998695, 1909.99997247, 1923.69993722,\n",
       "       1931.50002239, 1931.99998882, 1945.59994879, 1919.19995215,\n",
       "       1925.40001838, 1916.60000035, 1900.40003114, 1871.59997736,\n",
       "       1860.40001708, 1848.10000429, 1830.00000181, 1824.59997377,\n",
       "       1818.50002721, 1816.59999394, 1830.19995391, 1849.50001368,\n",
       "       1860.99998829, 1872.80003465, 1869.30003988, 1927.39999898,\n",
       "       1921.09998542, 1922.69994692, 1955.30006723, 1968.40000333,\n",
       "       1982.49998717, 1976.30003583, 1974.99997377, 1984.09994868,\n",
       "       1987.19992435, 1988.59999118, 1996.19995192, 1985.19994375,\n",
       "       1978.8000403 , 1985.59996285, 1991.50001475, 1981.60000165,\n",
       "       1966.80004183, 1951.5000007 , 1964.19997514, 1932.59996002,\n",
       "       1945.50000146, 1961.80003289, 1960.09995173, 1983.89999657,\n",
       "       1981.60000165, 1977.69993034, 1999.30004248, 1991.40000998,\n",
       "       1991.50001475, 2002.19995116, 2011.80006482, 2039.69996074,\n",
       "       2047.09996937, 2038.09999924, 2071.00001899, 2024.09996273,\n",
       "       2018.49998259, 2030.49998106, 2029.90000986, 1998.30005218,\n",
       "       1978.00000211, 1977.80005   , 1982.30003507, 2030.19996674,\n",
       "       2021.09999183, 2026.30006776, 2038.40001356, 2034.4999997 ,\n",
       "       2039.09998954, 2057.10010213, 2058.19992488, 2081.8999075 ,\n",
       "       2073.89992767, 2062.39989563, 2064.39987622, 2034.19992794,\n",
       "       2042.30002743, 2042.4000322 , 2026.5999672 , 2026.40001509,\n",
       "       2021.69996304, 2014.30006929, 2046.69995028, 2025.999996  ,\n",
       "       2002.59997025, 2018.59998736, 2026.50001987, 2019.80004465,\n",
       "       2023.69994363, 2013.90005019, 2016.90002109, 2016.80007375,\n",
       "       2025.1999578 , 2031.49997136, 2048.39991655, 2053.00002128,\n",
       "       2036.0999612 , 2025.69992423, 2034.4999997 , 2035.19997568,\n",
       "       2032.19994734, 2023.30003942, 2018.19996827, 1992.90002414,\n",
       "       1990.30007234, 2002.10000383, 2011.49999306, 2015.59995903,\n",
       "       2027.50001016, 2022.30004912, 2019.699925  , 2038.59996567,\n",
       "       2028.50000046, 2033.99997583, 2032.99998553, 2045.69995998,\n",
       "       2086.89991644, 2117.69995081, 2133.50001581, 2150.30007111,\n",
       "       2157.99997919, 2178.60010102, 2182.5       , 2160.39992144,\n",
       "       2175.39989081, 2162.99998812, 2157.30006065, 2160.69993576,\n",
       "       2156.30007035, 2157.89991697, 2182.39988034, 2166.49998289])"
      ]
     },
     "execution_count": 61,
     "metadata": {},
     "output_type": "execute_result"
    }
   ],
   "source": [
    "#make ground truth proper scale\n",
    "dummies = np.zeros((X_test.shape[0], lookback+1))\n",
    "dummies[:, 0] = y_test.flatten()\n",
    "dummies = scaler.inverse_transform(dummies)\n",
    "\n",
    "new_y_test = dc(dummies[:, 0])\n",
    "new_y_test"
   ]
  },
  {
   "cell_type": "code",
   "execution_count": 62,
   "id": "d1f438e7-08f0-4974-87fa-4262bcf714bc",
   "metadata": {
    "tags": []
   },
   "outputs": [
    {
     "data": {
      "image/png": "[encoded data removed]",
      "text/plain": [
       "<Figure size 640x480 with 1 Axes>"
      ]
     },
     "metadata": {},
     "output_type": "display_data"
    }
   ],
   "source": [
    "#revised graph with more accurate axises \n",
    "plt.plot(new_y_test, label='Actual Close')\n",
    "plt.plot(test_predictions, label='Predicted Close')\n",
    "plt.xlabel('Day')\n",
    "plt.ylabel('Close')\n",
    "plt.legend()\n",
    "plt.show()"
   ]
  },
  {
   "cell_type": "code",
   "execution_count": 63,
   "id": "21e570b1-903a-4ca5-b385-499d9a8c6671",
   "metadata": {},
   "outputs": [
    {
     "name": "stdout",
     "output_type": "stream",
     "text": [
      "Root Mean Square Error (RMSE): 30.019649925637157\n",
      "Mean Absolute Error (MAE): 22.859635404720517\n",
      "Mean Absolute Percentage Error (MAPE): 1.1471499483584724\n"
     ]
    }
   ],
   "source": [
    "from math import sqrt\n",
    "from sklearn.metrics import mean_squared_error, mean_absolute_error\n",
    "import numpy as np\n",
    "\n",
    "# For each model, replace `actuals` and `predictions` with the corresponding variables\n",
    "actuals = new_y_test\n",
    "predictions = test_predictions\n",
    "\n",
    "# Calculate the RMSE\n",
    "rmse = sqrt(mean_squared_error(actuals, predictions))\n",
    "print(\"Root Mean Square Error (RMSE):\", rmse)\n",
    "\n",
    "# Calculate Mean Absolute Error (MAE)\n",
    "mae = mean_absolute_error(actuals, predictions)\n",
    "print(\"Mean Absolute Error (MAE):\", mae)\n",
    "\n",
    "# Calculate Mean Absolute Percentage Error (MAPE)\n",
    "mape = np.mean(np.abs((actuals - predictions) / actuals)) * 100\n",
    "print(\"Mean Absolute Percentage Error (MAPE):\", mape)\n"
   ]
  },
  {
   "cell_type": "code",
   "execution_count": 64,
   "id": "079e0f53-16c4-43d3-925b-6c2f216f0728",
   "metadata": {
    "tags": []
   },
   "outputs": [
    {
     "name": "stdout",
     "output_type": "stream",
     "text": [
      "Training - RMSE: 0.019, MAE: 0.014, MAPE: 27.775%\n",
      "Validation - RMSE: 0.031, MAE: 0.024, MAPE: 2.978%\n"
     ]
    }
   ],
   "source": [
    "#comparing the RMSE, MAE and MAPE for Training vs Validation data to check for overfitting\n",
    "from sklearn.metrics import mean_squared_error, mean_absolute_error\n",
    "import numpy as np\n",
    "import torch\n",
    "\n",
    "def evaluate_model(model, data_loader):\n",
    "    model.eval()  # Set the model to evaluation mode\n",
    "    predictions, actuals = [], []\n",
    "    with torch.no_grad():\n",
    "        for inputs, targets in data_loader:\n",
    "            inputs, targets = inputs.to(device), targets.to(device)\n",
    "            outputs = model(inputs)\n",
    "            predictions.extend(outputs.view(-1).tolist())\n",
    "            actuals.extend(targets.view(-1).tolist())\n",
    "\n",
    "    mse = mean_squared_error(actuals, predictions)\n",
    "    rmse = np.sqrt(mse)\n",
    "    mae = mean_absolute_error(actuals, predictions)\n",
    "    mape = np.mean(np.abs((np.array(actuals) - np.array(predictions)) / np.array(actuals))) * 100\n",
    "    \n",
    "    return rmse, mae, mape\n",
    "\n",
    "# Assuming 'train_loader' and 'test_loader' are already defined\n",
    "# Evaluate the model on training data\n",
    "train_rmse, train_mae, train_mape = evaluate_model(model, train_loader)\n",
    "print(f'Training - RMSE: {train_rmse:.3f}, MAE: {train_mae:.3f}, MAPE: {train_mape:.3f}%')\n",
    "\n",
    "# Evaluate the model on test (validation) data\n",
    "val_rmse, val_mae, val_mape = evaluate_model(model, test_loader)  # Use test_loader as validation loader\n",
    "print(f'Validation - RMSE: {val_rmse:.3f}, MAE: {val_mae:.3f}, MAPE: {val_mape:.3f}%')\n"
   ]
  },
  {
   "cell_type": "code",
   "execution_count": 65,
   "id": "979566db-d7be-40bb-bb9f-5685aab8a9a2",
   "metadata": {},
   "outputs": [
    {
     "data": {
      "image/png": "[encoded data removed]",
      "text/plain": [
       "<Figure size 640x480 with 1 Axes>"
      ]
     },
     "metadata": {},
     "output_type": "display_data"
    },
    {
     "name": "stdout",
     "output_type": "stream",
     "text": [
      "Root Mean Square Error (RMSE): 30.019649925637157\n",
      "Mean Absolute Error (MAE): 22.859635404720517\n",
      "Mean Absolute Percentage Error (MAPE): 1.1471499483584724\n",
      "Predicted Gold price for tomorrow: 2119.844567837047\n"
     ]
    },
    {
     "data": {
      "text/plain": [
       "<Figure size 640x480 with 0 Axes>"
      ]
     },
     "metadata": {},
     "output_type": "display_data"
    }
   ],
   "source": [
    "from math import sqrt\n",
    "from sklearn.metrics import mean_squared_error, mean_absolute_error\n",
    "import numpy as np\n",
    "\n",
    "#revised graph with more accurate axises \n",
    "plt.plot(new_y_test, label='Actual Close')\n",
    "plt.plot(test_predictions, label='Predicted Close')\n",
    "plt.xlabel('Day')\n",
    "plt.ylabel('Close')\n",
    "plt.legend()\n",
    "plt.savefig(r'C:\\Users\\jackc\\Documents\\FYP_ML_Predict\\static\\images\\LSTM_Gold_PNG.png')\n",
    "plt.show()\n",
    "plt.clf()\n",
    "\n",
    "# For each model, replace `actuals` and `predictions` with the corresponding variables\n",
    "actuals = new_y_test\n",
    "predictions = test_predictions\n",
    "\n",
    "# Calculate the RMSE\n",
    "rmse = sqrt(mean_squared_error(actuals, predictions))\n",
    "print(\"Root Mean Square Error (RMSE):\", rmse)\n",
    "\n",
    "# Calculate Mean Absolute Error (MAE)\n",
    "mae = mean_absolute_error(actuals, predictions)\n",
    "print(\"Mean Absolute Error (MAE):\", mae)\n",
    "\n",
    "# Calculate Mean Absolute Percentage Error (MAPE)\n",
    "mape = np.mean(np.abs((actuals - predictions) / actuals)) * 100\n",
    "print(\"Mean Absolute Percentage Error (MAPE):\", mape)\n",
    "# Correcting the approach to reshape and inverse transform the prediction\n",
    "latest_input = shifted_df_as_np[-1, 1:].reshape(1, lookback, 1)  # Reshape for LSTM: [1, lookback, 1]\n",
    "\n",
    "# Convert to PyTorch tensor\n",
    "latest_input_tensor = torch.tensor(latest_input).float().to(device)\n",
    "\n",
    "# Make the prediction\n",
    "model.eval()  # Ensure the model is in evaluation mode\n",
    "with torch.no_grad():\n",
    "    prediction_scaled = model(latest_input_tensor).cpu().numpy()\n",
    "\n",
    "# Prepare the data for inverse transformation correctly\n",
    "prediction_scaled_expanded = np.expand_dims(prediction_scaled.flatten(), axis=0)\n",
    "dummy_features = np.zeros((1, lookback))\n",
    "combined_prediction = np.concatenate((prediction_scaled_expanded, dummy_features), axis=1)\n",
    "\n",
    "# Inverse transform the prediction to get it back into the original scale\n",
    "next_day_price = scaler.inverse_transform(combined_prediction)[0, 0]\n",
    "\n",
    "print(f'Predicted Gold price for tomorrow: {next_day_price}')\n",
    "import pickle\n",
    "model_info = {\n",
    "    'next_day_price': next_day_price,\n",
    "    'rmse': rmse,\n",
    "    'mae': mae,\n",
    "    'mape': mape\n",
    "}\n",
    "with open(r'C:\\Users\\jackc\\Documents\\FYP_ML_Predict\\models\\LSTM_Gold.pkl', 'wb') as pkl:\n",
    "    pickle.dump(model_info, pkl)\n",
    "\n"
   ]
  },
  {
   "cell_type": "code",
   "execution_count": 66,
   "id": "e847c073-e9b3-4950-a9ea-33a6ce4940fb",
   "metadata": {},
   "outputs": [
    {
     "ename": "NameError",
     "evalue": "name 'last_7_days_scaled' is not defined",
     "output_type": "error",
     "traceback": [
      "\u001b[1;31m---------------------------------------------------------------------------\u001b[0m",
      "\u001b[1;31mNameError\u001b[0m                                 Traceback (most recent call last)",
      "Cell \u001b[1;32mIn[66], line 29\u001b[0m\n\u001b[0;32m     26\u001b[0m     \u001b[38;5;28;01mreturn\u001b[39;00m last_prediction[\u001b[38;5;241m0\u001b[39m]\n\u001b[0;32m     28\u001b[0m \u001b[38;5;66;03m# Let's ensure that last_7_days_scaled is correctly shaped as (1, 7, 1) before prediction\u001b[39;00m\n\u001b[1;32m---> 29\u001b[0m last_7_days_scaled \u001b[38;5;241m=\u001b[39m last_7_days_scaled\u001b[38;5;241m.\u001b[39mreshape(\u001b[38;5;241m1\u001b[39m, \u001b[38;5;241m-\u001b[39m\u001b[38;5;241m1\u001b[39m, \u001b[38;5;241m1\u001b[39m)\n\u001b[0;32m     31\u001b[0m \u001b[38;5;66;03m# Now, you can call your predict_next_N_days function again with this correctly shaped input\u001b[39;00m\n\u001b[0;32m     32\u001b[0m price_in_7_days \u001b[38;5;241m=\u001b[39m predict_next_7_days(model, scaler, last_7_days_scaled, N\u001b[38;5;241m=\u001b[39m\u001b[38;5;241m7\u001b[39m)\n",
      "\u001b[1;31mNameError\u001b[0m: name 'last_7_days_scaled' is not defined"
     ]
    }
   ],
   "source": [
    "def predict_next_7_days(model, scaler, last_7_days, N=7):\n",
    "    model.eval()  # Ensure the model is in evaluation mode\n",
    "    current_input = last_7_days\n",
    "    \n",
    "    for _ in range(N):\n",
    "        # Convert current input to tensor\n",
    "        current_input_tensor = torch.tensor(current_input).float().to(device)\n",
    "        \n",
    "        with torch.no_grad():\n",
    "            # Predict the next day\n",
    "            predicted_price_scaled = model(current_input_tensor).cpu().numpy()\n",
    "            # Assuming the output is 2D, we reshape it to fit our expected input shape for the next step\n",
    "            next_day_price_scaled = predicted_price_scaled.reshape(1, 1, -1)  # Adjust this line if needed\n",
    "            \n",
    "            # Prepare for next day prediction by updating the input\n",
    "            current_input = np.append(current_input[:, 1:, :], next_day_price_scaled, axis=1)\n",
    "    \n",
    "    # The last prediction is the day we're interested in, reverse scaling\n",
    "    last_prediction_scaled = current_input[0, -1, :].reshape(1, -1)\n",
    "    dummy_array = np.zeros((1, scaler.n_features_in_))\n",
    "    dummy_array[:, 0] = last_prediction_scaled  # Use the first feature assuming it's the 'Close' price\n",
    "    \n",
    "    # Inverse transform to get the original scale\n",
    "    last_prediction = scaler.inverse_transform(dummy_array)[:, 0]\n",
    "\n",
    "    return last_prediction[0]\n",
    "\n",
    "# Let's ensure that last_7_days_scaled is correctly shaped as (1, 7, 1) before prediction\n",
    "last_7_days_scaled = last_7_days_scaled.reshape(1, -1, 1)\n",
    "\n",
    "# Now, you can call your predict_next_N_days function again with this correctly shaped input\n",
    "price_in_7_days = predict_next_7_days(model, scaler, last_7_days_scaled, N=7)\n",
    "print(f'Predicted gold price in 7 days: {price_in_7_days}')\n",
    "\n",
    "\n"
   ]
  },
  {
   "cell_type": "code",
   "execution_count": null,
   "id": "4bce4959-a905-4581-a87e-2e6d8a37c8cf",
   "metadata": {
    "tags": []
   },
   "outputs": [],
   "source": [
    "import numpy as np\n",
    "import torch\n",
    "\n",
    "def predict_price_in_N_days(model, scaler, last_N_days_scaled, N=30):\n",
    "    model.eval()  # Set the model to evaluation mode\n",
    "    current_input = last_N_days_scaled  # Starting input\n",
    "\n",
    "    with torch.no_grad():\n",
    "        for _ in range(N):\n",
    "            # Predict the next day\n",
    "            current_input_tensor = torch.tensor(current_input).float().to(device)\n",
    "            predicted_price_scaled = model(current_input_tensor).cpu().numpy()\n",
    "            \n",
    "            # Prepare the input for the next prediction\n",
    "            next_input_scaled = np.append(current_input[:, :, :], predicted_price_scaled.reshape(1, 1, 1), axis=1)\n",
    "            current_input = next_input_scaled\n",
    "\n",
    "    # Last prediction is the price after N days\n",
    "    predicted_price_scaled = predicted_price_scaled[0, 0]  # Extract the predicted price\n",
    "    dummy_array = np.zeros((1, 8))  # Adjust the size based on your scaler's expected feature input\n",
    "    dummy_array[:, 0] = predicted_price_scaled\n",
    "\n",
    "    predicted_price = scaler.inverse_transform(dummy_array)[:, 0]\n",
    "\n",
    "    return predicted_price.item()\n",
    "\n",
    "# Assuming last_7_days_scaled is defined and shaped correctly as per your LSTM model's input requirements\n",
    "# Predict the gold price exactly 30 days into the future\n",
    "predicted_price_in_30_days = predict_price_in_N_days(model, scaler, last_7_days_scaled, N=30)\n",
    "\n",
    "# Display the predicted price\n",
    "print(f'Predicted gold price in 30 days: {predicted_price_in_30_days}')"
   ]
  },
  {
   "cell_type": "code",
   "execution_count": null,
   "id": "aa2f96bd-b672-488e-9c62-08b9a5ef642e",
   "metadata": {},
   "outputs": [],
   "source": []
  },
  {
   "cell_type": "code",
   "execution_count": null,
   "id": "e5e0f5cd-9548-4a4c-8fb5-ce9366b67572",
   "metadata": {},
   "outputs": [],
   "source": []
  }
 ],
 "metadata": {
  "kernelspec": {
   "display_name": "Python 3 (ipykernel)",
   "language": "python",
   "name": "python3"
  },
  "language_info": {
   "codemirror_mode": {
    "name": "ipython",
    "version": 3
   },
   "file_extension": ".py",
   "mimetype": "text/x-python",
   "name": "python",
   "nbconvert_exporter": "python",
   "pygments_lexer": "ipython3",
   "version": "3.11.5"
  }
 },
 "nbformat": 4,
 "nbformat_minor": 5
}
