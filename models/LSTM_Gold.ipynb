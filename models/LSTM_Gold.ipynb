{
 "cells": [
  {
   "cell_type": "code",
   "execution_count": 1,
   "id": "35801504-6e16-4e34-8803-b857713ddddb",
   "metadata": {
    "tags": []
   },
   "outputs": [
    {
     "name": "stderr",
     "output_type": "stream",
     "text": [
      "[*********************100%%**********************]  1 of 1 completed\n"
     ]
    },
    {
     "data": {
      "text/html": [
       "<div>\n",
       "<style scoped>\n",
       "    .dataframe tbody tr th:only-of-type {\n",
       "        vertical-align: middle;\n",
       "    }\n",
       "\n",
       "    .dataframe tbody tr th {\n",
       "        vertical-align: top;\n",
       "    }\n",
       "\n",
       "    .dataframe thead th {\n",
       "        text-align: right;\n",
       "    }\n",
       "</style>\n",
       "<table border=\"1\" class=\"dataframe\">\n",
       "  <thead>\n",
       "    <tr style=\"text-align: right;\">\n",
       "      <th></th>\n",
       "      <th>Date</th>\n",
       "      <th>Open</th>\n",
       "      <th>High</th>\n",
       "      <th>Low</th>\n",
       "      <th>Close</th>\n",
       "      <th>Adj Close</th>\n",
       "      <th>Volume</th>\n",
       "    </tr>\n",
       "  </thead>\n",
       "  <tbody>\n",
       "    <tr>\n",
       "      <th>0</th>\n",
       "      <td>2000-08-30</td>\n",
       "      <td>273.899994</td>\n",
       "      <td>273.899994</td>\n",
       "      <td>273.899994</td>\n",
       "      <td>273.899994</td>\n",
       "      <td>273.899994</td>\n",
       "      <td>0</td>\n",
       "    </tr>\n",
       "    <tr>\n",
       "      <th>1</th>\n",
       "      <td>2000-08-31</td>\n",
       "      <td>274.799988</td>\n",
       "      <td>278.299988</td>\n",
       "      <td>274.799988</td>\n",
       "      <td>278.299988</td>\n",
       "      <td>278.299988</td>\n",
       "      <td>0</td>\n",
       "    </tr>\n",
       "    <tr>\n",
       "      <th>2</th>\n",
       "      <td>2000-09-01</td>\n",
       "      <td>277.000000</td>\n",
       "      <td>277.000000</td>\n",
       "      <td>277.000000</td>\n",
       "      <td>277.000000</td>\n",
       "      <td>277.000000</td>\n",
       "      <td>0</td>\n",
       "    </tr>\n",
       "    <tr>\n",
       "      <th>3</th>\n",
       "      <td>2000-09-05</td>\n",
       "      <td>275.799988</td>\n",
       "      <td>275.799988</td>\n",
       "      <td>275.799988</td>\n",
       "      <td>275.799988</td>\n",
       "      <td>275.799988</td>\n",
       "      <td>2</td>\n",
       "    </tr>\n",
       "    <tr>\n",
       "      <th>4</th>\n",
       "      <td>2000-09-06</td>\n",
       "      <td>274.200012</td>\n",
       "      <td>274.200012</td>\n",
       "      <td>274.200012</td>\n",
       "      <td>274.200012</td>\n",
       "      <td>274.200012</td>\n",
       "      <td>0</td>\n",
       "    </tr>\n",
       "    <tr>\n",
       "      <th>...</th>\n",
       "      <td>...</td>\n",
       "      <td>...</td>\n",
       "      <td>...</td>\n",
       "      <td>...</td>\n",
       "      <td>...</td>\n",
       "      <td>...</td>\n",
       "      <td>...</td>\n",
       "    </tr>\n",
       "    <tr>\n",
       "      <th>5900</th>\n",
       "      <td>2024-03-06</td>\n",
       "      <td>2125.500000</td>\n",
       "      <td>2150.300049</td>\n",
       "      <td>2125.500000</td>\n",
       "      <td>2150.300049</td>\n",
       "      <td>2150.300049</td>\n",
       "      <td>443</td>\n",
       "    </tr>\n",
       "    <tr>\n",
       "      <th>5901</th>\n",
       "      <td>2024-03-07</td>\n",
       "      <td>2147.000000</td>\n",
       "      <td>2163.000000</td>\n",
       "      <td>2147.000000</td>\n",
       "      <td>2158.000000</td>\n",
       "      <td>2158.000000</td>\n",
       "      <td>152</td>\n",
       "    </tr>\n",
       "    <tr>\n",
       "      <th>5902</th>\n",
       "      <td>2024-03-08</td>\n",
       "      <td>2167.300049</td>\n",
       "      <td>2194.899902</td>\n",
       "      <td>2166.300049</td>\n",
       "      <td>2178.600098</td>\n",
       "      <td>2178.600098</td>\n",
       "      <td>259</td>\n",
       "    </tr>\n",
       "    <tr>\n",
       "      <th>5903</th>\n",
       "      <td>2024-03-11</td>\n",
       "      <td>2181.000000</td>\n",
       "      <td>2184.000000</td>\n",
       "      <td>2177.199951</td>\n",
       "      <td>2182.500000</td>\n",
       "      <td>2182.500000</td>\n",
       "      <td>259</td>\n",
       "    </tr>\n",
       "    <tr>\n",
       "      <th>5904</th>\n",
       "      <td>2024-03-12</td>\n",
       "      <td>2189.100098</td>\n",
       "      <td>2190.800049</td>\n",
       "      <td>2156.199951</td>\n",
       "      <td>2160.600098</td>\n",
       "      <td>2160.600098</td>\n",
       "      <td>285877</td>\n",
       "    </tr>\n",
       "  </tbody>\n",
       "</table>\n",
       "<p>5905 rows × 7 columns</p>\n",
       "</div>"
      ],
      "text/plain": [
       "           Date         Open         High          Low        Close  \\\n",
       "0    2000-08-30   273.899994   273.899994   273.899994   273.899994   \n",
       "1    2000-08-31   274.799988   278.299988   274.799988   278.299988   \n",
       "2    2000-09-01   277.000000   277.000000   277.000000   277.000000   \n",
       "3    2000-09-05   275.799988   275.799988   275.799988   275.799988   \n",
       "4    2000-09-06   274.200012   274.200012   274.200012   274.200012   \n",
       "...         ...          ...          ...          ...          ...   \n",
       "5900 2024-03-06  2125.500000  2150.300049  2125.500000  2150.300049   \n",
       "5901 2024-03-07  2147.000000  2163.000000  2147.000000  2158.000000   \n",
       "5902 2024-03-08  2167.300049  2194.899902  2166.300049  2178.600098   \n",
       "5903 2024-03-11  2181.000000  2184.000000  2177.199951  2182.500000   \n",
       "5904 2024-03-12  2189.100098  2190.800049  2156.199951  2160.600098   \n",
       "\n",
       "        Adj Close  Volume  \n",
       "0      273.899994       0  \n",
       "1      278.299988       0  \n",
       "2      277.000000       0  \n",
       "3      275.799988       2  \n",
       "4      274.200012       0  \n",
       "...           ...     ...  \n",
       "5900  2150.300049     443  \n",
       "5901  2158.000000     152  \n",
       "5902  2178.600098     259  \n",
       "5903  2182.500000     259  \n",
       "5904  2160.600098  285877  \n",
       "\n",
       "[5905 rows x 7 columns]"
      ]
     },
     "execution_count": 1,
     "metadata": {},
     "output_type": "execute_result"
    }
   ],
   "source": [
    "import yfinance as yf\n",
    "import pandas as pd\n",
    "import numpy as np\n",
    "import matplotlib.pyplot as plt\n",
    "\n",
    "import torch\n",
    "import torch.nn as nn\n",
    "\n",
    "#fetching gold data from yahoo finance\n",
    "data = yf.Ticker('GC=F')\n",
    "data = yf.download('GC=F', period = 'max')\n",
    "\n",
    "# Resetting the index to turn the date index into a column\n",
    "data.reset_index(inplace=True)\n",
    "\n",
    "data"
   ]
  },
  {
   "cell_type": "code",
   "execution_count": 2,
   "id": "70548503-a6ae-4d95-a299-2abef9738ab2",
   "metadata": {
    "tags": []
   },
   "outputs": [
    {
     "data": {
      "text/html": [
       "<div>\n",
       "<style scoped>\n",
       "    .dataframe tbody tr th:only-of-type {\n",
       "        vertical-align: middle;\n",
       "    }\n",
       "\n",
       "    .dataframe tbody tr th {\n",
       "        vertical-align: top;\n",
       "    }\n",
       "\n",
       "    .dataframe thead th {\n",
       "        text-align: right;\n",
       "    }\n",
       "</style>\n",
       "<table border=\"1\" class=\"dataframe\">\n",
       "  <thead>\n",
       "    <tr style=\"text-align: right;\">\n",
       "      <th></th>\n",
       "      <th>Date</th>\n",
       "      <th>Close</th>\n",
       "    </tr>\n",
       "  </thead>\n",
       "  <tbody>\n",
       "    <tr>\n",
       "      <th>0</th>\n",
       "      <td>2000-08-30</td>\n",
       "      <td>273.899994</td>\n",
       "    </tr>\n",
       "    <tr>\n",
       "      <th>1</th>\n",
       "      <td>2000-08-31</td>\n",
       "      <td>278.299988</td>\n",
       "    </tr>\n",
       "    <tr>\n",
       "      <th>2</th>\n",
       "      <td>2000-09-01</td>\n",
       "      <td>277.000000</td>\n",
       "    </tr>\n",
       "    <tr>\n",
       "      <th>3</th>\n",
       "      <td>2000-09-05</td>\n",
       "      <td>275.799988</td>\n",
       "    </tr>\n",
       "    <tr>\n",
       "      <th>4</th>\n",
       "      <td>2000-09-06</td>\n",
       "      <td>274.200012</td>\n",
       "    </tr>\n",
       "    <tr>\n",
       "      <th>...</th>\n",
       "      <td>...</td>\n",
       "      <td>...</td>\n",
       "    </tr>\n",
       "    <tr>\n",
       "      <th>5900</th>\n",
       "      <td>2024-03-06</td>\n",
       "      <td>2150.300049</td>\n",
       "    </tr>\n",
       "    <tr>\n",
       "      <th>5901</th>\n",
       "      <td>2024-03-07</td>\n",
       "      <td>2158.000000</td>\n",
       "    </tr>\n",
       "    <tr>\n",
       "      <th>5902</th>\n",
       "      <td>2024-03-08</td>\n",
       "      <td>2178.600098</td>\n",
       "    </tr>\n",
       "    <tr>\n",
       "      <th>5903</th>\n",
       "      <td>2024-03-11</td>\n",
       "      <td>2182.500000</td>\n",
       "    </tr>\n",
       "    <tr>\n",
       "      <th>5904</th>\n",
       "      <td>2024-03-12</td>\n",
       "      <td>2160.600098</td>\n",
       "    </tr>\n",
       "  </tbody>\n",
       "</table>\n",
       "<p>5905 rows × 2 columns</p>\n",
       "</div>"
      ],
      "text/plain": [
       "           Date        Close\n",
       "0    2000-08-30   273.899994\n",
       "1    2000-08-31   278.299988\n",
       "2    2000-09-01   277.000000\n",
       "3    2000-09-05   275.799988\n",
       "4    2000-09-06   274.200012\n",
       "...         ...          ...\n",
       "5900 2024-03-06  2150.300049\n",
       "5901 2024-03-07  2158.000000\n",
       "5902 2024-03-08  2178.600098\n",
       "5903 2024-03-11  2182.500000\n",
       "5904 2024-03-12  2160.600098\n",
       "\n",
       "[5905 rows x 2 columns]"
      ]
     },
     "execution_count": 2,
     "metadata": {},
     "output_type": "execute_result"
    }
   ],
   "source": [
    "# trim dataset to relevent columns (we only need date and close to forecast prices)\n",
    "data = data[['Date', 'Close']]\n",
    "data"
   ]
  },
  {
   "cell_type": "code",
   "execution_count": 3,
   "id": "0d2794fe-8e4d-4793-a2be-af9af6096910",
   "metadata": {
    "tags": []
   },
   "outputs": [
    {
     "data": {
      "text/plain": [
       "[<matplotlib.lines.Line2D at 0x20f945d4310>]"
      ]
     },
     "execution_count": 3,
     "metadata": {},
     "output_type": "execute_result"
    },
    {
     "data": {
      "image/png": "[encoded data removed]",
      "text/plain": [
       "<Figure size 640x480 with 1 Axes>"
      ]
     },
     "metadata": {},
     "output_type": "display_data"
    }
   ],
   "source": [
    "#simple transformations\n",
    "data.loc[:, 'Date'] = pd.to_datetime(data['Date'])\n",
    "\n",
    "plt.plot(data['Date'], data['Close'])"
   ]
  },
  {
   "cell_type": "code",
   "execution_count": 4,
   "id": "29d01443-a9df-420c-8f6e-8340b9036a7e",
   "metadata": {
    "tags": []
   },
   "outputs": [
    {
     "data": {
      "text/plain": [
       "'cpu'"
      ]
     },
     "execution_count": 4,
     "metadata": {},
     "output_type": "execute_result"
    }
   ],
   "source": [
    "device = 'cuda:0' if torch.cuda.is_available() else 'cpu'\n",
    "device"
   ]
  },
  {
   "cell_type": "code",
   "execution_count": 5,
   "id": "f48de125-1893-445f-a167-41f87a5aaf99",
   "metadata": {
    "tags": []
   },
   "outputs": [
    {
     "data": {
      "text/html": [
       "<div>\n",
       "<style scoped>\n",
       "    .dataframe tbody tr th:only-of-type {\n",
       "        vertical-align: middle;\n",
       "    }\n",
       "\n",
       "    .dataframe tbody tr th {\n",
       "        vertical-align: top;\n",
       "    }\n",
       "\n",
       "    .dataframe thead th {\n",
       "        text-align: right;\n",
       "    }\n",
       "</style>\n",
       "<table border=\"1\" class=\"dataframe\">\n",
       "  <thead>\n",
       "    <tr style=\"text-align: right;\">\n",
       "      <th></th>\n",
       "      <th>Close</th>\n",
       "      <th>Close(t-1)</th>\n",
       "      <th>Close(t-2)</th>\n",
       "      <th>Close(t-3)</th>\n",
       "      <th>Close(t-4)</th>\n",
       "      <th>Close(t-5)</th>\n",
       "      <th>Close(t-6)</th>\n",
       "      <th>Close(t-7)</th>\n",
       "    </tr>\n",
       "    <tr>\n",
       "      <th>Date</th>\n",
       "      <th></th>\n",
       "      <th></th>\n",
       "      <th></th>\n",
       "      <th></th>\n",
       "      <th></th>\n",
       "      <th></th>\n",
       "      <th></th>\n",
       "      <th></th>\n",
       "    </tr>\n",
       "  </thead>\n",
       "  <tbody>\n",
       "    <tr>\n",
       "      <th>2000-09-11</th>\n",
       "      <td>273.100006</td>\n",
       "      <td>273.299988</td>\n",
       "      <td>274.000000</td>\n",
       "      <td>274.200012</td>\n",
       "      <td>275.799988</td>\n",
       "      <td>277.000000</td>\n",
       "      <td>278.299988</td>\n",
       "      <td>273.899994</td>\n",
       "    </tr>\n",
       "    <tr>\n",
       "      <th>2000-09-12</th>\n",
       "      <td>272.899994</td>\n",
       "      <td>273.100006</td>\n",
       "      <td>273.299988</td>\n",
       "      <td>274.000000</td>\n",
       "      <td>274.200012</td>\n",
       "      <td>275.799988</td>\n",
       "      <td>277.000000</td>\n",
       "      <td>278.299988</td>\n",
       "    </tr>\n",
       "    <tr>\n",
       "      <th>2000-09-13</th>\n",
       "      <td>272.799988</td>\n",
       "      <td>272.899994</td>\n",
       "      <td>273.100006</td>\n",
       "      <td>273.299988</td>\n",
       "      <td>274.000000</td>\n",
       "      <td>274.200012</td>\n",
       "      <td>275.799988</td>\n",
       "      <td>277.000000</td>\n",
       "    </tr>\n",
       "    <tr>\n",
       "      <th>2000-09-14</th>\n",
       "      <td>272.399994</td>\n",
       "      <td>272.799988</td>\n",
       "      <td>272.899994</td>\n",
       "      <td>273.100006</td>\n",
       "      <td>273.299988</td>\n",
       "      <td>274.000000</td>\n",
       "      <td>274.200012</td>\n",
       "      <td>275.799988</td>\n",
       "    </tr>\n",
       "    <tr>\n",
       "      <th>2000-09-15</th>\n",
       "      <td>272.299988</td>\n",
       "      <td>272.399994</td>\n",
       "      <td>272.799988</td>\n",
       "      <td>272.899994</td>\n",
       "      <td>273.100006</td>\n",
       "      <td>273.299988</td>\n",
       "      <td>274.000000</td>\n",
       "      <td>274.200012</td>\n",
       "    </tr>\n",
       "    <tr>\n",
       "      <th>...</th>\n",
       "      <td>...</td>\n",
       "      <td>...</td>\n",
       "      <td>...</td>\n",
       "      <td>...</td>\n",
       "      <td>...</td>\n",
       "      <td>...</td>\n",
       "      <td>...</td>\n",
       "      <td>...</td>\n",
       "    </tr>\n",
       "    <tr>\n",
       "      <th>2024-03-06</th>\n",
       "      <td>2150.300049</td>\n",
       "      <td>2133.500000</td>\n",
       "      <td>2117.699951</td>\n",
       "      <td>2086.899902</td>\n",
       "      <td>2045.699951</td>\n",
       "      <td>2033.000000</td>\n",
       "      <td>2034.000000</td>\n",
       "      <td>2028.500000</td>\n",
       "    </tr>\n",
       "    <tr>\n",
       "      <th>2024-03-07</th>\n",
       "      <td>2158.000000</td>\n",
       "      <td>2150.300049</td>\n",
       "      <td>2133.500000</td>\n",
       "      <td>2117.699951</td>\n",
       "      <td>2086.899902</td>\n",
       "      <td>2045.699951</td>\n",
       "      <td>2033.000000</td>\n",
       "      <td>2034.000000</td>\n",
       "    </tr>\n",
       "    <tr>\n",
       "      <th>2024-03-08</th>\n",
       "      <td>2178.600098</td>\n",
       "      <td>2158.000000</td>\n",
       "      <td>2150.300049</td>\n",
       "      <td>2133.500000</td>\n",
       "      <td>2117.699951</td>\n",
       "      <td>2086.899902</td>\n",
       "      <td>2045.699951</td>\n",
       "      <td>2033.000000</td>\n",
       "    </tr>\n",
       "    <tr>\n",
       "      <th>2024-03-11</th>\n",
       "      <td>2182.500000</td>\n",
       "      <td>2178.600098</td>\n",
       "      <td>2158.000000</td>\n",
       "      <td>2150.300049</td>\n",
       "      <td>2133.500000</td>\n",
       "      <td>2117.699951</td>\n",
       "      <td>2086.899902</td>\n",
       "      <td>2045.699951</td>\n",
       "    </tr>\n",
       "    <tr>\n",
       "      <th>2024-03-12</th>\n",
       "      <td>2160.600098</td>\n",
       "      <td>2182.500000</td>\n",
       "      <td>2178.600098</td>\n",
       "      <td>2158.000000</td>\n",
       "      <td>2150.300049</td>\n",
       "      <td>2133.500000</td>\n",
       "      <td>2117.699951</td>\n",
       "      <td>2086.899902</td>\n",
       "    </tr>\n",
       "  </tbody>\n",
       "</table>\n",
       "<p>5898 rows × 8 columns</p>\n",
       "</div>"
      ],
      "text/plain": [
       "                  Close   Close(t-1)   Close(t-2)   Close(t-3)   Close(t-4)  \\\n",
       "Date                                                                          \n",
       "2000-09-11   273.100006   273.299988   274.000000   274.200012   275.799988   \n",
       "2000-09-12   272.899994   273.100006   273.299988   274.000000   274.200012   \n",
       "2000-09-13   272.799988   272.899994   273.100006   273.299988   274.000000   \n",
       "2000-09-14   272.399994   272.799988   272.899994   273.100006   273.299988   \n",
       "2000-09-15   272.299988   272.399994   272.799988   272.899994   273.100006   \n",
       "...                 ...          ...          ...          ...          ...   \n",
       "2024-03-06  2150.300049  2133.500000  2117.699951  2086.899902  2045.699951   \n",
       "2024-03-07  2158.000000  2150.300049  2133.500000  2117.699951  2086.899902   \n",
       "2024-03-08  2178.600098  2158.000000  2150.300049  2133.500000  2117.699951   \n",
       "2024-03-11  2182.500000  2178.600098  2158.000000  2150.300049  2133.500000   \n",
       "2024-03-12  2160.600098  2182.500000  2178.600098  2158.000000  2150.300049   \n",
       "\n",
       "             Close(t-5)   Close(t-6)   Close(t-7)  \n",
       "Date                                               \n",
       "2000-09-11   277.000000   278.299988   273.899994  \n",
       "2000-09-12   275.799988   277.000000   278.299988  \n",
       "2000-09-13   274.200012   275.799988   277.000000  \n",
       "2000-09-14   274.000000   274.200012   275.799988  \n",
       "2000-09-15   273.299988   274.000000   274.200012  \n",
       "...                 ...          ...          ...  \n",
       "2024-03-06  2033.000000  2034.000000  2028.500000  \n",
       "2024-03-07  2045.699951  2033.000000  2034.000000  \n",
       "2024-03-08  2086.899902  2045.699951  2033.000000  \n",
       "2024-03-11  2117.699951  2086.899902  2045.699951  \n",
       "2024-03-12  2133.500000  2117.699951  2086.899902  \n",
       "\n",
       "[5898 rows x 8 columns]"
      ]
     },
     "execution_count": 5,
     "metadata": {},
     "output_type": "execute_result"
    }
   ],
   "source": [
    "#takes df from above and creates a lookback window of a week (lookback =7) \n",
    "from copy import deepcopy as dc\n",
    "\n",
    "def prepare_dataframe_for_lstm(df, n_steps):\n",
    "    df = dc(df)\n",
    "    \n",
    "    df.set_index('Date', inplace=True)\n",
    "    \n",
    "    #shifts dataframe for each lookback window\n",
    "    for i in range(1, n_steps+1):\n",
    "        df[f'Close(t-{i})'] = df['Close'].shift(i)\n",
    "        \n",
    "    df.dropna(inplace=True)\n",
    "    \n",
    "    return df\n",
    "\n",
    "lookback = 7\n",
    "shifted_df = prepare_dataframe_for_lstm(data, lookback)\n",
    "shifted_df"
   ]
  },
  {
   "cell_type": "code",
   "execution_count": 6,
   "id": "3b26c0e3-680c-450a-bb5e-c1fa73c87b8b",
   "metadata": {
    "tags": []
   },
   "outputs": [
    {
     "data": {
      "text/plain": [
       "array([[ 273.1000061 ,  273.29998779,  274.        , ...,  277.        ,\n",
       "         278.29998779,  273.8999939 ],\n",
       "       [ 272.8999939 ,  273.1000061 ,  273.29998779, ...,  275.79998779,\n",
       "         277.        ,  278.29998779],\n",
       "       [ 272.79998779,  272.8999939 ,  273.1000061 , ...,  274.20001221,\n",
       "         275.79998779,  277.        ],\n",
       "       ...,\n",
       "       [2178.60009766, 2158.        , 2150.30004883, ..., 2086.89990234,\n",
       "        2045.69995117, 2033.        ],\n",
       "       [2182.5       , 2178.60009766, 2158.        , ..., 2117.69995117,\n",
       "        2086.89990234, 2045.69995117],\n",
       "       [2160.60009766, 2182.5       , 2178.60009766, ..., 2133.5       ,\n",
       "        2117.69995117, 2086.89990234]])"
      ]
     },
     "execution_count": 6,
     "metadata": {},
     "output_type": "execute_result"
    }
   ],
   "source": [
    "shifted_df_as_np = shifted_df.to_numpy()\n",
    "\n",
    "shifted_df_as_np"
   ]
  },
  {
   "cell_type": "code",
   "execution_count": 7,
   "id": "053d754f-bf59-4f57-a3e0-ce8148c3e9fd",
   "metadata": {
    "tags": []
   },
   "outputs": [
    {
     "data": {
      "text/plain": [
       "(5898, 8)"
      ]
     },
     "execution_count": 7,
     "metadata": {},
     "output_type": "execute_result"
    }
   ],
   "source": [
    "shifted_df_as_np.shape"
   ]
  },
  {
   "cell_type": "code",
   "execution_count": 8,
   "id": "737e2d2a-59eb-4dfe-98d4-e80e418d09e0",
   "metadata": {
    "tags": []
   },
   "outputs": [
    {
     "data": {
      "text/plain": [
       "array([[-0.98132199, -0.98111447, -0.98034833, ..., -0.97668229,\n",
       "        -0.9750886 , -0.97947375],\n",
       "       [-0.98152953, -0.98132199, -0.98107618, ..., -0.97795999,\n",
       "        -0.97648449, -0.97466974],\n",
       "       [-0.98163331, -0.98152953, -0.98128412, ..., -0.97966354,\n",
       "        -0.97777302, -0.9760891 ],\n",
       "       ...,\n",
       "       [ 0.9959532 ,  0.97457715,  0.97057442, ...,  0.9503832 ,\n",
       "         0.92268871,  0.94115088],\n",
       "       [ 1.        ,  0.9959532 ,  0.97858061, ...,  0.98317712,\n",
       "         0.9669279 ,  0.95501697],\n",
       "       [ 0.97727519,  1.        ,  1.        , ...,  1.        ,\n",
       "         1.        ,  1.        ]])"
      ]
     },
     "execution_count": 8,
     "metadata": {},
     "output_type": "execute_result"
    }
   ],
   "source": [
    "#runs scaler on data\n",
    "from sklearn.preprocessing import MinMaxScaler\n",
    "\n",
    "scaler = MinMaxScaler(feature_range=(-1, 1))\n",
    "shifted_df_as_np = scaler.fit_transform(shifted_df_as_np)\n",
    "\n",
    "shifted_df_as_np"
   ]
  },
  {
   "cell_type": "code",
   "execution_count": 9,
   "id": "312cb918-7a74-4eb6-bdd0-9e70d4103744",
   "metadata": {
    "tags": []
   },
   "outputs": [
    {
     "data": {
      "text/plain": [
       "((5898, 7), (5898,))"
      ]
     },
     "execution_count": 9,
     "metadata": {},
     "output_type": "execute_result"
    }
   ],
   "source": [
    "#changes df into x and y\n",
    "X = shifted_df_as_np[:, 1:]\n",
    "y = shifted_df_as_np[:, 0]\n",
    "\n",
    "X.shape, y.shape"
   ]
  },
  {
   "cell_type": "code",
   "execution_count": 10,
   "id": "36606079-ad71-43ab-b5a4-e35dd7b23329",
   "metadata": {
    "tags": []
   },
   "outputs": [
    {
     "data": {
      "text/plain": [
       "array([[-0.97947375, -0.9750886 , -0.97668229, ..., -0.97992537,\n",
       "        -0.98034833, -0.98111447],\n",
       "       [-0.97466974, -0.97648449, -0.97795999, ..., -0.98013559,\n",
       "        -0.98107618, -0.98132199],\n",
       "       [-0.9760891 , -0.97777302, -0.97966354, ..., -0.98087132,\n",
       "        -0.98128412, -0.98152953],\n",
       "       ...,\n",
       "       [ 0.94115088,  0.92268871,  0.9503832 , ...,  0.97424983,\n",
       "         0.97057442,  0.97457715],\n",
       "       [ 0.95501697,  0.9669279 ,  0.98317712, ...,  0.99190714,\n",
       "         0.97858061,  0.9959532 ],\n",
       "       [ 1.        ,  1.        ,  1.        , ...,  1.        ,\n",
       "         1.        ,  1.        ]])"
      ]
     },
     "execution_count": 10,
     "metadata": {},
     "output_type": "execute_result"
    }
   ],
   "source": [
    "X = dc(np.flip(X, axis=1))\n",
    "X"
   ]
  },
  {
   "cell_type": "code",
   "execution_count": 11,
   "id": "b27f4480-95d6-443f-b86c-eb077cc32bae",
   "metadata": {
    "tags": []
   },
   "outputs": [
    {
     "data": {
      "text/plain": [
       "5603"
      ]
     },
     "execution_count": 11,
     "metadata": {},
     "output_type": "execute_result"
    }
   ],
   "source": [
    "#use first 95% as train and last 5% as test\n",
    "split_index = int(len(X) * 0.95)\n",
    "\n",
    "split_index"
   ]
  },
  {
   "cell_type": "code",
   "execution_count": 12,
   "id": "f99b6a58-b72f-405d-ad6b-d08c5f03af89",
   "metadata": {
    "tags": []
   },
   "outputs": [
    {
     "data": {
      "text/plain": [
       "((5603, 7), (295, 7), (5603,), (295,))"
      ]
     },
     "execution_count": 12,
     "metadata": {},
     "output_type": "execute_result"
    }
   ],
   "source": [
    "# splitting into train and test\n",
    "X_train = X[:split_index]\n",
    "X_test = X[split_index:]\n",
    "\n",
    "y_train = y[:split_index]\n",
    "y_test = y[split_index:]\n",
    "\n",
    "X_train.shape, X_test.shape, y_train.shape, y_test.shape"
   ]
  },
  {
   "cell_type": "code",
   "execution_count": 13,
   "id": "6dc232db-0a94-4602-b129-201ee41884bf",
   "metadata": {
    "tags": []
   },
   "outputs": [
    {
     "data": {
      "text/plain": [
       "((5603, 7, 1), (295, 7, 1), (5603, 1), (295, 1))"
      ]
     },
     "execution_count": 13,
     "metadata": {},
     "output_type": "execute_result"
    }
   ],
   "source": [
    "#PyTorch requires an extra dimension at end\n",
    "X_train = X_train.reshape((-1, lookback, 1))\n",
    "X_test = X_test.reshape((-1, lookback, 1))\n",
    "\n",
    "y_train = y_train.reshape((-1, 1))\n",
    "y_test = y_test.reshape((-1, 1))\n",
    "\n",
    "X_train.shape, X_test.shape, y_train.shape, y_test.shape"
   ]
  },
  {
   "cell_type": "code",
   "execution_count": 14,
   "id": "68651751-8738-4dd3-b26f-4e240fe214fb",
   "metadata": {
    "tags": []
   },
   "outputs": [
    {
     "data": {
      "text/plain": [
       "(torch.Size([5603, 7, 1]),\n",
       " torch.Size([295, 7, 1]),\n",
       " torch.Size([5603, 1]),\n",
       " torch.Size([295, 1]))"
      ]
     },
     "execution_count": 14,
     "metadata": {},
     "output_type": "execute_result"
    }
   ],
   "source": [
    "#wrapping in tensors for PyTorch\n",
    "X_train = torch.tensor(X_train).float()\n",
    "y_train = torch.tensor(y_train).float()\n",
    "X_test = torch.tensor(X_test).float()\n",
    "y_test = torch.tensor(y_test).float()\n",
    "\n",
    "X_train.shape, X_test.shape, y_train.shape, y_test.shape"
   ]
  },
  {
   "cell_type": "code",
   "execution_count": 15,
   "id": "59deda0e-c07d-4948-ab8d-7676071a132b",
   "metadata": {
    "tags": []
   },
   "outputs": [],
   "source": [
    "#need datasets object for PyTorch\n",
    "#needs to be custom class\n",
    "from torch.utils.data import Dataset\n",
    "\n",
    "class TimeSeriesDataset(Dataset):\n",
    "    def __init__(self, X, y):\n",
    "        self.X = X\n",
    "        self.y = y\n",
    "\n",
    "    def __len__(self):\n",
    "        return len(self.X)\n",
    "\n",
    "    def __getitem__(self, i):\n",
    "        return self.X[i], self.y[i]\n",
    "    \n",
    "train_dataset = TimeSeriesDataset(X_train, y_train)\n",
    "test_dataset = TimeSeriesDataset(X_test, y_test)"
   ]
  },
  {
   "cell_type": "code",
   "execution_count": 16,
   "id": "5167f5f7-30d0-4f8f-8981-953477493711",
   "metadata": {
    "tags": []
   },
   "outputs": [
    {
     "data": {
      "text/plain": [
       "<__main__.TimeSeriesDataset at 0x20f98608050>"
      ]
     },
     "execution_count": 16,
     "metadata": {},
     "output_type": "execute_result"
    }
   ],
   "source": [
    "train_dataset"
   ]
  },
  {
   "cell_type": "code",
   "execution_count": 17,
   "id": "dd573555-5f4d-4bb6-80a2-341908f273e2",
   "metadata": {
    "tags": []
   },
   "outputs": [],
   "source": [
    "# wrap datasets in dataloaders to get batches\n",
    "# used for iteration\n",
    "from torch.utils.data import DataLoader\n",
    "\n",
    "batch_size = 16\n",
    "\n",
    "train_loader = DataLoader(train_dataset, batch_size=batch_size, shuffle=True)\n",
    "test_loader = DataLoader(test_dataset, batch_size=batch_size, shuffle=False)"
   ]
  },
  {
   "cell_type": "code",
   "execution_count": 18,
   "id": "7b863d07-aecb-4379-be26-acb0f9910224",
   "metadata": {
    "tags": []
   },
   "outputs": [
    {
     "name": "stdout",
     "output_type": "stream",
     "text": [
      "torch.Size([16, 7, 1]) torch.Size([16, 1])\n"
     ]
    }
   ],
   "source": [
    "#gives predicted outputs of arrays\n",
    "for _, batch in enumerate(train_loader):\n",
    "    x_batch, y_batch = batch[0].to(device), batch[1].to(device)\n",
    "    print(x_batch.shape, y_batch.shape)\n",
    "    break"
   ]
  },
  {
   "cell_type": "code",
   "execution_count": 19,
   "id": "38e3f457-ccb7-4ece-b7c7-c1fcb6424536",
   "metadata": {
    "tags": []
   },
   "outputs": [
    {
     "data": {
      "text/plain": [
       "LSTM(\n",
       "  (lstm): LSTM(1, 12, batch_first=True)\n",
       "  (fc): Linear(in_features=12, out_features=1, bias=True)\n",
       ")"
      ]
     },
     "execution_count": 19,
     "metadata": {},
     "output_type": "execute_result"
    }
   ],
   "source": [
    "#takes in number of features, dimensions and number of stacked layers (more layers = more complexity in model)\n",
    "class LSTM(nn.Module):\n",
    "    def __init__(self, input_size, hidden_size, num_stacked_layers):\n",
    "        super().__init__()\n",
    "        self.hidden_size = hidden_size\n",
    "        self.num_stacked_layers = num_stacked_layers\n",
    "        \n",
    "        #initally use 1 layer to prevent overfitting in training data\n",
    "        self.lstm = nn.LSTM(input_size, hidden_size, num_stacked_layers, \n",
    "                            batch_first=True)\n",
    "        \n",
    "        #maps hidden layer to 1. Needed to predict final closing value\n",
    "        self.fc = nn.Linear(hidden_size, 1)\n",
    "\n",
    "    def forward(self, x):\n",
    "        batch_size = x.size(0)\n",
    "        #initialise LSTM with default h0 and c0\n",
    "        h0 = torch.zeros(self.num_stacked_layers, batch_size, self.hidden_size).to(device)\n",
    "        c0 = torch.zeros(self.num_stacked_layers, batch_size, self.hidden_size).to(device)\n",
    "        \n",
    "        out, _ = self.lstm(x, (h0, c0))\n",
    "        #output is gotten from passing varibles in fully connected layer\n",
    "        out = self.fc(out[:, -1, :])\n",
    "        return out\n",
    "\n",
    "#initial model has 1 input size, 4 hidden sizes and 1 stacked layer\n",
    "#model = LSTM(1, 4, 1)\n",
    "#Attempt 2:  Increase to 8 hidden units and 2 stacked layers\n",
    "#model = LSTM(1, 8, 2)  \n",
    "#Attempt 3:  Increase to 16 hidden units and 4 stacked layers\n",
    "#model = LSTM(1, 16, 4)\n",
    "#Attempt 4: Inrcease to 32 hidden unit and 8 stacked layers <----overfitted\n",
    "#model = LSTM(1, 32, 8)\n",
    "#Attempt 5:  Increase to 24 hidden units and 6 stacked layers\n",
    "#model = LSTM(1, 24, 6)\n",
    "#Attempt 6: 16 hidden units and 1 stacked layer\n",
    "#model = LSTM(1, 16, 1)\n",
    "#Attempt 7: 12 hidden units and 1 stacked layer\n",
    "model = LSTM(1,12,1)\n",
    "model.to(device)\n",
    "model"
   ]
  },
  {
   "cell_type": "code",
   "execution_count": 20,
   "id": "df5de0d6-6408-4ab3-a280-4a51477e3d20",
   "metadata": {},
   "outputs": [],
   "source": [
    "#sets model to training mode\n",
    "def train_one_epoch():\n",
    "    model.train(True)\n",
    "    print(f'Epoch: {epoch + 1}')\n",
    "    running_loss = 0.0\n",
    "    \n",
    "    for batch_index, batch in enumerate(train_loader):\n",
    "        #puts x and y batch onto device we're using \n",
    "        x_batch, y_batch = batch[0].to(device), batch[1].to(device)\n",
    "        \n",
    "        output = model(x_batch)\n",
    "        #comparing model's output to ground truth\n",
    "        #loss is a tensor with a single value\n",
    "        loss = loss_function(output, y_batch)\n",
    "        running_loss += loss.item()\n",
    "        \n",
    "        #zero out gradients \n",
    "        optimizer.zero_grad()\n",
    "        #backwards pass \n",
    "        loss.backward()\n",
    "        optimizer.step()\n",
    "\n",
    "        #every 100 batches get avg loss across batches and print\n",
    "        if batch_index % 100 == 99:  # print every 100 batches\n",
    "            avg_loss_across_batches = running_loss / 100\n",
    "            print('Batch {0}, Loss: {1:.3f}'.format(batch_index+1,\n",
    "                                                    avg_loss_across_batches))\n",
    "            running_loss = 0.0\n",
    "    print()"
   ]
  },
  {
   "cell_type": "code",
   "execution_count": 21,
   "id": "6342d9f3-10e5-4f57-9e9d-9b9397ac0139",
   "metadata": {
    "tags": []
   },
   "outputs": [],
   "source": [
    "#sets model to validate mode\n",
    "def validate_one_epoch():\n",
    "    model.train(False)\n",
    "    running_loss = 0.0\n",
    "    \n",
    "    for batch_index, batch in enumerate(test_loader):\n",
    "        x_batch, y_batch = batch[0].to(device), batch[1].to(device)\n",
    "        \n",
    "        #don't need to calcualte gradient as there's no model updates\n",
    "        with torch.no_grad():\n",
    "            output = model(x_batch)\n",
    "            #compare output to ground truth\n",
    "            loss = loss_function(output, y_batch)\n",
    "            running_loss += loss.item()\n",
    "    #average loss value across all batches\n",
    "    avg_loss_across_batches = running_loss / len(test_loader)\n",
    "    \n",
    "    print('Val Loss: {0:.3f}'.format(avg_loss_across_batches))\n",
    "    print('***************************************************')\n",
    "    print()"
   ]
  },
  {
   "cell_type": "code",
   "execution_count": 22,
   "id": "46cf3fd4-67a2-4349-8a55-5b292099537a",
   "metadata": {
    "tags": []
   },
   "outputs": [
    {
     "name": "stdout",
     "output_type": "stream",
     "text": [
      "Epoch: 1\n",
      "Batch 100, Loss: 0.193\n",
      "Batch 200, Loss: 0.006\n",
      "Batch 300, Loss: 0.003\n",
      "\n",
      "Val Loss: 0.016\n",
      "***************************************************\n",
      "\n",
      "Epoch: 2\n",
      "Batch 100, Loss: 0.002\n",
      "Batch 200, Loss: 0.002\n",
      "Batch 300, Loss: 0.001\n",
      "\n",
      "Val Loss: 0.009\n",
      "***************************************************\n",
      "\n",
      "Epoch: 3\n",
      "Batch 100, Loss: 0.001\n",
      "Batch 200, Loss: 0.001\n",
      "Batch 300, Loss: 0.001\n",
      "\n",
      "Val Loss: 0.004\n",
      "***************************************************\n",
      "\n",
      "Epoch: 4\n",
      "Batch 100, Loss: 0.001\n",
      "Batch 200, Loss: 0.000\n",
      "Batch 300, Loss: 0.000\n",
      "\n",
      "Val Loss: 0.001\n",
      "***************************************************\n",
      "\n",
      "Epoch: 5\n",
      "Batch 100, Loss: 0.000\n",
      "Batch 200, Loss: 0.000\n",
      "Batch 300, Loss: 0.000\n",
      "\n",
      "Val Loss: 0.002\n",
      "***************************************************\n",
      "\n",
      "Epoch: 6\n",
      "Batch 100, Loss: 0.000\n",
      "Batch 200, Loss: 0.000\n",
      "Batch 300, Loss: 0.000\n",
      "\n",
      "Val Loss: 0.001\n",
      "***************************************************\n",
      "\n",
      "Epoch: 7\n",
      "Batch 100, Loss: 0.000\n",
      "Batch 200, Loss: 0.000\n",
      "Batch 300, Loss: 0.000\n",
      "\n",
      "Val Loss: 0.002\n",
      "***************************************************\n",
      "\n",
      "Epoch: 8\n",
      "Batch 100, Loss: 0.000\n",
      "Batch 200, Loss: 0.000\n",
      "Batch 300, Loss: 0.000\n",
      "\n",
      "Val Loss: 0.002\n",
      "***************************************************\n",
      "\n",
      "Epoch: 9\n",
      "Batch 100, Loss: 0.000\n",
      "Batch 200, Loss: 0.000\n",
      "Batch 300, Loss: 0.000\n",
      "\n",
      "Val Loss: 0.001\n",
      "***************************************************\n",
      "\n",
      "Epoch: 10\n",
      "Batch 100, Loss: 0.000\n",
      "Batch 200, Loss: 0.000\n",
      "Batch 300, Loss: 0.000\n",
      "\n",
      "Val Loss: 0.001\n",
      "***************************************************\n",
      "\n"
     ]
    }
   ],
   "source": [
    "learning_rate = 0.001\n",
    "#10 epochs is all that is necessary as any more will cause overfitting\n",
    "num_epochs = 10\n",
    "#trying to minimise mean squared error\n",
    "loss_function = nn.MSELoss()\n",
    "optimizer = torch.optim.Adam(model.parameters(), lr=learning_rate)\n",
    "\n",
    "for epoch in range(num_epochs):\n",
    "    train_one_epoch()\n",
    "    validate_one_epoch()"
   ]
  },
  {
   "cell_type": "code",
   "execution_count": 23,
   "id": "d8d0dae6-1795-4674-8823-288bcc515c92",
   "metadata": {
    "tags": []
   },
   "outputs": [
    {
     "data": {
      "image/png": "[encoded data removed]",
      "text/plain": [
       "<Figure size 640x480 with 1 Axes>"
      ]
     },
     "metadata": {},
     "output_type": "display_data"
    }
   ],
   "source": [
    "#no gradients for predictions\n",
    "with torch.no_grad():\n",
    "    #makes sure it on the device and is put to the CPU (numpy doesn't use GPU)\n",
    "    predicted = model(X_train.to(device)).to('cpu').numpy()\n",
    "\n",
    "plt.plot(y_train, label='Actual Close')\n",
    "plt.plot(predicted, label='Predicted Close')\n",
    "plt.xlabel('Day')\n",
    "plt.ylabel('Close')\n",
    "plt.legend()\n",
    "plt.show()"
   ]
  },
  {
   "cell_type": "code",
   "execution_count": 24,
   "id": "3e3fbb5e-658d-4589-a9d6-639db59ad2b9",
   "metadata": {
    "tags": []
   },
   "outputs": [
    {
     "data": {
      "text/plain": [
       "array([ 278.00684345,  277.66317397,  277.05619497, ..., 1848.69388675,\n",
       "       1857.04241854, 1866.1580174 ])"
      ]
     },
     "execution_count": 24,
     "metadata": {},
     "output_type": "execute_result"
    }
   ],
   "source": [
    "#above data still includes scalar begins at -1\n",
    "#do opposite of earlier transform\n",
    "train_predictions = predicted.flatten()\n",
    "\n",
    "#lookback+1 is the length of the whole dataset\n",
    "dummies = np.zeros((X_train.shape[0], lookback+1))\n",
    "dummies[:, 0] = train_predictions\n",
    "dummies = scaler.inverse_transform(dummies)\n",
    "\n",
    "#return in right scale\n",
    "train_predictions = dc(dummies[:, 0])\n",
    "train_predictions"
   ]
  },
  {
   "cell_type": "code",
   "execution_count": 25,
   "id": "44214f13-964a-41b8-9f16-65eb6cdd896a",
   "metadata": {
    "tags": []
   },
   "outputs": [
    {
     "data": {
      "text/plain": [
       "array([ 273.10000381,  272.89999426,  272.79998949, ..., 1864.19996873,\n",
       "       1872.69997244, 1871.59997736])"
      ]
     },
     "execution_count": 25,
     "metadata": {},
     "output_type": "execute_result"
    }
   ],
   "source": [
    "#first column is no y_train.flatter()\n",
    "dummies = np.zeros((X_train.shape[0], lookback+1))\n",
    "dummies[:, 0] = y_train.flatten()\n",
    "dummies = scaler.inverse_transform(dummies)\n",
    "\n",
    "new_y_train = dc(dummies[:, 0])\n",
    "new_y_train"
   ]
  },
  {
   "cell_type": "code",
   "execution_count": 26,
   "id": "3d82eb6b-eeb1-4e61-ad3e-161829f8b8f1",
   "metadata": {
    "tags": []
   },
   "outputs": [
    {
     "data": {
      "image/png": "[encoded data removed]",
      "text/plain": [
       "<Figure size 640x480 with 1 Axes>"
      ]
     },
     "metadata": {},
     "output_type": "display_data"
    }
   ],
   "source": [
    "#same graph as earlier with different y_train and predictions\n",
    "plt.plot(new_y_train, label='Actual Close')\n",
    "plt.plot(train_predictions, label='Predicted Close')\n",
    "plt.xlabel('Day')\n",
    "plt.ylabel('Close')\n",
    "plt.legend()\n",
    "plt.show()\n"
   ]
  },
  {
   "cell_type": "code",
   "execution_count": 27,
   "id": "a1ca2cd9-e6cb-4802-bc76-0b8327bb0888",
   "metadata": {
    "tags": []
   },
   "outputs": [
    {
     "data": {
      "text/plain": [
       "array([1873.08884798, 1878.95587131, 1887.31198532, 1898.93143719,\n",
       "       1906.86599173, 1911.39303151, 1918.00948751, 1924.29485362,\n",
       "       1929.19617892, 1933.72316126, 1938.40081132, 1940.10703867,\n",
       "       1940.82453415, 1939.38609673, 1939.1362284 , 1938.61707667,\n",
       "       1935.67058334, 1921.70748139, 1909.73689271, 1900.85456174,\n",
       "       1895.41007437, 1889.27721411, 1884.20230212, 1878.63523567,\n",
       "       1875.80155646, 1869.01823436, 1864.57218639, 1860.81215623,\n",
       "       1856.79237789, 1853.49727515, 1848.18760181, 1841.58510397,\n",
       "       1838.25387084, 1838.27633027, 1841.0333832 , 1843.25611998,\n",
       "       1848.37371064, 1853.2969784 , 1849.91232515, 1845.25437735,\n",
       "       1844.15788618, 1850.59891738, 1867.88423421, 1882.4512708 ,\n",
       "       1899.04735312, 1911.83739505, 1931.46544291, 1948.93118191,\n",
       "       1953.48619546, 1955.96942715, 1966.86770732, 1973.64023051,\n",
       "       1972.89820773, 1973.92111698, 1973.67521208, 1977.04717087,\n",
       "       1977.25125873, 1979.08690063, 1989.05877242, 1998.71770566,\n",
       "       2004.38919984, 2004.16701807, 2005.56490214, 2007.8634036 ,\n",
       "       2015.01612874, 2013.25763009, 2009.68112392, 2009.13124126,\n",
       "       2006.86714696, 2006.58666258, 2000.97559633, 1997.23871489,\n",
       "       1996.4709011 , 1994.59516538, 1993.52159316, 1993.20032567,\n",
       "       1991.54361246, 1996.82473764, 2004.41837986, 2014.87993614,\n",
       "       2018.30485553, 2021.72937283, 2025.9935626 , 2028.21181899,\n",
       "       2025.71457169, 2022.70150424, 2020.48060557, 2013.79056765,\n",
       "       2005.77375761, 1993.93982105, 1988.4107231 , 1984.29789035,\n",
       "       1980.98113236, 1976.84003863, 1970.3727569 , 1965.02218556,\n",
       "       1963.88583034, 1964.0864143 , 1967.8238127 , 1966.5941733 ,\n",
       "       1966.54425707, 1968.316599  , 1965.03769463, 1965.49061688,\n",
       "       1965.86030713, 1964.76054182, 1962.25783763, 1961.84742171,\n",
       "       1962.11676254, 1963.13300864, 1958.85147169, 1954.43598232,\n",
       "       1946.56955281, 1941.06337381, 1937.37014753, 1932.83569787,\n",
       "       1929.07853976, 1926.22004604, 1926.56009673, 1927.88767303,\n",
       "       1928.52498088, 1926.73534921, 1928.84665046, 1930.68447513,\n",
       "       1933.55078083, 1940.84733823, 1948.16066839, 1954.55982511,\n",
       "       1958.20537536, 1965.09628445, 1970.99604914, 1973.54189153,\n",
       "       1973.69100835, 1972.59193234, 1971.70544544, 1972.32827816,\n",
       "       1967.67475332, 1966.50278467, 1968.20470394, 1964.14845057,\n",
       "       1959.55857035, 1954.3621132 , 1951.44347876, 1948.66201341,\n",
       "       1944.14565766, 1938.54889421, 1934.47810827, 1930.92348711,\n",
       "       1927.74924023, 1923.45230909, 1918.82819403, 1912.75151106,\n",
       "       1908.17995452, 1906.12419871, 1905.63537583, 1910.43313502,\n",
       "       1915.43503951, 1918.48044624, 1922.31491993, 1928.99829469,\n",
       "       1936.07738048, 1940.55760584, 1943.67400964, 1943.24285752,\n",
       "       1940.65462368, 1937.5132905 , 1934.44347135, 1932.95327959,\n",
       "       1929.83193587, 1926.79066489, 1924.88885096, 1926.4531416 ,\n",
       "       1929.81079758, 1933.05954543, 1938.58129093, 1938.29287969,\n",
       "       1938.47054469, 1936.36883609, 1930.46194871, 1918.81532725,\n",
       "       1906.0269511 , 1892.38913751, 1878.00838208, 1864.92533363,\n",
       "       1853.71170239, 1845.27878977, 1842.8164666 , 1846.34857088,\n",
       "       1853.26986625, 1862.68737498, 1870.1155297 , 1888.26814814,\n",
       "       1902.75700753, 1914.11050759, 1928.89817504, 1943.47026643,\n",
       "       1957.70305385, 1967.68647128, 1973.33527626, 1979.24670148,\n",
       "       1984.0969043 , 1987.11944951, 1990.58049929, 1991.02830929,\n",
       "       1989.9344604 , 1989.95864306, 1990.90624717, 1989.83411098,\n",
       "       1985.79112648, 1978.85483901, 1975.53233692, 1966.82560307,\n",
       "       1961.52201847, 1960.88568712, 1961.31896455, 1967.32436324,\n",
       "       1972.95731451, 1976.64393507, 1984.33861602, 1988.780758  ,\n",
       "       1991.58502742, 1995.61457073, 2000.24816356, 2009.69904551,\n",
       "       2019.50744022, 2025.48210798, 2036.32024742, 2036.57614706,\n",
       "       2033.77796638, 2032.51742372, 2030.66454952, 2023.02294406,\n",
       "       2012.28659005, 2002.30466609, 1996.36124624, 2001.35654501,\n",
       "       2005.23363992, 2010.21992046, 2017.80017894, 2023.78644977,\n",
       "       2028.91748162, 2035.8010957 , 2040.63917847, 2049.2321217 ,\n",
       "       2055.01459189, 2056.99986759, 2058.39442009, 2053.27556574,\n",
       "       2049.05169954, 2045.44894283, 2039.14398934, 2034.11985519,\n",
       "       2029.62061685, 2024.71056052, 2027.62017673, 2026.83696875,\n",
       "       2021.61713312, 2020.17915523, 2020.76987843, 2020.38341541,\n",
       "       2020.84271361, 2018.82331796, 2018.25212469, 2018.22041726,\n",
       "       2019.29651688, 2021.49880467, 2027.00211161, 2032.82967298,\n",
       "       2034.77789924, 2033.65142387, 2033.66584156, 2033.43768592,\n",
       "       2032.42436931, 2029.49137461, 2026.0070038 , 2018.6217575 ,\n",
       "       2011.55875519, 2007.68332608, 2006.9106298 , 2007.93595158,\n",
       "       2011.91776142, 2014.96064074, 2017.46030056, 2022.74332129,\n",
       "       2024.97645489, 2027.24916534, 2028.72574358, 2031.97288308,\n",
       "       2042.74680349, 2058.25162178, 2074.23618726, 2090.79476061,\n",
       "       2105.38724356, 2120.17381963, 2131.96542216])"
      ]
     },
     "execution_count": 27,
     "metadata": {},
     "output_type": "execute_result"
    }
   ],
   "source": [
    "#convert to vector of predictions \n",
    "test_predictions = model(X_test.to(device)).detach().cpu().numpy().flatten()\n",
    "\n",
    "dummies = np.zeros((X_test.shape[0], lookback+1))\n",
    "dummies[:, 0] = test_predictions\n",
    "dummies = scaler.inverse_transform(dummies)\n",
    "\n",
    "test_predictions = dc(dummies[:, 0])\n",
    "test_predictions"
   ]
  },
  {
   "cell_type": "code",
   "execution_count": 28,
   "id": "70635d39-dab3-4aea-8c8d-081a5cd65bb2",
   "metadata": {
    "tags": []
   },
   "outputs": [
    {
     "data": {
      "text/plain": [
       "array([1874.59994826, 1895.50002697, 1918.40002884, 1907.19995368,\n",
       "       1904.40004977, 1922.09997572, 1926.40000868, 1927.09998466,\n",
       "       1933.90002208, 1941.1999685 , 1929.09996525, 1928.59999883,\n",
       "       1922.90001391, 1929.49998435, 1927.80007552, 1916.30004347,\n",
       "       1862.90002155, 1866.19994933, 1871.6999247 , 1877.40002449,\n",
       "       1866.19994933, 1862.80007422, 1851.90001338, 1853.99999875,\n",
       "       1834.19997255, 1842.00000028, 1840.40003878, 1832.99997271,\n",
       "       1831.99998241, 1818.00000334, 1808.80002365, 1817.00001304,\n",
       "       1828.90000673, 1837.69996732, 1833.49999658, 1847.69992775,\n",
       "       1847.90005218, 1813.90003737, 1812.69992264, 1829.30002583,\n",
       "       1861.99997859, 1911.69993875, 1906.19996338, 1926.59996079,\n",
       "       1919.00000005, 1969.80007017, 1979.19994451, 1937.99998805,\n",
       "       1946.80006352, 1993.80006711, 1982.09996808, 1952.40004366,\n",
       "       1972.40002197, 1966.09995097, 1980.30005447, 1968.99997453,\n",
       "       1983.89999657, 2022.19992946, 2020.90003973, 2011.90001215,\n",
       "       1989.09995761, 2004.80007528, 2010.90002185, 2041.30003713,\n",
       "       2002.19995116, 1994.19997132, 2007.40002708, 1995.19996162,\n",
       "       2007.59997919, 1979.50001628, 1989.09995761, 1994.00001922,\n",
       "       1985.69996762, 1989.89999581, 1990.09994791, 1983.40003014,\n",
       "       2014.30006929, 2028.5999478 , 2048.00001234, 2017.40004496,\n",
       "       2026.30006776, 2036.19996598, 2030.49998106, 2014.6999735 ,\n",
       "       2014.50002139, 2018.00001616, 1988.40003908, 1980.69995868,\n",
       "       1956.50000963, 1978.69997809, 1974.80002166, 1972.40002197,\n",
       "       1962.80002319, 1943.10000177, 1944.09999206, 1958.0000238 ,\n",
       "       1963.90001826, 1978.00000211, 1952.40004366, 1958.0000238 ,\n",
       "       1965.49997977, 1942.69992523, 1963.60000394, 1962.19993711,\n",
       "       1955.30006723, 1944.59995849, 1955.30006723, 1957.80007169,\n",
       "       1958.4000429 , 1935.49998359, 1933.30005088, 1912.69992905,\n",
       "       1919.09994738, 1923.69993722, 1913.99999111, 1912.30002483,\n",
       "       1909.19993428, 1921.09998542, 1921.69995662, 1919.59997125,\n",
       "       1908.69996785, 1926.19994169, 1924.99999928, 1931.30007028,\n",
       "       1956.19993787, 1959.19996621, 1960.09995173, 1952.40004366,\n",
       "       1977.19996392, 1977.49997824, 1968.300056  , 1964.30003736,\n",
       "       1960.30007616, 1962.09998977, 1968.9000272 , 1945.39999669,\n",
       "       1960.4000235 , 1970.4999887 , 1940.69994463, 1937.40001685,\n",
       "       1931.99998882, 1939.59994956, 1933.50000299, 1924.09995632,\n",
       "       1915.40000051, 1914.40001021, 1912.89999604, 1910.60000112,\n",
       "       1902.50001651, 1896.09999818, 1884.09999971, 1886.0999803 ,\n",
       "       1893.30003683, 1896.4000125 , 1918.49997618, 1918.19996186,\n",
       "       1911.09996755, 1917.90000497, 1936.49997389, 1944.30005905,\n",
       "       1938.19994016, 1939.80007399, 1926.19994169, 1918.09995708,\n",
       "       1917.49998588, 1918.40002884, 1923.30003301, 1911.30003454,\n",
       "       1909.09998695, 1909.99997247, 1923.69993722, 1931.50002239,\n",
       "       1931.99998882, 1945.59994879, 1919.19995215, 1925.40001838,\n",
       "       1916.60000035, 1900.40003114, 1871.59997736, 1860.40001708,\n",
       "       1848.10000429, 1830.00000181, 1824.59997377, 1818.50002721,\n",
       "       1816.59999394, 1830.19995391, 1849.50001368, 1860.99998829,\n",
       "       1872.80003465, 1869.30003988, 1927.39999898, 1921.09998542,\n",
       "       1922.69994692, 1955.30006723, 1968.40000333, 1982.49998717,\n",
       "       1976.30003583, 1974.99997377, 1984.09994868, 1987.19992435,\n",
       "       1988.59999118, 1996.19995192, 1985.19994375, 1978.8000403 ,\n",
       "       1985.59996285, 1991.50001475, 1981.60000165, 1966.80004183,\n",
       "       1951.5000007 , 1964.19997514, 1932.59996002, 1945.50000146,\n",
       "       1961.80003289, 1960.09995173, 1983.89999657, 1981.60000165,\n",
       "       1977.69993034, 1999.30004248, 1991.40000998, 1991.50001475,\n",
       "       2002.19995116, 2011.80006482, 2039.69996074, 2047.09996937,\n",
       "       2038.09999924, 2071.00001899, 2024.09996273, 2018.49998259,\n",
       "       2030.49998106, 2029.90000986, 1998.30005218, 1978.00000211,\n",
       "       1977.80005   , 1982.30003507, 2030.19996674, 2021.09999183,\n",
       "       2026.30006776, 2038.40001356, 2034.4999997 , 2039.09998954,\n",
       "       2057.10010213, 2058.19992488, 2081.8999075 , 2073.89992767,\n",
       "       2062.39989563, 2064.39987622, 2034.19992794, 2042.30002743,\n",
       "       2042.4000322 , 2026.5999672 , 2026.40001509, 2021.69996304,\n",
       "       2014.30006929, 2046.69995028, 2025.999996  , 2002.59997025,\n",
       "       2018.59998736, 2026.50001987, 2019.80004465, 2023.69994363,\n",
       "       2013.90005019, 2016.90002109, 2016.80007375, 2025.1999578 ,\n",
       "       2031.49997136, 2048.39991655, 2053.00002128, 2036.0999612 ,\n",
       "       2025.69992423, 2034.4999997 , 2035.19997568, 2032.19994734,\n",
       "       2023.30003942, 2018.19996827, 1992.90002414, 1990.30007234,\n",
       "       2002.10000383, 2011.49999306, 2015.59995903, 2027.50001016,\n",
       "       2022.30004912, 2019.699925  , 2038.59996567, 2028.50000046,\n",
       "       2033.99997583, 2032.99998553, 2045.69995998, 2086.89991644,\n",
       "       2117.69995081, 2133.50001581, 2150.30007111, 2157.99997919,\n",
       "       2178.60010102, 2182.5       , 2160.60010331])"
      ]
     },
     "execution_count": 28,
     "metadata": {},
     "output_type": "execute_result"
    }
   ],
   "source": [
    "#make ground truth proper scale\n",
    "dummies = np.zeros((X_test.shape[0], lookback+1))\n",
    "dummies[:, 0] = y_test.flatten()\n",
    "dummies = scaler.inverse_transform(dummies)\n",
    "\n",
    "new_y_test = dc(dummies[:, 0])\n",
    "new_y_test"
   ]
  },
  {
   "cell_type": "code",
   "execution_count": 29,
   "id": "d1f438e7-08f0-4974-87fa-4262bcf714bc",
   "metadata": {
    "tags": []
   },
   "outputs": [
    {
     "data": {
      "image/png": "[encoded data removed]",
      "text/plain": [
       "<Figure size 640x480 with 1 Axes>"
      ]
     },
     "metadata": {},
     "output_type": "display_data"
    }
   ],
   "source": [
    "#revised graph with more accurate axises \n",
    "plt.plot(new_y_test, label='Actual Close')\n",
    "plt.plot(test_predictions, label='Predicted Close')\n",
    "plt.xlabel('Day')\n",
    "plt.ylabel('Close')\n",
    "plt.legend()\n",
    "plt.show()"
   ]
  },
  {
   "cell_type": "code",
   "execution_count": 30,
   "id": "21e570b1-903a-4ca5-b385-499d9a8c6671",
   "metadata": {},
   "outputs": [
    {
     "name": "stdout",
     "output_type": "stream",
     "text": [
      "Root Mean Square Error (RMSE): 25.09171933262594\n",
      "Mean Absolute Error (MAE): 19.22142830382847\n",
      "Mean Absolute Percentage Error (MAPE): 0.981804083834969\n"
     ]
    }
   ],
   "source": [
    "from math import sqrt\n",
    "from sklearn.metrics import mean_squared_error, mean_absolute_error\n",
    "import numpy as np\n",
    "\n",
    "# For each model, replace `actuals` and `predictions` with the corresponding variables\n",
    "actuals = new_y_test\n",
    "predictions = test_predictions\n",
    "\n",
    "# Calculate the RMSE\n",
    "rmse = sqrt(mean_squared_error(actuals, predictions))\n",
    "print(\"Root Mean Square Error (RMSE):\", rmse)\n",
    "\n",
    "# Calculate Mean Absolute Error (MAE)\n",
    "mae = mean_absolute_error(actuals, predictions)\n",
    "print(\"Mean Absolute Error (MAE):\", mae)\n",
    "\n",
    "# Calculate Mean Absolute Percentage Error (MAPE)\n",
    "mape = np.mean(np.abs((actuals - predictions) / actuals)) * 100\n",
    "print(\"Mean Absolute Percentage Error (MAPE):\", mape)\n"
   ]
  },
  {
   "cell_type": "code",
   "execution_count": 31,
   "id": "079e0f53-16c4-43d3-925b-6c2f216f0728",
   "metadata": {
    "tags": []
   },
   "outputs": [
    {
     "name": "stdout",
     "output_type": "stream",
     "text": [
      "Training - RMSE: 0.021, MAE: 0.014, MAPE: 29.606%\n",
      "Validation - RMSE: 0.026, MAE: 0.020, MAPE: 2.623%\n"
     ]
    }
   ],
   "source": [
    "#comparing the RMSE, MAE and MAPE for Training vs Validation data to check for overfitting\n",
    "from sklearn.metrics import mean_squared_error, mean_absolute_error\n",
    "import numpy as np\n",
    "import torch\n",
    "\n",
    "def evaluate_model(model, data_loader):\n",
    "    model.eval()  # Set the model to evaluation mode\n",
    "    predictions, actuals = [], []\n",
    "    with torch.no_grad():\n",
    "        for inputs, targets in data_loader:\n",
    "            inputs, targets = inputs.to(device), targets.to(device)\n",
    "            outputs = model(inputs)\n",
    "            predictions.extend(outputs.view(-1).tolist())\n",
    "            actuals.extend(targets.view(-1).tolist())\n",
    "\n",
    "    mse = mean_squared_error(actuals, predictions)\n",
    "    rmse = np.sqrt(mse)\n",
    "    mae = mean_absolute_error(actuals, predictions)\n",
    "    mape = np.mean(np.abs((np.array(actuals) - np.array(predictions)) / np.array(actuals))) * 100\n",
    "    \n",
    "    return rmse, mae, mape\n",
    "\n",
    "# Assuming 'train_loader' and 'test_loader' are already defined\n",
    "# Evaluate the model on training data\n",
    "train_rmse, train_mae, train_mape = evaluate_model(model, train_loader)\n",
    "print(f'Training - RMSE: {train_rmse:.3f}, MAE: {train_mae:.3f}, MAPE: {train_mape:.3f}%')\n",
    "\n",
    "# Evaluate the model on test (validation) data\n",
    "val_rmse, val_mae, val_mape = evaluate_model(model, test_loader)  # Use test_loader as validation loader\n",
    "print(f'Validation - RMSE: {val_rmse:.3f}, MAE: {val_mae:.3f}, MAPE: {val_mape:.3f}%')\n"
   ]
  },
  {
   "cell_type": "code",
   "execution_count": null,
   "id": "979566db-d7be-40bb-bb9f-5685aab8a9a2",
   "metadata": {},
   "outputs": [],
   "source": []
  }
 ],
 "metadata": {
  "kernelspec": {
   "display_name": "Python 3 (ipykernel)",
   "language": "python",
   "name": "python3"
  },
  "language_info": {
   "codemirror_mode": {
    "name": "ipython",
    "version": 3
   },
   "file_extension": ".py",
   "mimetype": "text/x-python",
   "name": "python",
   "nbconvert_exporter": "python",
   "pygments_lexer": "ipython3",
   "version": "3.11.5"
  }
 },
 "nbformat": 4,
 "nbformat_minor": 5
}
