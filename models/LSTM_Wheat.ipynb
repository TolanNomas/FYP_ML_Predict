{
 "cells": [
  {
   "cell_type": "code",
   "execution_count": null,
   "id": "66a6358d-2f81-45ea-9027-53386755dfc1",
   "metadata": {},
   "outputs": [],
   "source": []
  },
  {
   "cell_type": "code",
   "execution_count": 2,
   "id": "31139536-a894-4d26-ae9e-cc56acb15268",
   "metadata": {
    "tags": []
   },
   "outputs": [
    {
     "name": "stderr",
     "output_type": "stream",
     "text": [
      "[*********************100%%**********************]  1 of 1 completed\n"
     ]
    },
    {
     "data": {
      "text/html": [
       "<div>\n",
       "<style scoped>\n",
       "    .dataframe tbody tr th:only-of-type {\n",
       "        vertical-align: middle;\n",
       "    }\n",
       "\n",
       "    .dataframe tbody tr th {\n",
       "        vertical-align: top;\n",
       "    }\n",
       "\n",
       "    .dataframe thead th {\n",
       "        text-align: right;\n",
       "    }\n",
       "</style>\n",
       "<table border=\"1\" class=\"dataframe\">\n",
       "  <thead>\n",
       "    <tr style=\"text-align: right;\">\n",
       "      <th></th>\n",
       "      <th>Date</th>\n",
       "      <th>Open</th>\n",
       "      <th>High</th>\n",
       "      <th>Low</th>\n",
       "      <th>Close</th>\n",
       "      <th>Adj Close</th>\n",
       "      <th>Volume</th>\n",
       "    </tr>\n",
       "  </thead>\n",
       "  <tbody>\n",
       "    <tr>\n",
       "      <th>0</th>\n",
       "      <td>2000-07-17</td>\n",
       "      <td>248.00</td>\n",
       "      <td>248.00</td>\n",
       "      <td>243.75</td>\n",
       "      <td>244.00</td>\n",
       "      <td>244.00</td>\n",
       "      <td>7233</td>\n",
       "    </tr>\n",
       "    <tr>\n",
       "      <th>1</th>\n",
       "      <td>2000-07-18</td>\n",
       "      <td>244.25</td>\n",
       "      <td>247.50</td>\n",
       "      <td>241.00</td>\n",
       "      <td>241.25</td>\n",
       "      <td>241.25</td>\n",
       "      <td>6523</td>\n",
       "    </tr>\n",
       "    <tr>\n",
       "      <th>2</th>\n",
       "      <td>2000-07-19</td>\n",
       "      <td>241.25</td>\n",
       "      <td>246.00</td>\n",
       "      <td>239.00</td>\n",
       "      <td>245.00</td>\n",
       "      <td>245.00</td>\n",
       "      <td>7136</td>\n",
       "    </tr>\n",
       "    <tr>\n",
       "      <th>3</th>\n",
       "      <td>2000-07-20</td>\n",
       "      <td>244.00</td>\n",
       "      <td>247.50</td>\n",
       "      <td>244.00</td>\n",
       "      <td>247.00</td>\n",
       "      <td>247.00</td>\n",
       "      <td>3792</td>\n",
       "    </tr>\n",
       "    <tr>\n",
       "      <th>4</th>\n",
       "      <td>2000-07-21</td>\n",
       "      <td>247.00</td>\n",
       "      <td>248.50</td>\n",
       "      <td>246.50</td>\n",
       "      <td>247.25</td>\n",
       "      <td>247.25</td>\n",
       "      <td>4380</td>\n",
       "    </tr>\n",
       "    <tr>\n",
       "      <th>...</th>\n",
       "      <td>...</td>\n",
       "      <td>...</td>\n",
       "      <td>...</td>\n",
       "      <td>...</td>\n",
       "      <td>...</td>\n",
       "      <td>...</td>\n",
       "      <td>...</td>\n",
       "    </tr>\n",
       "    <tr>\n",
       "      <th>5907</th>\n",
       "      <td>2024-03-18</td>\n",
       "      <td>531.25</td>\n",
       "      <td>544.00</td>\n",
       "      <td>527.00</td>\n",
       "      <td>542.75</td>\n",
       "      <td>542.75</td>\n",
       "      <td>57975</td>\n",
       "    </tr>\n",
       "    <tr>\n",
       "      <th>5908</th>\n",
       "      <td>2024-03-19</td>\n",
       "      <td>542.75</td>\n",
       "      <td>553.75</td>\n",
       "      <td>539.00</td>\n",
       "      <td>552.50</td>\n",
       "      <td>552.50</td>\n",
       "      <td>52072</td>\n",
       "    </tr>\n",
       "    <tr>\n",
       "      <th>5909</th>\n",
       "      <td>2024-03-20</td>\n",
       "      <td>551.75</td>\n",
       "      <td>553.00</td>\n",
       "      <td>537.00</td>\n",
       "      <td>545.00</td>\n",
       "      <td>545.00</td>\n",
       "      <td>52836</td>\n",
       "    </tr>\n",
       "    <tr>\n",
       "      <th>5910</th>\n",
       "      <td>2024-03-21</td>\n",
       "      <td>546.00</td>\n",
       "      <td>552.50</td>\n",
       "      <td>540.25</td>\n",
       "      <td>546.75</td>\n",
       "      <td>546.75</td>\n",
       "      <td>52836</td>\n",
       "    </tr>\n",
       "    <tr>\n",
       "      <th>5911</th>\n",
       "      <td>2024-03-22</td>\n",
       "      <td>548.50</td>\n",
       "      <td>548.50</td>\n",
       "      <td>540.75</td>\n",
       "      <td>544.75</td>\n",
       "      <td>544.75</td>\n",
       "      <td>6865</td>\n",
       "    </tr>\n",
       "  </tbody>\n",
       "</table>\n",
       "<p>5912 rows × 7 columns</p>\n",
       "</div>"
      ],
      "text/plain": [
       "           Date    Open    High     Low   Close  Adj Close  Volume\n",
       "0    2000-07-17  248.00  248.00  243.75  244.00     244.00    7233\n",
       "1    2000-07-18  244.25  247.50  241.00  241.25     241.25    6523\n",
       "2    2000-07-19  241.25  246.00  239.00  245.00     245.00    7136\n",
       "3    2000-07-20  244.00  247.50  244.00  247.00     247.00    3792\n",
       "4    2000-07-21  247.00  248.50  246.50  247.25     247.25    4380\n",
       "...         ...     ...     ...     ...     ...        ...     ...\n",
       "5907 2024-03-18  531.25  544.00  527.00  542.75     542.75   57975\n",
       "5908 2024-03-19  542.75  553.75  539.00  552.50     552.50   52072\n",
       "5909 2024-03-20  551.75  553.00  537.00  545.00     545.00   52836\n",
       "5910 2024-03-21  546.00  552.50  540.25  546.75     546.75   52836\n",
       "5911 2024-03-22  548.50  548.50  540.75  544.75     544.75    6865\n",
       "\n",
       "[5912 rows x 7 columns]"
      ]
     },
     "execution_count": 2,
     "metadata": {},
     "output_type": "execute_result"
    }
   ],
   "source": [
    "import yfinance as yf\n",
    "import pandas as pd\n",
    "import numpy as np\n",
    "import matplotlib.pyplot as plt\n",
    "\n",
    "import torch\n",
    "import torch.nn as nn\n",
    "\n",
    "#fetching wheat data from yahoo finance\n",
    "data = yf.Ticker('ZW=F')\n",
    "data = yf.download('ZW=F', period = 'max')\n",
    "\n",
    "# Resetting the index to turn the date index into a column\n",
    "data.reset_index(inplace=True)\n",
    "\n",
    "data"
   ]
  },
  {
   "cell_type": "code",
   "execution_count": 3,
   "id": "0fb7a426-7f1e-4a15-8e59-410ebfb56937",
   "metadata": {
    "tags": []
   },
   "outputs": [
    {
     "data": {
      "text/html": [
       "<div>\n",
       "<style scoped>\n",
       "    .dataframe tbody tr th:only-of-type {\n",
       "        vertical-align: middle;\n",
       "    }\n",
       "\n",
       "    .dataframe tbody tr th {\n",
       "        vertical-align: top;\n",
       "    }\n",
       "\n",
       "    .dataframe thead th {\n",
       "        text-align: right;\n",
       "    }\n",
       "</style>\n",
       "<table border=\"1\" class=\"dataframe\">\n",
       "  <thead>\n",
       "    <tr style=\"text-align: right;\">\n",
       "      <th></th>\n",
       "      <th>Date</th>\n",
       "      <th>Close</th>\n",
       "    </tr>\n",
       "  </thead>\n",
       "  <tbody>\n",
       "    <tr>\n",
       "      <th>0</th>\n",
       "      <td>2000-07-17</td>\n",
       "      <td>244.00</td>\n",
       "    </tr>\n",
       "    <tr>\n",
       "      <th>1</th>\n",
       "      <td>2000-07-18</td>\n",
       "      <td>241.25</td>\n",
       "    </tr>\n",
       "    <tr>\n",
       "      <th>2</th>\n",
       "      <td>2000-07-19</td>\n",
       "      <td>245.00</td>\n",
       "    </tr>\n",
       "    <tr>\n",
       "      <th>3</th>\n",
       "      <td>2000-07-20</td>\n",
       "      <td>247.00</td>\n",
       "    </tr>\n",
       "    <tr>\n",
       "      <th>4</th>\n",
       "      <td>2000-07-21</td>\n",
       "      <td>247.25</td>\n",
       "    </tr>\n",
       "    <tr>\n",
       "      <th>...</th>\n",
       "      <td>...</td>\n",
       "      <td>...</td>\n",
       "    </tr>\n",
       "    <tr>\n",
       "      <th>5907</th>\n",
       "      <td>2024-03-18</td>\n",
       "      <td>542.75</td>\n",
       "    </tr>\n",
       "    <tr>\n",
       "      <th>5908</th>\n",
       "      <td>2024-03-19</td>\n",
       "      <td>552.50</td>\n",
       "    </tr>\n",
       "    <tr>\n",
       "      <th>5909</th>\n",
       "      <td>2024-03-20</td>\n",
       "      <td>545.00</td>\n",
       "    </tr>\n",
       "    <tr>\n",
       "      <th>5910</th>\n",
       "      <td>2024-03-21</td>\n",
       "      <td>546.75</td>\n",
       "    </tr>\n",
       "    <tr>\n",
       "      <th>5911</th>\n",
       "      <td>2024-03-22</td>\n",
       "      <td>544.75</td>\n",
       "    </tr>\n",
       "  </tbody>\n",
       "</table>\n",
       "<p>5912 rows × 2 columns</p>\n",
       "</div>"
      ],
      "text/plain": [
       "           Date   Close\n",
       "0    2000-07-17  244.00\n",
       "1    2000-07-18  241.25\n",
       "2    2000-07-19  245.00\n",
       "3    2000-07-20  247.00\n",
       "4    2000-07-21  247.25\n",
       "...         ...     ...\n",
       "5907 2024-03-18  542.75\n",
       "5908 2024-03-19  552.50\n",
       "5909 2024-03-20  545.00\n",
       "5910 2024-03-21  546.75\n",
       "5911 2024-03-22  544.75\n",
       "\n",
       "[5912 rows x 2 columns]"
      ]
     },
     "execution_count": 3,
     "metadata": {},
     "output_type": "execute_result"
    }
   ],
   "source": [
    "# trim dataset to relevent columns (we only need date and close to forecast prices)\n",
    "data = data[['Date', 'Close']]\n",
    "data"
   ]
  },
  {
   "cell_type": "code",
   "execution_count": 4,
   "id": "25fbf840-f2df-4e6f-8ffd-2f9d5b839213",
   "metadata": {
    "tags": []
   },
   "outputs": [
    {
     "data": {
      "text/plain": [
       "[<matplotlib.lines.Line2D at 0x26da09b7e10>]"
      ]
     },
     "execution_count": 4,
     "metadata": {},
     "output_type": "execute_result"
    },
    {
     "data": {
      "image/png": "[encoded data removed]",
      "text/plain": [
       "<Figure size 640x480 with 1 Axes>"
      ]
     },
     "metadata": {},
     "output_type": "display_data"
    }
   ],
   "source": [
    "#simple transformations\n",
    "data.loc[:, 'Date'] = pd.to_datetime(data['Date'])\n",
    "\n",
    "plt.plot(data['Date'], data['Close'])"
   ]
  },
  {
   "cell_type": "code",
   "execution_count": 5,
   "id": "6b947d58-381d-4615-9f0f-d96b31a3e7d0",
   "metadata": {
    "tags": []
   },
   "outputs": [
    {
     "data": {
      "text/plain": [
       "'cpu'"
      ]
     },
     "execution_count": 5,
     "metadata": {},
     "output_type": "execute_result"
    }
   ],
   "source": [
    "device = 'cuda:0' if torch.cuda.is_available() else 'cpu'\n",
    "device"
   ]
  },
  {
   "cell_type": "code",
   "execution_count": 6,
   "id": "a666a57d-4c0c-4e45-8600-bad34944a8d9",
   "metadata": {
    "tags": []
   },
   "outputs": [
    {
     "data": {
      "text/html": [
       "<div>\n",
       "<style scoped>\n",
       "    .dataframe tbody tr th:only-of-type {\n",
       "        vertical-align: middle;\n",
       "    }\n",
       "\n",
       "    .dataframe tbody tr th {\n",
       "        vertical-align: top;\n",
       "    }\n",
       "\n",
       "    .dataframe thead th {\n",
       "        text-align: right;\n",
       "    }\n",
       "</style>\n",
       "<table border=\"1\" class=\"dataframe\">\n",
       "  <thead>\n",
       "    <tr style=\"text-align: right;\">\n",
       "      <th></th>\n",
       "      <th>Close</th>\n",
       "      <th>Close(t-1)</th>\n",
       "      <th>Close(t-2)</th>\n",
       "      <th>Close(t-3)</th>\n",
       "      <th>Close(t-4)</th>\n",
       "      <th>Close(t-5)</th>\n",
       "      <th>Close(t-6)</th>\n",
       "      <th>Close(t-7)</th>\n",
       "    </tr>\n",
       "    <tr>\n",
       "      <th>Date</th>\n",
       "      <th></th>\n",
       "      <th></th>\n",
       "      <th></th>\n",
       "      <th></th>\n",
       "      <th></th>\n",
       "      <th></th>\n",
       "      <th></th>\n",
       "      <th></th>\n",
       "    </tr>\n",
       "  </thead>\n",
       "  <tbody>\n",
       "    <tr>\n",
       "      <th>2000-07-26</th>\n",
       "      <td>244.25</td>\n",
       "      <td>245.50</td>\n",
       "      <td>245.50</td>\n",
       "      <td>247.25</td>\n",
       "      <td>247.00</td>\n",
       "      <td>245.00</td>\n",
       "      <td>241.25</td>\n",
       "      <td>244.00</td>\n",
       "    </tr>\n",
       "    <tr>\n",
       "      <th>2000-07-27</th>\n",
       "      <td>245.75</td>\n",
       "      <td>244.25</td>\n",
       "      <td>245.50</td>\n",
       "      <td>245.50</td>\n",
       "      <td>247.25</td>\n",
       "      <td>247.00</td>\n",
       "      <td>245.00</td>\n",
       "      <td>241.25</td>\n",
       "    </tr>\n",
       "    <tr>\n",
       "      <th>2000-07-28</th>\n",
       "      <td>248.50</td>\n",
       "      <td>245.75</td>\n",
       "      <td>244.25</td>\n",
       "      <td>245.50</td>\n",
       "      <td>245.50</td>\n",
       "      <td>247.25</td>\n",
       "      <td>247.00</td>\n",
       "      <td>245.00</td>\n",
       "    </tr>\n",
       "    <tr>\n",
       "      <th>2000-07-31</th>\n",
       "      <td>246.00</td>\n",
       "      <td>248.50</td>\n",
       "      <td>245.75</td>\n",
       "      <td>244.25</td>\n",
       "      <td>245.50</td>\n",
       "      <td>245.50</td>\n",
       "      <td>247.25</td>\n",
       "      <td>247.00</td>\n",
       "    </tr>\n",
       "    <tr>\n",
       "      <th>2000-08-01</th>\n",
       "      <td>245.00</td>\n",
       "      <td>246.00</td>\n",
       "      <td>248.50</td>\n",
       "      <td>245.75</td>\n",
       "      <td>244.25</td>\n",
       "      <td>245.50</td>\n",
       "      <td>245.50</td>\n",
       "      <td>247.25</td>\n",
       "    </tr>\n",
       "    <tr>\n",
       "      <th>...</th>\n",
       "      <td>...</td>\n",
       "      <td>...</td>\n",
       "      <td>...</td>\n",
       "      <td>...</td>\n",
       "      <td>...</td>\n",
       "      <td>...</td>\n",
       "      <td>...</td>\n",
       "      <td>...</td>\n",
       "    </tr>\n",
       "    <tr>\n",
       "      <th>2024-03-18</th>\n",
       "      <td>542.75</td>\n",
       "      <td>528.50</td>\n",
       "      <td>519.50</td>\n",
       "      <td>532.25</td>\n",
       "      <td>535.50</td>\n",
       "      <td>537.50</td>\n",
       "      <td>526.75</td>\n",
       "      <td>520.75</td>\n",
       "    </tr>\n",
       "    <tr>\n",
       "      <th>2024-03-19</th>\n",
       "      <td>552.50</td>\n",
       "      <td>542.75</td>\n",
       "      <td>528.50</td>\n",
       "      <td>519.50</td>\n",
       "      <td>532.25</td>\n",
       "      <td>535.50</td>\n",
       "      <td>537.50</td>\n",
       "      <td>526.75</td>\n",
       "    </tr>\n",
       "    <tr>\n",
       "      <th>2024-03-20</th>\n",
       "      <td>545.00</td>\n",
       "      <td>552.50</td>\n",
       "      <td>542.75</td>\n",
       "      <td>528.50</td>\n",
       "      <td>519.50</td>\n",
       "      <td>532.25</td>\n",
       "      <td>535.50</td>\n",
       "      <td>537.50</td>\n",
       "    </tr>\n",
       "    <tr>\n",
       "      <th>2024-03-21</th>\n",
       "      <td>546.75</td>\n",
       "      <td>545.00</td>\n",
       "      <td>552.50</td>\n",
       "      <td>542.75</td>\n",
       "      <td>528.50</td>\n",
       "      <td>519.50</td>\n",
       "      <td>532.25</td>\n",
       "      <td>535.50</td>\n",
       "    </tr>\n",
       "    <tr>\n",
       "      <th>2024-03-22</th>\n",
       "      <td>544.75</td>\n",
       "      <td>546.75</td>\n",
       "      <td>545.00</td>\n",
       "      <td>552.50</td>\n",
       "      <td>542.75</td>\n",
       "      <td>528.50</td>\n",
       "      <td>519.50</td>\n",
       "      <td>532.25</td>\n",
       "    </tr>\n",
       "  </tbody>\n",
       "</table>\n",
       "<p>5905 rows × 8 columns</p>\n",
       "</div>"
      ],
      "text/plain": [
       "             Close  Close(t-1)  Close(t-2)  Close(t-3)  Close(t-4)  \\\n",
       "Date                                                                 \n",
       "2000-07-26  244.25      245.50      245.50      247.25      247.00   \n",
       "2000-07-27  245.75      244.25      245.50      245.50      247.25   \n",
       "2000-07-28  248.50      245.75      244.25      245.50      245.50   \n",
       "2000-07-31  246.00      248.50      245.75      244.25      245.50   \n",
       "2000-08-01  245.00      246.00      248.50      245.75      244.25   \n",
       "...            ...         ...         ...         ...         ...   \n",
       "2024-03-18  542.75      528.50      519.50      532.25      535.50   \n",
       "2024-03-19  552.50      542.75      528.50      519.50      532.25   \n",
       "2024-03-20  545.00      552.50      542.75      528.50      519.50   \n",
       "2024-03-21  546.75      545.00      552.50      542.75      528.50   \n",
       "2024-03-22  544.75      546.75      545.00      552.50      542.75   \n",
       "\n",
       "            Close(t-5)  Close(t-6)  Close(t-7)  \n",
       "Date                                            \n",
       "2000-07-26      245.00      241.25      244.00  \n",
       "2000-07-27      247.00      245.00      241.25  \n",
       "2000-07-28      247.25      247.00      245.00  \n",
       "2000-07-31      245.50      247.25      247.00  \n",
       "2000-08-01      245.50      245.50      247.25  \n",
       "...                ...         ...         ...  \n",
       "2024-03-18      537.50      526.75      520.75  \n",
       "2024-03-19      535.50      537.50      526.75  \n",
       "2024-03-20      532.25      535.50      537.50  \n",
       "2024-03-21      519.50      532.25      535.50  \n",
       "2024-03-22      528.50      519.50      532.25  \n",
       "\n",
       "[5905 rows x 8 columns]"
      ]
     },
     "execution_count": 6,
     "metadata": {},
     "output_type": "execute_result"
    }
   ],
   "source": [
    "#takes df from above and creates a lookback window of a week (lookback =7) \n",
    "from copy import deepcopy as dc\n",
    "\n",
    "def prepare_dataframe_for_lstm(df, n_steps):\n",
    "    df = dc(df)\n",
    "    \n",
    "    df.set_index('Date', inplace=True)\n",
    "    \n",
    "    #shifts dataframe for each lookback window\n",
    "    for i in range(1, n_steps+1):\n",
    "        df[f'Close(t-{i})'] = df['Close'].shift(i)\n",
    "        \n",
    "    df.dropna(inplace=True)\n",
    "    \n",
    "    return df\n",
    "\n",
    "lookback = 7\n",
    "shifted_df = prepare_dataframe_for_lstm(data, lookback)\n",
    "shifted_df"
   ]
  },
  {
   "cell_type": "code",
   "execution_count": 7,
   "id": "7ddcf01c-72b9-4a23-8107-a7e26f413829",
   "metadata": {
    "tags": []
   },
   "outputs": [
    {
     "data": {
      "text/plain": [
       "array([[244.25, 245.5 , 245.5 , ..., 245.  , 241.25, 244.  ],\n",
       "       [245.75, 244.25, 245.5 , ..., 247.  , 245.  , 241.25],\n",
       "       [248.5 , 245.75, 244.25, ..., 247.25, 247.  , 245.  ],\n",
       "       ...,\n",
       "       [545.  , 552.5 , 542.75, ..., 532.25, 535.5 , 537.5 ],\n",
       "       [546.75, 545.  , 552.5 , ..., 519.5 , 532.25, 535.5 ],\n",
       "       [544.75, 546.75, 545.  , ..., 528.5 , 519.5 , 532.25]])"
      ]
     },
     "execution_count": 7,
     "metadata": {},
     "output_type": "execute_result"
    }
   ],
   "source": [
    "shifted_df_as_np = shifted_df.to_numpy()\n",
    "\n",
    "shifted_df_as_np"
   ]
  },
  {
   "cell_type": "code",
   "execution_count": 8,
   "id": "329af201-6162-40b2-8338-6e81eeb396c4",
   "metadata": {
    "tags": []
   },
   "outputs": [
    {
     "data": {
      "text/plain": [
       "(5905, 8)"
      ]
     },
     "execution_count": 8,
     "metadata": {},
     "output_type": "execute_result"
    }
   ],
   "source": [
    "shifted_df_as_np.shape"
   ]
  },
  {
   "cell_type": "code",
   "execution_count": 9,
   "id": "6d6e8ba9-1f2c-45a1-8f56-697f8902f427",
   "metadata": {
    "tags": []
   },
   "outputs": [
    {
     "data": {
      "text/plain": [
       "array([[-0.9819593 , -0.97986155, -0.97986155, ..., -0.98070065,\n",
       "        -0.98699392, -0.98237885],\n",
       "       [-0.979442  , -0.9819593 , -0.97986155, ..., -0.97734424,\n",
       "        -0.98070065, -0.98699392],\n",
       "       [-0.97482694, -0.979442  , -0.9819593 , ..., -0.97692469,\n",
       "        -0.97734424, -0.98070065],\n",
       "       ...,\n",
       "       [-0.47723935, -0.46465282, -0.48101531, ..., -0.49863646,\n",
       "        -0.49318229, -0.48982589],\n",
       "       [-0.4743025 , -0.47723935, -0.46465282, ..., -0.52003356,\n",
       "        -0.49863646, -0.49318229],\n",
       "       [-0.4776589 , -0.4743025 , -0.47723935, ..., -0.50492973,\n",
       "        -0.52003356, -0.49863646]])"
      ]
     },
     "execution_count": 9,
     "metadata": {},
     "output_type": "execute_result"
    }
   ],
   "source": [
    "#runs scaler on data\n",
    "from sklearn.preprocessing import MinMaxScaler\n",
    "\n",
    "scaler = MinMaxScaler(feature_range=(-1, 1))\n",
    "shifted_df_as_np = scaler.fit_transform(shifted_df_as_np)\n",
    "\n",
    "shifted_df_as_np"
   ]
  },
  {
   "cell_type": "code",
   "execution_count": 10,
   "id": "a27292bb-216d-4acc-b367-e8ba00db7fd3",
   "metadata": {
    "tags": []
   },
   "outputs": [
    {
     "data": {
      "text/plain": [
       "((5905, 7), (5905,))"
      ]
     },
     "execution_count": 10,
     "metadata": {},
     "output_type": "execute_result"
    }
   ],
   "source": [
    "#changes df into x and y\n",
    "X = shifted_df_as_np[:, 1:]\n",
    "y = shifted_df_as_np[:, 0]\n",
    "\n",
    "X.shape, y.shape"
   ]
  },
  {
   "cell_type": "code",
   "execution_count": 11,
   "id": "31bf9606-7d40-499a-a94a-723203988bff",
   "metadata": {
    "tags": []
   },
   "outputs": [
    {
     "data": {
      "text/plain": [
       "array([[-0.98237885, -0.98699392, -0.98070065, ..., -0.97692469,\n",
       "        -0.97986155, -0.97986155],\n",
       "       [-0.98699392, -0.98070065, -0.97734424, ..., -0.97986155,\n",
       "        -0.97986155, -0.9819593 ],\n",
       "       [-0.98070065, -0.97734424, -0.97692469, ..., -0.97986155,\n",
       "        -0.9819593 , -0.979442  ],\n",
       "       ...,\n",
       "       [-0.48982589, -0.49318229, -0.49863646, ..., -0.50492973,\n",
       "        -0.48101531, -0.46465282],\n",
       "       [-0.49318229, -0.49863646, -0.52003356, ..., -0.48101531,\n",
       "        -0.46465282, -0.47723935],\n",
       "       [-0.49863646, -0.52003356, -0.50492973, ..., -0.46465282,\n",
       "        -0.47723935, -0.4743025 ]])"
      ]
     },
     "execution_count": 11,
     "metadata": {},
     "output_type": "execute_result"
    }
   ],
   "source": [
    "X = dc(np.flip(X, axis=1))\n",
    "X"
   ]
  },
  {
   "cell_type": "code",
   "execution_count": 12,
   "id": "d255edaa-a234-4f54-8c5a-61d8ce598d7b",
   "metadata": {
    "tags": []
   },
   "outputs": [
    {
     "data": {
      "text/plain": [
       "5609"
      ]
     },
     "execution_count": 12,
     "metadata": {},
     "output_type": "execute_result"
    }
   ],
   "source": [
    "#use first 95% as train and last 5% as test\n",
    "split_index = int(len(X) * 0.95)\n",
    "\n",
    "split_index"
   ]
  },
  {
   "cell_type": "code",
   "execution_count": 13,
   "id": "7bfecdb2-4de2-4911-adcf-224c1675b383",
   "metadata": {
    "tags": []
   },
   "outputs": [
    {
     "data": {
      "text/plain": [
       "((5609, 7), (296, 7), (5609,), (296,))"
      ]
     },
     "execution_count": 13,
     "metadata": {},
     "output_type": "execute_result"
    }
   ],
   "source": [
    "# splitting into train and test\n",
    "X_train = X[:split_index]\n",
    "X_test = X[split_index:]\n",
    "\n",
    "y_train = y[:split_index]\n",
    "y_test = y[split_index:]\n",
    "\n",
    "X_train.shape, X_test.shape, y_train.shape, y_test.shape"
   ]
  },
  {
   "cell_type": "code",
   "execution_count": 14,
   "id": "9e99a00f-5440-42d2-a3f2-891a223f3490",
   "metadata": {
    "tags": []
   },
   "outputs": [
    {
     "data": {
      "text/plain": [
       "((5609, 7, 1), (296, 7, 1), (5609, 1), (296, 1))"
      ]
     },
     "execution_count": 14,
     "metadata": {},
     "output_type": "execute_result"
    }
   ],
   "source": [
    "#PyTorch requires an extra dimension at end\n",
    "X_train = X_train.reshape((-1, lookback, 1))\n",
    "X_test = X_test.reshape((-1, lookback, 1))\n",
    "\n",
    "y_train = y_train.reshape((-1, 1))\n",
    "y_test = y_test.reshape((-1, 1))\n",
    "\n",
    "X_train.shape, X_test.shape, y_train.shape, y_test.shape"
   ]
  },
  {
   "cell_type": "code",
   "execution_count": 15,
   "id": "70803762-c7ad-48eb-bcf8-2199b001ff54",
   "metadata": {
    "tags": []
   },
   "outputs": [
    {
     "data": {
      "text/plain": [
       "(torch.Size([5609, 7, 1]),\n",
       " torch.Size([296, 7, 1]),\n",
       " torch.Size([5609, 1]),\n",
       " torch.Size([296, 1]))"
      ]
     },
     "execution_count": 15,
     "metadata": {},
     "output_type": "execute_result"
    }
   ],
   "source": [
    "#wrapping in tensors for PyTorch\n",
    "X_train = torch.tensor(X_train).float()\n",
    "y_train = torch.tensor(y_train).float()\n",
    "X_test = torch.tensor(X_test).float()\n",
    "y_test = torch.tensor(y_test).float()\n",
    "\n",
    "X_train.shape, X_test.shape, y_train.shape, y_test.shape"
   ]
  },
  {
   "cell_type": "code",
   "execution_count": 16,
   "id": "e5bd398e-05f4-4aec-ad22-98849a984110",
   "metadata": {
    "tags": []
   },
   "outputs": [],
   "source": [
    "#need datasets object for PyTorch\n",
    "#needs to be custom class\n",
    "from torch.utils.data import Dataset\n",
    "\n",
    "class TimeSeriesDataset(Dataset):\n",
    "    def __init__(self, X, y):\n",
    "        self.X = X\n",
    "        self.y = y\n",
    "\n",
    "    def __len__(self):\n",
    "        return len(self.X)\n",
    "\n",
    "    def __getitem__(self, i):\n",
    "        return self.X[i], self.y[i]\n",
    "    \n",
    "train_dataset = TimeSeriesDataset(X_train, y_train)\n",
    "test_dataset = TimeSeriesDataset(X_test, y_test)"
   ]
  },
  {
   "cell_type": "code",
   "execution_count": 17,
   "id": "9817fbc6-a3cb-48ef-9291-de2e98dd6860",
   "metadata": {
    "tags": []
   },
   "outputs": [
    {
     "data": {
      "text/plain": [
       "<__main__.TimeSeriesDataset at 0x26da47f5a90>"
      ]
     },
     "execution_count": 17,
     "metadata": {},
     "output_type": "execute_result"
    }
   ],
   "source": [
    "train_dataset"
   ]
  },
  {
   "cell_type": "code",
   "execution_count": 18,
   "id": "c51dec35-3d4a-47d2-9c5e-9ef725c65c24",
   "metadata": {
    "tags": []
   },
   "outputs": [],
   "source": [
    "# wrap datasets in dataloaders to get batches\n",
    "# used for iteration\n",
    "from torch.utils.data import DataLoader\n",
    "\n",
    "batch_size = 16\n",
    "\n",
    "train_loader = DataLoader(train_dataset, batch_size=batch_size, shuffle=True)\n",
    "test_loader = DataLoader(test_dataset, batch_size=batch_size, shuffle=False)"
   ]
  },
  {
   "cell_type": "code",
   "execution_count": 19,
   "id": "d890c028-bb50-41b3-afb7-6e13277c632c",
   "metadata": {
    "tags": []
   },
   "outputs": [
    {
     "name": "stdout",
     "output_type": "stream",
     "text": [
      "torch.Size([16, 7, 1]) torch.Size([16, 1])\n"
     ]
    }
   ],
   "source": [
    "#gives predicted outputs of arrays\n",
    "for _, batch in enumerate(train_loader):\n",
    "    x_batch, y_batch = batch[0].to(device), batch[1].to(device)\n",
    "    print(x_batch.shape, y_batch.shape)\n",
    "    break"
   ]
  },
  {
   "cell_type": "code",
   "execution_count": 20,
   "id": "b481489a-edfc-43fa-b366-765799b999f0",
   "metadata": {
    "tags": []
   },
   "outputs": [
    {
     "data": {
      "text/plain": [
       "LSTM(\n",
       "  (lstm): LSTM(1, 4, num_layers=2, batch_first=True)\n",
       "  (fc): Linear(in_features=4, out_features=1, bias=True)\n",
       ")"
      ]
     },
     "execution_count": 20,
     "metadata": {},
     "output_type": "execute_result"
    }
   ],
   "source": [
    "#takes in number of features, dimensions and number of stacked layers (more layers = more complexity in model)\n",
    "class LSTM(nn.Module):\n",
    "    def __init__(self, input_size, hidden_size, num_stacked_layers):\n",
    "        super().__init__()\n",
    "        self.hidden_size = hidden_size\n",
    "        self.num_stacked_layers = num_stacked_layers\n",
    "        \n",
    "        #initally use 1 layer to prevent overfitting in training data\n",
    "        self.lstm = nn.LSTM(input_size, hidden_size, num_stacked_layers, \n",
    "                            batch_first=True)\n",
    "        \n",
    "        #maps hidden layer to 1. Needed to predict final closing value\n",
    "        self.fc = nn.Linear(hidden_size, 1)\n",
    "\n",
    "    def forward(self, x):\n",
    "        batch_size = x.size(0)\n",
    "        #initialise LSTM with default h0 and c0\n",
    "        h0 = torch.zeros(self.num_stacked_layers, batch_size, self.hidden_size).to(device)\n",
    "        c0 = torch.zeros(self.num_stacked_layers, batch_size, self.hidden_size).to(device)\n",
    "        \n",
    "        out, _ = self.lstm(x, (h0, c0))\n",
    "        #output is gotten from passing varibles in fully connected layer\n",
    "        out = self.fc(out[:, -1, :])\n",
    "        return out\n",
    "\n",
    "#initial model has 1 input size, 4 hidden sizes and 1 stacked layer\n",
    "#model = LSTM(1, 4, 1) MSE: 2.41\n",
    "#model = LSTM(1, 8, 2) MSE: 2.19\n",
    "#model = LSTM(1, 16, 4) MSE: 3.10\n",
    "#model = LSTM(1, 12, 4) MSE: 2.62\n",
    "#model = LSTM(1, 8, 4) MSE: 2.67\n",
    "#model = LSTM(1, 8, 8) MSE: 4.007\n",
    "model = LSTM(1, 4, 2) #MSE: 2.019\n",
    "model.to(device)\n",
    "model"
   ]
  },
  {
   "cell_type": "code",
   "execution_count": 21,
   "id": "88def911-ea78-4046-bf01-a24316b2347c",
   "metadata": {},
   "outputs": [],
   "source": [
    "#sets model to training mode\n",
    "def train_one_epoch():\n",
    "    model.train(True)\n",
    "    print(f'Epoch: {epoch + 1}')\n",
    "    running_loss = 0.0\n",
    "    \n",
    "    for batch_index, batch in enumerate(train_loader):\n",
    "        #puts x and y batch onto device we're using \n",
    "        x_batch, y_batch = batch[0].to(device), batch[1].to(device)\n",
    "        \n",
    "        output = model(x_batch)\n",
    "        #comparing model's output to ground truth\n",
    "        #loss is a tensor with a single value\n",
    "        loss = loss_function(output, y_batch)\n",
    "        running_loss += loss.item()\n",
    "        \n",
    "        #zero out gradients \n",
    "        optimizer.zero_grad()\n",
    "        #backwards pass \n",
    "        loss.backward()\n",
    "        optimizer.step()\n",
    "\n",
    "        #every 100 batches get avg loss across batches and print\n",
    "        if batch_index % 100 == 99:  # print every 100 batches\n",
    "            avg_loss_across_batches = running_loss / 100\n",
    "            print('Batch {0}, Loss: {1:.3f}'.format(batch_index+1,\n",
    "                                                    avg_loss_across_batches))\n",
    "            running_loss = 0.0\n",
    "    print()"
   ]
  },
  {
   "cell_type": "code",
   "execution_count": 22,
   "id": "b8b49351-6b53-4dc8-8d00-fde43b8700c2",
   "metadata": {
    "tags": []
   },
   "outputs": [],
   "source": [
    "#sets model to validate mode\n",
    "def validate_one_epoch():\n",
    "    model.train(False)\n",
    "    running_loss = 0.0\n",
    "    \n",
    "    for batch_index, batch in enumerate(test_loader):\n",
    "        x_batch, y_batch = batch[0].to(device), batch[1].to(device)\n",
    "        \n",
    "        #don't need to calcualte gradient as there's no model updates\n",
    "        with torch.no_grad():\n",
    "            output = model(x_batch)\n",
    "            #compare output to ground truth\n",
    "            loss = loss_function(output, y_batch)\n",
    "            running_loss += loss.item()\n",
    "    #average loss value across all batches\n",
    "    avg_loss_across_batches = running_loss / len(test_loader)\n",
    "    \n",
    "    print('Val Loss: {0:.3f}'.format(avg_loss_across_batches))\n",
    "    print('***************************************************')\n",
    "    print()"
   ]
  },
  {
   "cell_type": "code",
   "execution_count": 23,
   "id": "3ff9f96a-4e22-4b12-b20b-58235fc11b2c",
   "metadata": {
    "tags": []
   },
   "outputs": [
    {
     "name": "stdout",
     "output_type": "stream",
     "text": [
      "Epoch: 1\n",
      "Batch 100, Loss: 0.258\n",
      "Batch 200, Loss: 0.085\n",
      "Batch 300, Loss: 0.029\n",
      "\n",
      "Val Loss: 0.005\n",
      "***************************************************\n",
      "\n",
      "Epoch: 2\n",
      "Batch 100, Loss: 0.005\n",
      "Batch 200, Loss: 0.004\n",
      "Batch 300, Loss: 0.004\n",
      "\n",
      "Val Loss: 0.003\n",
      "***************************************************\n",
      "\n",
      "Epoch: 3\n",
      "Batch 100, Loss: 0.003\n",
      "Batch 200, Loss: 0.002\n",
      "Batch 300, Loss: 0.002\n",
      "\n",
      "Val Loss: 0.002\n",
      "***************************************************\n",
      "\n",
      "Epoch: 4\n",
      "Batch 100, Loss: 0.002\n",
      "Batch 200, Loss: 0.002\n",
      "Batch 300, Loss: 0.001\n",
      "\n",
      "Val Loss: 0.002\n",
      "***************************************************\n",
      "\n",
      "Epoch: 5\n",
      "Batch 100, Loss: 0.002\n",
      "Batch 200, Loss: 0.002\n",
      "Batch 300, Loss: 0.001\n",
      "\n",
      "Val Loss: 0.002\n",
      "***************************************************\n",
      "\n",
      "Epoch: 6\n",
      "Batch 100, Loss: 0.002\n",
      "Batch 200, Loss: 0.001\n",
      "Batch 300, Loss: 0.002\n",
      "\n",
      "Val Loss: 0.002\n",
      "***************************************************\n",
      "\n",
      "Epoch: 7\n",
      "Batch 100, Loss: 0.001\n",
      "Batch 200, Loss: 0.002\n",
      "Batch 300, Loss: 0.001\n",
      "\n",
      "Val Loss: 0.001\n",
      "***************************************************\n",
      "\n",
      "Epoch: 8\n",
      "Batch 100, Loss: 0.001\n",
      "Batch 200, Loss: 0.001\n",
      "Batch 300, Loss: 0.001\n",
      "\n",
      "Val Loss: 0.001\n",
      "***************************************************\n",
      "\n",
      "Epoch: 9\n",
      "Batch 100, Loss: 0.002\n",
      "Batch 200, Loss: 0.001\n",
      "Batch 300, Loss: 0.001\n",
      "\n",
      "Val Loss: 0.001\n",
      "***************************************************\n",
      "\n",
      "Epoch: 10\n",
      "Batch 100, Loss: 0.001\n",
      "Batch 200, Loss: 0.001\n",
      "Batch 300, Loss: 0.001\n",
      "\n",
      "Val Loss: 0.001\n",
      "***************************************************\n",
      "\n"
     ]
    }
   ],
   "source": [
    "learning_rate = 0.001\n",
    "#10 epochs is all that is necessary as any more will cause overfitting\n",
    "num_epochs = 10\n",
    "#trying to minimise mean squared error\n",
    "loss_function = nn.MSELoss()\n",
    "optimizer = torch.optim.Adam(model.parameters(), lr=learning_rate)\n",
    "\n",
    "for epoch in range(num_epochs):\n",
    "    train_one_epoch()\n",
    "    validate_one_epoch()"
   ]
  },
  {
   "cell_type": "code",
   "execution_count": 24,
   "id": "937ec50e-4d4f-4e85-b99e-9aa5cae20a25",
   "metadata": {
    "tags": []
   },
   "outputs": [
    {
     "data": {
      "image/png": "[encoded data removed]",
      "text/plain": [
       "<Figure size 640x480 with 1 Axes>"
      ]
     },
     "metadata": {},
     "output_type": "display_data"
    }
   ],
   "source": [
    "#no gradients for predictions\n",
    "with torch.no_grad():\n",
    "    #makes sure it on the device and is put to the CPU (numpy doesn't use GPU)\n",
    "    predicted = model(X_train.to(device)).to('cpu').numpy()\n",
    "\n",
    "plt.plot(y_train, label='Actual Close')\n",
    "plt.plot(predicted, label='Predicted Close')\n",
    "plt.xlabel('Day')\n",
    "plt.ylabel('Close')\n",
    "plt.legend()\n",
    "plt.show()"
   ]
  },
  {
   "cell_type": "code",
   "execution_count": 25,
   "id": "e8a2d6d1-d967-47bf-afd2-abed20472cac",
   "metadata": {
    "tags": []
   },
   "outputs": [
    {
     "data": {
      "text/plain": [
       "array([252.61080101, 252.71401317, 252.99282098, ..., 736.36485866,\n",
       "       736.71082895, 738.63327092])"
      ]
     },
     "execution_count": 25,
     "metadata": {},
     "output_type": "execute_result"
    }
   ],
   "source": [
    "#above data still includes scalar begins at -1\n",
    "#do opposite of earlier transform\n",
    "train_predictions = predicted.flatten()\n",
    "\n",
    "#lookback+1 is the length of the whole dataset\n",
    "dummies = np.zeros((X_train.shape[0], lookback+1))\n",
    "dummies[:, 0] = train_predictions\n",
    "dummies = scaler.inverse_transform(dummies)\n",
    "\n",
    "#return in right scale\n",
    "train_predictions = dc(dummies[:, 0])\n",
    "train_predictions"
   ]
  },
  {
   "cell_type": "code",
   "execution_count": 26,
   "id": "d0d60a99-a76d-4890-b2eb-1b636554eae4",
   "metadata": {
    "tags": []
   },
   "outputs": [
    {
     "data": {
      "text/plain": [
       "array([244.25001203, 245.74999802, 248.50000192, ..., 743.74999791,\n",
       "       751.74999716, 742.49999775])"
      ]
     },
     "execution_count": 26,
     "metadata": {},
     "output_type": "execute_result"
    }
   ],
   "source": [
    "#first column is no y_train.flatter()\n",
    "dummies = np.zeros((X_train.shape[0], lookback+1))\n",
    "dummies[:, 0] = y_train.flatten()\n",
    "dummies = scaler.inverse_transform(dummies)\n",
    "\n",
    "new_y_train = dc(dummies[:, 0])\n",
    "new_y_train"
   ]
  },
  {
   "cell_type": "code",
   "execution_count": 27,
   "id": "ad295e31-9fc3-4100-a37f-e31085f086c1",
   "metadata": {
    "tags": []
   },
   "outputs": [
    {
     "data": {
      "image/png": "[encoded data removed]",
      "text/plain": [
       "<Figure size 640x480 with 1 Axes>"
      ]
     },
     "metadata": {},
     "output_type": "display_data"
    }
   ],
   "source": [
    "#same graph as earlier with different y_train and predictions\n",
    "plt.plot(new_y_train, label='Actual Close')\n",
    "plt.plot(train_predictions, label='Predicted Close')\n",
    "plt.xlabel('Day')\n",
    "plt.ylabel('Close')\n",
    "plt.legend()\n",
    "plt.show()\n"
   ]
  },
  {
   "cell_type": "code",
   "execution_count": 28,
   "id": "3ddeddab-f9a5-4b15-84f6-0b6fbe34bac7",
   "metadata": {
    "tags": []
   },
   "outputs": [
    {
     "data": {
      "text/plain": [
       "array([739.54293021, 738.60560324, 738.37914737, 734.42341514,\n",
       "       732.0391467 , 731.71160968, 734.01791849, 737.18629393,\n",
       "       740.7526897 , 745.00134771, 749.31150326, 752.31207902,\n",
       "       753.66374635, 752.85136789, 751.43477563, 752.28950801,\n",
       "       752.52248124, 757.55899771, 764.79676839, 771.1044309 ,\n",
       "       773.28366018, 772.440382  , 769.99186346, 765.16078128,\n",
       "       756.88510859, 749.18941385, 738.33247814, 726.33873468,\n",
       "       714.725555  , 705.80590732, 700.53571173, 696.92301965,\n",
       "       692.21917683, 689.18997443, 685.33445319, 678.29434304,\n",
       "       672.80589599, 669.51282065, 670.23827146, 675.52356174,\n",
       "       681.07867404, 688.27216401, 693.82582012, 694.13392938,\n",
       "       689.12020145, 682.01458034, 678.95257808, 679.95831063,\n",
       "       682.54223743, 686.97352343, 689.89106063, 691.91753165,\n",
       "       692.90721056, 692.08930922, 689.41298516, 685.51763169,\n",
       "       682.0471316 , 679.03614938, 677.29088356, 674.32024857,\n",
       "       673.9158707 , 677.07089178, 681.53535057, 683.12892364,\n",
       "       681.31825341, 677.06570631, 669.97276474, 661.22896132,\n",
       "       651.12940612, 640.33389691, 632.22137119, 624.02323193,\n",
       "       615.71589592, 613.78152027, 615.24170955, 620.86448158,\n",
       "       626.7529024 , 629.89522618, 631.73457631, 630.32514071,\n",
       "       628.01801501, 631.71401202, 634.88062937, 634.8385951 ,\n",
       "       631.63441861, 626.25367661, 621.20466262, 618.65710515,\n",
       "       613.96773547, 610.37711716, 610.07554301, 607.28455258,\n",
       "       604.37212981, 603.97558343, 605.34504474, 609.15512209,\n",
       "       613.78120062, 615.95558184, 619.49839438, 622.81222935,\n",
       "       625.55672813, 628.16604953, 629.44980852, 634.88045178,\n",
       "       645.81421059, 658.20650714, 675.87201822, 693.82635287,\n",
       "       708.26284338, 717.53176443, 715.60967763, 704.52088748,\n",
       "       691.06999144, 674.87148889, 659.45471369, 652.13087665,\n",
       "       647.08033543, 644.09750037, 642.06641216, 642.16887847,\n",
       "       639.19568625, 636.31824765, 634.57468664, 636.7972288 ,\n",
       "       643.01588592, 659.13847106, 676.54097936, 688.57578038,\n",
       "       705.24770568, 721.14198808, 727.61167877, 727.65255874,\n",
       "       722.17725295, 710.21494197, 696.12213092, 678.83539001,\n",
       "       661.98394444, 650.15974099, 645.27327017, 644.02316346,\n",
       "       642.61195201, 641.46528833, 638.879195  , 634.535547  ,\n",
       "       626.83148358, 617.99087881, 609.24054027, 606.18168125,\n",
       "       603.10321689, 601.58016267, 602.72570758, 603.91037437,\n",
       "       602.95212793, 600.69087233, 594.27463459, 589.20505631,\n",
       "       584.23375334, 578.85610131, 575.48735718, 574.93775064,\n",
       "       574.18960453, 573.5264504 , 570.50344571, 567.8728852 ,\n",
       "       567.09279162, 566.59633614, 571.77431206, 577.241005  ,\n",
       "       581.16471872, 584.91166475, 585.46789519, 584.91546506,\n",
       "       585.5466362 , 585.08999519, 584.3715945 , 583.54094258,\n",
       "       576.76266315, 572.62011193, 569.89049474, 566.63689646,\n",
       "       566.76028223, 567.16332822, 568.27898563, 568.82427687,\n",
       "       566.7387945 , 566.54480109, 568.76435983, 570.42399436,\n",
       "       571.62407549, 573.53520532, 578.18358847, 581.78312153,\n",
       "       584.03487636, 584.43369583, 582.50248118, 581.66818879,\n",
       "       580.09296021, 576.76426141, 572.4248044 , 568.81884278,\n",
       "       566.81306037, 567.12837957, 568.14004345, 569.03684562,\n",
       "       573.46509492, 577.04834348, 578.57638783, 579.53791958,\n",
       "       578.80133422, 575.77959038, 571.43544514, 565.63713074,\n",
       "       559.94863465, 556.71968511, 554.72913946, 553.00514828,\n",
       "       549.85692869, 547.95119744, 548.44598362, 552.25474684,\n",
       "       557.36335821, 565.63627834, 578.32654407, 590.72999293,\n",
       "       602.12252376, 609.39180683, 609.98621796, 610.11450507,\n",
       "       605.92308258, 601.4787086 , 603.65271689, 605.88426258,\n",
       "       609.72467138, 612.3247051 , 613.25608299, 614.9758299 ,\n",
       "       618.91343074, 620.06005891, 622.69132976, 624.45208096,\n",
       "       622.94225679, 618.89226266, 616.17301641, 614.03454279,\n",
       "       610.4746111 , 608.42510736, 607.67394231, 607.27982883,\n",
       "       605.6382369 , 600.91242686, 595.88157978, 592.58676411,\n",
       "       590.60179462, 590.30254683, 591.15955229, 594.77275936,\n",
       "       599.58102192, 602.02898996, 602.02865255, 602.53489294,\n",
       "       601.56158732, 601.19947459, 600.28551774, 598.18898961,\n",
       "       597.15613988, 597.65321691, 596.02696828, 595.79181077,\n",
       "       595.70513173, 595.96278921, 594.83082952, 590.0855207 ,\n",
       "       583.35943338, 580.66572379, 579.29752332, 579.02651148,\n",
       "       577.92072777, 577.77574771, 579.72278514, 579.68851131,\n",
       "       578.83828958, 575.60685385, 572.44192356, 567.35060892,\n",
       "       558.13815977, 548.08669448, 540.59269588, 536.03555568,\n",
       "       534.04863276, 532.4890849 , 530.45815651, 530.43052435,\n",
       "       532.52179598, 536.38568146, 539.16363718, 541.92699544])"
      ]
     },
     "execution_count": 28,
     "metadata": {},
     "output_type": "execute_result"
    }
   ],
   "source": [
    "#convert to vector of predictions \n",
    "test_predictions = model(X_test.to(device)).detach().cpu().numpy().flatten()\n",
    "\n",
    "dummies = np.zeros((X_test.shape[0], lookback+1))\n",
    "dummies[:, 0] = test_predictions\n",
    "dummies = scaler.inverse_transform(dummies)\n",
    "\n",
    "test_predictions = dc(dummies[:, 0])\n",
    "test_predictions"
   ]
  },
  {
   "cell_type": "code",
   "execution_count": 29,
   "id": "d1c351bc-798d-42b4-af90-04bdd4b762b2",
   "metadata": {
    "tags": []
   },
   "outputs": [
    {
     "data": {
      "text/plain": [
       "array([734.4999985 , 741.50000117, 720.00000374, 734.4999985 ,\n",
       "       741.24999759, 752.49999903, 749.99999871, 752.49999903,\n",
       "       761.25000015, 759.75000084, 761.000001  , 756.7499978 ,\n",
       "       750.25000229, 749.750004  , 764.75000149, 757.25000052,\n",
       "       785.99999977, 792.00000143, 785.99999977, 769.2499994 ,\n",
       "       765.00000063, 765.49999892, 750.499997  , 736.50000053,\n",
       "       738.24999898, 708.25000401, 695.99999711, 691.50000364,\n",
       "       697.00000257, 701.25000134, 695.75000241, 682.49999894,\n",
       "       684.74999567, 674.49999969, 653.50000055, 666.74999514,\n",
       "       672.25000295, 686.500003  , 702.7499962 , 698.99999572,\n",
       "       710.50000075, 700.75000305, 683.25000081, 663.50000183,\n",
       "       661.99999809, 688.49999615, 697.99999915, 699.7499976 ,\n",
       "       704.74999824, 692.24999663, 692.24999663, 693.49999679,\n",
       "       691.50000364, 682.00000065, 675.49999626, 678.50000375,\n",
       "       673.99999252, 679.50000033, 666.99999873, 682.49999894,\n",
       "       696.50000428, 697.99999915, 681.74999706, 667.74999172,\n",
       "       661.7499945 , 643.49999927, 638.75000221, 627.24999718,\n",
       "       614.74999558, 619.74999622, 603.74999772, 595.50000377,\n",
       "       626.25000061, 631.50000483, 646.99999616, 640.99999895,\n",
       "       630.50000826, 628.24999376, 614.25000617, 624.49999328,\n",
       "       660.74999793, 647.50000333, 625.50000761, 611.75000585,\n",
       "       604.99999788, 606.24999804, 622.24999654, 606.24999804,\n",
       "       604.25000489, 615.99999574, 590.99999254, 594.25000361,\n",
       "       610.74999152, 619.00000323, 624.00000387, 627.75000435,\n",
       "       616.75000649, 626.25000061, 630.25000467, 633.75000157,\n",
       "       636.25000189, 630.25000467, 661.50000868, 687.99999787,\n",
       "       695.75000241, 734.4999985 , 739.00000085, 733.24999834,\n",
       "       724.25000251, 684.99999926, 655.74999728, 652.99999338,\n",
       "       636.25000189, 628.49999734, 661.99999809, 646.99999616,\n",
       "       639.4999952 , 636.25000189, 649.49999648, 621.24999997,\n",
       "       627.50000077, 641.50000611, 653.75000413, 670.74999921,\n",
       "       727.74999941, 726.99999754, 697.50000086, 757.49999967,\n",
       "       760.24999913, 720.00000374, 712.74999749, 704.24999995,\n",
       "       665.74999857, 652.25000039, 640.00000237, 626.9999936 ,\n",
       "       633.00000858, 657.50000461, 656.25000445, 635.00000173,\n",
       "       637.75000563, 626.75000777, 615.99999574, 598.4999935 ,\n",
       "       597.75000051, 589.50000655, 613.24999184, 599.25000425,\n",
       "       601.75000457, 612.49999885, 604.00000131, 593.25000703,\n",
       "       588.00000281, 569.75000757, 576.75000137, 573.00000089,\n",
       "       567.49999308, 572.49999372, 580.99999126, 571.49999714,\n",
       "       567.25000725, 556.00000581, 560.2499957 , 568.99999682,\n",
       "       567.49999308, 604.25000489, 591.24999612, 583.99999874,\n",
       "       588.7499958 , 575.75000479, 579.50000527, 588.99999939,\n",
       "       588.99999939, 579.50000527, 578.74999452, 541.4999933 ,\n",
       "       564.75000693, 568.50000741, 559.99999212, 578.25000511,\n",
       "       568.25000383, 572.7499973 , 558.50000613, 556.00000581,\n",
       "       571.49999714, 579.75000886, 577.25000853, 570.50000057,\n",
       "       580.24999826, 594.00000003, 585.9999919 , 587.24999206,\n",
       "       580.50000185, 568.50000741, 579.50000527, 575.50000121,\n",
       "       566.00000709, 556.24999164, 561.74999944, 565.49999993,\n",
       "       572.49999372, 575.75000479, 570.24999698, 592.2499927 ,\n",
       "       580.75000543, 575.24999762, 578.9999981 , 572.00000431,\n",
       "       560.49999928, 553.50000549, 550.75000159, 543.50000421,\n",
       "       554.99999148, 555.75000223, 548.75000843, 534.24999592,\n",
       "       543.75000779, 556.00000581, 570.24999698, 577.00000495,\n",
       "       595.75000735, 620.7499928 , 615.74999216, 625.99999702,\n",
       "       614.99999917, 591.24999612, 607.0000088 , 585.2499989 ,\n",
       "       594.00000003, 629.2500081 , 616.99999232, 622.75000371,\n",
       "       609.99999852, 612.49999885, 616.24999933, 636.25000189,\n",
       "       623.00000729, 631.50000483, 628.00000793, 606.75000521,\n",
       "       600.25000083, 613.49999542, 615.99999574, 596.24999676,\n",
       "       609.99999852, 610.74999152, 603.74999772, 595.99999318,\n",
       "       582.00000559, 582.499995  , 585.50000249, 593.25000703,\n",
       "       596.50000035, 596.50000035, 610.74999152, 612.24999526,\n",
       "       600.25000083, 593.49999286, 605.50000505, 595.25000019,\n",
       "       601.50000099, 599.74999366, 590.24999955, 594.9999966 ,\n",
       "       602.00000815, 588.49999222, 596.75000393, 597.49999692,\n",
       "       597.49999692, 585.50000249, 567.00000367, 560.49999928,\n",
       "       582.74999858, 583.25000575, 583.25000575, 573.50000805,\n",
       "       577.25000853, 585.9999919 , 571.00000773, 577.49999436,\n",
       "       559.99999212, 563.50000677, 545.75000095, 521.25000491,\n",
       "       520.74999774, 526.75001272, 537.50000699, 535.49999608,\n",
       "       532.25000277, 519.50001534, 528.50000229, 542.74999346,\n",
       "       552.49999116, 545.00000795, 546.74999752, 544.75000437])"
      ]
     },
     "execution_count": 29,
     "metadata": {},
     "output_type": "execute_result"
    }
   ],
   "source": [
    "#make ground truth proper scale\n",
    "dummies = np.zeros((X_test.shape[0], lookback+1))\n",
    "dummies[:, 0] = y_test.flatten()\n",
    "dummies = scaler.inverse_transform(dummies)\n",
    "\n",
    "new_y_test = dc(dummies[:, 0])\n",
    "new_y_test"
   ]
  },
  {
   "cell_type": "code",
   "execution_count": 30,
   "id": "c0a2543c-6791-4805-baf0-535a3670e521",
   "metadata": {
    "tags": []
   },
   "outputs": [
    {
     "data": {
      "image/png": "[encoded data removed]",
      "text/plain": [
       "<Figure size 640x480 with 1 Axes>"
      ]
     },
     "metadata": {},
     "output_type": "display_data"
    }
   ],
   "source": [
    "#revised graph with more accurate axises \n",
    "plt.plot(new_y_test, label='Actual Close')\n",
    "plt.plot(test_predictions, label='Predicted Close')\n",
    "plt.xlabel('Day')\n",
    "plt.ylabel('Close')\n",
    "plt.legend()\n",
    "plt.show()"
   ]
  },
  {
   "cell_type": "code",
   "execution_count": 31,
   "id": "1a36040e-ecf7-4e89-b447-ff24c360d238",
   "metadata": {
    "tags": []
   },
   "outputs": [
    {
     "name": "stdout",
     "output_type": "stream",
     "text": [
      "Root Mean Square Error (RMSE): 21.882364794317546\n",
      "Mean Absolute Error (MAE): 15.920611798190638\n",
      "Mean Absolute Percentage Error (MAPE): 2.5030184014831853\n"
     ]
    }
   ],
   "source": [
    "from math import sqrt\n",
    "from sklearn.metrics import mean_squared_error, mean_absolute_error\n",
    "import numpy as np\n",
    "\n",
    "# For each model, replace `actuals` and `predictions` with the corresponding variables\n",
    "actuals = new_y_test\n",
    "predictions = test_predictions\n",
    "\n",
    "# Calculate the RMSE\n",
    "rmse = sqrt(mean_squared_error(actuals, predictions))\n",
    "print(\"Root Mean Square Error (RMSE):\", rmse)\n",
    "\n",
    "# Calculate Mean Absolute Error (MAE)\n",
    "mae = mean_absolute_error(actuals, predictions)\n",
    "print(\"Mean Absolute Error (MAE):\", mae)\n",
    "\n",
    "# Calculate Mean Absolute Percentage Error (MAPE)\n",
    "mape = np.mean(np.abs((actuals - predictions) / actuals)) * 100\n",
    "print(\"Mean Absolute Percentage Error (MAPE):\", mape)\n"
   ]
  },
  {
   "cell_type": "code",
   "execution_count": 32,
   "id": "eca38aa6-7a5c-45f9-bcbe-a89b8c7d0f49",
   "metadata": {
    "tags": []
   },
   "outputs": [
    {
     "name": "stdout",
     "output_type": "stream",
     "text": [
      "Training - RMSE: 0.035, MAE: 0.023, MAPE: 20.375%\n",
      "Validation - RMSE: 0.037, MAE: 0.027, MAPE: 10.324%\n"
     ]
    }
   ],
   "source": [
    "#comparing the RMSE, MAE and MAPE for Training vs Validation data to check for overfitting\n",
    "from sklearn.metrics import mean_squared_error, mean_absolute_error\n",
    "import numpy as np\n",
    "import torch\n",
    "\n",
    "def evaluate_model(model, data_loader):\n",
    "    model.eval()  # Set the model to evaluation mode\n",
    "    predictions, actuals = [], []\n",
    "    with torch.no_grad():\n",
    "        for inputs, targets in data_loader:\n",
    "            inputs, targets = inputs.to(device), targets.to(device)\n",
    "            outputs = model(inputs)\n",
    "            predictions.extend(outputs.view(-1).tolist())\n",
    "            actuals.extend(targets.view(-1).tolist())\n",
    "\n",
    "    mse = mean_squared_error(actuals, predictions)\n",
    "    rmse = np.sqrt(mse)\n",
    "    mae = mean_absolute_error(actuals, predictions)\n",
    "    mape = np.mean(np.abs((np.array(actuals) - np.array(predictions)) / np.array(actuals))) * 100\n",
    "    \n",
    "    return rmse, mae, mape\n",
    "\n",
    "# Assuming 'train_loader' and 'test_loader' are already defined\n",
    "# Evaluate the model on training data\n",
    "train_rmse, train_mae, train_mape = evaluate_model(model, train_loader)\n",
    "print(f'Training - RMSE: {train_rmse:.3f}, MAE: {train_mae:.3f}, MAPE: {train_mape:.3f}%')\n",
    "\n",
    "# Evaluate the model on test (validation) data\n",
    "val_rmse, val_mae, val_mape = evaluate_model(model, test_loader)  # Use test_loader as validation loader\n",
    "print(f'Validation - RMSE: {val_rmse:.3f}, MAE: {val_mae:.3f}, MAPE: {val_mape:.3f}%')\n"
   ]
  },
  {
   "cell_type": "code",
   "execution_count": 33,
   "id": "b6fa90f9-0ac7-4de5-aeeb-61ae044fbaa0",
   "metadata": {
    "tags": []
   },
   "outputs": [
    {
     "name": "stdout",
     "output_type": "stream",
     "text": [
      "Predicted wheat price for tomorrow: 537.0495636835694\n"
     ]
    }
   ],
   "source": [
    "# Correcting the approach to reshape and inverse transform the prediction\n",
    "latest_input = shifted_df_as_np[-1, 1:].reshape(1, lookback, 1)  # Reshape for LSTM: [1, lookback, 1]\n",
    "\n",
    "# Convert to PyTorch tensor\n",
    "latest_input_tensor = torch.tensor(latest_input).float().to(device)\n",
    "\n",
    "# Make the prediction\n",
    "model.eval()  # Ensure the model is in evaluation mode\n",
    "with torch.no_grad():\n",
    "    prediction_scaled = model(latest_input_tensor).cpu().numpy()\n",
    "\n",
    "# Prepare the data for inverse transformation correctly\n",
    "prediction_scaled_expanded = np.expand_dims(prediction_scaled.flatten(), axis=0)\n",
    "dummy_features = np.zeros((1, lookback))\n",
    "combined_prediction = np.concatenate((prediction_scaled_expanded, dummy_features), axis=1)\n",
    "\n",
    "# Inverse transform the prediction to get it back into the original scale\n",
    "prediction = scaler.inverse_transform(combined_prediction)[0, 0]\n",
    "\n",
    "print(f'Predicted wheat price for tomorrow: {prediction}')\n"
   ]
  },
  {
   "cell_type": "code",
   "execution_count": null,
   "id": "a1a2ab4b-55ab-4d38-882f-d8903d3e2fa9",
   "metadata": {},
   "outputs": [],
   "source": []
  }
 ],
 "metadata": {
  "kernelspec": {
   "display_name": "Python 3 (ipykernel)",
   "language": "python",
   "name": "python3"
  },
  "language_info": {
   "codemirror_mode": {
    "name": "ipython",
    "version": 3
   },
   "file_extension": ".py",
   "mimetype": "text/x-python",
   "name": "python",
   "nbconvert_exporter": "python",
   "pygments_lexer": "ipython3",
   "version": "3.11.5"
  }
 },
 "nbformat": 4,
 "nbformat_minor": 5
}
