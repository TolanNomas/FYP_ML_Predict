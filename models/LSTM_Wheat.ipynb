{
 "cells": [
  {
   "cell_type": "code",
   "execution_count": null,
   "id": "66a6358d-2f81-45ea-9027-53386755dfc1",
   "metadata": {},
   "outputs": [],
   "source": []
  },
  {
   "cell_type": "code",
   "execution_count": 244,
   "id": "31139536-a894-4d26-ae9e-cc56acb15268",
   "metadata": {
    "tags": []
   },
   "outputs": [
    {
     "name": "stderr",
     "output_type": "stream",
     "text": [
      "[*********************100%%**********************]  1 of 1 completed\n"
     ]
    },
    {
     "data": {
      "text/html": [
       "<div>\n",
       "<style scoped>\n",
       "    .dataframe tbody tr th:only-of-type {\n",
       "        vertical-align: middle;\n",
       "    }\n",
       "\n",
       "    .dataframe tbody tr th {\n",
       "        vertical-align: top;\n",
       "    }\n",
       "\n",
       "    .dataframe thead th {\n",
       "        text-align: right;\n",
       "    }\n",
       "</style>\n",
       "<table border=\"1\" class=\"dataframe\">\n",
       "  <thead>\n",
       "    <tr style=\"text-align: right;\">\n",
       "      <th></th>\n",
       "      <th>Date</th>\n",
       "      <th>Open</th>\n",
       "      <th>High</th>\n",
       "      <th>Low</th>\n",
       "      <th>Close</th>\n",
       "      <th>Adj Close</th>\n",
       "      <th>Volume</th>\n",
       "    </tr>\n",
       "  </thead>\n",
       "  <tbody>\n",
       "    <tr>\n",
       "      <th>0</th>\n",
       "      <td>2000-07-17</td>\n",
       "      <td>248.00</td>\n",
       "      <td>248.00</td>\n",
       "      <td>243.75</td>\n",
       "      <td>244.00</td>\n",
       "      <td>244.00</td>\n",
       "      <td>7233</td>\n",
       "    </tr>\n",
       "    <tr>\n",
       "      <th>1</th>\n",
       "      <td>2000-07-18</td>\n",
       "      <td>244.25</td>\n",
       "      <td>247.50</td>\n",
       "      <td>241.00</td>\n",
       "      <td>241.25</td>\n",
       "      <td>241.25</td>\n",
       "      <td>6523</td>\n",
       "    </tr>\n",
       "    <tr>\n",
       "      <th>2</th>\n",
       "      <td>2000-07-19</td>\n",
       "      <td>241.25</td>\n",
       "      <td>246.00</td>\n",
       "      <td>239.00</td>\n",
       "      <td>245.00</td>\n",
       "      <td>245.00</td>\n",
       "      <td>7136</td>\n",
       "    </tr>\n",
       "    <tr>\n",
       "      <th>3</th>\n",
       "      <td>2000-07-20</td>\n",
       "      <td>244.00</td>\n",
       "      <td>247.50</td>\n",
       "      <td>244.00</td>\n",
       "      <td>247.00</td>\n",
       "      <td>247.00</td>\n",
       "      <td>3792</td>\n",
       "    </tr>\n",
       "    <tr>\n",
       "      <th>4</th>\n",
       "      <td>2000-07-21</td>\n",
       "      <td>247.00</td>\n",
       "      <td>248.50</td>\n",
       "      <td>246.50</td>\n",
       "      <td>247.25</td>\n",
       "      <td>247.25</td>\n",
       "      <td>4380</td>\n",
       "    </tr>\n",
       "    <tr>\n",
       "      <th>...</th>\n",
       "      <td>...</td>\n",
       "      <td>...</td>\n",
       "      <td>...</td>\n",
       "      <td>...</td>\n",
       "      <td>...</td>\n",
       "      <td>...</td>\n",
       "      <td>...</td>\n",
       "    </tr>\n",
       "    <tr>\n",
       "      <th>5901</th>\n",
       "      <td>2024-03-08</td>\n",
       "      <td>528.50</td>\n",
       "      <td>528.50</td>\n",
       "      <td>526.75</td>\n",
       "      <td>526.75</td>\n",
       "      <td>526.75</td>\n",
       "      <td>15</td>\n",
       "    </tr>\n",
       "    <tr>\n",
       "      <th>5902</th>\n",
       "      <td>2024-03-11</td>\n",
       "      <td>526.75</td>\n",
       "      <td>537.50</td>\n",
       "      <td>526.00</td>\n",
       "      <td>537.50</td>\n",
       "      <td>537.50</td>\n",
       "      <td>25</td>\n",
       "    </tr>\n",
       "    <tr>\n",
       "      <th>5903</th>\n",
       "      <td>2024-03-12</td>\n",
       "      <td>541.00</td>\n",
       "      <td>544.75</td>\n",
       "      <td>535.50</td>\n",
       "      <td>535.50</td>\n",
       "      <td>535.50</td>\n",
       "      <td>40</td>\n",
       "    </tr>\n",
       "    <tr>\n",
       "      <th>5904</th>\n",
       "      <td>2024-03-13</td>\n",
       "      <td>534.50</td>\n",
       "      <td>535.25</td>\n",
       "      <td>532.25</td>\n",
       "      <td>532.25</td>\n",
       "      <td>532.25</td>\n",
       "      <td>40</td>\n",
       "    </tr>\n",
       "    <tr>\n",
       "      <th>5905</th>\n",
       "      <td>2024-03-14</td>\n",
       "      <td>542.75</td>\n",
       "      <td>543.00</td>\n",
       "      <td>534.75</td>\n",
       "      <td>534.75</td>\n",
       "      <td>534.75</td>\n",
       "      <td>5677</td>\n",
       "    </tr>\n",
       "  </tbody>\n",
       "</table>\n",
       "<p>5906 rows × 7 columns</p>\n",
       "</div>"
      ],
      "text/plain": [
       "           Date    Open    High     Low   Close  Adj Close  Volume\n",
       "0    2000-07-17  248.00  248.00  243.75  244.00     244.00    7233\n",
       "1    2000-07-18  244.25  247.50  241.00  241.25     241.25    6523\n",
       "2    2000-07-19  241.25  246.00  239.00  245.00     245.00    7136\n",
       "3    2000-07-20  244.00  247.50  244.00  247.00     247.00    3792\n",
       "4    2000-07-21  247.00  248.50  246.50  247.25     247.25    4380\n",
       "...         ...     ...     ...     ...     ...        ...     ...\n",
       "5901 2024-03-08  528.50  528.50  526.75  526.75     526.75      15\n",
       "5902 2024-03-11  526.75  537.50  526.00  537.50     537.50      25\n",
       "5903 2024-03-12  541.00  544.75  535.50  535.50     535.50      40\n",
       "5904 2024-03-13  534.50  535.25  532.25  532.25     532.25      40\n",
       "5905 2024-03-14  542.75  543.00  534.75  534.75     534.75    5677\n",
       "\n",
       "[5906 rows x 7 columns]"
      ]
     },
     "execution_count": 244,
     "metadata": {},
     "output_type": "execute_result"
    }
   ],
   "source": [
    "import yfinance as yf\n",
    "import pandas as pd\n",
    "import numpy as np\n",
    "import matplotlib.pyplot as plt\n",
    "\n",
    "import torch\n",
    "import torch.nn as nn\n",
    "\n",
    "#fetching wheat data from yahoo finance\n",
    "data = yf.Ticker('ZW=F')\n",
    "data = yf.download('ZW=F', period = 'max')\n",
    "\n",
    "# Resetting the index to turn the date index into a column\n",
    "data.reset_index(inplace=True)\n",
    "\n",
    "data"
   ]
  },
  {
   "cell_type": "code",
   "execution_count": 245,
   "id": "0fb7a426-7f1e-4a15-8e59-410ebfb56937",
   "metadata": {
    "tags": []
   },
   "outputs": [
    {
     "data": {
      "text/html": [
       "<div>\n",
       "<style scoped>\n",
       "    .dataframe tbody tr th:only-of-type {\n",
       "        vertical-align: middle;\n",
       "    }\n",
       "\n",
       "    .dataframe tbody tr th {\n",
       "        vertical-align: top;\n",
       "    }\n",
       "\n",
       "    .dataframe thead th {\n",
       "        text-align: right;\n",
       "    }\n",
       "</style>\n",
       "<table border=\"1\" class=\"dataframe\">\n",
       "  <thead>\n",
       "    <tr style=\"text-align: right;\">\n",
       "      <th></th>\n",
       "      <th>Date</th>\n",
       "      <th>Close</th>\n",
       "    </tr>\n",
       "  </thead>\n",
       "  <tbody>\n",
       "    <tr>\n",
       "      <th>0</th>\n",
       "      <td>2000-07-17</td>\n",
       "      <td>244.00</td>\n",
       "    </tr>\n",
       "    <tr>\n",
       "      <th>1</th>\n",
       "      <td>2000-07-18</td>\n",
       "      <td>241.25</td>\n",
       "    </tr>\n",
       "    <tr>\n",
       "      <th>2</th>\n",
       "      <td>2000-07-19</td>\n",
       "      <td>245.00</td>\n",
       "    </tr>\n",
       "    <tr>\n",
       "      <th>3</th>\n",
       "      <td>2000-07-20</td>\n",
       "      <td>247.00</td>\n",
       "    </tr>\n",
       "    <tr>\n",
       "      <th>4</th>\n",
       "      <td>2000-07-21</td>\n",
       "      <td>247.25</td>\n",
       "    </tr>\n",
       "    <tr>\n",
       "      <th>...</th>\n",
       "      <td>...</td>\n",
       "      <td>...</td>\n",
       "    </tr>\n",
       "    <tr>\n",
       "      <th>5901</th>\n",
       "      <td>2024-03-08</td>\n",
       "      <td>526.75</td>\n",
       "    </tr>\n",
       "    <tr>\n",
       "      <th>5902</th>\n",
       "      <td>2024-03-11</td>\n",
       "      <td>537.50</td>\n",
       "    </tr>\n",
       "    <tr>\n",
       "      <th>5903</th>\n",
       "      <td>2024-03-12</td>\n",
       "      <td>535.50</td>\n",
       "    </tr>\n",
       "    <tr>\n",
       "      <th>5904</th>\n",
       "      <td>2024-03-13</td>\n",
       "      <td>532.25</td>\n",
       "    </tr>\n",
       "    <tr>\n",
       "      <th>5905</th>\n",
       "      <td>2024-03-14</td>\n",
       "      <td>534.75</td>\n",
       "    </tr>\n",
       "  </tbody>\n",
       "</table>\n",
       "<p>5906 rows × 2 columns</p>\n",
       "</div>"
      ],
      "text/plain": [
       "           Date   Close\n",
       "0    2000-07-17  244.00\n",
       "1    2000-07-18  241.25\n",
       "2    2000-07-19  245.00\n",
       "3    2000-07-20  247.00\n",
       "4    2000-07-21  247.25\n",
       "...         ...     ...\n",
       "5901 2024-03-08  526.75\n",
       "5902 2024-03-11  537.50\n",
       "5903 2024-03-12  535.50\n",
       "5904 2024-03-13  532.25\n",
       "5905 2024-03-14  534.75\n",
       "\n",
       "[5906 rows x 2 columns]"
      ]
     },
     "execution_count": 245,
     "metadata": {},
     "output_type": "execute_result"
    }
   ],
   "source": [
    "# trim dataset to relevent columns (we only need date and close to forecast prices)\n",
    "data = data[['Date', 'Close']]\n",
    "data"
   ]
  },
  {
   "cell_type": "code",
   "execution_count": 246,
   "id": "25fbf840-f2df-4e6f-8ffd-2f9d5b839213",
   "metadata": {
    "tags": []
   },
   "outputs": [
    {
     "data": {
      "text/plain": [
       "[<matplotlib.lines.Line2D at 0x1e0ae7aac50>]"
      ]
     },
     "execution_count": 246,
     "metadata": {},
     "output_type": "execute_result"
    },
    {
     "data": {
      "image/png": "[encoded data removed]",
      "text/plain": [
       "<Figure size 640x480 with 1 Axes>"
      ]
     },
     "metadata": {},
     "output_type": "display_data"
    }
   ],
   "source": [
    "#simple transformations\n",
    "data.loc[:, 'Date'] = pd.to_datetime(data['Date'])\n",
    "\n",
    "plt.plot(data['Date'], data['Close'])"
   ]
  },
  {
   "cell_type": "code",
   "execution_count": 247,
   "id": "6b947d58-381d-4615-9f0f-d96b31a3e7d0",
   "metadata": {
    "tags": []
   },
   "outputs": [
    {
     "data": {
      "text/plain": [
       "'cpu'"
      ]
     },
     "execution_count": 247,
     "metadata": {},
     "output_type": "execute_result"
    }
   ],
   "source": [
    "device = 'cuda:0' if torch.cuda.is_available() else 'cpu'\n",
    "device"
   ]
  },
  {
   "cell_type": "code",
   "execution_count": 248,
   "id": "a666a57d-4c0c-4e45-8600-bad34944a8d9",
   "metadata": {
    "tags": []
   },
   "outputs": [
    {
     "data": {
      "text/html": [
       "<div>\n",
       "<style scoped>\n",
       "    .dataframe tbody tr th:only-of-type {\n",
       "        vertical-align: middle;\n",
       "    }\n",
       "\n",
       "    .dataframe tbody tr th {\n",
       "        vertical-align: top;\n",
       "    }\n",
       "\n",
       "    .dataframe thead th {\n",
       "        text-align: right;\n",
       "    }\n",
       "</style>\n",
       "<table border=\"1\" class=\"dataframe\">\n",
       "  <thead>\n",
       "    <tr style=\"text-align: right;\">\n",
       "      <th></th>\n",
       "      <th>Close</th>\n",
       "      <th>Close(t-1)</th>\n",
       "      <th>Close(t-2)</th>\n",
       "      <th>Close(t-3)</th>\n",
       "      <th>Close(t-4)</th>\n",
       "      <th>Close(t-5)</th>\n",
       "      <th>Close(t-6)</th>\n",
       "      <th>Close(t-7)</th>\n",
       "    </tr>\n",
       "    <tr>\n",
       "      <th>Date</th>\n",
       "      <th></th>\n",
       "      <th></th>\n",
       "      <th></th>\n",
       "      <th></th>\n",
       "      <th></th>\n",
       "      <th></th>\n",
       "      <th></th>\n",
       "      <th></th>\n",
       "    </tr>\n",
       "  </thead>\n",
       "  <tbody>\n",
       "    <tr>\n",
       "      <th>2000-07-26</th>\n",
       "      <td>244.25</td>\n",
       "      <td>245.50</td>\n",
       "      <td>245.50</td>\n",
       "      <td>247.25</td>\n",
       "      <td>247.00</td>\n",
       "      <td>245.00</td>\n",
       "      <td>241.25</td>\n",
       "      <td>244.00</td>\n",
       "    </tr>\n",
       "    <tr>\n",
       "      <th>2000-07-27</th>\n",
       "      <td>245.75</td>\n",
       "      <td>244.25</td>\n",
       "      <td>245.50</td>\n",
       "      <td>245.50</td>\n",
       "      <td>247.25</td>\n",
       "      <td>247.00</td>\n",
       "      <td>245.00</td>\n",
       "      <td>241.25</td>\n",
       "    </tr>\n",
       "    <tr>\n",
       "      <th>2000-07-28</th>\n",
       "      <td>248.50</td>\n",
       "      <td>245.75</td>\n",
       "      <td>244.25</td>\n",
       "      <td>245.50</td>\n",
       "      <td>245.50</td>\n",
       "      <td>247.25</td>\n",
       "      <td>247.00</td>\n",
       "      <td>245.00</td>\n",
       "    </tr>\n",
       "    <tr>\n",
       "      <th>2000-07-31</th>\n",
       "      <td>246.00</td>\n",
       "      <td>248.50</td>\n",
       "      <td>245.75</td>\n",
       "      <td>244.25</td>\n",
       "      <td>245.50</td>\n",
       "      <td>245.50</td>\n",
       "      <td>247.25</td>\n",
       "      <td>247.00</td>\n",
       "    </tr>\n",
       "    <tr>\n",
       "      <th>2000-08-01</th>\n",
       "      <td>245.00</td>\n",
       "      <td>246.00</td>\n",
       "      <td>248.50</td>\n",
       "      <td>245.75</td>\n",
       "      <td>244.25</td>\n",
       "      <td>245.50</td>\n",
       "      <td>245.50</td>\n",
       "      <td>247.25</td>\n",
       "    </tr>\n",
       "    <tr>\n",
       "      <th>...</th>\n",
       "      <td>...</td>\n",
       "      <td>...</td>\n",
       "      <td>...</td>\n",
       "      <td>...</td>\n",
       "      <td>...</td>\n",
       "      <td>...</td>\n",
       "      <td>...</td>\n",
       "      <td>...</td>\n",
       "    </tr>\n",
       "    <tr>\n",
       "      <th>2024-03-08</th>\n",
       "      <td>526.75</td>\n",
       "      <td>520.75</td>\n",
       "      <td>521.25</td>\n",
       "      <td>545.75</td>\n",
       "      <td>563.50</td>\n",
       "      <td>560.00</td>\n",
       "      <td>577.50</td>\n",
       "      <td>571.00</td>\n",
       "    </tr>\n",
       "    <tr>\n",
       "      <th>2024-03-11</th>\n",
       "      <td>537.50</td>\n",
       "      <td>526.75</td>\n",
       "      <td>520.75</td>\n",
       "      <td>521.25</td>\n",
       "      <td>545.75</td>\n",
       "      <td>563.50</td>\n",
       "      <td>560.00</td>\n",
       "      <td>577.50</td>\n",
       "    </tr>\n",
       "    <tr>\n",
       "      <th>2024-03-12</th>\n",
       "      <td>535.50</td>\n",
       "      <td>537.50</td>\n",
       "      <td>526.75</td>\n",
       "      <td>520.75</td>\n",
       "      <td>521.25</td>\n",
       "      <td>545.75</td>\n",
       "      <td>563.50</td>\n",
       "      <td>560.00</td>\n",
       "    </tr>\n",
       "    <tr>\n",
       "      <th>2024-03-13</th>\n",
       "      <td>532.25</td>\n",
       "      <td>535.50</td>\n",
       "      <td>537.50</td>\n",
       "      <td>526.75</td>\n",
       "      <td>520.75</td>\n",
       "      <td>521.25</td>\n",
       "      <td>545.75</td>\n",
       "      <td>563.50</td>\n",
       "    </tr>\n",
       "    <tr>\n",
       "      <th>2024-03-14</th>\n",
       "      <td>534.75</td>\n",
       "      <td>532.25</td>\n",
       "      <td>535.50</td>\n",
       "      <td>537.50</td>\n",
       "      <td>526.75</td>\n",
       "      <td>520.75</td>\n",
       "      <td>521.25</td>\n",
       "      <td>545.75</td>\n",
       "    </tr>\n",
       "  </tbody>\n",
       "</table>\n",
       "<p>5899 rows × 8 columns</p>\n",
       "</div>"
      ],
      "text/plain": [
       "             Close  Close(t-1)  Close(t-2)  Close(t-3)  Close(t-4)  \\\n",
       "Date                                                                 \n",
       "2000-07-26  244.25      245.50      245.50      247.25      247.00   \n",
       "2000-07-27  245.75      244.25      245.50      245.50      247.25   \n",
       "2000-07-28  248.50      245.75      244.25      245.50      245.50   \n",
       "2000-07-31  246.00      248.50      245.75      244.25      245.50   \n",
       "2000-08-01  245.00      246.00      248.50      245.75      244.25   \n",
       "...            ...         ...         ...         ...         ...   \n",
       "2024-03-08  526.75      520.75      521.25      545.75      563.50   \n",
       "2024-03-11  537.50      526.75      520.75      521.25      545.75   \n",
       "2024-03-12  535.50      537.50      526.75      520.75      521.25   \n",
       "2024-03-13  532.25      535.50      537.50      526.75      520.75   \n",
       "2024-03-14  534.75      532.25      535.50      537.50      526.75   \n",
       "\n",
       "            Close(t-5)  Close(t-6)  Close(t-7)  \n",
       "Date                                            \n",
       "2000-07-26      245.00      241.25      244.00  \n",
       "2000-07-27      247.00      245.00      241.25  \n",
       "2000-07-28      247.25      247.00      245.00  \n",
       "2000-07-31      245.50      247.25      247.00  \n",
       "2000-08-01      245.50      245.50      247.25  \n",
       "...                ...         ...         ...  \n",
       "2024-03-08      560.00      577.50      571.00  \n",
       "2024-03-11      563.50      560.00      577.50  \n",
       "2024-03-12      545.75      563.50      560.00  \n",
       "2024-03-13      521.25      545.75      563.50  \n",
       "2024-03-14      520.75      521.25      545.75  \n",
       "\n",
       "[5899 rows x 8 columns]"
      ]
     },
     "execution_count": 248,
     "metadata": {},
     "output_type": "execute_result"
    }
   ],
   "source": [
    "#takes df from above and creates a lookback window of a week (lookback =7) \n",
    "from copy import deepcopy as dc\n",
    "\n",
    "def prepare_dataframe_for_lstm(df, n_steps):\n",
    "    df = dc(df)\n",
    "    \n",
    "    df.set_index('Date', inplace=True)\n",
    "    \n",
    "    #shifts dataframe for each lookback window\n",
    "    for i in range(1, n_steps+1):\n",
    "        df[f'Close(t-{i})'] = df['Close'].shift(i)\n",
    "        \n",
    "    df.dropna(inplace=True)\n",
    "    \n",
    "    return df\n",
    "\n",
    "lookback = 7\n",
    "shifted_df = prepare_dataframe_for_lstm(data, lookback)\n",
    "shifted_df"
   ]
  },
  {
   "cell_type": "code",
   "execution_count": 249,
   "id": "7ddcf01c-72b9-4a23-8107-a7e26f413829",
   "metadata": {
    "tags": []
   },
   "outputs": [
    {
     "data": {
      "text/plain": [
       "array([[244.25, 245.5 , 245.5 , ..., 245.  , 241.25, 244.  ],\n",
       "       [245.75, 244.25, 245.5 , ..., 247.  , 245.  , 241.25],\n",
       "       [248.5 , 245.75, 244.25, ..., 247.25, 247.  , 245.  ],\n",
       "       ...,\n",
       "       [535.5 , 537.5 , 526.75, ..., 545.75, 563.5 , 560.  ],\n",
       "       [532.25, 535.5 , 537.5 , ..., 521.25, 545.75, 563.5 ],\n",
       "       [534.75, 532.25, 535.5 , ..., 520.75, 521.25, 545.75]])"
      ]
     },
     "execution_count": 249,
     "metadata": {},
     "output_type": "execute_result"
    }
   ],
   "source": [
    "shifted_df_as_np = shifted_df.to_numpy()\n",
    "\n",
    "shifted_df_as_np"
   ]
  },
  {
   "cell_type": "code",
   "execution_count": 250,
   "id": "329af201-6162-40b2-8338-6e81eeb396c4",
   "metadata": {
    "tags": []
   },
   "outputs": [
    {
     "data": {
      "text/plain": [
       "(5899, 8)"
      ]
     },
     "execution_count": 250,
     "metadata": {},
     "output_type": "execute_result"
    }
   ],
   "source": [
    "shifted_df_as_np.shape"
   ]
  },
  {
   "cell_type": "code",
   "execution_count": 251,
   "id": "6d6e8ba9-1f2c-45a1-8f56-697f8902f427",
   "metadata": {
    "tags": []
   },
   "outputs": [
    {
     "data": {
      "text/plain": [
       "array([[-0.9819593 , -0.97986155, -0.97986155, ..., -0.98070065,\n",
       "        -0.98699392, -0.98237885],\n",
       "       [-0.979442  , -0.9819593 , -0.97986155, ..., -0.97734424,\n",
       "        -0.98070065, -0.98699392],\n",
       "       [-0.97482694, -0.979442  , -0.9819593 , ..., -0.97692469,\n",
       "        -0.97734424, -0.98070065],\n",
       "       ...,\n",
       "       [-0.49318229, -0.48982589, -0.50786658, ..., -0.4759807 ,\n",
       "        -0.44619257, -0.45206629],\n",
       "       [-0.49863646, -0.49318229, -0.48982589, ..., -0.51709671,\n",
       "        -0.4759807 , -0.44619257],\n",
       "       [-0.49444095, -0.49863646, -0.49318229, ..., -0.51793581,\n",
       "        -0.51709671, -0.4759807 ]])"
      ]
     },
     "execution_count": 251,
     "metadata": {},
     "output_type": "execute_result"
    }
   ],
   "source": [
    "#runs scaler on data\n",
    "from sklearn.preprocessing import MinMaxScaler\n",
    "\n",
    "scaler = MinMaxScaler(feature_range=(-1, 1))\n",
    "shifted_df_as_np = scaler.fit_transform(shifted_df_as_np)\n",
    "\n",
    "shifted_df_as_np"
   ]
  },
  {
   "cell_type": "code",
   "execution_count": 252,
   "id": "a27292bb-216d-4acc-b367-e8ba00db7fd3",
   "metadata": {
    "tags": []
   },
   "outputs": [
    {
     "data": {
      "text/plain": [
       "((5899, 7), (5899,))"
      ]
     },
     "execution_count": 252,
     "metadata": {},
     "output_type": "execute_result"
    }
   ],
   "source": [
    "#changes df into x and y\n",
    "X = shifted_df_as_np[:, 1:]\n",
    "y = shifted_df_as_np[:, 0]\n",
    "\n",
    "X.shape, y.shape"
   ]
  },
  {
   "cell_type": "code",
   "execution_count": 253,
   "id": "31bf9606-7d40-499a-a94a-723203988bff",
   "metadata": {
    "tags": []
   },
   "outputs": [
    {
     "data": {
      "text/plain": [
       "array([[-0.98237885, -0.98699392, -0.98070065, ..., -0.97692469,\n",
       "        -0.97986155, -0.97986155],\n",
       "       [-0.98699392, -0.98070065, -0.97734424, ..., -0.97986155,\n",
       "        -0.97986155, -0.9819593 ],\n",
       "       [-0.98070065, -0.97734424, -0.97692469, ..., -0.97986155,\n",
       "        -0.9819593 , -0.979442  ],\n",
       "       ...,\n",
       "       [-0.45206629, -0.44619257, -0.4759807 , ..., -0.51793581,\n",
       "        -0.50786658, -0.48982589],\n",
       "       [-0.44619257, -0.4759807 , -0.51709671, ..., -0.50786658,\n",
       "        -0.48982589, -0.49318229],\n",
       "       [-0.4759807 , -0.51709671, -0.51793581, ..., -0.48982589,\n",
       "        -0.49318229, -0.49863646]])"
      ]
     },
     "execution_count": 253,
     "metadata": {},
     "output_type": "execute_result"
    }
   ],
   "source": [
    "X = dc(np.flip(X, axis=1))\n",
    "X"
   ]
  },
  {
   "cell_type": "code",
   "execution_count": 254,
   "id": "d255edaa-a234-4f54-8c5a-61d8ce598d7b",
   "metadata": {
    "tags": []
   },
   "outputs": [
    {
     "data": {
      "text/plain": [
       "5604"
      ]
     },
     "execution_count": 254,
     "metadata": {},
     "output_type": "execute_result"
    }
   ],
   "source": [
    "#use first 95% as train and last 5% as test\n",
    "split_index = int(len(X) * 0.95)\n",
    "\n",
    "split_index"
   ]
  },
  {
   "cell_type": "code",
   "execution_count": 255,
   "id": "7bfecdb2-4de2-4911-adcf-224c1675b383",
   "metadata": {
    "tags": []
   },
   "outputs": [
    {
     "data": {
      "text/plain": [
       "((5604, 7), (295, 7), (5604,), (295,))"
      ]
     },
     "execution_count": 255,
     "metadata": {},
     "output_type": "execute_result"
    }
   ],
   "source": [
    "# splitting into train and test\n",
    "X_train = X[:split_index]\n",
    "X_test = X[split_index:]\n",
    "\n",
    "y_train = y[:split_index]\n",
    "y_test = y[split_index:]\n",
    "\n",
    "X_train.shape, X_test.shape, y_train.shape, y_test.shape"
   ]
  },
  {
   "cell_type": "code",
   "execution_count": 256,
   "id": "9e99a00f-5440-42d2-a3f2-891a223f3490",
   "metadata": {
    "tags": []
   },
   "outputs": [
    {
     "data": {
      "text/plain": [
       "((5604, 7, 1), (295, 7, 1), (5604, 1), (295, 1))"
      ]
     },
     "execution_count": 256,
     "metadata": {},
     "output_type": "execute_result"
    }
   ],
   "source": [
    "#PyTorch requires an extra dimension at end\n",
    "X_train = X_train.reshape((-1, lookback, 1))\n",
    "X_test = X_test.reshape((-1, lookback, 1))\n",
    "\n",
    "y_train = y_train.reshape((-1, 1))\n",
    "y_test = y_test.reshape((-1, 1))\n",
    "\n",
    "X_train.shape, X_test.shape, y_train.shape, y_test.shape"
   ]
  },
  {
   "cell_type": "code",
   "execution_count": 257,
   "id": "70803762-c7ad-48eb-bcf8-2199b001ff54",
   "metadata": {
    "tags": []
   },
   "outputs": [
    {
     "data": {
      "text/plain": [
       "(torch.Size([5604, 7, 1]),\n",
       " torch.Size([295, 7, 1]),\n",
       " torch.Size([5604, 1]),\n",
       " torch.Size([295, 1]))"
      ]
     },
     "execution_count": 257,
     "metadata": {},
     "output_type": "execute_result"
    }
   ],
   "source": [
    "#wrapping in tensors for PyTorch\n",
    "X_train = torch.tensor(X_train).float()\n",
    "y_train = torch.tensor(y_train).float()\n",
    "X_test = torch.tensor(X_test).float()\n",
    "y_test = torch.tensor(y_test).float()\n",
    "\n",
    "X_train.shape, X_test.shape, y_train.shape, y_test.shape"
   ]
  },
  {
   "cell_type": "code",
   "execution_count": 258,
   "id": "e5bd398e-05f4-4aec-ad22-98849a984110",
   "metadata": {
    "tags": []
   },
   "outputs": [],
   "source": [
    "#need datasets object for PyTorch\n",
    "#needs to be custom class\n",
    "from torch.utils.data import Dataset\n",
    "\n",
    "class TimeSeriesDataset(Dataset):\n",
    "    def __init__(self, X, y):\n",
    "        self.X = X\n",
    "        self.y = y\n",
    "\n",
    "    def __len__(self):\n",
    "        return len(self.X)\n",
    "\n",
    "    def __getitem__(self, i):\n",
    "        return self.X[i], self.y[i]\n",
    "    \n",
    "train_dataset = TimeSeriesDataset(X_train, y_train)\n",
    "test_dataset = TimeSeriesDataset(X_test, y_test)"
   ]
  },
  {
   "cell_type": "code",
   "execution_count": 259,
   "id": "9817fbc6-a3cb-48ef-9291-de2e98dd6860",
   "metadata": {
    "tags": []
   },
   "outputs": [
    {
     "data": {
      "text/plain": [
       "<__main__.TimeSeriesDataset at 0x1e0a55482d0>"
      ]
     },
     "execution_count": 259,
     "metadata": {},
     "output_type": "execute_result"
    }
   ],
   "source": [
    "train_dataset"
   ]
  },
  {
   "cell_type": "code",
   "execution_count": 260,
   "id": "c51dec35-3d4a-47d2-9c5e-9ef725c65c24",
   "metadata": {
    "tags": []
   },
   "outputs": [],
   "source": [
    "# wrap datasets in dataloaders to get batches\n",
    "# used for iteration\n",
    "from torch.utils.data import DataLoader\n",
    "\n",
    "batch_size = 16\n",
    "\n",
    "train_loader = DataLoader(train_dataset, batch_size=batch_size, shuffle=True)\n",
    "test_loader = DataLoader(test_dataset, batch_size=batch_size, shuffle=False)"
   ]
  },
  {
   "cell_type": "code",
   "execution_count": 261,
   "id": "d890c028-bb50-41b3-afb7-6e13277c632c",
   "metadata": {
    "tags": []
   },
   "outputs": [
    {
     "name": "stdout",
     "output_type": "stream",
     "text": [
      "torch.Size([16, 7, 1]) torch.Size([16, 1])\n"
     ]
    }
   ],
   "source": [
    "#gives predicted outputs of arrays\n",
    "for _, batch in enumerate(train_loader):\n",
    "    x_batch, y_batch = batch[0].to(device), batch[1].to(device)\n",
    "    print(x_batch.shape, y_batch.shape)\n",
    "    break"
   ]
  },
  {
   "cell_type": "code",
   "execution_count": 262,
   "id": "b481489a-edfc-43fa-b366-765799b999f0",
   "metadata": {
    "tags": []
   },
   "outputs": [
    {
     "data": {
      "text/plain": [
       "LSTM(\n",
       "  (lstm): LSTM(1, 4, num_layers=2, batch_first=True)\n",
       "  (fc): Linear(in_features=4, out_features=1, bias=True)\n",
       ")"
      ]
     },
     "execution_count": 262,
     "metadata": {},
     "output_type": "execute_result"
    }
   ],
   "source": [
    "#takes in number of features, dimensions and number of stacked layers (more layers = more complexity in model)\n",
    "class LSTM(nn.Module):\n",
    "    def __init__(self, input_size, hidden_size, num_stacked_layers):\n",
    "        super().__init__()\n",
    "        self.hidden_size = hidden_size\n",
    "        self.num_stacked_layers = num_stacked_layers\n",
    "        \n",
    "        #initally use 1 layer to prevent overfitting in training data\n",
    "        self.lstm = nn.LSTM(input_size, hidden_size, num_stacked_layers, \n",
    "                            batch_first=True)\n",
    "        \n",
    "        #maps hidden layer to 1. Needed to predict final closing value\n",
    "        self.fc = nn.Linear(hidden_size, 1)\n",
    "\n",
    "    def forward(self, x):\n",
    "        batch_size = x.size(0)\n",
    "        #initialise LSTM with default h0 and c0\n",
    "        h0 = torch.zeros(self.num_stacked_layers, batch_size, self.hidden_size).to(device)\n",
    "        c0 = torch.zeros(self.num_stacked_layers, batch_size, self.hidden_size).to(device)\n",
    "        \n",
    "        out, _ = self.lstm(x, (h0, c0))\n",
    "        #output is gotten from passing varibles in fully connected layer\n",
    "        out = self.fc(out[:, -1, :])\n",
    "        return out\n",
    "\n",
    "#initial model has 1 input size, 4 hidden sizes and 1 stacked layer\n",
    "#model = LSTM(1, 4, 1) MSE: 2.41\n",
    "#model = LSTM(1, 8, 2) MSE: 2.19\n",
    "#model = LSTM(1, 16, 4) MSE: 3.10\n",
    "#model = LSTM(1, 12, 4) MSE: 2.62\n",
    "#model = LSTM(1, 8, 4) MSE: 2.67\n",
    "#model = LSTM(1, 8, 8) MSE: 4.007\n",
    "model = LSTM(1, 4, 2) #MSE: 2.019\n",
    "model.to(device)\n",
    "model"
   ]
  },
  {
   "cell_type": "code",
   "execution_count": 263,
   "id": "88def911-ea78-4046-bf01-a24316b2347c",
   "metadata": {},
   "outputs": [],
   "source": [
    "#sets model to training mode\n",
    "def train_one_epoch():\n",
    "    model.train(True)\n",
    "    print(f'Epoch: {epoch + 1}')\n",
    "    running_loss = 0.0\n",
    "    \n",
    "    for batch_index, batch in enumerate(train_loader):\n",
    "        #puts x and y batch onto device we're using \n",
    "        x_batch, y_batch = batch[0].to(device), batch[1].to(device)\n",
    "        \n",
    "        output = model(x_batch)\n",
    "        #comparing model's output to ground truth\n",
    "        #loss is a tensor with a single value\n",
    "        loss = loss_function(output, y_batch)\n",
    "        running_loss += loss.item()\n",
    "        \n",
    "        #zero out gradients \n",
    "        optimizer.zero_grad()\n",
    "        #backwards pass \n",
    "        loss.backward()\n",
    "        optimizer.step()\n",
    "\n",
    "        #every 100 batches get avg loss across batches and print\n",
    "        if batch_index % 100 == 99:  # print every 100 batches\n",
    "            avg_loss_across_batches = running_loss / 100\n",
    "            print('Batch {0}, Loss: {1:.3f}'.format(batch_index+1,\n",
    "                                                    avg_loss_across_batches))\n",
    "            running_loss = 0.0\n",
    "    print()"
   ]
  },
  {
   "cell_type": "code",
   "execution_count": 264,
   "id": "b8b49351-6b53-4dc8-8d00-fde43b8700c2",
   "metadata": {
    "tags": []
   },
   "outputs": [],
   "source": [
    "#sets model to validate mode\n",
    "def validate_one_epoch():\n",
    "    model.train(False)\n",
    "    running_loss = 0.0\n",
    "    \n",
    "    for batch_index, batch in enumerate(test_loader):\n",
    "        x_batch, y_batch = batch[0].to(device), batch[1].to(device)\n",
    "        \n",
    "        #don't need to calcualte gradient as there's no model updates\n",
    "        with torch.no_grad():\n",
    "            output = model(x_batch)\n",
    "            #compare output to ground truth\n",
    "            loss = loss_function(output, y_batch)\n",
    "            running_loss += loss.item()\n",
    "    #average loss value across all batches\n",
    "    avg_loss_across_batches = running_loss / len(test_loader)\n",
    "    \n",
    "    print('Val Loss: {0:.3f}'.format(avg_loss_across_batches))\n",
    "    print('***************************************************')\n",
    "    print()"
   ]
  },
  {
   "cell_type": "code",
   "execution_count": 265,
   "id": "3ff9f96a-4e22-4b12-b20b-58235fc11b2c",
   "metadata": {
    "tags": []
   },
   "outputs": [
    {
     "name": "stdout",
     "output_type": "stream",
     "text": [
      "Epoch: 1\n",
      "Batch 100, Loss: 0.369\n",
      "Batch 200, Loss: 0.102\n",
      "Batch 300, Loss: 0.065\n",
      "\n",
      "Val Loss: 0.002\n",
      "***************************************************\n",
      "\n",
      "Epoch: 2\n",
      "Batch 100, Loss: 0.008\n",
      "Batch 200, Loss: 0.008\n",
      "Batch 300, Loss: 0.009\n",
      "\n",
      "Val Loss: 0.004\n",
      "***************************************************\n",
      "\n",
      "Epoch: 3\n",
      "Batch 100, Loss: 0.005\n",
      "Batch 200, Loss: 0.005\n",
      "Batch 300, Loss: 0.004\n",
      "\n",
      "Val Loss: 0.002\n",
      "***************************************************\n",
      "\n",
      "Epoch: 4\n",
      "Batch 100, Loss: 0.003\n",
      "Batch 200, Loss: 0.003\n",
      "Batch 300, Loss: 0.003\n",
      "\n",
      "Val Loss: 0.002\n",
      "***************************************************\n",
      "\n",
      "Epoch: 5\n",
      "Batch 100, Loss: 0.002\n",
      "Batch 200, Loss: 0.002\n",
      "Batch 300, Loss: 0.002\n",
      "\n",
      "Val Loss: 0.001\n",
      "***************************************************\n",
      "\n",
      "Epoch: 6\n",
      "Batch 100, Loss: 0.002\n",
      "Batch 200, Loss: 0.001\n",
      "Batch 300, Loss: 0.001\n",
      "\n",
      "Val Loss: 0.001\n",
      "***************************************************\n",
      "\n",
      "Epoch: 7\n",
      "Batch 100, Loss: 0.001\n",
      "Batch 200, Loss: 0.001\n",
      "Batch 300, Loss: 0.001\n",
      "\n",
      "Val Loss: 0.001\n",
      "***************************************************\n",
      "\n",
      "Epoch: 8\n",
      "Batch 100, Loss: 0.001\n",
      "Batch 200, Loss: 0.001\n",
      "Batch 300, Loss: 0.001\n",
      "\n",
      "Val Loss: 0.001\n",
      "***************************************************\n",
      "\n",
      "Epoch: 9\n",
      "Batch 100, Loss: 0.002\n",
      "Batch 200, Loss: 0.001\n",
      "Batch 300, Loss: 0.001\n",
      "\n",
      "Val Loss: 0.001\n",
      "***************************************************\n",
      "\n",
      "Epoch: 10\n",
      "Batch 100, Loss: 0.001\n",
      "Batch 200, Loss: 0.001\n",
      "Batch 300, Loss: 0.001\n",
      "\n",
      "Val Loss: 0.001\n",
      "***************************************************\n",
      "\n"
     ]
    }
   ],
   "source": [
    "learning_rate = 0.001\n",
    "#10 epochs is all that is necessary as any more will cause overfitting\n",
    "num_epochs = 10\n",
    "#trying to minimise mean squared error\n",
    "loss_function = nn.MSELoss()\n",
    "optimizer = torch.optim.Adam(model.parameters(), lr=learning_rate)\n",
    "\n",
    "for epoch in range(num_epochs):\n",
    "    train_one_epoch()\n",
    "    validate_one_epoch()"
   ]
  },
  {
   "cell_type": "code",
   "execution_count": 266,
   "id": "937ec50e-4d4f-4e85-b99e-9aa5cae20a25",
   "metadata": {
    "tags": []
   },
   "outputs": [
    {
     "data": {
      "image/png": "[encoded data removed]",
      "text/plain": [
       "<Figure size 640x480 with 1 Axes>"
      ]
     },
     "metadata": {},
     "output_type": "display_data"
    }
   ],
   "source": [
    "#no gradients for predictions\n",
    "with torch.no_grad():\n",
    "    #makes sure it on the device and is put to the CPU (numpy doesn't use GPU)\n",
    "    predicted = model(X_train.to(device)).to('cpu').numpy()\n",
    "\n",
    "plt.plot(y_train, label='Actual Close')\n",
    "plt.plot(predicted, label='Predicted Close')\n",
    "plt.xlabel('Day')\n",
    "plt.ylabel('Close')\n",
    "plt.legend()\n",
    "plt.show()"
   ]
  },
  {
   "cell_type": "code",
   "execution_count": 267,
   "id": "e8a2d6d1-d967-47bf-afd2-abed20472cac",
   "metadata": {
    "tags": []
   },
   "outputs": [
    {
     "data": {
      "text/plain": [
       "array([246.5565517 , 246.30750708, 246.28754657, ..., 757.14821792,\n",
       "       749.67770044, 744.34156769])"
      ]
     },
     "execution_count": 267,
     "metadata": {},
     "output_type": "execute_result"
    }
   ],
   "source": [
    "#above data still includes scalar begins at -1\n",
    "#do opposite of earlier transform\n",
    "train_predictions = predicted.flatten()\n",
    "\n",
    "#lookback+1 is the length of the whole dataset\n",
    "dummies = np.zeros((X_train.shape[0], lookback+1))\n",
    "dummies[:, 0] = train_predictions\n",
    "dummies = scaler.inverse_transform(dummies)\n",
    "\n",
    "#return in right scale\n",
    "train_predictions = dc(dummies[:, 0])\n",
    "train_predictions"
   ]
  },
  {
   "cell_type": "code",
   "execution_count": 268,
   "id": "d0d60a99-a76d-4890-b2eb-1b636554eae4",
   "metadata": {
    "tags": []
   },
   "outputs": [
    {
     "data": {
      "text/plain": [
       "array([244.25001203, 245.74999802, 248.50000192, ..., 743.5000032 ,\n",
       "       741.50000117, 731.0000016 ])"
      ]
     },
     "execution_count": 268,
     "metadata": {},
     "output_type": "execute_result"
    }
   ],
   "source": [
    "#first column is no y_train.flatter()\n",
    "dummies = np.zeros((X_train.shape[0], lookback+1))\n",
    "dummies[:, 0] = y_train.flatten()\n",
    "dummies = scaler.inverse_transform(dummies)\n",
    "\n",
    "new_y_train = dc(dummies[:, 0])\n",
    "new_y_train"
   ]
  },
  {
   "cell_type": "code",
   "execution_count": 269,
   "id": "ad295e31-9fc3-4100-a37f-e31085f086c1",
   "metadata": {
    "tags": []
   },
   "outputs": [
    {
     "data": {
      "image/png": "[encoded data removed]",
      "text/plain": [
       "<Figure size 640x480 with 1 Axes>"
      ]
     },
     "metadata": {},
     "output_type": "display_data"
    }
   ],
   "source": [
    "#same graph as earlier with different y_train and predictions\n",
    "plt.plot(new_y_train, label='Actual Close')\n",
    "plt.plot(train_predictions, label='Predicted Close')\n",
    "plt.xlabel('Day')\n",
    "plt.ylabel('Close')\n",
    "plt.legend()\n",
    "plt.show()\n"
   ]
  },
  {
   "cell_type": "code",
   "execution_count": 270,
   "id": "3ddeddab-f9a5-4b15-84f6-0b6fbe34bac7",
   "metadata": {
    "tags": []
   },
   "outputs": [
    {
     "data": {
      "text/plain": [
       "array([738.12351435, 736.18457478, 736.769716  , 738.1674843 ,\n",
       "       741.64645518, 741.87850496, 738.91983917, 738.11783165,\n",
       "       731.67250556, 730.08550312, 732.09080606, 737.72631091,\n",
       "       741.89281828, 745.22641842, 749.89245348, 753.09936477,\n",
       "       755.2667092 , 755.27260501, 752.80670537, 750.34836639,\n",
       "       753.02840197, 753.90616708, 762.70167869, 772.55749016,\n",
       "       778.01183209, 775.79491937, 771.07422377, 767.17141175,\n",
       "       760.20190923, 750.34948518, 743.32599694, 730.30036272,\n",
       "       716.2251503 , 704.70372857, 698.86314904, 697.49068655,\n",
       "       696.10105162, 691.31445438, 687.83857347, 682.66050877,\n",
       "       672.5119047 , 667.93398711, 667.68167493, 672.82917733,\n",
       "       682.57042011, 689.47313306, 697.02062014, 699.59593409,\n",
       "       695.00853348, 684.2457176 , 674.60532511, 675.75277017,\n",
       "       682.08802933, 688.43678492, 694.44781014, 694.9598753 ,\n",
       "       693.93613566, 693.06007537, 691.82614662, 688.16168863,\n",
       "       683.12798244, 680.10906219, 677.20360074, 676.78680971,\n",
       "       673.49986104, 675.01828031, 681.33624273, 687.43059064,\n",
       "       686.95120104, 680.94392286, 673.52189929, 662.61797469,\n",
       "       652.617636  , 642.48485472, 631.78529447, 625.56644201,\n",
       "       617.71329634, 609.4107551 , 612.2919585 , 618.7569432 ,\n",
       "       628.85569927, 635.17067828, 635.62772773, 633.77438393,\n",
       "       627.70120411, 625.18895045, 634.86066886, 641.01051195,\n",
       "       638.26258579, 630.05604678, 620.78954089, 614.22077575,\n",
       "       614.82159769, 612.57627143, 609.87123194, 611.20167792,\n",
       "       605.95957621, 601.45221297, 603.11667781, 608.33780678,\n",
       "       614.51116207, 620.18983773, 620.90642706, 622.89272844,\n",
       "       625.63878997, 628.77697603, 631.84324032, 632.27233797,\n",
       "       640.95270817, 656.84247991, 672.08328654, 693.9352655 ,\n",
       "       712.16609936, 722.39527355, 724.92631566, 713.2019325 ,\n",
       "       692.93042086, 675.58461532, 659.14809614, 645.73932317,\n",
       "       646.86142691, 647.08935673, 645.06815998, 642.06983954,\n",
       "       643.46446459, 637.4074272 , 633.00798212, 634.27531454,\n",
       "       640.29653312, 650.70597342, 675.73819047, 696.70286804,\n",
       "       701.9480242 , 719.12301113, 734.75333179, 733.55653597,\n",
       "       726.45201589, 717.29966137, 699.27235721, 680.49298231,\n",
       "       663.33287697, 648.10219267, 639.69169777, 642.59850886,\n",
       "       647.28162756, 645.04257004, 642.45272967, 637.2772577 ,\n",
       "       629.82193702, 618.83582628, 609.91580567, 601.81018799,\n",
       "       603.18472822, 602.59781116, 602.52084599, 605.68261528,\n",
       "       606.31424815, 602.98487452, 598.01907668, 588.76024243,\n",
       "       583.08101626, 578.83805872, 574.68534967, 573.2582444 ,\n",
       "       575.43880556, 575.24566456, 573.26584502, 568.06993306,\n",
       "       564.71962221, 565.31065924, 566.37186922, 577.95677744,\n",
       "       585.28221275, 587.31626663, 588.65330099, 585.58009314,\n",
       "       583.27273658, 584.51678766, 586.36533667, 585.23820729,\n",
       "       583.40372297, 571.19222529, 566.3382347 , 565.81141226,\n",
       "       564.25765366, 568.2169731 , 569.66080683, 571.36139237,\n",
       "       568.50490875, 564.4000765 , 565.61422233, 570.30302374,\n",
       "       573.88625453, 574.26777726, 576.4631845 , 582.4733218 ,\n",
       "       585.40737437, 587.02968062, 585.89267753, 580.90908571,\n",
       "       579.44703179, 578.13034862, 574.56370422, 568.65521634,\n",
       "       565.36215877, 564.80372627, 567.1779967 , 570.60346135,\n",
       "       571.80901209, 578.43337896, 581.22610971, 580.60278781,\n",
       "       580.28111108, 578.0897883 , 572.73461848, 566.01900864,\n",
       "       560.0308208 , 553.92436162, 552.82106409, 553.62857673,\n",
       "       552.79410675, 547.59556654, 545.36236931, 548.06762189,\n",
       "       555.49840038, 564.05964684, 575.95724601, 592.55717852,\n",
       "       604.07485321, 613.77938925, 616.91487603, 610.5700273 ,\n",
       "       608.04037035, 600.86572211, 597.15196665, 605.65681224,\n",
       "       611.38155335, 616.51687345, 616.26074319, 615.33451525,\n",
       "       615.55338826, 621.69033871, 623.74486809, 626.74020511,\n",
       "       628.0204124 , 622.38948924, 614.67313697, 612.39337706,\n",
       "       612.92224172, 608.449028  , 607.94628603, 608.84671093,\n",
       "       607.88498383, 604.42973825, 597.26079048, 591.3516633 ,\n",
       "       588.31770164, 589.13888829, 591.76635883, 594.16954003,\n",
       "       599.94782289, 605.34371286, 605.58140983, 602.42605134,\n",
       "       602.69853713, 600.81731255, 600.74521321, 600.64288897,\n",
       "       597.89654331, 596.63093346, 598.08641675, 595.94861796,\n",
       "       595.91303001, 596.60514818, 597.33615738, 594.40583409,\n",
       "       586.00959922, 576.68647936, 576.16501997, 578.27795693,\n",
       "       580.60555813, 579.55290772, 579.00836234, 581.22969692,\n",
       "       579.15941579, 578.40006409, 573.19605427, 569.32069683,\n",
       "       561.77061702, 548.34593246, 536.93484404, 530.99204682,\n",
       "       531.35591764, 532.89557602, 533.43081597])"
      ]
     },
     "execution_count": 270,
     "metadata": {},
     "output_type": "execute_result"
    }
   ],
   "source": [
    "#convert to vector of predictions \n",
    "test_predictions = model(X_test.to(device)).detach().cpu().numpy().flatten()\n",
    "\n",
    "dummies = np.zeros((X_test.shape[0], lookback+1))\n",
    "dummies[:, 0] = test_predictions\n",
    "dummies = scaler.inverse_transform(dummies)\n",
    "\n",
    "test_predictions = dc(dummies[:, 0])\n",
    "test_predictions"
   ]
  },
  {
   "cell_type": "code",
   "execution_count": 271,
   "id": "d1c351bc-798d-42b4-af90-04bdd4b762b2",
   "metadata": {
    "tags": []
   },
   "outputs": [
    {
     "data": {
      "text/plain": [
       "array([739.99999743, 742.75000133, 743.74999791, 751.74999716,\n",
       "       742.49999775, 734.4999985 , 741.50000117, 720.00000374,\n",
       "       734.4999985 , 741.24999759, 752.49999903, 749.99999871,\n",
       "       752.49999903, 761.25000015, 759.75000084, 761.000001  ,\n",
       "       756.7499978 , 750.25000229, 749.750004  , 764.75000149,\n",
       "       757.25000052, 785.99999977, 792.00000143, 785.99999977,\n",
       "       769.2499994 , 765.00000063, 765.49999892, 750.499997  ,\n",
       "       736.50000053, 738.24999898, 708.25000401, 695.99999711,\n",
       "       691.50000364, 697.00000257, 701.25000134, 695.75000241,\n",
       "       682.49999894, 684.74999567, 674.49999969, 653.50000055,\n",
       "       666.74999514, 672.25000295, 686.500003  , 702.7499962 ,\n",
       "       698.99999572, 710.50000075, 700.75000305, 683.25000081,\n",
       "       663.50000183, 661.99999809, 688.49999615, 697.99999915,\n",
       "       699.7499976 , 704.74999824, 692.24999663, 692.24999663,\n",
       "       693.49999679, 691.50000364, 682.00000065, 675.49999626,\n",
       "       678.50000375, 673.99999252, 679.50000033, 666.99999873,\n",
       "       682.49999894, 696.50000428, 697.99999915, 681.74999706,\n",
       "       667.74999172, 661.7499945 , 643.49999927, 638.75000221,\n",
       "       627.24999718, 614.74999558, 619.74999622, 603.74999772,\n",
       "       595.50000377, 626.25000061, 631.50000483, 646.99999616,\n",
       "       640.99999895, 630.50000826, 628.24999376, 614.25000617,\n",
       "       624.49999328, 660.74999793, 647.50000333, 625.50000761,\n",
       "       611.75000585, 604.99999788, 606.24999804, 622.24999654,\n",
       "       606.24999804, 604.25000489, 615.99999574, 590.99999254,\n",
       "       594.25000361, 610.74999152, 619.00000323, 624.00000387,\n",
       "       627.75000435, 616.75000649, 626.25000061, 630.25000467,\n",
       "       633.75000157, 636.25000189, 630.25000467, 661.50000868,\n",
       "       687.99999787, 695.75000241, 734.4999985 , 739.00000085,\n",
       "       733.24999834, 724.25000251, 684.99999926, 655.74999728,\n",
       "       652.99999338, 636.25000189, 628.49999734, 661.99999809,\n",
       "       646.99999616, 639.4999952 , 636.25000189, 649.49999648,\n",
       "       621.24999997, 627.50000077, 641.50000611, 653.75000413,\n",
       "       670.74999921, 727.74999941, 726.99999754, 697.50000086,\n",
       "       757.49999967, 760.24999913, 720.00000374, 712.74999749,\n",
       "       704.24999995, 665.74999857, 652.25000039, 640.00000237,\n",
       "       626.9999936 , 633.00000858, 657.50000461, 656.25000445,\n",
       "       635.00000173, 637.75000563, 626.75000777, 615.99999574,\n",
       "       598.4999935 , 597.75000051, 589.50000655, 613.24999184,\n",
       "       599.25000425, 601.75000457, 612.49999885, 604.00000131,\n",
       "       593.25000703, 588.00000281, 569.75000757, 576.75000137,\n",
       "       573.00000089, 567.49999308, 572.49999372, 580.99999126,\n",
       "       571.49999714, 567.25000725, 556.00000581, 560.2499957 ,\n",
       "       568.99999682, 567.49999308, 604.25000489, 591.24999612,\n",
       "       583.99999874, 588.7499958 , 575.75000479, 579.50000527,\n",
       "       588.99999939, 588.99999939, 579.50000527, 578.74999452,\n",
       "       541.4999933 , 564.75000693, 568.50000741, 559.99999212,\n",
       "       578.25000511, 568.25000383, 572.7499973 , 558.50000613,\n",
       "       556.00000581, 571.49999714, 579.75000886, 577.25000853,\n",
       "       570.50000057, 580.24999826, 594.00000003, 585.9999919 ,\n",
       "       587.24999206, 580.50000185, 568.50000741, 579.50000527,\n",
       "       575.50000121, 566.00000709, 556.24999164, 561.74999944,\n",
       "       565.49999993, 572.49999372, 575.75000479, 570.24999698,\n",
       "       592.2499927 , 580.75000543, 575.24999762, 578.9999981 ,\n",
       "       572.00000431, 560.49999928, 553.50000549, 550.75000159,\n",
       "       543.50000421, 554.99999148, 555.75000223, 548.75000843,\n",
       "       534.24999592, 543.75000779, 556.00000581, 570.24999698,\n",
       "       577.00000495, 595.75000735, 620.7499928 , 615.74999216,\n",
       "       625.99999702, 614.99999917, 591.24999612, 607.0000088 ,\n",
       "       585.2499989 , 594.00000003, 629.2500081 , 616.99999232,\n",
       "       622.75000371, 609.99999852, 612.49999885, 616.24999933,\n",
       "       636.25000189, 623.00000729, 631.50000483, 628.00000793,\n",
       "       606.75000521, 600.25000083, 613.49999542, 615.99999574,\n",
       "       596.24999676, 609.99999852, 610.74999152, 603.74999772,\n",
       "       595.99999318, 582.00000559, 582.499995  , 585.50000249,\n",
       "       593.25000703, 596.50000035, 596.50000035, 610.74999152,\n",
       "       612.24999526, 600.25000083, 593.49999286, 605.50000505,\n",
       "       595.25000019, 601.50000099, 599.74999366, 590.24999955,\n",
       "       594.9999966 , 602.00000815, 588.49999222, 596.75000393,\n",
       "       597.49999692, 597.49999692, 585.50000249, 567.00000367,\n",
       "       560.49999928, 582.74999858, 583.25000575, 583.25000575,\n",
       "       573.50000805, 577.25000853, 585.9999919 , 571.00000773,\n",
       "       577.49999436, 559.99999212, 563.50000677, 545.75000095,\n",
       "       521.25000491, 520.74999774, 526.75001272, 537.50000699,\n",
       "       535.49999608, 532.25000277, 534.75000309])"
      ]
     },
     "execution_count": 271,
     "metadata": {},
     "output_type": "execute_result"
    }
   ],
   "source": [
    "#make ground truth proper scale\n",
    "dummies = np.zeros((X_test.shape[0], lookback+1))\n",
    "dummies[:, 0] = y_test.flatten()\n",
    "dummies = scaler.inverse_transform(dummies)\n",
    "\n",
    "new_y_test = dc(dummies[:, 0])\n",
    "new_y_test"
   ]
  },
  {
   "cell_type": "code",
   "execution_count": 272,
   "id": "c0a2543c-6791-4805-baf0-535a3670e521",
   "metadata": {
    "tags": []
   },
   "outputs": [
    {
     "data": {
      "image/png": "[encoded data removed]",
      "text/plain": [
       "<Figure size 640x480 with 1 Axes>"
      ]
     },
     "metadata": {},
     "output_type": "display_data"
    }
   ],
   "source": [
    "#revised graph with more accurate axises \n",
    "plt.plot(new_y_test, label='Actual Close')\n",
    "plt.plot(test_predictions, label='Predicted Close')\n",
    "plt.xlabel('Day')\n",
    "plt.ylabel('Close')\n",
    "plt.legend()\n",
    "plt.show()"
   ]
  },
  {
   "cell_type": "code",
   "execution_count": 273,
   "id": "1a36040e-ecf7-4e89-b447-ff24c360d238",
   "metadata": {
    "tags": []
   },
   "outputs": [
    {
     "name": "stdout",
     "output_type": "stream",
     "text": [
      "Root Mean Square Error (RMSE): 18.71104806864937\n",
      "Mean Absolute Error (MAE): 13.987734205575691\n",
      "Mean Absolute Percentage Error (MAPE): 2.196423356526602\n"
     ]
    }
   ],
   "source": [
    "from math import sqrt\n",
    "from sklearn.metrics import mean_squared_error, mean_absolute_error\n",
    "import numpy as np\n",
    "\n",
    "# For each model, replace `actuals` and `predictions` with the corresponding variables\n",
    "actuals = new_y_test\n",
    "predictions = test_predictions\n",
    "\n",
    "# Calculate the RMSE\n",
    "rmse = sqrt(mean_squared_error(actuals, predictions))\n",
    "print(\"Root Mean Square Error (RMSE):\", rmse)\n",
    "\n",
    "# Calculate Mean Absolute Error (MAE)\n",
    "mae = mean_absolute_error(actuals, predictions)\n",
    "print(\"Mean Absolute Error (MAE):\", mae)\n",
    "\n",
    "# Calculate Mean Absolute Percentage Error (MAPE)\n",
    "mape = np.mean(np.abs((actuals - predictions) / actuals)) * 100\n",
    "print(\"Mean Absolute Percentage Error (MAPE):\", mape)\n"
   ]
  },
  {
   "cell_type": "code",
   "execution_count": 274,
   "id": "eca38aa6-7a5c-45f9-bcbe-a89b8c7d0f49",
   "metadata": {
    "tags": []
   },
   "outputs": [
    {
     "name": "stdout",
     "output_type": "stream",
     "text": [
      "Training - RMSE: 0.031, MAE: 0.020, MAPE: 18.109%\n",
      "Validation - RMSE: 0.031, MAE: 0.023, MAPE: 9.063%\n"
     ]
    }
   ],
   "source": [
    "#comparing the RMSE, MAE and MAPE for Training vs Validation data to check for overfitting\n",
    "from sklearn.metrics import mean_squared_error, mean_absolute_error\n",
    "import numpy as np\n",
    "import torch\n",
    "\n",
    "def evaluate_model(model, data_loader):\n",
    "    model.eval()  # Set the model to evaluation mode\n",
    "    predictions, actuals = [], []\n",
    "    with torch.no_grad():\n",
    "        for inputs, targets in data_loader:\n",
    "            inputs, targets = inputs.to(device), targets.to(device)\n",
    "            outputs = model(inputs)\n",
    "            predictions.extend(outputs.view(-1).tolist())\n",
    "            actuals.extend(targets.view(-1).tolist())\n",
    "\n",
    "    mse = mean_squared_error(actuals, predictions)\n",
    "    rmse = np.sqrt(mse)\n",
    "    mae = mean_absolute_error(actuals, predictions)\n",
    "    mape = np.mean(np.abs((np.array(actuals) - np.array(predictions)) / np.array(actuals))) * 100\n",
    "    \n",
    "    return rmse, mae, mape\n",
    "\n",
    "# Assuming 'train_loader' and 'test_loader' are already defined\n",
    "# Evaluate the model on training data\n",
    "train_rmse, train_mae, train_mape = evaluate_model(model, train_loader)\n",
    "print(f'Training - RMSE: {train_rmse:.3f}, MAE: {train_mae:.3f}, MAPE: {train_mape:.3f}%')\n",
    "\n",
    "# Evaluate the model on test (validation) data\n",
    "val_rmse, val_mae, val_mape = evaluate_model(model, test_loader)  # Use test_loader as validation loader\n",
    "print(f'Validation - RMSE: {val_rmse:.3f}, MAE: {val_mae:.3f}, MAPE: {val_mape:.3f}%')\n"
   ]
  },
  {
   "cell_type": "code",
   "execution_count": 275,
   "id": "b6fa90f9-0ac7-4de5-aeeb-61ae044fbaa0",
   "metadata": {
    "tags": []
   },
   "outputs": [
    {
     "name": "stdout",
     "output_type": "stream",
     "text": [
      "Predicted oil price for tomorrow: 531.1849747151136\n"
     ]
    }
   ],
   "source": [
    "# Correcting the approach to reshape and inverse transform the prediction\n",
    "latest_input = shifted_df_as_np[-1, 1:].reshape(1, lookback, 1)  # Reshape for LSTM: [1, lookback, 1]\n",
    "\n",
    "# Convert to PyTorch tensor\n",
    "latest_input_tensor = torch.tensor(latest_input).float().to(device)\n",
    "\n",
    "# Make the prediction\n",
    "model.eval()  # Ensure the model is in evaluation mode\n",
    "with torch.no_grad():\n",
    "    prediction_scaled = model(latest_input_tensor).cpu().numpy()\n",
    "\n",
    "# Prepare the data for inverse transformation correctly\n",
    "prediction_scaled_expanded = np.expand_dims(prediction_scaled.flatten(), axis=0)\n",
    "dummy_features = np.zeros((1, lookback))\n",
    "combined_prediction = np.concatenate((prediction_scaled_expanded, dummy_features), axis=1)\n",
    "\n",
    "# Inverse transform the prediction to get it back into the original scale\n",
    "prediction = scaler.inverse_transform(combined_prediction)[0, 0]\n",
    "\n",
    "print(f'Predicted wheat price for tomorrow: {prediction}')\n"
   ]
  }
 ],
 "metadata": {
  "kernelspec": {
   "display_name": "Python 3 (ipykernel)",
   "language": "python",
   "name": "python3"
  },
  "language_info": {
   "codemirror_mode": {
    "name": "ipython",
    "version": 3
   },
   "file_extension": ".py",
   "mimetype": "text/x-python",
   "name": "python",
   "nbconvert_exporter": "python",
   "pygments_lexer": "ipython3",
   "version": "3.11.5"
  }
 },
 "nbformat": 4,
 "nbformat_minor": 5
}
